{
 "cells": [
  {
   "cell_type": "code",
   "execution_count": null,
   "metadata": {},
   "outputs": [],
   "source": [
    "# !wget https://developer.nvidia.com/compute/cuda/9.0/Prod/local_installers/cuda-repo-ubuntu1604-9-0-local_9.0.176-1_amd64-deb\n",
    "# !dpkg -i cuda-repo-ubuntu1604-9-0-local_9.0.176-1_amd64-deb\n",
    "# !apt-key add /var/cuda-repo-9-0-local/7fa2af80.pub\n",
    "# !apt update -q\n",
    "# !apt install cuda gcc-6 g++-6 -y -q\n",
    "# !ln -s /usr/bin/gcc-6 /usr/local/cuda/bin/gcc\n",
    "# !ln -s /usr/bin/g++-6 /usr/local/cuda/bin/g++"
   ]
  },
  {
   "cell_type": "code",
   "execution_count": null,
   "metadata": {},
   "outputs": [],
   "source": [
    "# !curl -sSL \"https://julialang-s3.julialang.org/bin/linux/x64/1.7/julia-1.7.3-linux-x86_64.tar.gz\" -o julia.tar.gz\n",
    "# !tar -xzf julia.tar.gz -C /usr --strip-components 1\n",
    "# !rm -rf julia.tar.gz*\n",
    "# !julia -e 'using Pkg; pkg\"add IJulia; precompile\"'"
   ]
  },
  {
   "cell_type": "markdown",
   "metadata": {},
   "source": [
    "# Linear Model Overfiting"
   ]
  },
  {
   "cell_type": "code",
   "execution_count": 62,
   "metadata": {},
   "outputs": [],
   "source": [
    "# If necesary, install functions\n",
    "# import Pkg; Pkg.add(\"GLM\")\n",
    "# import Pkg; Pkg.add(\"DataFrames\")"
   ]
  },
  {
   "cell_type": "code",
   "execution_count": 2,
   "metadata": {},
   "outputs": [],
   "source": [
    "# Import functions\n",
    "using LinearAlgebra, GLM, DataFrames, Statistics, Random"
   ]
  },
  {
   "cell_type": "markdown",
   "metadata": {},
   "source": [
    "First set p=n\n"
   ]
  },
  {
   "cell_type": "code",
   "execution_count": 11,
   "metadata": {},
   "outputs": [
    {
     "name": "stdout",
     "output_type": "stream",
     "text": [
      "p/n is\n",
      "1.0\n",
      "R2 is\n",
      "1.0\n",
      "Adjusted R2 is\n",
      "1.0\n"
     ]
    }
   ],
   "source": [
    "Random.seed!(1234)\n",
    "\n",
    "n = 1000\n",
    "p = n\n",
    "\n",
    "# Create a 1000x1000 matrix of standard Gaussians\n",
    "X = randn(n, p)\n",
    "\n",
    "# Create a 1000x1 matrix of standard Gaussians\n",
    "Y = randn(n)\n",
    "\n",
    "# We can not run the regression below, because we need to have n>p otherwise error shows up.(I think it is because the matrix\n",
    "# decomposition procedure)\n",
    "# Fitted linear regression \n",
    "# fitted = lm(X,Y)\n",
    "\n",
    "# This is a fuction that returns coeficients,R2 and Adj R2\n",
    "\n",
    "function OLSestimator(Y, X)\n",
    "\n",
    "    β = inv(X'*X)*(X'*Y)\n",
    "    # β = X\\Y\n",
    "    errors = Y - X*β\n",
    "    R_squared = 1.0 - sum(errors.^2.0)/sum((Y .- mean(Y)).^2.0)\n",
    "    R_squared_adj =  1.0 - ( 1.0 - R_squared )*( size(Y)[1] - 1.0 )/( size(Y)[1]- size(X)[2] - 1.0 )    \n",
    "    \n",
    "    return β, R_squared, R_squared_adj\n",
    "end\n",
    "\n",
    "results_ols = OLSestimator(Y, X)\n",
    "\n",
    "println(\"p/n is\")\n",
    "println(p/n)\n",
    "\n",
    "println(\"R2 is\")\n",
    "println(results_ols[2])\n",
    "\n",
    "println(\"Adjusted R2 is\")\n",
    "println(results_ols[3])"
   ]
  },
  {
   "cell_type": "markdown",
   "metadata": {},
   "source": [
    "Second, set p=n/2."
   ]
  },
  {
   "cell_type": "code",
   "execution_count": 10,
   "metadata": {},
   "outputs": [
    {
     "name": "stdout",
     "output_type": "stream",
     "text": [
      "p/n is\n",
      "0.5\n",
      "R2 is\n",
      "0.4790545125058999\n",
      "Adjusted R2 is\n",
      "-0.040849084013211856\n"
     ]
    }
   ],
   "source": [
    "# We have to make sure that both variables are the same type (Integers or floats) to avoid errors when running the regression\n",
    "n = 1000;\n",
    "p = Int(n/2);\n",
    "\n",
    "# Create a nxp matrix of standard Gaussians\n",
    "X = randn(n, p);\n",
    "\n",
    "# Create a nx1 matrix of standard Gaussians\n",
    "Y = randn(n);\n",
    "\n",
    "fitted = lm(X,Y);\n",
    "\n",
    "println(\"p/n is\")\n",
    "println(p/n)\n",
    "\n",
    "println(\"R2 is\")\n",
    "println(r2(fitted))\n",
    "\n",
    "println(\"Adjusted R2 is\")\n",
    "println(adjr2(fitted))"
   ]
  },
  {
   "cell_type": "markdown",
   "metadata": {},
   "source": [
    "Third, set p/n =.05"
   ]
  },
  {
   "cell_type": "code",
   "execution_count": 12,
   "metadata": {},
   "outputs": [
    {
     "name": "stdout",
     "output_type": "stream",
     "text": [
      "p/n is\n",
      "0.05\n",
      "R2 is\n",
      "0.0462927046544056\n",
      "Adjusted R2 is\n",
      "-0.002898513737104036\n"
     ]
    }
   ],
   "source": [
    "n = 1000\n",
    "p = Int(0.05*n)\n",
    "\n",
    "X = randn(n, p)\n",
    "\n",
    "Y = randn(n)\n",
    "\n",
    "fitted = lm(X,Y)\n",
    "\n",
    "println(\"p/n is\")\n",
    "println(p/n)\n",
    "\n",
    "println(\"R2 is\")\n",
    "println(r2(fitted))\n",
    "\n",
    "println(\"Adjusted R2 is\")\n",
    "println(adjr2(fitted))"
   ]
  }
 ],
 "metadata": {
  "accelerator": "GPU",
  "colab": {
   "name": "Julia on Colab.ipynb",
   "provenance": [],
   "version": "0.3.2"
  },
  "kernelspec": {
   "display_name": "Julia 1.7.3",
   "language": "julia",
   "name": "julia-1.7"
  },
  "language_info": {
   "file_extension": ".jl",
   "mimetype": "application/julia",
   "name": "julia",
   "version": "1.7.3"
  },
  "vscode": {
   "interpreter": {
    "hash": "8ce2734c038a07ed4ab03534d6fa956bcc5f5917cd0892f7ff6de5f3ca8c6662"
   }
  }
 },
 "nbformat": 4,
 "nbformat_minor": 4
}
