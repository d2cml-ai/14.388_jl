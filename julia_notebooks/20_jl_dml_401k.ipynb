{
 "cells": [
  {
   "cell_type": "markdown",
   "id": "7a8b7794-fe97-4032-a42c-328551102ca8",
   "metadata": {},
   "source": [
    "# DML for ATE and LATE of 401(k) on Wealth\n",
    "\n",
    "In progress"
   ]
  }
 ],
 "metadata": {
  "kernelspec": {
   "display_name": "Julia 1.7.3",
   "language": "julia",
   "name": "julia-1.7"
  },
  "language_info": {
   "codemirror_mode": {
    "name": "ipython",
    "version": 3
   },
   "file_extension": ".py",
   "mimetype": "text/x-python",
   "name": "python",
   "nbconvert_exporter": "python",
   "pygments_lexer": "ipython3",
   "version": "3.8.8"
  }
 },
 "nbformat": 4,
 "nbformat_minor": 5
}
