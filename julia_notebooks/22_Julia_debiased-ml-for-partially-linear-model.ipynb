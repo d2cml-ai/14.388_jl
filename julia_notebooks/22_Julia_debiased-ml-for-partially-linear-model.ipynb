{
 "cells": [
  {
   "cell_type": "code",
   "execution_count": 39,
   "id": "bb47deaf",
   "metadata": {},
   "outputs": [
    {
     "name": "stderr",
     "output_type": "stream",
     "text": [
      "\u001b[32m\u001b[1m   Resolving\u001b[22m\u001b[39m package versions...\n",
      "\u001b[32m\u001b[1m  No Changes\u001b[22m\u001b[39m to `C:\\Users\\User\\.julia\\environments\\v1.6\\Project.toml`\n",
      "\u001b[32m\u001b[1m  No Changes\u001b[22m\u001b[39m to `C:\\Users\\User\\.julia\\environments\\v1.6\\Manifest.toml`\n",
      "\u001b[32m\u001b[1m   Resolving\u001b[22m\u001b[39m package versions...\n",
      "\u001b[32m\u001b[1m  No Changes\u001b[22m\u001b[39m to `C:\\Users\\User\\.julia\\environments\\v1.6\\Project.toml`\n",
      "\u001b[32m\u001b[1m  No Changes\u001b[22m\u001b[39m to `C:\\Users\\User\\.julia\\environments\\v1.6\\Manifest.toml`\n",
      "\u001b[32m\u001b[1m   Resolving\u001b[22m\u001b[39m package versions...\n",
      "\u001b[32m\u001b[1m  No Changes\u001b[22m\u001b[39m to `C:\\Users\\User\\.julia\\environments\\v1.6\\Project.toml`\n",
      "\u001b[32m\u001b[1m  No Changes\u001b[22m\u001b[39m to `C:\\Users\\User\\.julia\\environments\\v1.6\\Manifest.toml`\n",
      "\u001b[32m\u001b[1m   Resolving\u001b[22m\u001b[39m package versions...\n",
      "\u001b[32m\u001b[1m  No Changes\u001b[22m\u001b[39m to `C:\\Users\\User\\.julia\\environments\\v1.6\\Project.toml`\n",
      "\u001b[32m\u001b[1m  No Changes\u001b[22m\u001b[39m to `C:\\Users\\User\\.julia\\environments\\v1.6\\Manifest.toml`\n",
      "\u001b[32m\u001b[1m   Resolving\u001b[22m\u001b[39m package versions...\n",
      "\u001b[32m\u001b[1m  No Changes\u001b[22m\u001b[39m to `C:\\Users\\User\\.julia\\environments\\v1.6\\Project.toml`\n",
      "\u001b[32m\u001b[1m  No Changes\u001b[22m\u001b[39m to `C:\\Users\\User\\.julia\\environments\\v1.6\\Manifest.toml`\n",
      "\u001b[32m\u001b[1m   Resolving\u001b[22m\u001b[39m package versions...\n",
      "\u001b[32m\u001b[1m  No Changes\u001b[22m\u001b[39m to `C:\\Users\\User\\.julia\\environments\\v1.6\\Project.toml`\n",
      "\u001b[32m\u001b[1m  No Changes\u001b[22m\u001b[39m to `C:\\Users\\User\\.julia\\environments\\v1.6\\Manifest.toml`\n",
      "\u001b[32m\u001b[1m   Resolving\u001b[22m\u001b[39m package versions...\n",
      "\u001b[32m\u001b[1m  No Changes\u001b[22m\u001b[39m to `C:\\Users\\User\\.julia\\environments\\v1.6\\Project.toml`\n",
      "\u001b[32m\u001b[1m  No Changes\u001b[22m\u001b[39m to `C:\\Users\\User\\.julia\\environments\\v1.6\\Manifest.toml`\n",
      "\u001b[32m\u001b[1m   Resolving\u001b[22m\u001b[39m package versions...\n",
      "\u001b[32m\u001b[1m  No Changes\u001b[22m\u001b[39m to `C:\\Users\\User\\.julia\\environments\\v1.6\\Project.toml`\n",
      "\u001b[32m\u001b[1m  No Changes\u001b[22m\u001b[39m to `C:\\Users\\User\\.julia\\environments\\v1.6\\Manifest.toml`\n",
      "\u001b[32m\u001b[1m   Resolving\u001b[22m\u001b[39m package versions...\n",
      "\u001b[32m\u001b[1m  No Changes\u001b[22m\u001b[39m to `C:\\Users\\User\\.julia\\environments\\v1.6\\Project.toml`\n",
      "\u001b[32m\u001b[1m  No Changes\u001b[22m\u001b[39m to `C:\\Users\\User\\.julia\\environments\\v1.6\\Manifest.toml`\n",
      "\u001b[32m\u001b[1m   Resolving\u001b[22m\u001b[39m package versions...\n",
      "\u001b[32m\u001b[1m  No Changes\u001b[22m\u001b[39m to `C:\\Users\\User\\.julia\\environments\\v1.6\\Project.toml`\n",
      "\u001b[32m\u001b[1m  No Changes\u001b[22m\u001b[39m to `C:\\Users\\User\\.julia\\environments\\v1.6\\Manifest.toml`\n",
      "\u001b[32m\u001b[1m   Resolving\u001b[22m\u001b[39m package versions...\n",
      "\u001b[32m\u001b[1m  No Changes\u001b[22m\u001b[39m to `C:\\Users\\User\\.julia\\environments\\v1.6\\Project.toml`\n",
      "\u001b[32m\u001b[1m  No Changes\u001b[22m\u001b[39m to `C:\\Users\\User\\.julia\\environments\\v1.6\\Manifest.toml`\n",
      "\u001b[32m\u001b[1m   Resolving\u001b[22m\u001b[39m package versions...\n",
      "\u001b[32m\u001b[1m  No Changes\u001b[22m\u001b[39m to `C:\\Users\\User\\.julia\\environments\\v1.6\\Project.toml`\n",
      "\u001b[32m\u001b[1m  No Changes\u001b[22m\u001b[39m to `C:\\Users\\User\\.julia\\environments\\v1.6\\Manifest.toml`\n",
      "\u001b[32m\u001b[1m   Resolving\u001b[22m\u001b[39m package versions...\n",
      "\u001b[32m\u001b[1m  No Changes\u001b[22m\u001b[39m to `C:\\Users\\User\\.julia\\environments\\v1.6\\Project.toml`\n",
      "\u001b[32m\u001b[1m  No Changes\u001b[22m\u001b[39m to `C:\\Users\\User\\.julia\\environments\\v1.6\\Manifest.toml`\n",
      "\u001b[32m\u001b[1m   Resolving\u001b[22m\u001b[39m package versions...\n",
      "\u001b[32m\u001b[1m  No Changes\u001b[22m\u001b[39m to `C:\\Users\\User\\.julia\\environments\\v1.6\\Project.toml`\n",
      "\u001b[32m\u001b[1m  No Changes\u001b[22m\u001b[39m to `C:\\Users\\User\\.julia\\environments\\v1.6\\Manifest.toml`\n"
     ]
    },
    {
     "data": {
      "text/plain": [
       "(nothing, nothing)"
      ]
     },
     "execution_count": 39,
     "metadata": {},
     "output_type": "execute_result"
    }
   ],
   "source": [
    "using Pkg\n",
    "Pkg.add(\"CSV\"), using CSV\n",
    "Pkg.add(\"DataFrames\"), using DataFrames\n",
    "Pkg.add(\"StatsModels\"), using StatsModels\n",
    "Pkg.add(\"GLM\"), using GLM\n",
    "Pkg.add(\"Random\"), using Random\n",
    "Pkg.add(\"MLDataUtils\"), using MLDataUtils\n",
    "Pkg.add(\"MLBase\"), using MLBase\n",
    "Pkg.add(\"FixedEffectModels\"), using FixedEffectModels\n",
    "Pkg.add(\"Lasso\"), using Lasso\n",
    "Pkg.add(\"MLJ\"), using MLJ\n",
    "Pkg.add(\"DecisionTree\"), using DecisionTree\n",
    "Pkg.add(\"RData\"), using RData\n",
    "Pkg.add(\"GLMNet\"), using GLMNet\n",
    "Pkg.add(\"PrettyTables\"), using PrettyTables"
   ]
  },
  {
   "cell_type": "code",
   "execution_count": 41,
   "id": "ba836a57",
   "metadata": {},
   "outputs": [],
   "source": [
    "using Pkg, CSV, DataFrames, StatsModels, GLM, Random, RData, MLDataUtils, MLBase, FixedEffectModels, Lasso, MLJ, DecisionTree, GLMNet, PrettyTables"
   ]
  },
  {
   "cell_type": "markdown",
   "id": "ccd4b5fa",
   "metadata": {},
   "source": [
    "# Debiased ML for Partially Linear Model in Julia\n",
    "\n",
    "This is a simple implementation of Debiased Machine Learning for the Partially Linear Regression Model.\n",
    "\n",
    "Reference: \n",
    "\n",
    "https://arxiv.org/abs/1608.00060\n",
    "\n",
    "\n",
    "https://www.amazon.com/Business-Data-Science-Combining-Accelerate/dp/1260452778\n",
    "\n",
    "The code is based on the book."
   ]
  },
  {
   "cell_type": "markdown",
   "id": "974ac143",
   "metadata": {},
   "source": [
    "## DML algorithm\n",
    "\n",
    "Here we perform estimation and inference of predictive coefficient $\\alpha$ in the partially linear statistical model,\n",
    "\n",
    "$$\n",
    "Y = D\\alpha + g(X) + U, \\quad E (U | D, X) = 0. \n",
    "$$\n",
    "\n",
    "For $\\tilde Y = Y- E(Y|X)$ and $\\tilde D= D- E(D|X)$, we can write\n",
    "\n",
    "$$\n",
    "\\tilde Y = \\alpha \\tilde D + U, \\quad E (U |\\tilde D) =0.\n",
    "$$\n",
    "\n",
    "Parameter $\\alpha$ is then estimated using cross-fitting approach to obtain the residuals $\\tilde D$ and $\\tilde Y$.\n",
    "The algorithm comsumes $Y, D, X$, and machine learning methods for learning the residuals $\\tilde Y$ and $\\tilde D$, where\n",
    "the residuals are obtained by cross-validation (cross-fitting).\n",
    "\n",
    "The statistical parameter $\\alpha$ has a causal intertpreation of being the effect of $D$ on $Y$ in the causal DAG $$ D\\to Y, \\quad X\\to (D,Y)$$ or the counterfactual outcome model with conditionally exogenous (conditionally random) assignment of treatment $D$ given $X$:\n",
    "\n",
    "$$\n",
    "Y(d) = d\\alpha + g(X) + U(d),\\quad  U(d) \\text{ indep } D |X, \\quad Y = Y(D), \\quad U = U(D).\n",
    "$$\n"
   ]
  },
  {
   "cell_type": "markdown",
   "id": "b35a0c15",
   "metadata": {},
   "source": [
    "## Load data"
   ]
  },
  {
   "cell_type": "code",
   "execution_count": 106,
   "id": "a420ec32",
   "metadata": {},
   "outputs": [
    {
     "name": "stdout",
     "output_type": "stream",
     "text": [
      "Number of Rows : 5150\n",
      "Number of Columns : 20\n"
     ]
    }
   ],
   "source": [
    "# load GrowthData\n",
    "rdata_read = RData.load(\"../data/wage2015_subsample_inference.RData\")\n",
    "data = rdata_read[\"data\"]\n",
    "names(data)\n",
    "println(\"Number of Rows : \", size(data)[1],\"\\n\",\"Number of Columns : \", size(data)[2],) #rows and columns"
   ]
  },
  {
   "cell_type": "code",
   "execution_count": 108,
   "id": "48150d62",
   "metadata": {},
   "outputs": [],
   "source": [
    "y = GrowthData[!,1]\n",
    "y= reshape(y, (length(y),1))\n",
    "d = GrowthData[!,3]\n",
    "d= reshape(d, (length(y),1))\n",
    "x = GrowthData[!,4:end]\n",
    "x = Matrix(x);"
   ]
  },
  {
   "cell_type": "markdown",
   "id": "ea41b04d",
   "metadata": {},
   "source": [
    "## Naive OLS that uses all features w/o cross-fitting"
   ]
  },
  {
   "cell_type": "code",
   "execution_count": 109,
   "id": "2b96343c",
   "metadata": {},
   "outputs": [
    {
     "name": "stdout",
     "output_type": "stream",
     "text": [
      "\n",
      " length of y is \n",
      "90\n",
      "\n",
      " num features x is \n",
      "90\n",
      "\n",
      " Naive OLS that uses all features w/o cross-fitting \n"
     ]
    },
    {
     "data": {
      "text/html": [
       "<p>DataFrameRow (7 columns)</p><div class=\"data-frame\"><table class=\"data-frame\"><thead><tr><th></th><th>Name</th><th>Estimate</th><th>Std.Error</th><th>t value</th><th>Pr(&gt;|t|)</th><th>Lower 95%</th><th>Upper 95%</th></tr><tr><th></th><th title=\"String\">String</th><th title=\"Float64\">Float64</th><th title=\"Float64\">Float64</th><th title=\"Float64\">Float64</th><th title=\"Float64\">Float64</th><th title=\"Float64\">Float64</th><th title=\"Float64\">Float64</th></tr></thead><tbody><tr><th>1</th><td>gdpsh465</td><td>-0.00937799</td><td>0.0298877</td><td>-0.313774</td><td>0.756019</td><td>-0.0706002</td><td>0.0518442</td></tr></tbody></table></div>"
      ],
      "text/latex": [
       "\\begin{tabular}{r|ccccccc}\n",
       "\t& Name & Estimate & Std.Error & t value & Pr(>|t|) & Lower 95\\% & Upper 95\\%\\\\\n",
       "\t\\hline\n",
       "\t& String & Float64 & Float64 & Float64 & Float64 & Float64 & Float64\\\\\n",
       "\t\\hline\n",
       "\t1 & gdpsh465 & -0.00937799 & 0.0298877 & -0.313774 & 0.756019 & -0.0706002 & 0.0518442 \\\\\n",
       "\\end{tabular}\n"
      ],
      "text/plain": [
       "\u001b[1mDataFrameRow\u001b[0m\n",
       "\u001b[1m Row \u001b[0m│\u001b[1m Name     \u001b[0m\u001b[1m Estimate    \u001b[0m\u001b[1m Std.Error \u001b[0m\u001b[1m t value   \u001b[0m\u001b[1m Pr(>|t|) \u001b[0m\u001b[1m Lower 95%  \u001b[0m\u001b[1m Uppe\u001b[0m ⋯\n",
       "\u001b[1m     \u001b[0m│\u001b[90m String   \u001b[0m\u001b[90m Float64     \u001b[0m\u001b[90m Float64   \u001b[0m\u001b[90m Float64   \u001b[0m\u001b[90m Float64  \u001b[0m\u001b[90m Float64    \u001b[0m\u001b[90m Floa\u001b[0m ⋯\n",
       "─────┼──────────────────────────────────────────────────────────────────────────\n",
       "   1 │ gdpsh465  -0.00937799  0.0298877  -0.313774  0.756019  -0.0706002  0.05 ⋯\n",
       "\u001b[36m                                                                1 column omitted\u001b[0m"
      ]
     },
     "execution_count": 109,
     "metadata": {},
     "output_type": "execute_result"
    }
   ],
   "source": [
    "println(\"\\n length of y is \\n\", size(y,1) )\n",
    "println(\"\\n num features x is \\n\", size(x,1 ) )\n",
    "\n",
    "# Naive OLS\n",
    "print( \"\\n Naive OLS that uses all features w/o cross-fitting \\n\" )\n",
    "fm = term(:Outcome) ~ term(:gdpsh465) +sum(term.(Symbol.(names(GrowthData[:,4:size(GrowthData,2)]))));\n",
    "lres = reg(GrowthData, fm);\n",
    "first(DataFrame(GLM.coeftable(lres)))"
   ]
  },
  {
   "cell_type": "markdown",
   "id": "6b83400a",
   "metadata": {},
   "source": [
    "## DML with OLS w/o feature selection"
   ]
  },
  {
   "cell_type": "code",
   "execution_count": 110,
   "id": "0ed1bab1",
   "metadata": {},
   "outputs": [
    {
     "data": {
      "text/plain": [
       "DML2_for_PLM (generic function with 1 method)"
      ]
     },
     "execution_count": 110,
     "metadata": {},
     "output_type": "execute_result"
    }
   ],
   "source": [
    "function DML2_for_PLM(x , d , y, dreg , yreg , nfold)\n",
    "    \n",
    "    # Num ob observations\n",
    "    nobser = size(x,1)\n",
    "    \n",
    "    # Define folds indices \n",
    "    foldid = collect(Kfold(size(x)[1], nfold))\n",
    "    \n",
    "    # Create array to save errors \n",
    "    ytil = ones(nobser)\n",
    "    dtil = ones(nobser)\n",
    "    println(\"Folds: \" )\n",
    "    \n",
    "    # loop to save results\n",
    "    for i in 1:nfold\n",
    "        \n",
    "        # Lasso regression, excluding folds selected \n",
    "        dfit = dreg(x[foldid[i],:], d[foldid[i]])\n",
    "        yfit = yreg(x[foldid[i],:], y[foldid[i]]) \n",
    "        \n",
    "        # Predict estimates using the \n",
    "        dhat = GLM.predict(dfit, x[Not(foldid[i]),:])\n",
    "        yhat = GLM.predict(yfit, x[Not(foldid[i]),:])\n",
    "        \n",
    "        # Save errors \n",
    "        dtil[Not(foldid[i])] = (d[Not(foldid[i])] - dhat)\n",
    "        ytil[Not(foldid[i])] = (y[Not(foldid[i])] - yhat)\n",
    "        println(i)\n",
    "    end\n",
    "    \n",
    "    # Create dataframe \n",
    "    data = DataFrame(ytil = ytil, dtil = dtil)\n",
    "    \n",
    "    # OLS clustering at the County level\n",
    "    rfit = reg(data, @formula(ytil ~ dtil ))\n",
    "    coef_est = GLM.coef(rfit)[2]\n",
    "    se = GLM.coeftable(rfit).cols[2][2]\n",
    "    \n",
    "    println(\" coef (se) = \", coef_est ,\"(\",se,\")\")\n",
    "    \n",
    "    return rfit, data;\n",
    "    \n",
    "end"
   ]
  },
  {
   "cell_type": "code",
   "execution_count": 118,
   "id": "44c784d9",
   "metadata": {},
   "outputs": [
    {
     "name": "stdout",
     "output_type": "stream",
     "text": [
      "\n",
      " DML with OLS w/o feature selection \n",
      "Folds: \n",
      "1\n",
      "2\n",
      "3\n",
      "4\n",
      "5\n",
      "6\n",
      "7\n",
      "8\n",
      "9\n",
      "10\n",
      " coef (se) = -0.017291230298672296(0.006408713248071963)\n"
     ]
    }
   ],
   "source": [
    "#DML with OLS\n",
    "print( \"\\n DML with OLS w/o feature selection \\n\" )\n",
    "\n",
    "dreg(x, d) = lm(x,vec(d))    \n",
    "yreg(x, y) = lm(x,vec(y))\n",
    "\n",
    "DML2_ols = DML2_for_PLM(x, d, y, dreg, yreg, 10 );"
   ]
  },
  {
   "cell_type": "markdown",
   "id": "09633273",
   "metadata": {},
   "source": [
    "## DML with Lasso"
   ]
  },
  {
   "cell_type": "code",
   "execution_count": 119,
   "id": "46cb3604",
   "metadata": {},
   "outputs": [
    {
     "data": {
      "text/plain": [
       "DML2_lasso_cv (generic function with 1 method)"
      ]
     },
     "execution_count": 119,
     "metadata": {},
     "output_type": "execute_result"
    }
   ],
   "source": [
    "function DML2_lasso_cv(x , d , y, dreg , yreg , nfold)\n",
    "    \n",
    "    # Num ob observations\n",
    "    nobser = size(x,1)\n",
    "    \n",
    "    # Define folds indices\n",
    "    foldid = collect(Kfold(size(x)[1], nfold))\n",
    "    \n",
    "    # Create array to save errors \n",
    "    ytil = ones(nobser)\n",
    "    dtil = ones(nobser)\n",
    "    println(\"Folds: \" )\n",
    "    \n",
    "    # loop to save results\n",
    "    for i in 1:nfold\n",
    "        dfit = dreg(x[foldid[i],:], d[foldid[i]])\n",
    "        yfit = yreg(x[foldid[i],:], y[foldid[i]])\n",
    "        \n",
    "        dhat = GLMNet.predict(dfit, x[Not(foldid[i]),:])\n",
    "        yhat = GLMNet.predict(yfit, x[Not(foldid[i]),:])\n",
    "        \n",
    "        dtil[Not(foldid[i])]   = (d[Not(foldid[i])] - dhat)\n",
    "        ytil[Not(foldid[i])]   = (y[Not(foldid[i])] - yhat)\n",
    "        println(i)\n",
    "    end\n",
    "    \n",
    "    # Create dataframe \n",
    "    data = DataFrame(ytil = ytil, dtil = dtil)\n",
    "    \n",
    "    # OLS clustering at the County level\n",
    "    rfit = lm(@formula(ytil ~ dtil), data)\n",
    "    coef_est = GLM.coef(rfit)[2]\n",
    "    se = GLM.coeftable(rfit).cols[2][2]\n",
    "\n",
    "    println(\" coef (se) = \", coef_est ,\"(\",se,\")\")\n",
    "    \n",
    "    return rfit, data;\n",
    "    \n",
    "end"
   ]
  },
  {
   "cell_type": "code",
   "execution_count": 120,
   "id": "da6656b3",
   "metadata": {},
   "outputs": [
    {
     "name": "stdout",
     "output_type": "stream",
     "text": [
      "\n",
      " DML with Lasso \n",
      "Folds: \n",
      "1\n",
      "2\n",
      "3\n",
      "4\n",
      "5\n",
      "6\n",
      "7\n",
      "8\n",
      "9\n",
      "10\n",
      " coef (se) = -0.024281081732687074(0.013967857764798648)\n"
     ]
    }
   ],
   "source": [
    "# DML with LASSO\n",
    "print( \"\\n DML with Lasso \\n\" )\n",
    "\n",
    "##ML method = lasso from glmnet \n",
    "dreg(x, d) = glmnetcv(x, d, alpha = 1)    \n",
    "yreg(x, y) = glmnetcv(x, y, alpha = 1)  \n",
    "DML2_lasso_cv_1 = DML2_lasso_cv(x, d, y, dreg, yreg, 10);"
   ]
  },
  {
   "cell_type": "markdown",
   "id": "49a86a9b",
   "metadata": {},
   "source": [
    "## DML with Random Forest"
   ]
  },
  {
   "cell_type": "code",
   "execution_count": 144,
   "id": "fc49b9f1",
   "metadata": {},
   "outputs": [
    {
     "data": {
      "text/plain": [
       "DML2_RF (generic function with 1 method)"
      ]
     },
     "execution_count": 144,
     "metadata": {},
     "output_type": "execute_result"
    }
   ],
   "source": [
    "function DML2_RF(x , d , y, dreg , yreg , nfold)\n",
    "    \n",
    "    # Num ob observations\n",
    "    nobser = size(x,1)\n",
    "    \n",
    "    # Define folds indices\n",
    "    foldid = collect(Kfold(size(x)[1], nfold))\n",
    "    \n",
    "    # Create array to save errors \n",
    "    ytil = ones(nobser)\n",
    "    dtil = ones(nobser)\n",
    "    println(\"Folds: \" )\n",
    "    \n",
    "    # loop to save results\n",
    "    for i in 1:nfold\n",
    "        dfit = dreg(x[foldid[i],:], d[foldid[i]])\n",
    "        yfit = yreg(x[foldid[i],:], y[foldid[i]])\n",
    "        \n",
    "        dhat = apply_forest(dfit,x[Not(foldid[1]),:])\n",
    "        yhat = apply_forest(yfit,x[Not(foldid[1]),:])\n",
    "        \n",
    "        dtil[Not(foldid[i])]   = (d[Not(foldid[i])] - dhat)\n",
    "        ytil[Not(foldid[i])]   = (y[Not(foldid[i])] - yhat)\n",
    "        println(i)\n",
    "    end\n",
    "    \n",
    "    # Create dataframe \n",
    "    data = DataFrame(ytil = ytil, dtil = dtil)\n",
    "    \n",
    "    # OLS clustering at the County level\n",
    "    rfit = reg(data, @formula(ytil ~ dtil)) #unico cambio\n",
    "    coef_est = GLM.coef(rfit)[2]\n",
    "    se = GLM.coeftable(rfit).cols[2][2]\n",
    "\n",
    "    println(\" coef (se) = \", coef_est ,\"(\",se,\")\")\n",
    "    \n",
    "    return rfit, data;\n",
    "    \n",
    "end"
   ]
  },
  {
   "cell_type": "code",
   "execution_count": 151,
   "id": "72cbe257",
   "metadata": {},
   "outputs": [
    {
     "name": "stdout",
     "output_type": "stream",
     "text": [
      "\n",
      " DML with Random Forest \n",
      "Folds: \n",
      "1\n",
      "2\n",
      "3\n",
      "4\n",
      "5\n",
      " coef (se) = 0.0028739327255646904(0.006311085284977613)\n"
     ]
    }
   ],
   "source": [
    "print( \"\\n DML with Random Forest \\n\" )\n",
    "function dreg(x,d)\n",
    "    min_samples_leaf = 5\n",
    "    rng = 3\n",
    "    RFmodel = build_forest(d,x, min_samples_leaf, rng)\n",
    "end\n",
    "function yreg(x,y)\n",
    "    min_samples_leaf = 5\n",
    "    rng = 3\n",
    "    RFmodel = build_forest(y,x, min_samples_leaf, rng)\n",
    "end\n",
    "\n",
    "DML2_RF_1 = DML2_RF(x, d, y, dreg, yreg, 5);"
   ]
  },
  {
   "cell_type": "markdown",
   "id": "0657be0a",
   "metadata": {},
   "source": [
    "## DML with Lasso/Random Forest"
   ]
  },
  {
   "cell_type": "code",
   "execution_count": 133,
   "id": "3f553e13",
   "metadata": {},
   "outputs": [
    {
     "data": {
      "text/plain": [
       "DML2_lasso_RF (generic function with 1 method)"
      ]
     },
     "execution_count": 133,
     "metadata": {},
     "output_type": "execute_result"
    }
   ],
   "source": [
    "function DML2_lasso_RF(x , d , y, dreg , yreg , nfold)\n",
    "    \n",
    "    # Num ob observations\n",
    "    nobser = size(x,1)\n",
    "    \n",
    "    # Define folds indices\n",
    "    foldid = collect(Kfold(size(x)[1], nfold))\n",
    "    \n",
    "    # Create array to save errors \n",
    "    ytil = ones(nobser)\n",
    "    dtil = ones(nobser)\n",
    "    println(\"Folds: \" )\n",
    "    \n",
    "    # loop to save results\n",
    "    for i in 1:nfold\n",
    "        dfit = dreg(x[foldid[i],:], d[foldid[i]])\n",
    "        yfit = yreg(x[foldid[i],:], y[foldid[i]])\n",
    "        \n",
    "        dhat = GLMNet.predict(dfit,x[Not(foldid[1]),:])\n",
    "        yhat = apply_forest(yfit,x[Not(foldid[1]),:])\n",
    "        \n",
    "        dtil[Not(foldid[i])]   = (d[Not(foldid[i])] - dhat)\n",
    "        ytil[Not(foldid[i])]   = (y[Not(foldid[i])] - yhat)\n",
    "        println(i)\n",
    "    end\n",
    "    \n",
    "    # Create dataframe \n",
    "    data = DataFrame(ytil = ytil, dtil = dtil)\n",
    "    \n",
    "    # OLS clustering at the County level\n",
    "    rfit = reg(data, @formula(ytil ~ dtil)) #unico cambio\n",
    "    coef_est = GLM.coef(rfit)[2]\n",
    "    se = GLM.coeftable(rfit).cols[2][2]\n",
    "\n",
    "    println(\" coef (se) = \", coef_est ,\"(\",se,\")\")\n",
    "    \n",
    "    return rfit, data;\n",
    "    \n",
    "end"
   ]
  },
  {
   "cell_type": "code",
   "execution_count": 160,
   "id": "86ccad8c",
   "metadata": {},
   "outputs": [
    {
     "name": "stdout",
     "output_type": "stream",
     "text": [
      "\n",
      " DML with Lasso/Random Forest \n",
      "Folds: \n",
      "1\n",
      "2\n",
      " coef (se) = -0.002969673862040379(0.005601016830746443)\n"
     ]
    }
   ],
   "source": [
    "print( \"\\n DML with Lasso/Random Forest \\n\" )\n",
    "\n",
    "dreg(x, d) = glmnetcv(x, d, alpha = 1)\n",
    "\n",
    "    min_samples_leaf = 5\n",
    "    rng = 3\n",
    "yreg(x,y) = build_forest(y,x, min_samples_leaf, rng)\n",
    "\n",
    "DML2_lasso_RF_1 = DML2_lasso_RF(x , d , y, dreg , yreg , 2);"
   ]
  },
  {
   "cell_type": "markdown",
   "id": "6b659036",
   "metadata": {},
   "source": [
    "## Root Mean Square Error"
   ]
  },
  {
   "cell_type": "code",
   "execution_count": 161,
   "id": "208f2daa",
   "metadata": {},
   "outputs": [],
   "source": [
    "mods = [DML2_ols, DML2_lasso_cv_1, DML2_RF_1];\n",
    "mods_name = [\"DML2_ols\", \"DML2_lasso\", \"DML2_RF\"];"
   ]
  },
  {
   "cell_type": "code",
   "execution_count": 164,
   "id": "e1888117",
   "metadata": {},
   "outputs": [
    {
     "name": "stdout",
     "output_type": "stream",
     "text": [
      "┌────────────┬──────────────┬──────────────┐\n",
      "│\u001b[1m     Models \u001b[0m│\u001b[1m       RMSE_Y \u001b[0m│\u001b[1m       RMSE_D \u001b[0m│\n",
      "│\u001b[90m        Any \u001b[0m│\u001b[90m          Any \u001b[0m│\u001b[90m          Any \u001b[0m│\n",
      "├────────────┼──────────────┼──────────────┤\n",
      "│   DML2_ols │ 0.0604868019 │ 0.3838721881 │\n",
      "│ DML2_lasso │ 0.0489903798 │ 0.3670628441 │\n",
      "│    DML2_RF │ 0.0596262889 │ 0.9708853942 │\n",
      "└────────────┴──────────────┴──────────────┘\n"
     ]
    }
   ],
   "source": [
    "RMSE_Y = []\n",
    "RMSE_D = []\n",
    "\n",
    "for i in mods\n",
    "    push!(RMSE_Y, sqrt(sum(i[2][!,1].^2)/length(i[2][!,1])))\n",
    "    push!(RMSE_D,sqrt(sum(i[2][!,2].^2)/length(i[2][!,2])))\n",
    "end\n",
    "\n",
    "result = DataFrame([mods_name RMSE_Y RMSE_D], [:Models, :RMSE_Y, :RMSE_D])\n",
    "pretty_table(result; formatters = ft_printf(\"%5.10f\"))"
   ]
  }
 ],
 "metadata": {
  "kernelspec": {
   "display_name": "Julia 1.7.3",
   "language": "julia",
   "name": "julia-1.7"
  },
  "language_info": {
   "file_extension": ".jl",
   "mimetype": "application/julia",
   "name": "julia",
   "version": "1.7.3"
  }
 },
 "nbformat": 4,
 "nbformat_minor": 5
}
