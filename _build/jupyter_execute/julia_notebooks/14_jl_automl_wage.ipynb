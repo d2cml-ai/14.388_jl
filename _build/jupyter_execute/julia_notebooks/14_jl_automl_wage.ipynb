{
 "cells": [
  {
   "cell_type": "markdown",
   "id": "ae5ea7fd-f9bb-47be-b3b3-7212eae9fd58",
   "metadata": {},
   "source": [
    "# AutoML for wage prediction\n",
    "\n",
    "In progress"
   ]
  }
 ],
 "metadata": {
  "kernelspec": {
   "display_name": "Julia 1.7.3",
   "language": "julia",
   "name": "julia-1.7"
  },
  "language_info": {
   "file_extension": ".jl",
   "mimetype": "application/julia",
   "name": "julia",
   "version": "1.7.3"
  }
 },
 "nbformat": 4,
 "nbformat_minor": 5
}