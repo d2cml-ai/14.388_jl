{
 "cells": [
  {
   "cell_type": "markdown",
   "id": "03f804e1",
   "metadata": {},
   "source": [
    "# Weak IV Experiments"
   ]
  },
  {
   "cell_type": "code",
   "execution_count": 1,
   "id": "0a6cbd9c",
   "metadata": {},
   "outputs": [
    {
     "name": "stderr",
     "output_type": "stream",
     "text": [
      "\u001b[32m\u001b[1m    Updating\u001b[22m\u001b[39m registry at `C:\\Users\\Work\\.julia\\registries\\General.toml`\n"
     ]
    },
    {
     "name": "stderr",
     "output_type": "stream",
     "text": [
      "\u001b[32m\u001b[1m   Resolving\u001b[22m\u001b[39m package versions...\n"
     ]
    },
    {
     "name": "stderr",
     "output_type": "stream",
     "text": [
      "\u001b[32m\u001b[1m  No Changes\u001b[22m\u001b[39m to `C:\\Users\\Work\\.julia\\environments\\v1.7\\Project.toml`\n",
      "\u001b[32m\u001b[1m  No Changes\u001b[22m\u001b[39m to `C:\\Users\\Work\\.julia\\environments\\v1.7\\Manifest.toml`\n"
     ]
    }
   ],
   "source": [
    "# Import relevant packages\n",
    "using Pkg\n",
    "Pkg.add(\"CSV\"), using CSV\n",
    "Pkg.add(\"DataFrames\"), using DataFrames\n",
    "Pkg.add(\"GLM\"), using GLM\n",
    "Pkg.add(\"FixedEffectModels\"), using FixedEffectModels\n",
    "Pkg.add(\"PrettyTables\"), using PrettyTables\n",
    "Pkg.add(\"CovarianceMatrices\"), using CovarianceMatrices\n",
    "Pkg.add(\"RegressionTables\"), using RegressionTables\n",
    "Pkg.add(\"StatsFuns\"), using StatsFuns\n",
    "Pkg.add(\"Plots\"), using Plots\n",
    "Pkg.add(\"MLBase\"), using MLBase\n",
    "Pkg.add(\"Seaborn\"), using Seaborn\n",
    "Pkg.add(\"Random\"), using Random\n",
    "Pkg.add(\"Statistics\"), using Statistics"
   ]
  },
  {
   "cell_type": "code",
   "execution_count": 991,
   "id": "e3fc5f67",
   "metadata": {},
   "outputs": [
    {
     "data": {
      "text/plain": [
       "foo1 (generic function with 1 method)"
      ]
     },
     "execution_count": 991,
     "metadata": {},
     "output_type": "execute_result"
    }
   ],
   "source": [
    "function foo1(a;rng=MersenneTwister(3))\n",
    "  return randn(rng,a)\n",
    "end"
   ]
  },
  {
   "cell_type": "code",
   "execution_count": 992,
   "id": "367ca234",
   "metadata": {},
   "outputs": [
    {
     "data": {
      "text/plain": [
       "foo2 (generic function with 1 method)"
      ]
     },
     "execution_count": 992,
     "metadata": {},
     "output_type": "execute_result"
    }
   ],
   "source": [
    "function foo2(a;rng=MersenneTwister(1))\n",
    "  return randn(rng,a)\n",
    "end"
   ]
  },
  {
   "cell_type": "code",
   "execution_count": 993,
   "id": "ed35f9dc",
   "metadata": {},
   "outputs": [
    {
     "data": {
      "text/plain": [
       "                             Linear Model                             \n",
       "=======================================================================\n",
       "Number of obs:                 100   Degrees of freedom:              2\n",
       "R2:                          0.067   R2 Adjusted:                 0.057\n",
       "F-Stat:                    7.01262   p-value:                     0.009\n",
       "=======================================================================\n",
       "D           |  Estimate Std.Error  t value Pr(>|t|) Lower 95% Upper 95%\n",
       "-----------------------------------------------------------------------\n",
       "Z           |  0.250108  0.094447  2.64814    0.009 0.0626815  0.437535\n",
       "(Intercept) | 0.0873342 0.0949433 0.919856    0.360 -0.101078  0.275746\n",
       "=======================================================================\n"
      ]
     },
     "execution_count": 993,
     "metadata": {},
     "output_type": "execute_result"
    }
   ],
   "source": [
    "    B = 1000\n",
    "    IVEst = zeros( B )\n",
    "    n = 100\n",
    "    beta = 0.25\n",
    "\n",
    "    U = foo1(n)\n",
    "    Z = foo2(n)\n",
    "    D = beta*Z+U\n",
    "    Y = D + U;\n",
    "    intercept = ones(length(U))\n",
    "    data1 = DataFrame(intercept = intercept, U = U, Z = Z, D = D, Y = Y);\n",
    "\n",
    "    mod = reg(data1, @formula(D ~ Z))"
   ]
  },
  {
   "cell_type": "code",
   "execution_count": 994,
   "id": "eeb4dcd0",
   "metadata": {},
   "outputs": [
    {
     "data": {
      "text/plain": [
       "                          IV Model                          \n",
       "============================================================\n",
       "Number of obs:            100  Degrees of freedom:         1\n",
       "R2:                     0.752  R2 Adjusted:            0.749\n",
       "F-Stat:               6.79219  p-value:                0.011\n",
       "F-Stat (First Stage): 7.01315  p-value (First Stage):  0.008\n",
       "============================================================\n",
       "Y  | Estimate Std.Error t value Pr(>|t|) Lower 95% Upper 95%\n",
       "------------------------------------------------------------\n",
       "D  | 0.994509  0.381596 2.60618    0.011   0.23734   1.75168\n",
       "============================================================\n"
      ]
     },
     "execution_count": 994,
     "metadata": {},
     "output_type": "execute_result"
    }
   ],
   "source": [
    "IV =  reg(data1, @formula(Y ~ 0 + (D ~ Z)))\n",
    "IV"
   ]
  },
  {
   "cell_type": "code",
   "execution_count": 995,
   "id": "a69103d8",
   "metadata": {},
   "outputs": [
    {
     "data": {
      "text/plain": [
       "1-element Vector{Float64}:\n",
       " 0.994509337024402"
      ]
     },
     "execution_count": 995,
     "metadata": {},
     "output_type": "execute_result"
    }
   ],
   "source": [
    "IV.coef"
   ]
  },
  {
   "cell_type": "markdown",
   "id": "724723b8",
   "metadata": {},
   "source": [
    "Note that the instrument is weak here (contolled by $\\beta$) -- the t-stat is less than 4."
   ]
  },
  {
   "cell_type": "markdown",
   "id": "187180ad",
   "metadata": {},
   "source": [
    "## Run 1000 trials to evaluate distribution of the IV estimator"
   ]
  },
  {
   "cell_type": "code",
   "execution_count": 660,
   "id": "1ad89539",
   "metadata": {},
   "outputs": [],
   "source": [
    "# dependent variable ~ exogenous variables + (endogenous variables ~ instrumental variables)"
   ]
  },
  {
   "cell_type": "code",
   "execution_count": 996,
   "id": "590a6407",
   "metadata": {},
   "outputs": [],
   "source": [
    "# Set seed\n",
    "B = 1000\n",
    "IVEst = zeros(B)\n",
    "\n",
    "\n",
    "for i in 1:B\n",
    "    \n",
    "    U = randn( n)\n",
    "    Z = randn( n)\n",
    "    D = beta*Z+U\n",
    "    Y = D + U\n",
    "    intercept = ones(length(U))\n",
    "    data2 = DataFrame(intercept = intercept, U = U, Z = Z, D = D, Y = Y);\n",
    "        \n",
    "    IV =  reg(data2, @formula(Y ~ + (D ~  Z)))\n",
    "    \n",
    "    IVEst[i,1] = IV.coef[2]\n",
    "end"
   ]
  },
  {
   "cell_type": "code",
   "execution_count": 997,
   "id": "7581da86",
   "metadata": {},
   "outputs": [
    {
     "name": "stdout",
     "output_type": "stream",
     "text": [
      "-40.368264648867964\n",
      "57.83003936193075\n"
     ]
    }
   ],
   "source": [
    "println(minimum(IVEst))\n",
    "println(maximum(IVEst))"
   ]
  },
  {
   "cell_type": "code",
   "execution_count": 998,
   "id": "48404784",
   "metadata": {},
   "outputs": [
    {
     "data": {
      "text/plain": [
       "1000-element Vector{Float64}:\n",
       " -0.2633141021687235\n",
       "  0.8948832260053269\n",
       " -0.20787697208091646\n",
       "  0.6792079361265198\n",
       "  1.052671004982911\n",
       " -0.7421608576444562\n",
       "  1.1668318792400871\n",
       "  0.933747261081341\n",
       "  0.6850752909186767\n",
       "  1.4639180207647025\n",
       " -0.9642817021998845\n",
       " -1.497309542643626\n",
       "  1.2189323077695131\n",
       "  ⋮\n",
       "  5.460232661324924\n",
       "  0.5478868710622211\n",
       "  1.3717744154929605\n",
       "  1.2644078444676423\n",
       "  1.487865163308266\n",
       "  0.7873831110483491\n",
       "  0.7967961713080116\n",
       "  0.9696312102644875\n",
       " -0.07785624411680934\n",
       "  0.08917470799234822\n",
       "  1.4232140851370487\n",
       "  0.9943702695396225"
      ]
     },
     "execution_count": 998,
     "metadata": {},
     "output_type": "execute_result"
    }
   ],
   "source": [
    "IVEst"
   ]
  },
  {
   "cell_type": "markdown",
   "id": "ca39f6e9",
   "metadata": {},
   "source": [
    "## Plot the Actual Distribution against the Normal Approximation (based on Strong Instrument Assumption)"
   ]
  },
  {
   "cell_type": "code",
   "execution_count": 999,
   "id": "3e79f74b",
   "metadata": {},
   "outputs": [
    {
     "data": {
      "image/png": "[encoded data removed]",
      "text/plain": [
       "Figure(PyObject <Figure size 640x480 with 1 Axes>)"
      ]
     },
     "metadata": {
      "filenames": {
       "image/png": "C:\\Users\\Work\\Documents\\Work\\d2cml-ai\\14.388_jl\\_build\\jupyter_execute\\julia_notebooks\\25_Julia_weak_iv_experiments_14_0.png"
      }
     },
     "output_type": "display_data"
    },
    {
     "data": {
      "text/plain": [
       "(-5.0, 5.0)"
      ]
     },
     "execution_count": 999,
     "metadata": {},
     "output_type": "execute_result"
    }
   ],
   "source": [
    "val = collect(range( -5, 5.5, step = 0.05 ))\n",
    "var = (1/beta^2)*(1/100) # theoretical variance of IV\n",
    "sd = sqrt(var)\n",
    "\n",
    "μ=0; σ=sd\n",
    "d = Normal(μ, σ)\n",
    "normal_dist = rand(d,1000)\n",
    "\n",
    "# plotting both distibutions on the same figure\n",
    "Seaborn.kdeplot(x = IVEst.-1, shade = true, color = \"red\")\n",
    "Seaborn.kdeplot(x = normal_dist, shade = true, color = \"blue\")\n",
    "Seaborn.title(\"Actual Distribution vs Gaussian\")\n",
    "Seaborn.xlabel(\"IV Estimator -True Effect\")\n",
    "Seaborn.xlim(-5,5)"
   ]
  },
  {
   "cell_type": "code",
   "execution_count": null,
   "id": "5849e394",
   "metadata": {},
   "outputs": [],
   "source": []
  }
 ],
 "metadata": {
  "kernelspec": {
   "display_name": "Julia 1.7.3",
   "language": "julia",
   "name": "julia-1.7"
  },
  "language_info": {
   "file_extension": ".jl",
   "mimetype": "application/julia",
   "name": "julia",
   "version": "1.7.3"
  }
 },
 "nbformat": 4,
 "nbformat_minor": 5
}