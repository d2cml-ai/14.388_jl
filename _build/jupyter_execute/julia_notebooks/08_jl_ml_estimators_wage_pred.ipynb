{
 "cells": [
  {
   "cell_type": "markdown",
   "id": "5409b984-6960-41b2-85a0-2629c5d940c6",
   "metadata": {},
   "source": [
    "# ML for wage prediction\n",
    "\n",
    "In progress"
   ]
  }
 ],
 "metadata": {
  "kernelspec": {
   "display_name": "Julia 1.7.3",
   "language": "julia",
   "name": "julia-1.7"
  },
  "language_info": {
   "file_extension": ".jl",
   "mimetype": "application/julia",
   "name": "julia",
   "version": "1.7.3"
  }
 },
 "nbformat": 4,
 "nbformat_minor": 5
}