{
 "cells": [
  {
   "cell_type": "markdown",
   "id": "639d916e",
   "metadata": {},
   "source": [
    "# Julia Notebook Linear Model Overfitting"
   ]
  },
  {
   "cell_type": "code",
   "execution_count": 1,
   "id": "9267a35a",
   "metadata": {},
   "outputs": [],
   "source": [
    "# If necesary, install functions\n",
    "# import Pkg; Pkg.add(\"GLM\")\n",
    "# import Pkg; Pkg.add(\"DataFrames\")"
   ]
  },
  {
   "cell_type": "code",
   "execution_count": 2,
   "id": "037d1974",
   "metadata": {},
   "outputs": [],
   "source": [
    "# Import functions\n",
    "using LinearAlgebra, GLM, DataFrames, Statistics, Random"
   ]
  },
  {
   "cell_type": "markdown",
   "id": "192aebfc",
   "metadata": {},
   "source": [
    "First set p=n\n"
   ]
  },
  {
   "cell_type": "code",
   "execution_count": 3,
   "id": "35b498a8",
   "metadata": {},
   "outputs": [
    {
     "name": "stdout",
     "output_type": "stream",
     "text": [
      "p/n is\n"
     ]
    },
    {
     "name": "stdout",
     "output_type": "stream",
     "text": [
      "1.0\n",
      "R2 is\n",
      "1.0\n",
      "Adjusted R2 is\n",
      "1.0\n"
     ]
    }
   ],
   "source": [
    "Random.seed!(1234)\n",
    "\n",
    "n = 1000\n",
    "p = n\n",
    "\n",
    "# Create a 1000x1000 matrix of standard Gaussians\n",
    "X = randn(n, p)\n",
    "\n",
    "# Create a 1000x1 matrix of standard Gaussians\n",
    "Y = randn(n)\n",
    "\n",
    "# We can not run the regression below, because we need to have n>p otherwise error shows up.(I think it is because the matrix\n",
    "# decomposition procedure)\n",
    "# Fitted linear regression \n",
    "# fitted = lm(X,Y)\n",
    "\n",
    "# This is a fuction that returns coeficients,R2 and Adj R2\n",
    "\n",
    "function OLSestimator(Y, X)\n",
    "\n",
    "    β = inv(X'*X)*(X'*Y)\n",
    "    # β = X\\Y\n",
    "    errors = Y - X*β\n",
    "    R_squared = 1.0 - sum(errors.^2.0)/sum((Y .- mean(Y)).^2.0)\n",
    "    R_squared_adj =  1.0 - ( 1.0 - R_squared )*( size(Y)[1] - 1.0 )/( size(Y)[1]- size(X)[2] - 1.0 )    \n",
    "    \n",
    "    return β, R_squared, R_squared_adj\n",
    "end\n",
    "\n",
    "results_ols = OLSestimator(Y, X)\n",
    "\n",
    "println(\"p/n is\")\n",
    "println(p/n)\n",
    "\n",
    "println(\"R2 is\")\n",
    "println(results_ols[2])\n",
    "\n",
    "println(\"Adjusted R2 is\")\n",
    "println(results_ols[3])"
   ]
  },
  {
   "cell_type": "markdown",
   "id": "aacf3222",
   "metadata": {},
   "source": [
    "Second, set p=n/2."
   ]
  },
  {
   "cell_type": "code",
   "execution_count": 4,
   "id": "d587042f-a562-4d75-ae84-366205283793",
   "metadata": {},
   "outputs": [
    {
     "name": "stdout",
     "output_type": "stream",
     "text": [
      "p/n is\n",
      "0.5\n",
      "R2 is\n"
     ]
    },
    {
     "name": "stdout",
     "output_type": "stream",
     "text": [
      "0.49480312764499856\n",
      "Adjusted R2 is\n",
      "-0.009383350965292747\n"
     ]
    }
   ],
   "source": [
    "# We have to make sure that both variables are the same type (Integers or floats) to avoid errors when running the regression\n",
    "n = 1000;\n",
    "p = Int(n/2);\n",
    "\n",
    "# Create a nxp matrix of standard Gaussians\n",
    "X = randn(n, p);\n",
    "\n",
    "# Create a nx1 matrix of standard Gaussians\n",
    "Y = randn(n);\n",
    "\n",
    "fitted = lm(X,Y);\n",
    "\n",
    "println(\"p/n is\")\n",
    "println(p/n)\n",
    "\n",
    "println(\"R2 is\")\n",
    "println(r2(fitted))\n",
    "\n",
    "println(\"Adjusted R2 is\")\n",
    "println(adjr2(fitted))"
   ]
  },
  {
   "cell_type": "markdown",
   "id": "fb46a55a",
   "metadata": {},
   "source": [
    "Third, set p/n =.05"
   ]
  },
  {
   "cell_type": "code",
   "execution_count": 5,
   "id": "a3588d0f-2a7f-479f-93de-08007acfea24",
   "metadata": {},
   "outputs": [
    {
     "name": "stdout",
     "output_type": "stream",
     "text": [
      "p/n is\n",
      "0.05\n",
      "R2 is\n",
      "0.044186224291295706\n",
      "Adjusted R2 is\n",
      "-0.005113644139995488\n"
     ]
    }
   ],
   "source": [
    "n = 1000\n",
    "p = Int(0.05*n)\n",
    "\n",
    "X = randn(n, p)\n",
    "\n",
    "Y = randn(n)\n",
    "\n",
    "fitted = lm(X,Y)\n",
    "\n",
    "println(\"p/n is\")\n",
    "println(p/n)\n",
    "\n",
    "println(\"R2 is\")\n",
    "println(r2(fitted))\n",
    "\n",
    "println(\"Adjusted R2 is\")\n",
    "println(adjr2(fitted))"
   ]
  }
 ],
 "metadata": {
  "kernelspec": {
   "display_name": "Julia 1.7.3",
   "language": "julia",
   "name": "julia-1.7"
  },
  "language_info": {
   "file_extension": ".jl",
   "mimetype": "application/julia",
   "name": "julia",
   "version": "1.7.3"
  }
 },
 "nbformat": 4,
 "nbformat_minor": 5
}