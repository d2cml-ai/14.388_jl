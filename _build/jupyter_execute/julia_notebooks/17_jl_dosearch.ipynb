{
 "cells": [
  {
   "cell_type": "markdown",
   "id": "7b995f68-2a86-4f9e-a826-7bedb6ea0b84",
   "metadata": {},
   "source": [
    "# Dosearch for Causal Identification in DAGs\n",
    "\n",
    "In progress"
   ]
  }
 ],
 "metadata": {
  "kernelspec": {
   "display_name": "Julia 1.7.3",
   "language": "julia",
   "name": "julia-1.7"
  },
  "language_info": {
   "file_extension": ".jl",
   "mimetype": "application/julia",
   "name": "julia",
   "version": "1.7.3"
  }
 },
 "nbformat": 4,
 "nbformat_minor": 5
}