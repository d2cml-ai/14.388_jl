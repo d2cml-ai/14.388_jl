{
 "cells": [
  {
   "cell_type": "code",
   "execution_count": 1,
   "id": "b20c3498",
   "metadata": {},
   "outputs": [],
   "source": [
    "# !wget https://developer.nvidia.com/compute/cuda/9.0/Prod/local_installers/cuda-repo-ubuntu1604-9-0-local_9.0.176-1_amd64-deb\n",
    "# !dpkg -i cuda-repo-ubuntu1604-9-0-local_9.0.176-1_amd64-deb\n",
    "# !apt-key add /var/cuda-repo-9-0-local/7fa2af80.pub\n",
    "# !apt update -q\n",
    "# !apt install cuda gcc-6 g++-6 -y -q\n",
    "# !ln -s /usr/bin/gcc-6 /usr/local/cuda/bin/gcc\n",
    "# !ln -s /usr/bin/g++-6 /usr/local/cuda/bin/g++"
   ]
  },
  {
   "cell_type": "code",
   "execution_count": 2,
   "id": "a9a603dd",
   "metadata": {},
   "outputs": [],
   "source": [
    "# !curl -sSL \"https://julialang-s3.julialang.org/bin/linux/x64/1.7/julia-1.7.3-linux-x86_64.tar.gz\" -o julia.tar.gz\n",
    "# !tar -xzf julia.tar.gz -C /usr --strip-components 1\n",
    "# !rm -rf julia.tar.gz*\n",
    "# !julia -e 'using Pkg; pkg\"add IJulia; precompile\"'"
   ]
  },
  {
   "cell_type": "markdown",
   "id": "4d3e509c",
   "metadata": {},
   "source": [
    "# Analyzing RCT reemployment experiment"
   ]
  },
  {
   "cell_type": "markdown",
   "id": "3f97c4e8",
   "metadata": {},
   "source": [
    "## Jonathan Roth's DGP\n",
    "\n",
    "Here we set up a DGP with heterogenous effects. In this example, with is due to Jonathan Roth, we have\n",
    "\n",
    "$$\n",
    "E [Y(0) | Z] = - Z, \\quad E [Y(1) |Z] = Z, \\quad Z \\sim N(0,1).\n",
    "$$\n",
    "\n",
    "The CATE is\n",
    "\n",
    "$$\n",
    "E [Y(1) - Y(0) | Z ]= 2 Z.\n",
    "$$\n",
    "\n",
    "and the ATE is\n",
    "\n",
    "$$\n",
    "2 E Z = 0.\n",
    "$$\n",
    "\n",
    "We would like to estimate ATE as precisely as possible.\n",
    "\n",
    "An economic motivation for this example could be provided as follows: Let D be the treatment of going to college, and $Z$ academic skills.  Suppose that academic skills cause lower earnings Y(0) in jobs that don't require college degree, and cause higher earnings  Y(1) in jobs that require college degrees. This type of scenario is reflected in the DGP set-up above.\n",
    "\n"
   ]
  },
  {
   "cell_type": "code",
   "execution_count": 3,
   "id": "c54642ea",
   "metadata": {},
   "outputs": [],
   "source": [
    "# import Pkg; Pkg.add(\"Distributions\")\n",
    "# import Pkg; Pkg.add(\"Tables\")\n",
    "# import Pkg; Pkg.add(\"TableOperations\")\n",
    "# import Pkg; Pkg.add(\"StatsBase\")\n",
    "# import Pkg; Pkg.add(\"FreqTables\")\n",
    "# import Pkg; Pkg.add(\"Plots\")"
   ]
  },
  {
   "cell_type": "code",
   "execution_count": 4,
   "id": "a5ebc024",
   "metadata": {},
   "outputs": [],
   "source": [
    "# Import relevant packages for splitting data\n",
    "using LinearAlgebra, GLM, DataFrames, Statistics, Random, Distributions, Tables, TableOperations, StatsBase, FreqTables, DataFrames"
   ]
  },
  {
   "cell_type": "code",
   "execution_count": 5,
   "id": "4da71180",
   "metadata": {},
   "outputs": [
    {
     "data": {
      "text/plain": [
       "0.193"
      ]
     },
     "execution_count": 5,
     "metadata": {},
     "output_type": "execute_result"
    }
   ],
   "source": [
    "# Set Seed\n",
    "# to make the results replicable (generating random numbers)\n",
    "Random.seed!(12345676)     # set MC seed\n",
    "\n",
    "n = 1000                # sample size\n",
    "Z = randn(n, 1)         # generate Z\n",
    "Y0 = -Z + randn(n, 1)   # conditional average baseline response is -Z\n",
    "Y1 = Z + randn(n, 1)    # conditional average treatment effect is +Z\n",
    "D = Int.(rand(Uniform(), n, 1) .< 0.2)   # treatment indicator; only 23% get treated\n",
    "length(D[D .== 1])*100/length(D[D .== 0])  # treatment indicator; only 23% get treated\n",
    "mean(D)"
   ]
  },
  {
   "cell_type": "code",
   "execution_count": 6,
   "id": "8351701e",
   "metadata": {},
   "outputs": [
    {
     "data": {
      "text/plain": [
       "1000×1 Matrix{Float64}:\n",
       " -0.28363285703372\n",
       "  0.9445462163297016\n",
       "  1.4041340606063741\n",
       " -0.31938856407892297\n",
       "  0.025831391754146213\n",
       "  0.1959972014079981\n",
       "  0.8816207236671101\n",
       " -0.39714743413485315\n",
       "  1.8376685506844046\n",
       "  0.7433093590338038\n",
       "  ⋮\n",
       "  1.0523210386262114\n",
       "  2.0794634308388917\n",
       " -0.5830287094568443\n",
       "  1.2658914618251444\n",
       " -0.6210227063793656\n",
       "  0.5346326339491493\n",
       " -1.0336059839504161\n",
       "  1.3334449811321292\n",
       " -2.4689922728893436\n",
       " -1.1552826022174127"
      ]
     },
     "execution_count": 6,
     "metadata": {},
     "output_type": "execute_result"
    }
   ],
   "source": [
    "Y = (Y1.*D) + (Y0.*(ones(n,1)-D))    # observed Y\n",
    "D = D - fill(mean(D),n,1)            # demean D\n",
    "Z = Z - fill(mean(Z),n,1)            # demean Z"
   ]
  },
  {
   "cell_type": "markdown",
   "id": "95acfb6f",
   "metadata": {},
   "source": [
    "## Analyze the RCT data with Precision Adjustment\n",
    "\n",
    "Consider \n",
    "\n",
    "*  classical 2-sample approach, no adjustment (CL)\n",
    "*  classical linear regression adjustment (CRA)\n",
    "*  interactive regression adjusment (IRA)\n",
    "\n",
    "Carry out inference using robust inference, using the sandwich formulas (Eicker-Huber-White).  \n",
    "\n",
    "Observe that CRA delivers estimates that are less efficient than CL (pointed out by Freedman), whereas IRA delivers more efficient approach (pointed out by Lin). In order for CRA to be more efficient than CL, we need the CRA to be a correct model of the conditional expectation function of Y given D and X, which is not the case here."
   ]
  },
  {
   "cell_type": "code",
   "execution_count": 7,
   "id": "06ce7e16",
   "metadata": {},
   "outputs": [
    {
     "data": {
      "text/html": [
       "<table class=\"data-frame\"><thead><tr><th></th><th>Z</th><th>D</th><th>Z_times_D</th></tr><tr><th></th><th>Float64</th><th>Float64</th><th>Float64</th></tr></thead><tbody><p>1,000 rows × 3 columns</p><tr><th>1</th><td>-0.193</td><td>-0.283633</td><td>0.0547411</td></tr><tr><th>2</th><td>-0.193</td><td>0.944546</td><td>-0.182297</td></tr><tr><th>3</th><td>-0.193</td><td>1.40413</td><td>-0.270998</td></tr><tr><th>4</th><td>-0.193</td><td>-0.319389</td><td>0.061642</td></tr><tr><th>5</th><td>0.807</td><td>0.0258314</td><td>0.0208459</td></tr><tr><th>6</th><td>0.807</td><td>0.195997</td><td>0.15817</td></tr><tr><th>7</th><td>-0.193</td><td>0.881621</td><td>-0.170153</td></tr><tr><th>8</th><td>-0.193</td><td>-0.397147</td><td>0.0766495</td></tr><tr><th>9</th><td>-0.193</td><td>1.83767</td><td>-0.35467</td></tr><tr><th>10</th><td>0.807</td><td>0.743309</td><td>0.599851</td></tr><tr><th>11</th><td>-0.193</td><td>0.1446</td><td>-0.0279077</td></tr><tr><th>12</th><td>-0.193</td><td>-1.4793</td><td>0.285506</td></tr><tr><th>13</th><td>-0.193</td><td>0.500078</td><td>-0.096515</td></tr><tr><th>14</th><td>-0.193</td><td>-0.89187</td><td>0.172131</td></tr><tr><th>15</th><td>-0.193</td><td>-0.791121</td><td>0.152686</td></tr><tr><th>16</th><td>-0.193</td><td>-0.642243</td><td>0.123953</td></tr><tr><th>17</th><td>-0.193</td><td>0.046039</td><td>-0.00888552</td></tr><tr><th>18</th><td>-0.193</td><td>-0.707724</td><td>0.136591</td></tr><tr><th>19</th><td>0.807</td><td>-0.612646</td><td>-0.494405</td></tr><tr><th>20</th><td>0.807</td><td>2.08873</td><td>1.6856</td></tr><tr><th>21</th><td>-0.193</td><td>0.74218</td><td>-0.143241</td></tr><tr><th>22</th><td>-0.193</td><td>-0.572258</td><td>0.110446</td></tr><tr><th>23</th><td>-0.193</td><td>0.448602</td><td>-0.0865802</td></tr><tr><th>24</th><td>-0.193</td><td>-0.155892</td><td>0.0300871</td></tr><tr><th>25</th><td>-0.193</td><td>0.0580305</td><td>-0.0111999</td></tr><tr><th>&vellip;</th><td>&vellip;</td><td>&vellip;</td><td>&vellip;</td></tr></tbody></table>"
      ],
      "text/latex": [
       "\\begin{tabular}{r|ccc}\n",
       "\t& Z & D & Z\\_times\\_D\\\\\n",
       "\t\\hline\n",
       "\t& Float64 & Float64 & Float64\\\\\n",
       "\t\\hline\n",
       "\t1 & -0.193 & -0.283633 & 0.0547411 \\\\\n",
       "\t2 & -0.193 & 0.944546 & -0.182297 \\\\\n",
       "\t3 & -0.193 & 1.40413 & -0.270998 \\\\\n",
       "\t4 & -0.193 & -0.319389 & 0.061642 \\\\\n",
       "\t5 & 0.807 & 0.0258314 & 0.0208459 \\\\\n",
       "\t6 & 0.807 & 0.195997 & 0.15817 \\\\\n",
       "\t7 & -0.193 & 0.881621 & -0.170153 \\\\\n",
       "\t8 & -0.193 & -0.397147 & 0.0766495 \\\\\n",
       "\t9 & -0.193 & 1.83767 & -0.35467 \\\\\n",
       "\t10 & 0.807 & 0.743309 & 0.599851 \\\\\n",
       "\t11 & -0.193 & 0.1446 & -0.0279077 \\\\\n",
       "\t12 & -0.193 & -1.4793 & 0.285506 \\\\\n",
       "\t13 & -0.193 & 0.500078 & -0.096515 \\\\\n",
       "\t14 & -0.193 & -0.89187 & 0.172131 \\\\\n",
       "\t15 & -0.193 & -0.791121 & 0.152686 \\\\\n",
       "\t16 & -0.193 & -0.642243 & 0.123953 \\\\\n",
       "\t17 & -0.193 & 0.046039 & -0.00888552 \\\\\n",
       "\t18 & -0.193 & -0.707724 & 0.136591 \\\\\n",
       "\t19 & 0.807 & -0.612646 & -0.494405 \\\\\n",
       "\t20 & 0.807 & 2.08873 & 1.6856 \\\\\n",
       "\t21 & -0.193 & 0.74218 & -0.143241 \\\\\n",
       "\t22 & -0.193 & -0.572258 & 0.110446 \\\\\n",
       "\t23 & -0.193 & 0.448602 & -0.0865802 \\\\\n",
       "\t24 & -0.193 & -0.155892 & 0.0300871 \\\\\n",
       "\t25 & -0.193 & 0.0580305 & -0.0111999 \\\\\n",
       "\t$\\dots$ & $\\dots$ & $\\dots$ & $\\dots$ \\\\\n",
       "\\end{tabular}\n"
      ],
      "text/plain": [
       "\u001b[1m1000×3 DataFrame\u001b[0m\n",
       "\u001b[1m  Row \u001b[0m│\u001b[1m Z       \u001b[0m\u001b[1m D          \u001b[0m\u001b[1m Z_times_D  \u001b[0m\n",
       "\u001b[1m      \u001b[0m│\u001b[90m Float64 \u001b[0m\u001b[90m Float64    \u001b[0m\u001b[90m Float64    \u001b[0m\n",
       "──────┼─────────────────────────────────\n",
       "    1 │  -0.193  -0.283633    0.0547411\n",
       "    2 │  -0.193   0.944546   -0.182297\n",
       "    3 │  -0.193   1.40413    -0.270998\n",
       "    4 │  -0.193  -0.319389    0.061642\n",
       "    5 │   0.807   0.0258314   0.0208459\n",
       "    6 │   0.807   0.195997    0.15817\n",
       "    7 │  -0.193   0.881621   -0.170153\n",
       "    8 │  -0.193  -0.397147    0.0766495\n",
       "  ⋮   │    ⋮         ⋮           ⋮\n",
       "  993 │  -0.193  -0.583029    0.112525\n",
       "  994 │  -0.193   1.26589    -0.244317\n",
       "  995 │  -0.193  -0.621023    0.119857\n",
       "  996 │  -0.193   0.534633   -0.103184\n",
       "  997 │   0.807  -1.03361    -0.83412\n",
       "  998 │  -0.193   1.33344    -0.257355\n",
       "  999 │  -0.193  -2.46899     0.476516\n",
       " 1000 │   0.807  -1.15528    -0.932313\n",
       "\u001b[36m                        984 rows omitted\u001b[0m"
      ]
     },
     "execution_count": 7,
     "metadata": {},
     "output_type": "execute_result"
    }
   ],
   "source": [
    "Z_times_D = Z.*D\n",
    "X = hcat(D, Z, Z_times_D)\n",
    "data = DataFrame(X, [:Z, :D, :Z_times_D])"
   ]
  },
  {
   "cell_type": "code",
   "execution_count": 8,
   "id": "a157eb85",
   "metadata": {},
   "outputs": [],
   "source": [
    "# Import packages for OLS regression\n",
    "using GLM, Plots"
   ]
  },
  {
   "cell_type": "code",
   "execution_count": 9,
   "id": "90cb462b",
   "metadata": {},
   "outputs": [
    {
     "data": {
      "text/html": [
       "<table class=\"data-frame\"><thead><tr><th></th><th>Y</th><th>D</th><th>Z</th><th>Z_times_D</th></tr><tr><th></th><th>Float64</th><th>Float64</th><th>Float64</th><th>Float64</th></tr></thead><tbody><p>1,000 rows × 4 columns</p><tr><th>1</th><td>1.11282</td><td>-0.193</td><td>-0.283633</td><td>0.0547411</td></tr><tr><th>2</th><td>-0.175068</td><td>-0.193</td><td>0.944546</td><td>-0.182297</td></tr><tr><th>3</th><td>-1.80793</td><td>-0.193</td><td>1.40413</td><td>-0.270998</td></tr><tr><th>4</th><td>1.19269</td><td>-0.193</td><td>-0.319389</td><td>0.061642</td></tr><tr><th>5</th><td>0.311297</td><td>0.807</td><td>0.0258314</td><td>0.0208459</td></tr><tr><th>6</th><td>0.560205</td><td>0.807</td><td>0.195997</td><td>0.15817</td></tr><tr><th>7</th><td>-2.48048</td><td>-0.193</td><td>0.881621</td><td>-0.170153</td></tr><tr><th>8</th><td>0.947113</td><td>-0.193</td><td>-0.397147</td><td>0.0766495</td></tr><tr><th>9</th><td>-1.03423</td><td>-0.193</td><td>1.83767</td><td>-0.35467</td></tr><tr><th>10</th><td>0.666118</td><td>0.807</td><td>0.743309</td><td>0.599851</td></tr><tr><th>11</th><td>1.29439</td><td>-0.193</td><td>0.1446</td><td>-0.0279077</td></tr><tr><th>12</th><td>0.976366</td><td>-0.193</td><td>-1.4793</td><td>0.285506</td></tr><tr><th>13</th><td>-0.491501</td><td>-0.193</td><td>0.500078</td><td>-0.096515</td></tr><tr><th>14</th><td>-1.10297</td><td>-0.193</td><td>-0.89187</td><td>0.172131</td></tr><tr><th>15</th><td>-0.764862</td><td>-0.193</td><td>-0.791121</td><td>0.152686</td></tr><tr><th>16</th><td>0.27324</td><td>-0.193</td><td>-0.642243</td><td>0.123953</td></tr><tr><th>17</th><td>0.587179</td><td>-0.193</td><td>0.046039</td><td>-0.00888552</td></tr><tr><th>18</th><td>1.37738</td><td>-0.193</td><td>-0.707724</td><td>0.136591</td></tr><tr><th>19</th><td>-1.47769</td><td>0.807</td><td>-0.612646</td><td>-0.494405</td></tr><tr><th>20</th><td>1.11557</td><td>0.807</td><td>2.08873</td><td>1.6856</td></tr><tr><th>21</th><td>-1.98951</td><td>-0.193</td><td>0.74218</td><td>-0.143241</td></tr><tr><th>22</th><td>-1.28537</td><td>-0.193</td><td>-0.572258</td><td>0.110446</td></tr><tr><th>23</th><td>-0.896034</td><td>-0.193</td><td>0.448602</td><td>-0.0865802</td></tr><tr><th>24</th><td>-0.171022</td><td>-0.193</td><td>-0.155892</td><td>0.0300871</td></tr><tr><th>25</th><td>0.842919</td><td>-0.193</td><td>0.0580305</td><td>-0.0111999</td></tr><tr><th>&vellip;</th><td>&vellip;</td><td>&vellip;</td><td>&vellip;</td><td>&vellip;</td></tr></tbody></table>"
      ],
      "text/latex": [
       "\\begin{tabular}{r|cccc}\n",
       "\t& Y & D & Z & Z\\_times\\_D\\\\\n",
       "\t\\hline\n",
       "\t& Float64 & Float64 & Float64 & Float64\\\\\n",
       "\t\\hline\n",
       "\t1 & 1.11282 & -0.193 & -0.283633 & 0.0547411 \\\\\n",
       "\t2 & -0.175068 & -0.193 & 0.944546 & -0.182297 \\\\\n",
       "\t3 & -1.80793 & -0.193 & 1.40413 & -0.270998 \\\\\n",
       "\t4 & 1.19269 & -0.193 & -0.319389 & 0.061642 \\\\\n",
       "\t5 & 0.311297 & 0.807 & 0.0258314 & 0.0208459 \\\\\n",
       "\t6 & 0.560205 & 0.807 & 0.195997 & 0.15817 \\\\\n",
       "\t7 & -2.48048 & -0.193 & 0.881621 & -0.170153 \\\\\n",
       "\t8 & 0.947113 & -0.193 & -0.397147 & 0.0766495 \\\\\n",
       "\t9 & -1.03423 & -0.193 & 1.83767 & -0.35467 \\\\\n",
       "\t10 & 0.666118 & 0.807 & 0.743309 & 0.599851 \\\\\n",
       "\t11 & 1.29439 & -0.193 & 0.1446 & -0.0279077 \\\\\n",
       "\t12 & 0.976366 & -0.193 & -1.4793 & 0.285506 \\\\\n",
       "\t13 & -0.491501 & -0.193 & 0.500078 & -0.096515 \\\\\n",
       "\t14 & -1.10297 & -0.193 & -0.89187 & 0.172131 \\\\\n",
       "\t15 & -0.764862 & -0.193 & -0.791121 & 0.152686 \\\\\n",
       "\t16 & 0.27324 & -0.193 & -0.642243 & 0.123953 \\\\\n",
       "\t17 & 0.587179 & -0.193 & 0.046039 & -0.00888552 \\\\\n",
       "\t18 & 1.37738 & -0.193 & -0.707724 & 0.136591 \\\\\n",
       "\t19 & -1.47769 & 0.807 & -0.612646 & -0.494405 \\\\\n",
       "\t20 & 1.11557 & 0.807 & 2.08873 & 1.6856 \\\\\n",
       "\t21 & -1.98951 & -0.193 & 0.74218 & -0.143241 \\\\\n",
       "\t22 & -1.28537 & -0.193 & -0.572258 & 0.110446 \\\\\n",
       "\t23 & -0.896034 & -0.193 & 0.448602 & -0.0865802 \\\\\n",
       "\t24 & -0.171022 & -0.193 & -0.155892 & 0.0300871 \\\\\n",
       "\t25 & 0.842919 & -0.193 & 0.0580305 & -0.0111999 \\\\\n",
       "\t$\\dots$ & $\\dots$ & $\\dots$ & $\\dots$ & $\\dots$ \\\\\n",
       "\\end{tabular}\n"
      ],
      "text/plain": [
       "\u001b[1m1000×4 DataFrame\u001b[0m\n",
       "\u001b[1m  Row \u001b[0m│\u001b[1m Y         \u001b[0m\u001b[1m D       \u001b[0m\u001b[1m Z          \u001b[0m\u001b[1m Z_times_D  \u001b[0m\n",
       "\u001b[1m      \u001b[0m│\u001b[90m Float64   \u001b[0m\u001b[90m Float64 \u001b[0m\u001b[90m Float64    \u001b[0m\u001b[90m Float64    \u001b[0m\n",
       "──────┼────────────────────────────────────────────\n",
       "    1 │  1.11282    -0.193  -0.283633    0.0547411\n",
       "    2 │ -0.175068   -0.193   0.944546   -0.182297\n",
       "    3 │ -1.80793    -0.193   1.40413    -0.270998\n",
       "    4 │  1.19269    -0.193  -0.319389    0.061642\n",
       "    5 │  0.311297    0.807   0.0258314   0.0208459\n",
       "    6 │  0.560205    0.807   0.195997    0.15817\n",
       "    7 │ -2.48048    -0.193   0.881621   -0.170153\n",
       "    8 │  0.947113   -0.193  -0.397147    0.0766495\n",
       "  ⋮   │     ⋮         ⋮         ⋮           ⋮\n",
       "  993 │  1.83732    -0.193  -0.583029    0.112525\n",
       "  994 │ -1.50789    -0.193   1.26589    -0.244317\n",
       "  995 │  1.50109    -0.193  -0.621023    0.119857\n",
       "  996 │ -1.69586    -0.193   0.534633   -0.103184\n",
       "  997 │ -2.24723     0.807  -1.03361    -0.83412\n",
       "  998 │ -3.86713    -0.193   1.33344    -0.257355\n",
       "  999 │  3.66228    -0.193  -2.46899     0.476516\n",
       " 1000 │ -0.173844    0.807  -1.15528    -0.932313\n",
       "\u001b[36m                                   984 rows omitted\u001b[0m"
      ]
     },
     "execution_count": 9,
     "metadata": {},
     "output_type": "execute_result"
    }
   ],
   "source": [
    "data_aux = [Y D Z Z_times_D]\n",
    "data_aux = DataFrame(data_aux, [:Y, :D, :Z, :Z_times_D])"
   ]
  },
  {
   "cell_type": "code",
   "execution_count": 10,
   "id": "f68997d0",
   "metadata": {},
   "outputs": [
    {
     "data": {
      "text/plain": [
       "FormulaTerm\n",
       "Response:\n",
       "  Y(unknown)\n",
       "Predictors:\n",
       "  D(unknown)\n",
       "  Z(unknown)\n",
       "  Z_times_D(unknown)"
      ]
     },
     "execution_count": 10,
     "metadata": {},
     "output_type": "execute_result"
    }
   ],
   "source": [
    "fm_1 = @formula(Y ~ D)\n",
    "fm_2 = @formula(Y ~ D + Z)\n",
    "fm_3 = @formula(Y ~ D + Z + Z_times_D)"
   ]
  },
  {
   "cell_type": "code",
   "execution_count": 11,
   "id": "70f6adda",
   "metadata": {},
   "outputs": [
    {
     "name": "stdout",
     "output_type": "stream",
     "text": [
      "CL = 1.3933058979667916\n",
      "CRA = 1.282349167401232\n",
      "IRA = 1.0120998697288264"
     ]
    },
    {
     "name": "stdout",
     "output_type": "stream",
     "text": [
      "\n",
      "(coeftable(CL_model)).cols[4] = [0.0998031131940856, 0.5557096926021292]"
     ]
    },
    {
     "name": "stdout",
     "output_type": "stream",
     "text": [
      "\n",
      "(coeftable(CRA_model)).cols[4] = [0.07392148519479515, 0.8080925829531757, 7.512800066286311e-38]\n",
      "(coeftable(IRA_model)).cols[4] = [0.11724102121374018, 0.177266312390378, 7.279259820512709e-65, 1.745728665485829e-104]\n"
     ]
    },
    {
     "data": {
      "text/plain": [
       "4-element Vector{Float64}:\n",
       " 0.11724102121374018\n",
       " 0.177266312390378\n",
       " 7.279259820512709e-65\n",
       " 1.745728665485829e-104"
      ]
     },
     "execution_count": 11,
     "metadata": {},
     "output_type": "execute_result"
    }
   ],
   "source": [
    "CL_model = lm(fm_1, data_aux)\n",
    "CRA_model = lm(fm_2, data_aux)  #classical\n",
    "IRA_model = lm(fm_3, data_aux)  #interactive approach\n",
    "# Standard deviations for estimators\n",
    "CL = sqrt(sum((Y - predict(CL_model)).*(Y - predict(CL_model)))./length(Y))\n",
    "CRA = sqrt(sum((Y - predict(CRA_model)).*(Y - predict(CRA_model)))./length(Y))\n",
    "IRA = sqrt(sum((Y - predict(IRA_model)).*(Y - predict(IRA_model)))./length(Y))\n",
    "@show CL\n",
    "@show CRA\n",
    "@show IRA\n",
    "\n",
    "# Check t values of regressors \n",
    "@show coeftable(CL_model).cols[4]\n",
    "@show coeftable(CRA_model).cols[4]\n",
    "@show coeftable(IRA_model).cols[4]"
   ]
  },
  {
   "cell_type": "code",
   "execution_count": 12,
   "id": "f4bc071d",
   "metadata": {},
   "outputs": [
    {
     "data": {
      "text/plain": [
       "F-test: 3 models fitted on 1000 observations\n",
       "──────────────────────────────────────────────────────────────────────\n",
       "     DOF  ΔDOF        SSR       ΔSSR      R²     ΔR²        F*   p(>F)\n",
       "──────────────────────────────────────────────────────────────────────\n",
       "[1]    3        1941.3013             0.0003                          \n",
       "[2]    4     1  1644.4194  -296.8819  0.1532  0.1529  179.9974  <1e-37\n",
       "[3]    5     1  1024.3461  -620.0732  0.4725  0.3193  602.9143  <1e-99\n",
       "──────────────────────────────────────────────────────────────────────"
      ]
     },
     "execution_count": 12,
     "metadata": {},
     "output_type": "execute_result"
    }
   ],
   "source": [
    "# Comparing models\n",
    "ftest(CL_model.model, CRA_model.model, IRA_model.model)"
   ]
  },
  {
   "cell_type": "markdown",
   "id": "060d3219-0990-4e5b-b4e2-d4d3517f27a8",
   "metadata": {},
   "source": [
    "## Using classical standard errors (non-robust) is misleading here.\n",
    "\n",
    "We don't teach non-robust standard errors in econometrics courses, but the default statistical inference for lm() procedure in R, summary.lm(), still uses 100-year old concepts, perhaps in part due to historical legacy.  \n",
    "\n",
    "Here the non-robust standard errors suggest that there is not much difference between the different approaches, contrary to the conclusions reached using the robust standard errors."
   ]
  },
  {
   "cell_type": "code",
   "execution_count": 13,
   "id": "4925c968-a302-4ec8-8e39-209948e6ea78",
   "metadata": {},
   "outputs": [
    {
     "name": "stdout",
     "output_type": "stream",
     "text": [
      "CL_model = StatsModels.TableRegressionModel{LinearModel{GLM.LmResp{Vector{Float64}}, GLM.DensePredChol{Float64, CholeskyPivoted{Float64, Matrix{Float64}}}}, Matrix{Float64}}\n",
      "\n",
      "Y ~ 1 + D\n",
      "\n",
      "Coefficients:\n",
      "──────────────────────────────────────────────────────────────────────────\n",
      "                  Coef.  Std. Error      t  Pr(>|t|)  Lower 95%  Upper 95%\n",
      "──────────────────────────────────────────────────────────────────────────\n",
      "(Intercept)  -0.0726548   0.0441043  -1.65    0.0998  -0.159203  0.0138931\n",
      "D             0.065871    0.111755    0.59    0.5557  -0.15343   0.285172\n",
      "──────────────────────────────────────────────────────────────────────────\n",
      "CRA_model = StatsModels.TableRegressionModel{LinearModel{GLM.LmResp{Vector{Float64}}, GLM.DensePredChol{Float64, CholeskyPivoted{Float64, Matrix{Float64}}}}, Matrix{Float64}}\n",
      "\n",
      "Y ~ 1 + D + Z\n",
      "\n",
      "Coefficients:\n",
      "─────────────────────────────────────────────────────────────────────────────\n",
      "                  Coef.  Std. Error       t  Pr(>|t|)  Lower 95%    Upper 95%\n",
      "─────────────────────────────────────────────────────────────────────────────\n",
      "(Intercept)  -0.0726548   0.0406124   -1.79    0.0739  -0.15235    0.00704081\n",
      "D             0.0250123   0.102952     0.24    0.8081  -0.177015   0.227039\n",
      "Z            -0.550103    0.0410026  -13.42    <1e-37  -0.630565  -0.469642\n",
      "─────────────────────────────────────────────────────────────────────────────\n"
     ]
    },
    {
     "name": "stdout",
     "output_type": "stream",
     "text": [
      "IRA_model = StatsModels.TableRegressionModel{LinearModel{GLM.LmResp{Vector{Float64}}, GLM.DensePredChol{Float64, CholeskyPivoted{Float64, Matrix{Float64}}}}, Matrix{Float64}}\n",
      "\n",
      "Y ~ 1 + D + Z + Z_times_D\n",
      "\n",
      "Coefficients:\n",
      "────────────────────────────────────────────────────────────────────────────\n",
      "                  Coef.  Std. Error       t  Pr(>|t|)  Lower 95%   Upper 95%\n",
      "────────────────────────────────────────────────────────────────────────────\n",
      "(Intercept)  -0.0502996   0.0320825   -1.57    0.1172  -0.113257   0.0126575\n",
      "D             0.109863    0.0813693    1.35    0.1773  -0.049812   0.269538\n",
      "Z            -0.594236    0.0324276  -18.33    <1e-64  -0.65787   -0.530602\n",
      "Z_times_D     1.93245     0.0787009   24.55    <1e-99   1.77801    2.08689\n",
      "────────────────────────────────────────────────────────────────────────────\n"
     ]
    },
    {
     "data": {
      "text/plain": [
       "StatsModels.TableRegressionModel{LinearModel{GLM.LmResp{Vector{Float64}}, GLM.DensePredChol{Float64, CholeskyPivoted{Float64, Matrix{Float64}}}}, Matrix{Float64}}\n",
       "\n",
       "Y ~ 1 + D + Z + Z_times_D\n",
       "\n",
       "Coefficients:\n",
       "────────────────────────────────────────────────────────────────────────────\n",
       "                  Coef.  Std. Error       t  Pr(>|t|)  Lower 95%   Upper 95%\n",
       "────────────────────────────────────────────────────────────────────────────\n",
       "(Intercept)  -0.0502996   0.0320825   -1.57    0.1172  -0.113257   0.0126575\n",
       "D             0.109863    0.0813693    1.35    0.1773  -0.049812   0.269538\n",
       "Z            -0.594236    0.0324276  -18.33    <1e-64  -0.65787   -0.530602\n",
       "Z_times_D     1.93245     0.0787009   24.55    <1e-99   1.77801    2.08689\n",
       "────────────────────────────────────────────────────────────────────────────"
      ]
     },
     "execution_count": 13,
     "metadata": {},
     "output_type": "execute_result"
    }
   ],
   "source": [
    "@show CL_model\n",
    "@show CRA_model\n",
    "@show IRA_model"
   ]
  },
  {
   "cell_type": "markdown",
   "id": "d2601920",
   "metadata": {},
   "source": [
    "## Verify Asymptotic Approximations Hold in Finite-Sample Simulation Experiment"
   ]
  },
  {
   "cell_type": "code",
   "execution_count": 14,
   "id": "170849bb",
   "metadata": {},
   "outputs": [
    {
     "name": "stdout",
     "output_type": "stream",
     "text": [
      "Standard deviations for estimators\n",
      "CL model: "
     ]
    },
    {
     "name": "stdout",
     "output_type": "stream",
     "text": [
      "1.3691676947738234\n",
      "CRA model: 1.3682762995772266\n",
      "IRA model: 1.3553039955737827\n"
     ]
    }
   ],
   "source": [
    "Random.seed!(12345676)     # set MC seed\n",
    "n = 1000\n",
    "B = 1000\n",
    "\n",
    "# format of data = float32\n",
    "CLs = fill(0., B)\n",
    "CRAs = fill(0., B)\n",
    "IRAs = fill(0., B)\n",
    "\n",
    "\n",
    "# formulas for regressions\n",
    "fm_1 = @formula(Y ~ D)\n",
    "fm_2 = @formula(Y ~ D + Z)\n",
    "fm_3 = @formula(Y ~ D + Z + Z_times_D)\n",
    "\n",
    "# models\n",
    "CL_model = lm(fm_1, data_aux)\n",
    "CRA_model = lm(fm_2, data_aux)  #classical\n",
    "IRA_model = lm(fm_3, data_aux)  #interactive approach\n",
    "\n",
    "\n",
    "# simulation\n",
    "for i in 1:B\n",
    "    Z = randn(n, 1)         # generate Z\n",
    "    Y0 = -Z + randn(n, 1)   # conditional average baseline response is -Z\n",
    "    Y1 = Z + randn(n, 1)    # conditional average treatment effect is +Z\n",
    "    D = Int.(rand(Uniform(), n, 1) .< 0.2)   # treatment indicator; only 23% get treated\n",
    "\n",
    "    Y = (Y1.*D) + (Y0.*(ones(n,1)-D))    # observed Y\n",
    "\n",
    "    D = D - fill(mean(D),n,1)            # demean D\n",
    "    Z = Z - fill(mean(Z),n,1)            # demean Z\n",
    "\n",
    "    Z_times_D = Z.*D\n",
    "    X = hcat(D, Z, Z_times_D)\n",
    "    data_aux = [Y D Z Z_times_D]\n",
    "    data_aux = DataFrame(data_aux, [:Y, :D, :Z, :Z_times_D])\n",
    "    \n",
    "    CLs[i,] = predict(CL_model)[i]\n",
    "    CRAs[i,] = predict(CRA_model)[i]\n",
    "    IRAs[i,] = predict(IRA_model)[i]\n",
    "\n",
    "end\n",
    "\n",
    "\n",
    "# check  standard deviations\n",
    "println(\"Standard deviations for estimators\")  \n",
    "println(\"CL model: \" , sqrt(sum((Y - predict(CL_model)).*(Y - predict(CL_model)))./length(Y)))\n",
    "println(\"CRA model: \" , sqrt(sum((Y - predict(CL_model)).*(Y - predict(CRA_model)))./length(Y)))\n",
    "println(\"IRA model: \" , sqrt(sum((Y - predict(CL_model)).*(Y - predict(IRA_model)))./length(Y)))"
   ]
  }
 ],
 "metadata": {
  "accelerator": "GPU",
  "colab": {
   "name": "Julia on Colab.ipynb",
   "provenance": [],
   "version": "0.3.2"
  },
  "kernelspec": {
   "display_name": "Julia 1.7.3",
   "language": "julia",
   "name": "julia-1.7"
  },
  "language_info": {
   "file_extension": ".jl",
   "mimetype": "application/julia",
   "name": "julia",
   "version": "1.7.3"
  },
  "vscode": {
   "interpreter": {
    "hash": "8ce2734c038a07ed4ab03534d6fa956bcc5f5917cd0892f7ff6de5f3ca8c6662"
   }
  }
 },
 "nbformat": 4,
 "nbformat_minor": 0
}