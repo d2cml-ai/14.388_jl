{
 "cells": [
  {
   "cell_type": "markdown",
   "id": "b87ec894-03b9-43bc-a287-c93a9c21cad9",
   "metadata": {},
   "source": [
    "# Identification Analysis of 401(k) Example w DAGs\n",
    "\n",
    "In progress"
   ]
  }
 ],
 "metadata": {
  "kernelspec": {
   "display_name": "Julia 1.7.3",
   "language": "julia",
   "name": "julia-1.7"
  },
  "language_info": {
   "file_extension": ".jl",
   "mimetype": "application/julia",
   "name": "julia",
   "version": "1.7.3"
  }
 },
 "nbformat": 4,
 "nbformat_minor": 5
}