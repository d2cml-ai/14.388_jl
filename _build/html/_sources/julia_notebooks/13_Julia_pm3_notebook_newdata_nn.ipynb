{
 "cells": [
  {
   "cell_type": "code",
   "execution_count": null,
   "metadata": {},
   "outputs": [],
   "source": [
    "# !wget https://developer.nvidia.com/compute/cuda/9.0/Prod/local_installers/cuda-repo-ubuntu1604-9-0-local_9.0.176-1_amd64-deb\n",
    "# !dpkg -i cuda-repo-ubuntu1604-9-0-local_9.0.176-1_amd64-deb\n",
    "# !apt-key add /var/cuda-repo-9-0-local/7fa2af80.pub\n",
    "# !apt update -q\n",
    "# !apt install cuda gcc-6 g++-6 -y -q\n",
    "# !ln -s /usr/bin/gcc-6 /usr/local/cuda/bin/gcc\n",
    "# !ln -s /usr/bin/g++-6 /usr/local/cuda/bin/g++"
   ]
  },
  {
   "cell_type": "code",
   "execution_count": null,
   "metadata": {},
   "outputs": [],
   "source": [
    "# !curl -sSL \"https://julialang-s3.julialang.org/bin/linux/x64/1.7/julia-1.7.3-linux-x86_64.tar.gz\" -o julia.tar.gz\n",
    "# !tar -xzf julia.tar.gz -C /usr --strip-components 1\n",
    "# !rm -rf julia.tar.gz*\n",
    "# !julia -e 'using Pkg; pkg\"add IJulia; precompile\"'"
   ]
  },
  {
   "cell_type": "markdown",
   "metadata": {
    "papermill": {
     "duration": 0.010003,
     "end_time": "2021-03-28T13:27:45.376868",
     "exception": false,
     "start_time": "2021-03-28T13:27:45.366865",
     "status": "completed"
    },
    "tags": []
   },
   "source": [
    "\n",
    "\n",
    "This notebook contains an example for teaching.\n"
   ]
  },
  {
   "cell_type": "markdown",
   "metadata": {
    "_execution_state": "idle",
    "_uuid": "051d70d956493feee0c6d64651c6a088724dca2a",
    "papermill": {
     "duration": 0.008782,
     "end_time": "2021-03-28T13:27:45.395504",
     "exception": false,
     "start_time": "2021-03-28T13:27:45.386722",
     "status": "completed"
    },
    "tags": []
   },
   "source": [
    "# Deep Neural Networks for Wage Prediction"
   ]
  },
  {
   "cell_type": "markdown",
   "metadata": {
    "papermill": {
     "duration": 0.008735,
     "end_time": "2021-03-28T13:27:45.413302",
     "exception": false,
     "start_time": "2021-03-28T13:27:45.404567",
     "status": "completed"
    },
    "tags": []
   },
   "source": [
    "So far we considered many machine learning method, e.g Lasso and Random Forests, to build a predictive model. In this lab, we extend our toolbox by predicting wages by a neural network."
   ]
  },
  {
   "cell_type": "markdown",
   "metadata": {
    "papermill": {
     "duration": 0.009256,
     "end_time": "2021-03-28T13:27:45.431663",
     "exception": false,
     "start_time": "2021-03-28T13:27:45.422407",
     "status": "completed"
    },
    "tags": []
   },
   "source": [
    "## Data preparation"
   ]
  },
  {
   "cell_type": "markdown",
   "metadata": {
    "papermill": {
     "duration": 0.0088,
     "end_time": "2021-03-28T13:27:45.449606",
     "exception": false,
     "start_time": "2021-03-28T13:27:45.440806",
     "status": "completed"
    },
    "tags": []
   },
   "source": [
    "Again, we consider data from the U.S. March Supplement of the Current Population Survey (CPS) in 2015."
   ]
  },
  {
   "cell_type": "code",
   "execution_count": 1,
   "metadata": {},
   "outputs": [],
   "source": [
    "# import Pkg; Pkg.add(\"Flux\")"
   ]
  },
  {
   "cell_type": "code",
   "execution_count": 2,
   "metadata": {},
   "outputs": [],
   "source": [
    "using RData, LinearAlgebra, GLM, DataFrames, Statistics, Random, Distributions, DataStructures, NamedArrays, PrettyTables, Plots\n",
    "import CodecBzip2"
   ]
  },
  {
   "cell_type": "code",
   "execution_count": 3,
   "metadata": {},
   "outputs": [
    {
     "data": {
      "text/plain": [
       "20-element Vector{String}:\n",
       " \"wage\"\n",
       " \"lwage\"\n",
       " \"sex\"\n",
       " \"shs\"\n",
       " \"hsg\"\n",
       " \"scl\"\n",
       " \"clg\"\n",
       " \"ad\"\n",
       " \"mw\"\n",
       " \"so\"\n",
       " \"we\"\n",
       " \"ne\"\n",
       " \"exp1\"\n",
       " \"exp2\"\n",
       " \"exp3\"\n",
       " \"exp4\"\n",
       " \"occ\"\n",
       " \"occ2\"\n",
       " \"ind\"\n",
       " \"ind2\""
      ]
     },
     "execution_count": 3,
     "metadata": {},
     "output_type": "execute_result"
    }
   ],
   "source": [
    "# Importing .Rdata file\n",
    "url = \"https://github.com/d2cml-ai/14.388_jl/raw/github_data/data/wage2015_subsample_inference.RData\"\n",
    "download(url, \"data.RData\")\n",
    "rdata_read = load(\"data.RData\")\n",
    "rm(\"data.RData\")\n",
    "data = rdata_read[\"data\"]\n",
    "names(data)"
   ]
  },
  {
   "cell_type": "code",
   "execution_count": 11,
   "metadata": {},
   "outputs": [
    {
     "data": {
      "text/plain": [
       "(DataFrame, (5150, 20))"
      ]
     },
     "execution_count": 11,
     "metadata": {},
     "output_type": "execute_result"
    }
   ],
   "source": [
    "typeof(data), size(data)"
   ]
  },
  {
   "cell_type": "code",
   "execution_count": 12,
   "metadata": {
    "execution": {
     "iopub.execute_input": "2021-03-28T13:27:45.495647Z",
     "iopub.status.busy": "2021-03-28T13:27:45.493470Z",
     "iopub.status.idle": "2021-03-28T13:27:45.621680Z",
     "shell.execute_reply": "2021-03-28T13:27:45.620630Z"
    },
    "papermill": {
     "duration": 0.163436,
     "end_time": "2021-03-28T13:27:45.621858",
     "exception": false,
     "start_time": "2021-03-28T13:27:45.458422",
     "status": "completed"
    },
    "tags": []
   },
   "outputs": [
    {
     "data": {
      "text/html": [
       "<table class=\"data-frame\"><thead><tr><th></th><th>lwage</th><th>wage</th></tr><tr><th></th><th>Float64</th><th>Float64</th></tr></thead><tbody><p>5,150 rows × 2 columns</p><tr><th>1</th><td>2.26336</td><td>9.61538</td></tr><tr><th>2</th><td>3.8728</td><td>48.0769</td></tr><tr><th>3</th><td>2.40313</td><td>11.0577</td></tr><tr><th>4</th><td>2.63493</td><td>13.9423</td></tr><tr><th>5</th><td>3.36198</td><td>28.8462</td></tr><tr><th>6</th><td>2.46222</td><td>11.7308</td></tr><tr><th>7</th><td>2.95651</td><td>19.2308</td></tr><tr><th>8</th><td>2.95651</td><td>19.2308</td></tr><tr><th>9</th><td>2.48491</td><td>12.0</td></tr><tr><th>10</th><td>2.95651</td><td>19.2308</td></tr><tr><th>11</th><td>2.85115</td><td>17.3077</td></tr><tr><th>12</th><td>2.48651</td><td>12.0192</td></tr><tr><th>13</th><td>2.48651</td><td>12.0192</td></tr><tr><th>14</th><td>2.59984</td><td>13.4615</td></tr><tr><th>15</th><td>2.79399</td><td>16.3462</td></tr><tr><th>16</th><td>3.32808</td><td>27.8846</td></tr><tr><th>17</th><td>3.07269</td><td>21.6</td></tr><tr><th>18</th><td>2.158</td><td>8.65385</td></tr><tr><th>19</th><td>2.95651</td><td>19.2308</td></tr><tr><th>20</th><td>2.57922</td><td>13.1868</td></tr><tr><th>21</th><td>2.36872</td><td>10.6838</td></tr><tr><th>22</th><td>2.44569</td><td>11.5385</td></tr><tr><th>23</th><td>2.87855</td><td>17.7885</td></tr><tr><th>24</th><td>2.95651</td><td>19.2308</td></tr><tr><th>25</th><td>2.79143</td><td>16.3043</td></tr><tr><th>26</th><td>2.95651</td><td>19.2308</td></tr><tr><th>27</th><td>2.66883</td><td>14.4231</td></tr><tr><th>28</th><td>2.48491</td><td>12.0</td></tr><tr><th>29</th><td>2.82298</td><td>16.8269</td></tr><tr><th>30</th><td>2.97911</td><td>19.6703</td></tr><tr><th>&vellip;</th><td>&vellip;</td><td>&vellip;</td></tr></tbody></table>"
      ],
      "text/latex": [
       "\\begin{tabular}{r|cc}\n",
       "\t& lwage & wage\\\\\n",
       "\t\\hline\n",
       "\t& Float64 & Float64\\\\\n",
       "\t\\hline\n",
       "\t1 & 2.26336 & 9.61538 \\\\\n",
       "\t2 & 3.8728 & 48.0769 \\\\\n",
       "\t3 & 2.40313 & 11.0577 \\\\\n",
       "\t4 & 2.63493 & 13.9423 \\\\\n",
       "\t5 & 3.36198 & 28.8462 \\\\\n",
       "\t6 & 2.46222 & 11.7308 \\\\\n",
       "\t7 & 2.95651 & 19.2308 \\\\\n",
       "\t8 & 2.95651 & 19.2308 \\\\\n",
       "\t9 & 2.48491 & 12.0 \\\\\n",
       "\t10 & 2.95651 & 19.2308 \\\\\n",
       "\t11 & 2.85115 & 17.3077 \\\\\n",
       "\t12 & 2.48651 & 12.0192 \\\\\n",
       "\t13 & 2.48651 & 12.0192 \\\\\n",
       "\t14 & 2.59984 & 13.4615 \\\\\n",
       "\t15 & 2.79399 & 16.3462 \\\\\n",
       "\t16 & 3.32808 & 27.8846 \\\\\n",
       "\t17 & 3.07269 & 21.6 \\\\\n",
       "\t18 & 2.158 & 8.65385 \\\\\n",
       "\t19 & 2.95651 & 19.2308 \\\\\n",
       "\t20 & 2.57922 & 13.1868 \\\\\n",
       "\t21 & 2.36872 & 10.6838 \\\\\n",
       "\t22 & 2.44569 & 11.5385 \\\\\n",
       "\t23 & 2.87855 & 17.7885 \\\\\n",
       "\t24 & 2.95651 & 19.2308 \\\\\n",
       "\t25 & 2.79143 & 16.3043 \\\\\n",
       "\t26 & 2.95651 & 19.2308 \\\\\n",
       "\t27 & 2.66883 & 14.4231 \\\\\n",
       "\t28 & 2.48491 & 12.0 \\\\\n",
       "\t29 & 2.82298 & 16.8269 \\\\\n",
       "\t30 & 2.97911 & 19.6703 \\\\\n",
       "\t$\\dots$ & $\\dots$ & $\\dots$ \\\\\n",
       "\\end{tabular}\n"
      ],
      "text/plain": [
       "\u001b[1m5150×2 DataFrame\u001b[0m\n",
       "\u001b[1m  Row \u001b[0m│\u001b[1m lwage   \u001b[0m\u001b[1m wage     \u001b[0m\n",
       "\u001b[1m      \u001b[0m│\u001b[90m Float64 \u001b[0m\u001b[90m Float64  \u001b[0m\n",
       "──────┼───────────────────\n",
       "    1 │ 2.26336   9.61538\n",
       "    2 │ 3.8728   48.0769\n",
       "    3 │ 2.40313  11.0577\n",
       "    4 │ 2.63493  13.9423\n",
       "    5 │ 3.36198  28.8462\n",
       "    6 │ 2.46222  11.7308\n",
       "    7 │ 2.95651  19.2308\n",
       "    8 │ 2.95651  19.2308\n",
       "    9 │ 2.48491  12.0\n",
       "   10 │ 2.95651  19.2308\n",
       "   11 │ 2.85115  17.3077\n",
       "  ⋮   │    ⋮        ⋮\n",
       " 5141 │ 3.81874  45.5466\n",
       " 5142 │ 3.11778  22.5962\n",
       " 5143 │ 2.82298  16.8269\n",
       " 5144 │ 3.17966  24.0385\n",
       " 5145 │ 2.62801  13.8462\n",
       " 5146 │ 2.69255  14.7692\n",
       " 5147 │ 3.13883  23.0769\n",
       " 5148 │ 3.64966  38.4615\n",
       " 5149 │ 3.49551  32.967\n",
       " 5150 │ 2.85115  17.3077\n",
       "\u001b[36m         5129 rows omitted\u001b[0m"
      ]
     },
     "execution_count": 12,
     "metadata": {},
     "output_type": "execute_result"
    }
   ],
   "source": [
    "Z =  select(data, [\"lwage\", \"wage\"])     # regressors"
   ]
  },
  {
   "cell_type": "markdown",
   "metadata": {
    "papermill": {
     "duration": 0.010064,
     "end_time": "2021-03-28T13:27:45.641711",
     "exception": false,
     "start_time": "2021-03-28T13:27:45.631647",
     "status": "completed"
    },
    "tags": []
   },
   "source": [
    "Firt, we split the data first and normalize it."
   ]
  },
  {
   "cell_type": "code",
   "execution_count": 13,
   "metadata": {},
   "outputs": [
    {
     "data": {
      "text/plain": [
       "3862-element Vector{Int64}:\n",
       " 2455\n",
       " 3109\n",
       " 4807\n",
       " 3107\n",
       "  617\n",
       " 2230\n",
       " 4697\n",
       "  755\n",
       "  771\n",
       " 3729\n",
       " 2063\n",
       "  528\n",
       " 3238\n",
       "    ⋮\n",
       " 4057\n",
       "  973\n",
       " 4183\n",
       " 1230\n",
       " 3228\n",
       " 3687\n",
       " 4789\n",
       " 4060\n",
       " 2723\n",
       " 3610\n",
       "  899\n",
       " 1273"
      ]
     },
     "execution_count": 13,
     "metadata": {},
     "output_type": "execute_result"
    }
   ],
   "source": [
    "Random.seed!(1234) \n",
    "training = sample(1:nrow(data), Int(floor(nrow(data)*(3/4))), replace = false)"
   ]
  },
  {
   "cell_type": "code",
   "execution_count": 14,
   "metadata": {
    "execution": {
     "iopub.execute_input": "2021-03-28T13:27:45.690724Z",
     "iopub.status.busy": "2021-03-28T13:27:45.666767Z",
     "iopub.status.idle": "2021-03-28T13:27:45.705719Z",
     "shell.execute_reply": "2021-03-28T13:27:45.704555Z"
    },
    "papermill": {
     "duration": 0.055147,
     "end_time": "2021-03-28T13:27:45.705827",
     "exception": false,
     "start_time": "2021-03-28T13:27:45.650680",
     "status": "completed"
    },
    "tags": []
   },
   "outputs": [
    {
     "data": {
      "text/html": [
       "<table class=\"data-frame\"><thead><tr><th></th><th>wage</th><th>lwage</th><th>sex</th><th>shs</th><th>hsg</th><th>scl</th><th>clg</th><th>ad</th><th>mw</th></tr><tr><th></th><th>Float64</th><th>Float64</th><th>Float64</th><th>Float64</th><th>Float64</th><th>Float64</th><th>Float64</th><th>Float64</th><th>Float64</th></tr></thead><tbody><p>3,862 rows × 16 columns (omitted printing of 7 columns)</p><tr><th>1</th><td>12.0192</td><td>2.48651</td><td>0.0</td><td>0.0</td><td>0.0</td><td>0.0</td><td>1.0</td><td>0.0</td><td>1.0</td></tr><tr><th>2</th><td>10.2857</td><td>2.33076</td><td>0.0</td><td>0.0</td><td>1.0</td><td>0.0</td><td>0.0</td><td>0.0</td><td>0.0</td></tr><tr><th>3</th><td>10.5769</td><td>2.35867</td><td>0.0</td><td>0.0</td><td>0.0</td><td>1.0</td><td>0.0</td><td>0.0</td><td>0.0</td></tr><tr><th>4</th><td>17.3077</td><td>2.85115</td><td>1.0</td><td>0.0</td><td>0.0</td><td>1.0</td><td>0.0</td><td>0.0</td><td>0.0</td></tr><tr><th>5</th><td>25.641</td><td>3.24419</td><td>0.0</td><td>0.0</td><td>0.0</td><td>1.0</td><td>0.0</td><td>0.0</td><td>0.0</td></tr><tr><th>6</th><td>42.3077</td><td>3.74497</td><td>0.0</td><td>0.0</td><td>0.0</td><td>0.0</td><td>1.0</td><td>0.0</td><td>1.0</td></tr><tr><th>7</th><td>15.8654</td><td>2.76414</td><td>0.0</td><td>1.0</td><td>0.0</td><td>0.0</td><td>0.0</td><td>0.0</td><td>0.0</td></tr><tr><th>8</th><td>72.1154</td><td>4.27827</td><td>1.0</td><td>0.0</td><td>0.0</td><td>0.0</td><td>1.0</td><td>0.0</td><td>0.0</td></tr><tr><th>9</th><td>35.7143</td><td>3.57555</td><td>1.0</td><td>0.0</td><td>0.0</td><td>0.0</td><td>0.0</td><td>1.0</td><td>0.0</td></tr><tr><th>10</th><td>15.3846</td><td>2.73337</td><td>1.0</td><td>0.0</td><td>1.0</td><td>0.0</td><td>0.0</td><td>0.0</td><td>0.0</td></tr><tr><th>11</th><td>16.5385</td><td>2.80569</td><td>0.0</td><td>0.0</td><td>0.0</td><td>1.0</td><td>0.0</td><td>0.0</td><td>1.0</td></tr><tr><th>12</th><td>16.8269</td><td>2.82298</td><td>1.0</td><td>0.0</td><td>0.0</td><td>0.0</td><td>1.0</td><td>0.0</td><td>0.0</td></tr><tr><th>13</th><td>36.0577</td><td>3.58512</td><td>0.0</td><td>0.0</td><td>0.0</td><td>0.0</td><td>0.0</td><td>1.0</td><td>0.0</td></tr><tr><th>14</th><td>19.2308</td><td>2.95651</td><td>1.0</td><td>0.0</td><td>0.0</td><td>0.0</td><td>1.0</td><td>0.0</td><td>0.0</td></tr><tr><th>15</th><td>36.0577</td><td>3.58512</td><td>0.0</td><td>0.0</td><td>1.0</td><td>0.0</td><td>0.0</td><td>0.0</td><td>1.0</td></tr><tr><th>16</th><td>26.4423</td><td>3.27497</td><td>0.0</td><td>0.0</td><td>0.0</td><td>0.0</td><td>1.0</td><td>0.0</td><td>0.0</td></tr><tr><th>17</th><td>14.4231</td><td>2.66883</td><td>0.0</td><td>0.0</td><td>0.0</td><td>1.0</td><td>0.0</td><td>0.0</td><td>0.0</td></tr><tr><th>18</th><td>45.1923</td><td>3.81093</td><td>0.0</td><td>0.0</td><td>0.0</td><td>0.0</td><td>1.0</td><td>0.0</td><td>0.0</td></tr><tr><th>19</th><td>30.7692</td><td>3.42652</td><td>0.0</td><td>0.0</td><td>0.0</td><td>0.0</td><td>0.0</td><td>1.0</td><td>0.0</td></tr><tr><th>20</th><td>25.0</td><td>3.21888</td><td>0.0</td><td>0.0</td><td>0.0</td><td>0.0</td><td>1.0</td><td>0.0</td><td>0.0</td></tr><tr><th>21</th><td>18.4615</td><td>2.91569</td><td>1.0</td><td>0.0</td><td>0.0</td><td>0.0</td><td>1.0</td><td>0.0</td><td>0.0</td></tr><tr><th>22</th><td>8.71795</td><td>2.16538</td><td>1.0</td><td>0.0</td><td>0.0</td><td>1.0</td><td>0.0</td><td>0.0</td><td>1.0</td></tr><tr><th>23</th><td>19.2308</td><td>2.95651</td><td>0.0</td><td>0.0</td><td>1.0</td><td>0.0</td><td>0.0</td><td>0.0</td><td>0.0</td></tr><tr><th>24</th><td>13.4615</td><td>2.59984</td><td>0.0</td><td>0.0</td><td>1.0</td><td>0.0</td><td>0.0</td><td>0.0</td><td>1.0</td></tr><tr><th>25</th><td>22.5962</td><td>3.11778</td><td>0.0</td><td>0.0</td><td>1.0</td><td>0.0</td><td>0.0</td><td>0.0</td><td>1.0</td></tr><tr><th>26</th><td>10.6838</td><td>2.36872</td><td>1.0</td><td>0.0</td><td>1.0</td><td>0.0</td><td>0.0</td><td>0.0</td><td>0.0</td></tr><tr><th>27</th><td>48.0769</td><td>3.8728</td><td>0.0</td><td>0.0</td><td>0.0</td><td>0.0</td><td>1.0</td><td>0.0</td><td>0.0</td></tr><tr><th>28</th><td>23.5577</td><td>3.15945</td><td>0.0</td><td>0.0</td><td>0.0</td><td>1.0</td><td>0.0</td><td>0.0</td><td>0.0</td></tr><tr><th>29</th><td>48.7179</td><td>3.88605</td><td>0.0</td><td>0.0</td><td>0.0</td><td>0.0</td><td>0.0</td><td>1.0</td><td>0.0</td></tr><tr><th>30</th><td>14.4712</td><td>2.67216</td><td>0.0</td><td>0.0</td><td>0.0</td><td>0.0</td><td>1.0</td><td>0.0</td><td>0.0</td></tr><tr><th>&vellip;</th><td>&vellip;</td><td>&vellip;</td><td>&vellip;</td><td>&vellip;</td><td>&vellip;</td><td>&vellip;</td><td>&vellip;</td><td>&vellip;</td><td>&vellip;</td></tr></tbody></table>"
      ],
      "text/latex": [
       "\\begin{tabular}{r|cccccccccc}\n",
       "\t& wage & lwage & sex & shs & hsg & scl & clg & ad & mw & \\\\\n",
       "\t\\hline\n",
       "\t& Float64 & Float64 & Float64 & Float64 & Float64 & Float64 & Float64 & Float64 & Float64 & \\\\\n",
       "\t\\hline\n",
       "\t1 & 12.0192 & 2.48651 & 0.0 & 0.0 & 0.0 & 0.0 & 1.0 & 0.0 & 1.0 & $\\dots$ \\\\\n",
       "\t2 & 10.2857 & 2.33076 & 0.0 & 0.0 & 1.0 & 0.0 & 0.0 & 0.0 & 0.0 & $\\dots$ \\\\\n",
       "\t3 & 10.5769 & 2.35867 & 0.0 & 0.0 & 0.0 & 1.0 & 0.0 & 0.0 & 0.0 & $\\dots$ \\\\\n",
       "\t4 & 17.3077 & 2.85115 & 1.0 & 0.0 & 0.0 & 1.0 & 0.0 & 0.0 & 0.0 & $\\dots$ \\\\\n",
       "\t5 & 25.641 & 3.24419 & 0.0 & 0.0 & 0.0 & 1.0 & 0.0 & 0.0 & 0.0 & $\\dots$ \\\\\n",
       "\t6 & 42.3077 & 3.74497 & 0.0 & 0.0 & 0.0 & 0.0 & 1.0 & 0.0 & 1.0 & $\\dots$ \\\\\n",
       "\t7 & 15.8654 & 2.76414 & 0.0 & 1.0 & 0.0 & 0.0 & 0.0 & 0.0 & 0.0 & $\\dots$ \\\\\n",
       "\t8 & 72.1154 & 4.27827 & 1.0 & 0.0 & 0.0 & 0.0 & 1.0 & 0.0 & 0.0 & $\\dots$ \\\\\n",
       "\t9 & 35.7143 & 3.57555 & 1.0 & 0.0 & 0.0 & 0.0 & 0.0 & 1.0 & 0.0 & $\\dots$ \\\\\n",
       "\t10 & 15.3846 & 2.73337 & 1.0 & 0.0 & 1.0 & 0.0 & 0.0 & 0.0 & 0.0 & $\\dots$ \\\\\n",
       "\t11 & 16.5385 & 2.80569 & 0.0 & 0.0 & 0.0 & 1.0 & 0.0 & 0.0 & 1.0 & $\\dots$ \\\\\n",
       "\t12 & 16.8269 & 2.82298 & 1.0 & 0.0 & 0.0 & 0.0 & 1.0 & 0.0 & 0.0 & $\\dots$ \\\\\n",
       "\t13 & 36.0577 & 3.58512 & 0.0 & 0.0 & 0.0 & 0.0 & 0.0 & 1.0 & 0.0 & $\\dots$ \\\\\n",
       "\t14 & 19.2308 & 2.95651 & 1.0 & 0.0 & 0.0 & 0.0 & 1.0 & 0.0 & 0.0 & $\\dots$ \\\\\n",
       "\t15 & 36.0577 & 3.58512 & 0.0 & 0.0 & 1.0 & 0.0 & 0.0 & 0.0 & 1.0 & $\\dots$ \\\\\n",
       "\t16 & 26.4423 & 3.27497 & 0.0 & 0.0 & 0.0 & 0.0 & 1.0 & 0.0 & 0.0 & $\\dots$ \\\\\n",
       "\t17 & 14.4231 & 2.66883 & 0.0 & 0.0 & 0.0 & 1.0 & 0.0 & 0.0 & 0.0 & $\\dots$ \\\\\n",
       "\t18 & 45.1923 & 3.81093 & 0.0 & 0.0 & 0.0 & 0.0 & 1.0 & 0.0 & 0.0 & $\\dots$ \\\\\n",
       "\t19 & 30.7692 & 3.42652 & 0.0 & 0.0 & 0.0 & 0.0 & 0.0 & 1.0 & 0.0 & $\\dots$ \\\\\n",
       "\t20 & 25.0 & 3.21888 & 0.0 & 0.0 & 0.0 & 0.0 & 1.0 & 0.0 & 0.0 & $\\dots$ \\\\\n",
       "\t21 & 18.4615 & 2.91569 & 1.0 & 0.0 & 0.0 & 0.0 & 1.0 & 0.0 & 0.0 & $\\dots$ \\\\\n",
       "\t22 & 8.71795 & 2.16538 & 1.0 & 0.0 & 0.0 & 1.0 & 0.0 & 0.0 & 1.0 & $\\dots$ \\\\\n",
       "\t23 & 19.2308 & 2.95651 & 0.0 & 0.0 & 1.0 & 0.0 & 0.0 & 0.0 & 0.0 & $\\dots$ \\\\\n",
       "\t24 & 13.4615 & 2.59984 & 0.0 & 0.0 & 1.0 & 0.0 & 0.0 & 0.0 & 1.0 & $\\dots$ \\\\\n",
       "\t25 & 22.5962 & 3.11778 & 0.0 & 0.0 & 1.0 & 0.0 & 0.0 & 0.0 & 1.0 & $\\dots$ \\\\\n",
       "\t26 & 10.6838 & 2.36872 & 1.0 & 0.0 & 1.0 & 0.0 & 0.0 & 0.0 & 0.0 & $\\dots$ \\\\\n",
       "\t27 & 48.0769 & 3.8728 & 0.0 & 0.0 & 0.0 & 0.0 & 1.0 & 0.0 & 0.0 & $\\dots$ \\\\\n",
       "\t28 & 23.5577 & 3.15945 & 0.0 & 0.0 & 0.0 & 1.0 & 0.0 & 0.0 & 0.0 & $\\dots$ \\\\\n",
       "\t29 & 48.7179 & 3.88605 & 0.0 & 0.0 & 0.0 & 0.0 & 0.0 & 1.0 & 0.0 & $\\dots$ \\\\\n",
       "\t30 & 14.4712 & 2.67216 & 0.0 & 0.0 & 0.0 & 0.0 & 1.0 & 0.0 & 0.0 & $\\dots$ \\\\\n",
       "\t$\\dots$ & $\\dots$ & $\\dots$ & $\\dots$ & $\\dots$ & $\\dots$ & $\\dots$ & $\\dots$ & $\\dots$ & $\\dots$ &  \\\\\n",
       "\\end{tabular}\n"
      ],
      "text/plain": [
       "\u001b[1m3862×16 DataFrame\u001b[0m\n",
       "\u001b[1m  Row \u001b[0m│\u001b[1m wage     \u001b[0m\u001b[1m lwage   \u001b[0m\u001b[1m sex     \u001b[0m\u001b[1m shs     \u001b[0m\u001b[1m hsg     \u001b[0m\u001b[1m scl     \u001b[0m\u001b[1m clg     \u001b[0m\u001b[1m ad    \u001b[0m ⋯\n",
       "\u001b[1m      \u001b[0m│\u001b[90m Float64  \u001b[0m\u001b[90m Float64 \u001b[0m\u001b[90m Float64 \u001b[0m\u001b[90m Float64 \u001b[0m\u001b[90m Float64 \u001b[0m\u001b[90m Float64 \u001b[0m\u001b[90m Float64 \u001b[0m\u001b[90m Float6\u001b[0m ⋯\n",
       "──────┼─────────────────────────────────────────────────────────────────────────\n",
       "    1 │ 12.0192   2.48651      0.0      0.0      0.0      0.0      1.0      0. ⋯\n",
       "    2 │ 10.2857   2.33076      0.0      0.0      1.0      0.0      0.0      0.\n",
       "    3 │ 10.5769   2.35867      0.0      0.0      0.0      1.0      0.0      0.\n",
       "    4 │ 17.3077   2.85115      1.0      0.0      0.0      1.0      0.0      0.\n",
       "    5 │ 25.641    3.24419      0.0      0.0      0.0      1.0      0.0      0. ⋯\n",
       "    6 │ 42.3077   3.74497      0.0      0.0      0.0      0.0      1.0      0.\n",
       "    7 │ 15.8654   2.76414      0.0      1.0      0.0      0.0      0.0      0.\n",
       "    8 │ 72.1154   4.27827      1.0      0.0      0.0      0.0      1.0      0.\n",
       "    9 │ 35.7143   3.57555      1.0      0.0      0.0      0.0      0.0      1. ⋯\n",
       "   10 │ 15.3846   2.73337      1.0      0.0      1.0      0.0      0.0      0.\n",
       "   11 │ 16.5385   2.80569      0.0      0.0      0.0      1.0      0.0      0.\n",
       "  ⋮   │    ⋮         ⋮        ⋮        ⋮        ⋮        ⋮        ⋮        ⋮   ⋱\n",
       " 3853 │ 24.0385   3.17966      0.0      0.0      0.0      0.0      1.0      0.\n",
       " 3854 │ 12.9808   2.56347      1.0      0.0      1.0      0.0      0.0      0. ⋯\n",
       " 3855 │ 13.4615   2.59984      0.0      0.0      0.0      0.0      1.0      0.\n",
       " 3856 │  7.69231  2.04022      0.0      0.0      0.0      1.0      0.0      0.\n",
       " 3857 │ 16.8269   2.82298      0.0      0.0      0.0      0.0      1.0      0.\n",
       " 3858 │ 28.8462   3.36198      0.0      0.0      0.0      0.0      1.0      0. ⋯\n",
       " 3859 │ 62.5      4.13517      0.0      0.0      0.0      0.0      0.0      1.\n",
       " 3860 │ 20.6731   3.02883      0.0      0.0      1.0      0.0      0.0      0.\n",
       " 3861 │ 19.2308   2.95651      1.0      0.0      0.0      0.0      0.0      1.\n",
       " 3862 │  5.97756  1.78801      1.0      0.0      1.0      0.0      0.0      0. ⋯\n",
       "\u001b[36m                                                 9 columns and 3841 rows omitted\u001b[0m"
      ]
     },
     "execution_count": 14,
     "metadata": {},
     "output_type": "execute_result"
    }
   ],
   "source": [
    "data_train = data[training,1:16]\n",
    "data_test = data[Not(training),1:16]\n",
    "data_train"
   ]
  },
  {
   "cell_type": "code",
   "execution_count": 15,
   "metadata": {},
   "outputs": [
    {
     "data": {
      "text/plain": [
       "((3862, 16), (1288, 16))"
      ]
     },
     "execution_count": 15,
     "metadata": {},
     "output_type": "execute_result"
    }
   ],
   "source": [
    "size(data_train), size(data_test)"
   ]
  },
  {
   "cell_type": "code",
   "execution_count": 16,
   "metadata": {},
   "outputs": [
    {
     "data": {
      "text/plain": [
       "16×2 Matrix{Any}:\n",
       " \"wage\"   23.3849\n",
       " \"lwage\"   2.97164\n",
       " \"sex\"     0.44407\n",
       " \"shs\"     0.0222683\n",
       " \"hsg\"     0.24754\n",
       " \"scl\"     0.283014\n",
       " \"clg\"     0.310979\n",
       " \"ad\"      0.136199\n",
       " \"mw\"      0.262558\n",
       " \"so\"      0.296737\n",
       " \"we\"      0.215691\n",
       " \"ne\"      0.225013\n",
       " \"exp1\"   13.6699\n",
       " \"exp2\"    2.97307\n",
       " \"exp3\"    8.05316\n",
       " \"exp4\"   24.4216"
      ]
     },
     "execution_count": 16,
     "metadata": {},
     "output_type": "execute_result"
    }
   ],
   "source": [
    "# normalize the data\n",
    "\n",
    "mean_1 = mean.(eachcol(data_train))\n",
    "mean_1 = [names(data_train) mean_1]"
   ]
  },
  {
   "cell_type": "code",
   "execution_count": 17,
   "metadata": {
    "execution": {
     "iopub.execute_input": "2021-03-28T13:27:45.728578Z",
     "iopub.status.busy": "2021-03-28T13:27:45.727077Z",
     "iopub.status.idle": "2021-03-28T13:27:45.755489Z",
     "shell.execute_reply": "2021-03-28T13:27:45.754247Z"
    },
    "papermill": {
     "duration": 0.040664,
     "end_time": "2021-03-28T13:27:45.755600",
     "exception": false,
     "start_time": "2021-03-28T13:27:45.714936",
     "status": "completed"
    },
    "tags": []
   },
   "outputs": [
    {
     "data": {
      "text/plain": [
       "16×2 Matrix{Any}:\n",
       " \"wage\"   20.445\n",
       " \"lwage\"   0.566839\n",
       " \"sex\"     0.496926\n",
       " \"shs\"     0.147574\n",
       " \"hsg\"     0.431639\n",
       " \"scl\"     0.450522\n",
       " \"clg\"     0.462954\n",
       " \"ad\"      0.343044\n",
       " \"mw\"      0.440081\n",
       " \"so\"      0.456879\n",
       " \"we\"      0.411354\n",
       " \"ne\"      0.417645\n",
       " \"exp1\"   10.5105\n",
       " \"exp2\"    3.94797\n",
       " \"exp3\"   14.2448\n",
       " \"exp4\"   52.4952"
      ]
     },
     "execution_count": 17,
     "metadata": {},
     "output_type": "execute_result"
    }
   ],
   "source": [
    "std_1 = std.(eachcol(data_train))\n",
    "std_1 = [names(data_train) std_1]"
   ]
  },
  {
   "cell_type": "code",
   "execution_count": 18,
   "metadata": {},
   "outputs": [
    {
     "data": {
      "text/html": [
       "<table class=\"data-frame\"><thead><tr><th></th><th>wage</th><th>lwage</th><th>sex</th><th>shs</th><th>hsg</th><th>scl</th><th>clg</th><th>ad</th></tr><tr><th></th><th>Float64</th><th>Float64</th><th>Float64</th><th>Float64</th><th>Float64</th><th>Float64</th><th>Float64</th><th>Float64</th></tr></thead><tbody><p>3,862 rows × 16 columns (omitted printing of 8 columns)</p><tr><th>1</th><td>-0.555914</td><td>-0.855849</td><td>-0.893634</td><td>-0.150896</td><td>-0.573489</td><td>-0.628192</td><td>1.48831</td><td>-0.39703</td></tr><tr><th>2</th><td>-0.640703</td><td>-1.13062</td><td>-0.893634</td><td>-0.150896</td><td>1.74326</td><td>-0.628192</td><td>-0.671727</td><td>-0.39703</td></tr><tr><th>3</th><td>-0.62646</td><td>-1.08137</td><td>-0.893634</td><td>-0.150896</td><td>-0.573489</td><td>1.59146</td><td>-0.671727</td><td>-0.39703</td></tr><tr><th>4</th><td>-0.297246</td><td>-0.212557</td><td>1.11874</td><td>-0.150896</td><td>-0.573489</td><td>1.59146</td><td>-0.671727</td><td>-0.39703</td></tr><tr><th>5</th><td>0.110351</td><td>0.480836</td><td>-0.893634</td><td>-0.150896</td><td>-0.573489</td><td>1.59146</td><td>-0.671727</td><td>-0.39703</td></tr><tr><th>6</th><td>0.925545</td><td>1.36429</td><td>-0.893634</td><td>-0.150896</td><td>-0.573489</td><td>-0.628192</td><td>1.48831</td><td>-0.39703</td></tr><tr><th>7</th><td>-0.367792</td><td>-0.36606</td><td>-0.893634</td><td>6.62538</td><td>-0.573489</td><td>-0.628192</td><td>-0.671727</td><td>-0.39703</td></tr><tr><th>8</th><td>2.38349</td><td>2.30512</td><td>1.11874</td><td>-0.150896</td><td>-0.573489</td><td>-0.628192</td><td>1.48831</td><td>-0.39703</td></tr><tr><th>9</th><td>0.603051</td><td>1.06541</td><td>1.11874</td><td>-0.150896</td><td>-0.573489</td><td>-0.628192</td><td>-0.671727</td><td>2.51805</td></tr><tr><th>10</th><td>-0.391307</td><td>-0.420346</td><td>1.11874</td><td>-0.150896</td><td>1.74326</td><td>-0.628192</td><td>-0.671727</td><td>-0.39703</td></tr><tr><th>11</th><td>-0.334871</td><td>-0.292761</td><td>-0.893634</td><td>-0.150896</td><td>-0.573489</td><td>1.59146</td><td>-0.671727</td><td>-0.39703</td></tr><tr><th>12</th><td>-0.320762</td><td>-0.262255</td><td>1.11874</td><td>-0.150896</td><td>-0.573489</td><td>-0.628192</td><td>1.48831</td><td>-0.39703</td></tr><tr><th>13</th><td>0.619847</td><td>1.08229</td><td>-0.893634</td><td>-0.150896</td><td>-0.573489</td><td>-0.628192</td><td>-0.671727</td><td>2.51805</td></tr><tr><th>14</th><td>-0.203185</td><td>-0.0266836</td><td>1.11874</td><td>-0.150896</td><td>-0.573489</td><td>-0.628192</td><td>1.48831</td><td>-0.39703</td></tr><tr><th>15</th><td>0.619847</td><td>1.08229</td><td>-0.893634</td><td>-0.150896</td><td>1.74326</td><td>-0.628192</td><td>-0.671727</td><td>-0.39703</td></tr><tr><th>16</th><td>0.149543</td><td>0.535122</td><td>-0.893634</td><td>-0.150896</td><td>-0.573489</td><td>-0.628192</td><td>1.48831</td><td>-0.39703</td></tr><tr><th>17</th><td>-0.438338</td><td>-0.534203</td><td>-0.893634</td><td>-0.150896</td><td>-0.573489</td><td>1.59146</td><td>-0.671727</td><td>-0.39703</td></tr><tr><th>18</th><td>1.06664</td><td>1.48065</td><td>-0.893634</td><td>-0.150896</td><td>-0.573489</td><td>-0.628192</td><td>1.48831</td><td>-0.39703</td></tr><tr><th>19</th><td>0.36118</td><td>0.802482</td><td>-0.893634</td><td>-0.150896</td><td>-0.573489</td><td>-0.628192</td><td>-0.671727</td><td>2.51805</td></tr><tr><th>20</th><td>0.0789973</td><td>0.436171</td><td>-0.893634</td><td>-0.150896</td><td>-0.573489</td><td>-0.628192</td><td>1.48831</td><td>-0.39703</td></tr><tr><th>21</th><td>-0.24081</td><td>-0.0987005</td><td>1.11874</td><td>-0.150896</td><td>-0.573489</td><td>-0.628192</td><td>1.48831</td><td>-0.39703</td></tr><tr><th>22</th><td>-0.717385</td><td>-1.42237</td><td>1.11874</td><td>-0.150896</td><td>-0.573489</td><td>1.59146</td><td>-0.671727</td><td>-0.39703</td></tr><tr><th>23</th><td>-0.203185</td><td>-0.0266836</td><td>-0.893634</td><td>-0.150896</td><td>1.74326</td><td>-0.628192</td><td>-0.671727</td><td>-0.39703</td></tr><tr><th>24</th><td>-0.485368</td><td>-0.655918</td><td>-0.893634</td><td>-0.150896</td><td>1.74326</td><td>-0.628192</td><td>-0.671727</td><td>-0.39703</td></tr><tr><th>25</th><td>-0.0385788</td><td>0.257821</td><td>-0.893634</td><td>-0.150896</td><td>1.74326</td><td>-0.628192</td><td>-0.671727</td><td>-0.39703</td></tr><tr><th>26</th><td>-0.621234</td><td>-1.06364</td><td>1.11874</td><td>-0.150896</td><td>1.74326</td><td>-0.628192</td><td>-0.671727</td><td>-0.39703</td></tr><tr><th>27</th><td>1.20773</td><td>1.58981</td><td>-0.893634</td><td>-0.150896</td><td>-0.573489</td><td>-0.628192</td><td>1.48831</td><td>-0.39703</td></tr><tr><th>28</th><td>0.00845161</td><td>0.331338</td><td>-0.893634</td><td>-0.150896</td><td>-0.573489</td><td>1.59146</td><td>-0.671727</td><td>-0.39703</td></tr><tr><th>29</th><td>1.23908</td><td>1.61317</td><td>-0.893634</td><td>-0.150896</td><td>-0.573489</td><td>-0.628192</td><td>-0.671727</td><td>2.51805</td></tr><tr><th>30</th><td>-0.435986</td><td>-0.528332</td><td>-0.893634</td><td>-0.150896</td><td>-0.573489</td><td>-0.628192</td><td>1.48831</td><td>-0.39703</td></tr><tr><th>&vellip;</th><td>&vellip;</td><td>&vellip;</td><td>&vellip;</td><td>&vellip;</td><td>&vellip;</td><td>&vellip;</td><td>&vellip;</td><td>&vellip;</td></tr></tbody></table>"
      ],
      "text/latex": [
       "\\begin{tabular}{r|ccccccccc}\n",
       "\t& wage & lwage & sex & shs & hsg & scl & clg & ad & \\\\\n",
       "\t\\hline\n",
       "\t& Float64 & Float64 & Float64 & Float64 & Float64 & Float64 & Float64 & Float64 & \\\\\n",
       "\t\\hline\n",
       "\t1 & -0.555914 & -0.855849 & -0.893634 & -0.150896 & -0.573489 & -0.628192 & 1.48831 & -0.39703 & $\\dots$ \\\\\n",
       "\t2 & -0.640703 & -1.13062 & -0.893634 & -0.150896 & 1.74326 & -0.628192 & -0.671727 & -0.39703 & $\\dots$ \\\\\n",
       "\t3 & -0.62646 & -1.08137 & -0.893634 & -0.150896 & -0.573489 & 1.59146 & -0.671727 & -0.39703 & $\\dots$ \\\\\n",
       "\t4 & -0.297246 & -0.212557 & 1.11874 & -0.150896 & -0.573489 & 1.59146 & -0.671727 & -0.39703 & $\\dots$ \\\\\n",
       "\t5 & 0.110351 & 0.480836 & -0.893634 & -0.150896 & -0.573489 & 1.59146 & -0.671727 & -0.39703 & $\\dots$ \\\\\n",
       "\t6 & 0.925545 & 1.36429 & -0.893634 & -0.150896 & -0.573489 & -0.628192 & 1.48831 & -0.39703 & $\\dots$ \\\\\n",
       "\t7 & -0.367792 & -0.36606 & -0.893634 & 6.62538 & -0.573489 & -0.628192 & -0.671727 & -0.39703 & $\\dots$ \\\\\n",
       "\t8 & 2.38349 & 2.30512 & 1.11874 & -0.150896 & -0.573489 & -0.628192 & 1.48831 & -0.39703 & $\\dots$ \\\\\n",
       "\t9 & 0.603051 & 1.06541 & 1.11874 & -0.150896 & -0.573489 & -0.628192 & -0.671727 & 2.51805 & $\\dots$ \\\\\n",
       "\t10 & -0.391307 & -0.420346 & 1.11874 & -0.150896 & 1.74326 & -0.628192 & -0.671727 & -0.39703 & $\\dots$ \\\\\n",
       "\t11 & -0.334871 & -0.292761 & -0.893634 & -0.150896 & -0.573489 & 1.59146 & -0.671727 & -0.39703 & $\\dots$ \\\\\n",
       "\t12 & -0.320762 & -0.262255 & 1.11874 & -0.150896 & -0.573489 & -0.628192 & 1.48831 & -0.39703 & $\\dots$ \\\\\n",
       "\t13 & 0.619847 & 1.08229 & -0.893634 & -0.150896 & -0.573489 & -0.628192 & -0.671727 & 2.51805 & $\\dots$ \\\\\n",
       "\t14 & -0.203185 & -0.0266836 & 1.11874 & -0.150896 & -0.573489 & -0.628192 & 1.48831 & -0.39703 & $\\dots$ \\\\\n",
       "\t15 & 0.619847 & 1.08229 & -0.893634 & -0.150896 & 1.74326 & -0.628192 & -0.671727 & -0.39703 & $\\dots$ \\\\\n",
       "\t16 & 0.149543 & 0.535122 & -0.893634 & -0.150896 & -0.573489 & -0.628192 & 1.48831 & -0.39703 & $\\dots$ \\\\\n",
       "\t17 & -0.438338 & -0.534203 & -0.893634 & -0.150896 & -0.573489 & 1.59146 & -0.671727 & -0.39703 & $\\dots$ \\\\\n",
       "\t18 & 1.06664 & 1.48065 & -0.893634 & -0.150896 & -0.573489 & -0.628192 & 1.48831 & -0.39703 & $\\dots$ \\\\\n",
       "\t19 & 0.36118 & 0.802482 & -0.893634 & -0.150896 & -0.573489 & -0.628192 & -0.671727 & 2.51805 & $\\dots$ \\\\\n",
       "\t20 & 0.0789973 & 0.436171 & -0.893634 & -0.150896 & -0.573489 & -0.628192 & 1.48831 & -0.39703 & $\\dots$ \\\\\n",
       "\t21 & -0.24081 & -0.0987005 & 1.11874 & -0.150896 & -0.573489 & -0.628192 & 1.48831 & -0.39703 & $\\dots$ \\\\\n",
       "\t22 & -0.717385 & -1.42237 & 1.11874 & -0.150896 & -0.573489 & 1.59146 & -0.671727 & -0.39703 & $\\dots$ \\\\\n",
       "\t23 & -0.203185 & -0.0266836 & -0.893634 & -0.150896 & 1.74326 & -0.628192 & -0.671727 & -0.39703 & $\\dots$ \\\\\n",
       "\t24 & -0.485368 & -0.655918 & -0.893634 & -0.150896 & 1.74326 & -0.628192 & -0.671727 & -0.39703 & $\\dots$ \\\\\n",
       "\t25 & -0.0385788 & 0.257821 & -0.893634 & -0.150896 & 1.74326 & -0.628192 & -0.671727 & -0.39703 & $\\dots$ \\\\\n",
       "\t26 & -0.621234 & -1.06364 & 1.11874 & -0.150896 & 1.74326 & -0.628192 & -0.671727 & -0.39703 & $\\dots$ \\\\\n",
       "\t27 & 1.20773 & 1.58981 & -0.893634 & -0.150896 & -0.573489 & -0.628192 & 1.48831 & -0.39703 & $\\dots$ \\\\\n",
       "\t28 & 0.00845161 & 0.331338 & -0.893634 & -0.150896 & -0.573489 & 1.59146 & -0.671727 & -0.39703 & $\\dots$ \\\\\n",
       "\t29 & 1.23908 & 1.61317 & -0.893634 & -0.150896 & -0.573489 & -0.628192 & -0.671727 & 2.51805 & $\\dots$ \\\\\n",
       "\t30 & -0.435986 & -0.528332 & -0.893634 & -0.150896 & -0.573489 & -0.628192 & 1.48831 & -0.39703 & $\\dots$ \\\\\n",
       "\t$\\dots$ & $\\dots$ & $\\dots$ & $\\dots$ & $\\dots$ & $\\dots$ & $\\dots$ & $\\dots$ & $\\dots$ &  \\\\\n",
       "\\end{tabular}\n"
      ],
      "text/plain": [
       "\u001b[1m3862×16 DataFrame\u001b[0m\n",
       "\u001b[1m  Row \u001b[0m│\u001b[1m wage       \u001b[0m\u001b[1m lwage      \u001b[0m\u001b[1m sex       \u001b[0m\u001b[1m shs       \u001b[0m\u001b[1m hsg       \u001b[0m\u001b[1m scl       \u001b[0m\u001b[1m cl\u001b[0m ⋯\n",
       "\u001b[1m      \u001b[0m│\u001b[90m Float64    \u001b[0m\u001b[90m Float64    \u001b[0m\u001b[90m Float64   \u001b[0m\u001b[90m Float64   \u001b[0m\u001b[90m Float64   \u001b[0m\u001b[90m Float64   \u001b[0m\u001b[90m Fl\u001b[0m ⋯\n",
       "──────┼─────────────────────────────────────────────────────────────────────────\n",
       "    1 │ -0.555914   -0.855849   -0.893634  -0.150896  -0.573489  -0.628192   1 ⋯\n",
       "    2 │ -0.640703   -1.13062    -0.893634  -0.150896   1.74326   -0.628192  -0\n",
       "    3 │ -0.62646    -1.08137    -0.893634  -0.150896  -0.573489   1.59146   -0\n",
       "    4 │ -0.297246   -0.212557    1.11874   -0.150896  -0.573489   1.59146   -0\n",
       "    5 │  0.110351    0.480836   -0.893634  -0.150896  -0.573489   1.59146   -0 ⋯\n",
       "    6 │  0.925545    1.36429    -0.893634  -0.150896  -0.573489  -0.628192   1\n",
       "    7 │ -0.367792   -0.36606    -0.893634   6.62538   -0.573489  -0.628192  -0\n",
       "    8 │  2.38349     2.30512     1.11874   -0.150896  -0.573489  -0.628192   1\n",
       "    9 │  0.603051    1.06541     1.11874   -0.150896  -0.573489  -0.628192  -0 ⋯\n",
       "   10 │ -0.391307   -0.420346    1.11874   -0.150896   1.74326   -0.628192  -0\n",
       "   11 │ -0.334871   -0.292761   -0.893634  -0.150896  -0.573489   1.59146   -0\n",
       "  ⋮   │     ⋮           ⋮           ⋮          ⋮          ⋮          ⋮         ⋱\n",
       " 3853 │  0.0319668   0.366979   -0.893634  -0.150896  -0.573489  -0.628192   1\n",
       " 3854 │ -0.508883   -0.720077    1.11874   -0.150896   1.74326   -0.628192  -0 ⋯\n",
       " 3855 │ -0.485368   -0.655918   -0.893634  -0.150896  -0.573489  -0.628192   1\n",
       " 3856 │ -0.767551   -1.64317    -0.893634  -0.150896  -0.573489   1.59146   -0\n",
       " 3857 │ -0.320762   -0.262255   -0.893634  -0.150896  -0.573489  -0.628192   1\n",
       " 3858 │  0.267119    0.688625   -0.893634  -0.150896  -0.573489  -0.628192   1 ⋯\n",
       " 3859 │  1.91318     2.05266    -0.893634  -0.150896  -0.573489  -0.628192  -0\n",
       " 3860 │ -0.13264     0.100902   -0.893634  -0.150896   1.74326   -0.628192  -0\n",
       " 3861 │ -0.203185   -0.0266836   1.11874   -0.150896  -0.573489  -0.628192  -0\n",
       " 3862 │ -0.851422   -2.08811     1.11874   -0.150896   1.74326   -0.628192  -0 ⋯\n",
       "\u001b[36m                                                10 columns and 3841 rows omitted\u001b[0m"
      ]
     },
     "execution_count": 18,
     "metadata": {},
     "output_type": "execute_result"
    }
   ],
   "source": [
    "df = DataFrame()\n",
    "for i in 1:size(data_train)[2]\n",
    "     p = (data_train[!, i] .- mean_1[i,2]) / std_1[i,2]\n",
    "     colname = names(data_train)[i]\n",
    "     df[!,colname] = p\n",
    "end\n",
    "data_train = df\n",
    "data_train"
   ]
  },
  {
   "cell_type": "code",
   "execution_count": 19,
   "metadata": {},
   "outputs": [
    {
     "data": {
      "text/html": [
       "<table class=\"data-frame\"><thead><tr><th></th><th>wage</th><th>lwage</th><th>sex</th><th>shs</th><th>hsg</th><th>scl</th><th>clg</th></tr><tr><th></th><th>Float64</th><th>Float64</th><th>Float64</th><th>Float64</th><th>Float64</th><th>Float64</th><th>Float64</th></tr></thead><tbody><p>1,288 rows × 16 columns (omitted printing of 9 columns)</p><tr><th>1</th><td>-0.67349</td><td>-1.24951</td><td>1.11874</td><td>-0.150896</td><td>-0.573489</td><td>-0.628192</td><td>1.48831</td></tr><tr><th>2</th><td>-0.461853</td><td>-0.594011</td><td>1.11874</td><td>-0.150896</td><td>-0.573489</td><td>-0.628192</td><td>-0.671727</td></tr><tr><th>3</th><td>-0.555914</td><td>-0.855849</td><td>1.11874</td><td>-0.150896</td><td>-0.573489</td><td>1.59146</td><td>-0.671727</td></tr><tr><th>4</th><td>-0.498805</td><td>-0.692294</td><td>-0.893634</td><td>-0.150896</td><td>1.74326</td><td>-0.628192</td><td>-0.671727</td></tr><tr><th>5</th><td>-0.273731</td><td>-0.164221</td><td>1.11874</td><td>-0.150896</td><td>-0.573489</td><td>-0.628192</td><td>-0.671727</td></tr><tr><th>6</th><td>-0.346322</td><td>-0.317912</td><td>1.11874</td><td>-0.150896</td><td>-0.573489</td><td>1.59146</td><td>-0.671727</td></tr><tr><th>7</th><td>-0.556854</td><td>-0.858674</td><td>-0.893634</td><td>-0.150896</td><td>-0.573489</td><td>1.59146</td><td>-0.671727</td></tr><tr><th>8</th><td>-0.181686</td><td>0.0131863</td><td>-0.893634</td><td>-0.150896</td><td>-0.573489</td><td>-0.628192</td><td>1.48831</td></tr><tr><th>9</th><td>-0.558527</td><td>-0.863707</td><td>1.11874</td><td>-0.150896</td><td>1.74326</td><td>-0.628192</td><td>-0.671727</td></tr><tr><th>10</th><td>0.0319668</td><td>0.366979</td><td>1.11874</td><td>-0.150896</td><td>-0.573489</td><td>-0.628192</td><td>1.48831</td></tr><tr><th>11</th><td>0.871796</td><td>1.31786</td><td>1.11874</td><td>-0.150896</td><td>-0.573489</td><td>-0.628192</td><td>1.48831</td></tr><tr><th>12</th><td>-0.649975</td><td>-1.16344</td><td>-0.893634</td><td>-0.150896</td><td>1.74326</td><td>-0.628192</td><td>-0.671727</td></tr><tr><th>13</th><td>-0.791066</td><td>-1.75703</td><td>1.11874</td><td>-0.150896</td><td>-0.573489</td><td>1.59146</td><td>-0.671727</td></tr><tr><th>14</th><td>-0.511021</td><td>-0.726027</td><td>-0.893634</td><td>-0.150896</td><td>-0.573489</td><td>1.59146</td><td>-0.671727</td></tr><tr><th>15</th><td>-0.0432819</td><td>0.250297</td><td>1.11874</td><td>-0.150896</td><td>-0.573489</td><td>-0.628192</td><td>-0.671727</td></tr><tr><th>16</th><td>0.518677</td><td>0.978069</td><td>-0.893634</td><td>-0.150896</td><td>-0.573489</td><td>-0.628192</td><td>1.48831</td></tr><tr><th>17</th><td>-0.00249603</td><td>0.314496</td><td>-0.893634</td><td>-0.150896</td><td>-0.573489</td><td>-0.628192</td><td>1.48831</td></tr><tr><th>18</th><td>-0.848174</td><td>-2.06862</td><td>-0.893634</td><td>-0.150896</td><td>-0.573489</td><td>-0.628192</td><td>1.48831</td></tr><tr><th>19</th><td>-0.67349</td><td>-1.24951</td><td>-0.893634</td><td>-0.150896</td><td>1.74326</td><td>-0.628192</td><td>-0.671727</td></tr><tr><th>20</th><td>-0.725746</td><td>-1.4573</td><td>-0.893634</td><td>6.62538</td><td>-0.573489</td><td>-0.628192</td><td>-0.671727</td></tr><tr><th>21</th><td>-0.555914</td><td>-0.855849</td><td>1.11874</td><td>-0.150896</td><td>1.74326</td><td>-0.628192</td><td>-0.671727</td></tr><tr><th>22</th><td>-0.320762</td><td>-0.262255</td><td>-0.893634</td><td>-0.150896</td><td>-0.573489</td><td>1.59146</td><td>-0.671727</td></tr><tr><th>23</th><td>-0.0856093</td><td>0.181105</td><td>-0.893634</td><td>-0.150896</td><td>-0.573489</td><td>-0.628192</td><td>1.48831</td></tr><tr><th>24</th><td>-0.979188</td><td>-3.10157</td><td>-0.893634</td><td>-0.150896</td><td>-0.573489</td><td>-0.628192</td><td>1.48831</td></tr><tr><th>25</th><td>-0.203185</td><td>-0.0266836</td><td>-0.893634</td><td>-0.150896</td><td>-0.573489</td><td>1.59146</td><td>-0.671727</td></tr><tr><th>26</th><td>-0.256935</td><td>-0.130488</td><td>-0.893634</td><td>-0.150896</td><td>-0.573489</td><td>-0.628192</td><td>1.48831</td></tr><tr><th>27</th><td>-0.67349</td><td>-1.24951</td><td>1.11874</td><td>-0.150896</td><td>-0.573489</td><td>1.59146</td><td>-0.671727</td></tr><tr><th>28</th><td>-0.0620941</td><td>0.21988</td><td>1.11874</td><td>-0.150896</td><td>-0.573489</td><td>-0.628192</td><td>1.48831</td></tr><tr><th>29</th><td>-0.41221</td><td>-0.470044</td><td>1.11874</td><td>-0.150896</td><td>-0.573489</td><td>-0.628192</td><td>1.48831</td></tr><tr><th>30</th><td>-0.602944</td><td>-1.00295</td><td>-0.893634</td><td>-0.150896</td><td>-0.573489</td><td>-0.628192</td><td>1.48831</td></tr><tr><th>&vellip;</th><td>&vellip;</td><td>&vellip;</td><td>&vellip;</td><td>&vellip;</td><td>&vellip;</td><td>&vellip;</td><td>&vellip;</td></tr></tbody></table>"
      ],
      "text/latex": [
       "\\begin{tabular}{r|cccccccc}\n",
       "\t& wage & lwage & sex & shs & hsg & scl & clg & \\\\\n",
       "\t\\hline\n",
       "\t& Float64 & Float64 & Float64 & Float64 & Float64 & Float64 & Float64 & \\\\\n",
       "\t\\hline\n",
       "\t1 & -0.67349 & -1.24951 & 1.11874 & -0.150896 & -0.573489 & -0.628192 & 1.48831 & $\\dots$ \\\\\n",
       "\t2 & -0.461853 & -0.594011 & 1.11874 & -0.150896 & -0.573489 & -0.628192 & -0.671727 & $\\dots$ \\\\\n",
       "\t3 & -0.555914 & -0.855849 & 1.11874 & -0.150896 & -0.573489 & 1.59146 & -0.671727 & $\\dots$ \\\\\n",
       "\t4 & -0.498805 & -0.692294 & -0.893634 & -0.150896 & 1.74326 & -0.628192 & -0.671727 & $\\dots$ \\\\\n",
       "\t5 & -0.273731 & -0.164221 & 1.11874 & -0.150896 & -0.573489 & -0.628192 & -0.671727 & $\\dots$ \\\\\n",
       "\t6 & -0.346322 & -0.317912 & 1.11874 & -0.150896 & -0.573489 & 1.59146 & -0.671727 & $\\dots$ \\\\\n",
       "\t7 & -0.556854 & -0.858674 & -0.893634 & -0.150896 & -0.573489 & 1.59146 & -0.671727 & $\\dots$ \\\\\n",
       "\t8 & -0.181686 & 0.0131863 & -0.893634 & -0.150896 & -0.573489 & -0.628192 & 1.48831 & $\\dots$ \\\\\n",
       "\t9 & -0.558527 & -0.863707 & 1.11874 & -0.150896 & 1.74326 & -0.628192 & -0.671727 & $\\dots$ \\\\\n",
       "\t10 & 0.0319668 & 0.366979 & 1.11874 & -0.150896 & -0.573489 & -0.628192 & 1.48831 & $\\dots$ \\\\\n",
       "\t11 & 0.871796 & 1.31786 & 1.11874 & -0.150896 & -0.573489 & -0.628192 & 1.48831 & $\\dots$ \\\\\n",
       "\t12 & -0.649975 & -1.16344 & -0.893634 & -0.150896 & 1.74326 & -0.628192 & -0.671727 & $\\dots$ \\\\\n",
       "\t13 & -0.791066 & -1.75703 & 1.11874 & -0.150896 & -0.573489 & 1.59146 & -0.671727 & $\\dots$ \\\\\n",
       "\t14 & -0.511021 & -0.726027 & -0.893634 & -0.150896 & -0.573489 & 1.59146 & -0.671727 & $\\dots$ \\\\\n",
       "\t15 & -0.0432819 & 0.250297 & 1.11874 & -0.150896 & -0.573489 & -0.628192 & -0.671727 & $\\dots$ \\\\\n",
       "\t16 & 0.518677 & 0.978069 & -0.893634 & -0.150896 & -0.573489 & -0.628192 & 1.48831 & $\\dots$ \\\\\n",
       "\t17 & -0.00249603 & 0.314496 & -0.893634 & -0.150896 & -0.573489 & -0.628192 & 1.48831 & $\\dots$ \\\\\n",
       "\t18 & -0.848174 & -2.06862 & -0.893634 & -0.150896 & -0.573489 & -0.628192 & 1.48831 & $\\dots$ \\\\\n",
       "\t19 & -0.67349 & -1.24951 & -0.893634 & -0.150896 & 1.74326 & -0.628192 & -0.671727 & $\\dots$ \\\\\n",
       "\t20 & -0.725746 & -1.4573 & -0.893634 & 6.62538 & -0.573489 & -0.628192 & -0.671727 & $\\dots$ \\\\\n",
       "\t21 & -0.555914 & -0.855849 & 1.11874 & -0.150896 & 1.74326 & -0.628192 & -0.671727 & $\\dots$ \\\\\n",
       "\t22 & -0.320762 & -0.262255 & -0.893634 & -0.150896 & -0.573489 & 1.59146 & -0.671727 & $\\dots$ \\\\\n",
       "\t23 & -0.0856093 & 0.181105 & -0.893634 & -0.150896 & -0.573489 & -0.628192 & 1.48831 & $\\dots$ \\\\\n",
       "\t24 & -0.979188 & -3.10157 & -0.893634 & -0.150896 & -0.573489 & -0.628192 & 1.48831 & $\\dots$ \\\\\n",
       "\t25 & -0.203185 & -0.0266836 & -0.893634 & -0.150896 & -0.573489 & 1.59146 & -0.671727 & $\\dots$ \\\\\n",
       "\t26 & -0.256935 & -0.130488 & -0.893634 & -0.150896 & -0.573489 & -0.628192 & 1.48831 & $\\dots$ \\\\\n",
       "\t27 & -0.67349 & -1.24951 & 1.11874 & -0.150896 & -0.573489 & 1.59146 & -0.671727 & $\\dots$ \\\\\n",
       "\t28 & -0.0620941 & 0.21988 & 1.11874 & -0.150896 & -0.573489 & -0.628192 & 1.48831 & $\\dots$ \\\\\n",
       "\t29 & -0.41221 & -0.470044 & 1.11874 & -0.150896 & -0.573489 & -0.628192 & 1.48831 & $\\dots$ \\\\\n",
       "\t30 & -0.602944 & -1.00295 & -0.893634 & -0.150896 & -0.573489 & -0.628192 & 1.48831 & $\\dots$ \\\\\n",
       "\t$\\dots$ & $\\dots$ & $\\dots$ & $\\dots$ & $\\dots$ & $\\dots$ & $\\dots$ & $\\dots$ &  \\\\\n",
       "\\end{tabular}\n"
      ],
      "text/plain": [
       "\u001b[1m1288×16 DataFrame\u001b[0m\n",
       "\u001b[1m  Row \u001b[0m│\u001b[1m wage       \u001b[0m\u001b[1m lwage      \u001b[0m\u001b[1m sex       \u001b[0m\u001b[1m shs       \u001b[0m\u001b[1m hsg       \u001b[0m\u001b[1m scl       \u001b[0m\u001b[1m cl\u001b[0m ⋯\n",
       "\u001b[1m      \u001b[0m│\u001b[90m Float64    \u001b[0m\u001b[90m Float64    \u001b[0m\u001b[90m Float64   \u001b[0m\u001b[90m Float64   \u001b[0m\u001b[90m Float64   \u001b[0m\u001b[90m Float64   \u001b[0m\u001b[90m Fl\u001b[0m ⋯\n",
       "──────┼─────────────────────────────────────────────────────────────────────────\n",
       "    1 │ -0.67349    -1.24951     1.11874   -0.150896  -0.573489  -0.628192   1 ⋯\n",
       "    2 │ -0.461853   -0.594011    1.11874   -0.150896  -0.573489  -0.628192  -0\n",
       "    3 │ -0.555914   -0.855849    1.11874   -0.150896  -0.573489   1.59146   -0\n",
       "    4 │ -0.498805   -0.692294   -0.893634  -0.150896   1.74326   -0.628192  -0\n",
       "    5 │ -0.273731   -0.164221    1.11874   -0.150896  -0.573489  -0.628192  -0 ⋯\n",
       "    6 │ -0.346322   -0.317912    1.11874   -0.150896  -0.573489   1.59146   -0\n",
       "    7 │ -0.556854   -0.858674   -0.893634  -0.150896  -0.573489   1.59146   -0\n",
       "    8 │ -0.181686    0.0131863  -0.893634  -0.150896  -0.573489  -0.628192   1\n",
       "    9 │ -0.558527   -0.863707    1.11874   -0.150896   1.74326   -0.628192  -0 ⋯\n",
       "   10 │  0.0319668   0.366979    1.11874   -0.150896  -0.573489  -0.628192   1\n",
       "   11 │  0.871796    1.31786     1.11874   -0.150896  -0.573489  -0.628192   1\n",
       "  ⋮   │     ⋮           ⋮           ⋮          ⋮          ⋮          ⋮         ⋱\n",
       " 1279 │ -0.226701   -0.0713485   1.11874   -0.150896  -0.573489  -0.628192   1\n",
       " 1280 │ -0.375986   -0.384787    1.11874   -0.150896   1.74326   -0.628192  -0 ⋯\n",
       " 1281 │ -0.67349    -1.24951    -0.893634  -0.150896   1.74326   -0.628192  -0\n",
       " 1282 │ -0.555914   -0.855849   -0.893634  -0.150896  -0.573489   1.59146   -0\n",
       " 1283 │  0.149543    0.535122    1.11874   -0.150896  -0.573489  -0.628192   1\n",
       " 1284 │ -0.0385788   0.257821   -0.893634  -0.150896   1.74326   -0.628192  -0 ⋯\n",
       " 1285 │ -0.466556   -0.60622    -0.893634  -0.150896  -0.573489  -0.628192   1\n",
       " 1286 │ -0.421407   -0.492363   -0.893634  -0.150896  -0.573489  -0.628192   1\n",
       " 1287 │  0.737424    1.19614    -0.893634  -0.150896  -0.573489  -0.628192  -0\n",
       " 1288 │  0.468678    0.924197   -0.893634  -0.150896   1.74326   -0.628192  -0 ⋯\n",
       "\u001b[36m                                                10 columns and 1267 rows omitted\u001b[0m"
      ]
     },
     "execution_count": 19,
     "metadata": {},
     "output_type": "execute_result"
    }
   ],
   "source": [
    "df = DataFrame()\n",
    "for i in 1:size(data_test)[2]\n",
    "     p = (data_test[!, i] .- mean_1[i,2]) / std_1[i,2]\n",
    "     colname = names(data_test)[i]\n",
    "     df[!,colname] = p\n",
    "end\n",
    "data_test = df\n",
    "data_test"
   ]
  },
  {
   "cell_type": "code",
   "execution_count": 20,
   "metadata": {},
   "outputs": [
    {
     "data": {
      "text/plain": [
       "(DataFrame, DataFrame)"
      ]
     },
     "execution_count": 20,
     "metadata": {},
     "output_type": "execute_result"
    }
   ],
   "source": [
    "typeof(data_train), typeof(data_test)"
   ]
  },
  {
   "cell_type": "markdown",
   "metadata": {
    "papermill": {
     "duration": 0.009183,
     "end_time": "2021-03-28T13:27:45.774239",
     "exception": false,
     "start_time": "2021-03-28T13:27:45.765056",
     "status": "completed"
    },
    "tags": []
   },
   "source": [
    "Then, we construct the inputs for our network."
   ]
  },
  {
   "cell_type": "code",
   "execution_count": 21,
   "metadata": {
    "execution": {
     "iopub.execute_input": "2021-03-28T13:27:45.796900Z",
     "iopub.status.busy": "2021-03-28T13:27:45.795499Z",
     "iopub.status.idle": "2021-03-28T13:27:45.816633Z",
     "shell.execute_reply": "2021-03-28T13:27:45.815366Z"
    },
    "papermill": {
     "duration": 0.033096,
     "end_time": "2021-03-28T13:27:45.816740",
     "exception": false,
     "start_time": "2021-03-28T13:27:45.783644",
     "status": "completed"
    },
    "tags": []
   },
   "outputs": [
    {
     "name": "stdout",
     "output_type": "stream",
     "text": [
      "lwage ~ sex + exp1 + shs + hsg + scl + clg + mw + so + we\n"
     ]
    }
   ],
   "source": [
    "formula_basic = @formula(lwage ~ sex + exp1 + shs + hsg+ scl + clg + mw + so + we)\n",
    "println(formula_basic)"
   ]
  },
  {
   "cell_type": "code",
   "execution_count": 45,
   "metadata": {},
   "outputs": [
    {
     "data": {
      "text/plain": [
       "1288×10 Matrix{Float64}:\n",
       " 1.0   1.11874   -0.634592   -0.150896  …  -0.596613  -0.649488  -0.524344\n",
       " 1.0   1.11874    1.07799    -0.150896     -0.596613  -0.649488  -0.524344\n",
       " 1.0   1.11874   -0.777306   -0.150896     -0.596613  -0.649488  -0.524344\n",
       " 1.0  -0.893634  -0.539448   -0.150896     -0.596613  -0.649488  -0.524344\n",
       " 1.0   1.11874   -0.254019   -0.150896     -0.596613  -0.649488  -0.524344\n",
       " 1.0   1.11874    1.03041    -0.150896  …  -0.596613  -0.649488  -0.524344\n",
       " 1.0  -0.893634  -0.87245    -0.150896     -0.596613  -0.649488  -0.524344\n",
       " 1.0  -0.893634   1.17313    -0.150896     -0.596613  -0.649488  -0.524344\n",
       " 1.0   1.11874    0.0314105  -0.150896     -0.596613  -0.649488  -0.524344\n",
       " 1.0   1.11874    1.64884    -0.150896     -0.596613  -0.649488  -0.524344\n",
       " 1.0   1.11874   -0.254019   -0.150896  …  -0.596613  -0.649488  -0.524344\n",
       " 1.0  -0.893634   1.26827    -0.150896     -0.596613  -0.649488  -0.524344\n",
       " 1.0   1.11874    0.364412   -0.150896     -0.596613  -0.649488  -0.524344\n",
       " ⋮                                      ⋱                        \n",
       " 1.0  -0.893634   0.792556   -0.150896     -0.596613  -0.649488   1.90665\n",
       " 1.0  -0.893634  -0.349162   -0.150896     -0.596613  -0.649488   1.90665\n",
       " 1.0   1.11874   -1.11031    -0.150896     -0.596613  -0.649488   1.90665\n",
       " 1.0   1.11874    2.50513    -0.150896     -0.596613  -0.649488   1.90665\n",
       " 1.0  -0.893634   0.60227    -0.150896  …  -0.596613  -0.649488   1.90665\n",
       " 1.0  -0.893634   1.69642    -0.150896     -0.596613  -0.649488   1.90665\n",
       " 1.0   1.11874    1.93427    -0.150896     -0.596613  -0.649488   1.90665\n",
       " 1.0  -0.893634   0.126554   -0.150896     -0.596613  -0.649488   1.90665\n",
       " 1.0  -0.893634  -0.349162   -0.150896     -0.596613  -0.649488   1.90665\n",
       " 1.0  -0.893634  -0.444305   -0.150896  …  -0.596613  -0.649488   1.90665\n",
       " 1.0  -0.893634  -0.254019   -0.150896     -0.596613  -0.649488   1.90665\n",
       " 1.0  -0.893634  -0.349162   -0.150896     -0.596613  -0.649488   1.90665"
      ]
     },
     "execution_count": 45,
     "metadata": {},
     "output_type": "execute_result"
    }
   ],
   "source": [
    "model_X_basic_train = ModelMatrix(ModelFrame(formula_basic, data_train)).m\n",
    "model_X_basic_test = ModelMatrix(ModelFrame(formula_basic, data_test)).m"
   ]
  },
  {
   "cell_type": "code",
   "execution_count": 46,
   "metadata": {
    "execution": {
     "iopub.execute_input": "2021-03-28T13:27:45.796900Z",
     "iopub.status.busy": "2021-03-28T13:27:45.795499Z",
     "iopub.status.idle": "2021-03-28T13:27:45.816633Z",
     "shell.execute_reply": "2021-03-28T13:27:45.815366Z"
    },
    "papermill": {
     "duration": 0.033096,
     "end_time": "2021-03-28T13:27:45.816740",
     "exception": false,
     "start_time": "2021-03-28T13:27:45.783644",
     "status": "completed"
    },
    "tags": []
   },
   "outputs": [
    {
     "data": {
      "text/plain": [
       "1288-element Vector{Float64}:\n",
       " -1.2495116701816313\n",
       " -0.5940111369079969\n",
       " -0.8558489593188235\n",
       " -0.6922940066202594\n",
       " -0.16422085652454593\n",
       " -0.3179120121732921\n",
       " -0.8586738886527183\n",
       "  0.013186299642166738\n",
       " -0.8637071816306149\n",
       "  0.36697911041067455\n",
       "  1.3178594848348544\n",
       " -1.1634376242266362\n",
       " -1.7570311742901377\n",
       "  ⋮\n",
       " -1.2495116701816313\n",
       "  0.43617103718140365\n",
       " -0.07134846692710259\n",
       " -0.3847866913343217\n",
       " -1.2495116701816313\n",
       " -0.8558489593188235\n",
       "  0.5351222789388115\n",
       "  0.25782050367552267\n",
       " -0.6062199606652643\n",
       " -0.4923631674195659\n",
       "  1.1961444692773646\n",
       "  0.9241967739720466"
      ]
     },
     "execution_count": 46,
     "metadata": {},
     "output_type": "execute_result"
    }
   ],
   "source": [
    "Y_train = data_train[!,\"lwage\"]\n",
    "Y_test = data_test[!,\"lwage\"]"
   ]
  },
  {
   "cell_type": "code",
   "execution_count": 19,
   "metadata": {
    "scrolled": true
   },
   "outputs": [],
   "source": [
    "# df = DataFrame()\n",
    "# for i in 1:size(data_train)[2]\n",
    "#      p = normalize(data_train[!,i])\n",
    "#      colname = names(data_train)[i]\n",
    "#      df[!,colname] = p\n",
    "# end\n",
    "# df\n",
    "# # data_test = df\n",
    "# # data_test\n"
   ]
  },
  {
   "cell_type": "code",
   "execution_count": 20,
   "metadata": {},
   "outputs": [],
   "source": [
    "# normalize(data_train[!,])"
   ]
  },
  {
   "cell_type": "code",
   "execution_count": 24,
   "metadata": {},
   "outputs": [
    {
     "data": {
      "text/plain": [
       "(3862,)"
      ]
     },
     "execution_count": 24,
     "metadata": {},
     "output_type": "execute_result"
    }
   ],
   "source": [
    "size(Y_train)"
   ]
  },
  {
   "cell_type": "code",
   "execution_count": 25,
   "metadata": {},
   "outputs": [
    {
     "data": {
      "text/plain": [
       "3862×10 Matrix{Float64}:\n",
       " 1.0  -0.893634   1.07799    -0.150896  …   1.67569   -0.649488  -0.524344\n",
       " 1.0  -0.893634  -0.444305   -0.150896     -0.596613   1.53928   -0.524344\n",
       " 1.0  -0.893634   1.12556    -0.150896     -0.596613  -0.649488   1.90665\n",
       " 1.0   1.11874   -0.920021   -0.150896     -0.596613   1.53928   -0.524344\n",
       " 1.0  -0.893634   2.17213    -0.150896     -0.596613  -0.649488  -0.524344\n",
       " 1.0  -0.893634  -0.158876   -0.150896  …   1.67569   -0.649488  -0.524344\n",
       " 1.0  -0.893634   0.411983    6.62538      -0.596613  -0.649488   1.90665\n",
       " 1.0   1.11874   -0.444305   -0.150896     -0.596613  -0.649488  -0.524344\n",
       " 1.0   1.11874   -1.20545    -0.150896     -0.596613  -0.649488  -0.524344\n",
       " 1.0   1.11874   -0.349162   -0.150896     -0.596613   1.53928   -0.524344\n",
       " 1.0  -0.893634   0.935271   -0.150896  …   1.67569   -0.649488  -0.524344\n",
       " 1.0   1.11874    0.507126   -0.150896     -0.596613  -0.649488  -0.524344\n",
       " 1.0  -0.893634   0.697413   -0.150896     -0.596613   1.53928   -0.524344\n",
       " ⋮                                      ⋱                        \n",
       " 1.0   1.11874   -0.444305   -0.150896  …  -0.596613  -0.649488   1.90665\n",
       " 1.0  -0.893634   0.697413   -0.150896     -0.596613  -0.649488  -0.524344\n",
       " 1.0  -0.893634  -0.920021   -0.150896     -0.596613  -0.649488   1.90665\n",
       " 1.0   1.11874   -0.824878   -0.150896      1.67569   -0.649488  -0.524344\n",
       " 1.0  -0.893634  -0.824878   -0.150896     -0.596613   1.53928   -0.524344\n",
       " 1.0  -0.893634  -0.87245    -0.150896  …  -0.596613   1.53928   -0.524344\n",
       " 1.0  -0.893634  -0.539448   -0.150896     -0.596613  -0.649488   1.90665\n",
       " 1.0  -0.893634  -1.01516    -0.150896     -0.596613  -0.649488   1.90665\n",
       " 1.0  -0.893634  -0.444305   -0.150896     -0.596613   1.53928   -0.524344\n",
       " 1.0  -0.893634  -0.0637326  -0.150896     -0.596613   1.53928   -0.524344\n",
       " 1.0   1.11874   -1.20545    -0.150896  …  -0.596613  -0.649488  -0.524344\n",
       " 1.0   1.11874   -0.254019   -0.150896      1.67569   -0.649488  -0.524344"
      ]
     },
     "execution_count": 25,
     "metadata": {},
     "output_type": "execute_result"
    }
   ],
   "source": [
    "model_X_basic_train"
   ]
  },
  {
   "cell_type": "markdown",
   "metadata": {
    "papermill": {
     "duration": 0.009282,
     "end_time": "2021-03-28T13:27:45.835468",
     "exception": false,
     "start_time": "2021-03-28T13:27:45.826186",
     "status": "completed"
    },
    "tags": []
   },
   "source": [
    "### Neural Networks"
   ]
  },
  {
   "cell_type": "markdown",
   "metadata": {
    "papermill": {
     "duration": 0.00955,
     "end_time": "2021-03-28T13:27:45.854659",
     "exception": false,
     "start_time": "2021-03-28T13:27:45.845109",
     "status": "completed"
    },
    "tags": []
   },
   "source": [
    "First, we need to determine the structure of our network. We are using the R package *keras* to build a simple sequential neural network with three dense layers."
   ]
  },
  {
   "cell_type": "code",
   "execution_count": 26,
   "metadata": {},
   "outputs": [
    {
     "data": {
      "text/plain": [
       "(3862, 10)"
      ]
     },
     "execution_count": 26,
     "metadata": {},
     "output_type": "execute_result"
    }
   ],
   "source": [
    "size(model_X_basic_train)"
   ]
  },
  {
   "cell_type": "code",
   "execution_count": 82,
   "metadata": {
    "scrolled": true
   },
   "outputs": [],
   "source": [
    "using Flux\n",
    "using Flux: crossentropy, @epochs\n",
    "using Flux.Data: DataLoader\n",
    "using Flux: throttle\n",
    "using Flux: onehotbatch, onecold, @epochs"
   ]
  },
  {
   "cell_type": "code",
   "execution_count": 83,
   "metadata": {},
   "outputs": [
    {
     "data": {
      "text/plain": [
       "Chain(Dense(10, 20, relu), Dense(20, 10, relu), Dense(10, 1))"
      ]
     },
     "execution_count": 83,
     "metadata": {},
     "output_type": "execute_result"
    }
   ],
   "source": [
    "model_nn = Chain(Dense(size(model_X_basic_train,2), 20, relu), \n",
    "              Dense(20, size(model_X_basic_train,2), relu),\n",
    "              Dense(10, 1))"
   ]
  },
  {
   "cell_type": "code",
   "execution_count": 84,
   "metadata": {},
   "outputs": [
    {
     "data": {
      "text/plain": [
       "metrics (generic function with 1 method)"
      ]
     },
     "execution_count": 84,
     "metadata": {},
     "output_type": "execute_result"
    }
   ],
   "source": [
    "# compile the Flux model\n",
    "model = model_nn\n",
    "#opt(x, y) = Descent()\n",
    "opt1 = ADAM()\n",
    "loss(x, y) = Flux.Losses.mse(model(x), y)\n",
    "metrics(x, y) = Flux.mae(model(x), y)"
   ]
  },
  {
   "cell_type": "code",
   "execution_count": 85,
   "metadata": {},
   "outputs": [
    {
     "data": {
      "text/plain": [
       "Params([Float32[-0.1129414 -0.29369408 … 0.3361785 -0.3730879; -0.065885015 0.008057578 … 0.2860582 0.0017144078; … ; 0.3849911 -0.3340452 … 0.17186706 0.15489891; -0.27252343 -0.23161511 … 0.04841264 -0.323494], Float32[0.0, 0.0, 0.0, 0.0, 0.0, 0.0, 0.0, 0.0, 0.0, 0.0, 0.0, 0.0, 0.0, 0.0, 0.0, 0.0, 0.0, 0.0, 0.0, 0.0], Float32[-0.15441547 0.122873 … -0.2977946 0.09255712; 0.2533373 -0.25251332 … -0.29327345 0.06759121; … ; 0.43840528 0.38483554 … 0.18124762 -0.3953458; 0.42269453 0.3865057 … -0.15502952 0.3532663], Float32[0.0, 0.0, 0.0, 0.0, 0.0, 0.0, 0.0, 0.0, 0.0, 0.0], Float32[-0.31053326 0.18248866 … -0.31109056 -0.29544342], Float32[0.0]])"
      ]
     },
     "execution_count": 85,
     "metadata": {},
     "output_type": "execute_result"
    }
   ],
   "source": [
    "ps = Flux.params(model)"
   ]
  },
  {
   "cell_type": "markdown",
   "metadata": {
    "papermill": {
     "duration": 0.009512,
     "end_time": "2021-03-28T13:27:46.843449",
     "exception": false,
     "start_time": "2021-03-28T13:27:46.833937",
     "status": "completed"
    },
    "tags": []
   },
   "source": [
    "Let us have a look at the structure of our network in detail."
   ]
  },
  {
   "cell_type": "code",
   "execution_count": 86,
   "metadata": {},
   "outputs": [
    {
     "data": {
      "text/plain": [
       "Chain(Dense(10, 20, relu), Dense(20, 10, relu), Dense(10, 1))"
      ]
     },
     "execution_count": 86,
     "metadata": {},
     "output_type": "execute_result"
    }
   ],
   "source": [
    "model"
   ]
  },
  {
   "cell_type": "markdown",
   "metadata": {
    "papermill": {
     "duration": 0.009881,
     "end_time": "2021-03-28T13:27:55.891253",
     "exception": false,
     "start_time": "2021-03-28T13:27:55.881372",
     "status": "completed"
    },
    "tags": []
   },
   "source": [
    "It is worth to notice that we have in total $441$ trainable parameters."
   ]
  },
  {
   "cell_type": "markdown",
   "metadata": {
    "papermill": {
     "duration": 0.009739,
     "end_time": "2021-03-28T13:27:55.910957",
     "exception": false,
     "start_time": "2021-03-28T13:27:55.901218",
     "status": "completed"
    },
    "tags": []
   },
   "source": [
    "Now, let us train the network. Note that this takes some computation time. Thus, we are using gpu to speed up. The exact speed-up varies based on a number of factors including model architecture, batch-size, input pipeline complexity, etc."
   ]
  },
  {
   "cell_type": "code",
   "execution_count": 44,
   "metadata": {},
   "outputs": [],
   "source": [
    "# m1 = zeros(size(model_X_basic_train, 1), size(model_X_basic_train, 2) - 1 )\n",
    "# Y_train = hcat(Y_train, m1)"
   ]
  },
  {
   "cell_type": "code",
   "execution_count": 87,
   "metadata": {
    "scrolled": true
   },
   "outputs": [
    {
     "data": {
      "text/plain": [
       "1.5247699038109273"
      ]
     },
     "execution_count": 87,
     "metadata": {},
     "output_type": "execute_result"
    }
   ],
   "source": [
    "loss(model_X_basic_train', Y_train')"
   ]
  },
  {
   "cell_type": "code",
   "execution_count": 90,
   "metadata": {},
   "outputs": [
    {
     "data": {
      "text/plain": [
       "Descent(0.1)"
      ]
     },
     "execution_count": 90,
     "metadata": {},
     "output_type": "execute_result"
    }
   ],
   "source": [
    "opt(model_X_basic_train', Y_train)"
   ]
  },
  {
   "cell_type": "code",
   "execution_count": 91,
   "metadata": {
    "scrolled": true
   },
   "outputs": [
    {
     "data": {
      "text/plain": [
       "DataLoader{Tuple{Adjoint{Float64, Matrix{Float64}}, Adjoint{Float64, Vector{Float64}}}, Random._GLOBAL_RNG}(([1.0 1.0 … 1.0 1.0; -0.8936342512056518 -0.8936342512056518 … 1.1187362899933146 1.1187362899933146; … ; -0.6494880907521049 1.5392754402117947 … -0.6494880907521049 -0.6494880907521049; -0.5243443952053061 -0.5243443952053061 … -0.5243443952053061 -0.5243443952053061], [-0.8558489593188235 -1.1306215839580365 … -0.026683600452133343 -2.0881111049638306]), 1, 3862, true, 3862, [1, 2, 3, 4, 5, 6, 7, 8, 9, 10  …  3853, 3854, 3855, 3856, 3857, 3858, 3859, 3860, 3861, 3862], false, Random._GLOBAL_RNG())"
      ]
     },
     "execution_count": 91,
     "metadata": {},
     "output_type": "execute_result"
    }
   ],
   "source": [
    "data = DataLoader((model_X_basic_train', Y_train'))"
   ]
  },
  {
   "cell_type": "code",
   "execution_count": 92,
   "metadata": {
    "scrolled": true
   },
   "outputs": [
    {
     "name": "stderr",
     "output_type": "stream",
     "text": [
      "┌ Info: Epoch 1\n",
      "└ @ Main C:\\Users\\PC\\.julia\\packages\\Flux\\qp1gc\\src\\optimise\\train.jl:135\n"
     ]
    },
    {
     "name": "stdout",
     "output_type": "stream",
     "text": [
      "training\n",
      "training\n"
     ]
    },
    {
     "name": "stderr",
     "output_type": "stream",
     "text": [
      "┌ Info: Epoch 2\n",
      "└ @ Main C:\\Users\\PC\\.julia\\packages\\Flux\\qp1gc\\src\\optimise\\train.jl:135\n"
     ]
    },
    {
     "name": "stdout",
     "output_type": "stream",
     "text": [
      "training\n"
     ]
    },
    {
     "name": "stderr",
     "output_type": "stream",
     "text": [
      "┌ Info: Epoch 3\n",
      "└ @ Main C:\\Users\\PC\\.julia\\packages\\Flux\\qp1gc\\src\\optimise\\train.jl:135\n"
     ]
    },
    {
     "name": "stdout",
     "output_type": "stream",
     "text": [
      "training\n"
     ]
    },
    {
     "name": "stderr",
     "output_type": "stream",
     "text": [
      "┌ Info: Epoch 4\n",
      "└ @ Main C:\\Users\\PC\\.julia\\packages\\Flux\\qp1gc\\src\\optimise\\train.jl:135\n"
     ]
    },
    {
     "name": "stdout",
     "output_type": "stream",
     "text": [
      "training\n"
     ]
    },
    {
     "name": "stderr",
     "output_type": "stream",
     "text": [
      "┌ Info: Epoch 5\n",
      "└ @ Main C:\\Users\\PC\\.julia\\packages\\Flux\\qp1gc\\src\\optimise\\train.jl:135\n"
     ]
    },
    {
     "name": "stdout",
     "output_type": "stream",
     "text": [
      "training\n"
     ]
    },
    {
     "name": "stderr",
     "output_type": "stream",
     "text": [
      "┌ Info: Epoch 6\n",
      "└ @ Main C:\\Users\\PC\\.julia\\packages\\Flux\\qp1gc\\src\\optimise\\train.jl:135\n"
     ]
    },
    {
     "name": "stdout",
     "output_type": "stream",
     "text": [
      "training\n"
     ]
    },
    {
     "name": "stderr",
     "output_type": "stream",
     "text": [
      "┌ Info: Epoch 7\n",
      "└ @ Main C:\\Users\\PC\\.julia\\packages\\Flux\\qp1gc\\src\\optimise\\train.jl:135\n"
     ]
    },
    {
     "name": "stdout",
     "output_type": "stream",
     "text": [
      "training\n"
     ]
    },
    {
     "name": "stderr",
     "output_type": "stream",
     "text": [
      "┌ Info: Epoch 8\n",
      "└ @ Main C:\\Users\\PC\\.julia\\packages\\Flux\\qp1gc\\src\\optimise\\train.jl:135\n"
     ]
    },
    {
     "name": "stdout",
     "output_type": "stream",
     "text": [
      "training\n"
     ]
    },
    {
     "name": "stderr",
     "output_type": "stream",
     "text": [
      "┌ Info: Epoch 9\n",
      "└ @ Main C:\\Users\\PC\\.julia\\packages\\Flux\\qp1gc\\src\\optimise\\train.jl:135\n"
     ]
    },
    {
     "name": "stdout",
     "output_type": "stream",
     "text": [
      "training\n"
     ]
    },
    {
     "name": "stderr",
     "output_type": "stream",
     "text": [
      "┌ Info: Epoch 10\n",
      "└ @ Main C:\\Users\\PC\\.julia\\packages\\Flux\\qp1gc\\src\\optimise\\train.jl:135\n"
     ]
    },
    {
     "name": "stdout",
     "output_type": "stream",
     "text": [
      "training\n"
     ]
    },
    {
     "name": "stderr",
     "output_type": "stream",
     "text": [
      "┌ Info: Epoch 11\n",
      "└ @ Main C:\\Users\\PC\\.julia\\packages\\Flux\\qp1gc\\src\\optimise\\train.jl:135\n"
     ]
    },
    {
     "name": "stdout",
     "output_type": "stream",
     "text": [
      "training\n"
     ]
    },
    {
     "name": "stderr",
     "output_type": "stream",
     "text": [
      "┌ Info: Epoch 12\n",
      "└ @ Main C:\\Users\\PC\\.julia\\packages\\Flux\\qp1gc\\src\\optimise\\train.jl:135\n"
     ]
    },
    {
     "name": "stdout",
     "output_type": "stream",
     "text": [
      "training\n"
     ]
    },
    {
     "name": "stderr",
     "output_type": "stream",
     "text": [
      "┌ Info: Epoch 13\n",
      "└ @ Main C:\\Users\\PC\\.julia\\packages\\Flux\\qp1gc\\src\\optimise\\train.jl:135\n"
     ]
    },
    {
     "name": "stdout",
     "output_type": "stream",
     "text": [
      "training\n"
     ]
    },
    {
     "name": "stderr",
     "output_type": "stream",
     "text": [
      "┌ Info: Epoch 14\n",
      "└ @ Main C:\\Users\\PC\\.julia\\packages\\Flux\\qp1gc\\src\\optimise\\train.jl:135\n"
     ]
    },
    {
     "name": "stdout",
     "output_type": "stream",
     "text": [
      "training\n"
     ]
    },
    {
     "name": "stderr",
     "output_type": "stream",
     "text": [
      "┌ Info: Epoch 15\n",
      "└ @ Main C:\\Users\\PC\\.julia\\packages\\Flux\\qp1gc\\src\\optimise\\train.jl:135\n"
     ]
    },
    {
     "name": "stdout",
     "output_type": "stream",
     "text": [
      "training\n"
     ]
    },
    {
     "name": "stderr",
     "output_type": "stream",
     "text": [
      "┌ Info: Epoch 16\n",
      "└ @ Main C:\\Users\\PC\\.julia\\packages\\Flux\\qp1gc\\src\\optimise\\train.jl:135\n"
     ]
    },
    {
     "name": "stdout",
     "output_type": "stream",
     "text": [
      "training\n"
     ]
    },
    {
     "name": "stderr",
     "output_type": "stream",
     "text": [
      "┌ Info: Epoch 17\n",
      "└ @ Main C:\\Users\\PC\\.julia\\packages\\Flux\\qp1gc\\src\\optimise\\train.jl:135\n"
     ]
    },
    {
     "name": "stdout",
     "output_type": "stream",
     "text": [
      "training\n"
     ]
    },
    {
     "name": "stderr",
     "output_type": "stream",
     "text": [
      "┌ Info: Epoch 18\n",
      "└ @ Main C:\\Users\\PC\\.julia\\packages\\Flux\\qp1gc\\src\\optimise\\train.jl:135\n"
     ]
    },
    {
     "name": "stdout",
     "output_type": "stream",
     "text": [
      "training\n"
     ]
    },
    {
     "name": "stderr",
     "output_type": "stream",
     "text": [
      "┌ Info: Epoch 19\n",
      "└ @ Main C:\\Users\\PC\\.julia\\packages\\Flux\\qp1gc\\src\\optimise\\train.jl:135\n"
     ]
    },
    {
     "name": "stdout",
     "output_type": "stream",
     "text": [
      "training\n"
     ]
    },
    {
     "name": "stderr",
     "output_type": "stream",
     "text": [
      "┌ Info: Epoch 20\n",
      "└ @ Main C:\\Users\\PC\\.julia\\packages\\Flux\\qp1gc\\src\\optimise\\train.jl:135\n"
     ]
    },
    {
     "name": "stdout",
     "output_type": "stream",
     "text": [
      "training\n"
     ]
    },
    {
     "name": "stderr",
     "output_type": "stream",
     "text": [
      "┌ Info: Epoch 21\n",
      "└ @ Main C:\\Users\\PC\\.julia\\packages\\Flux\\qp1gc\\src\\optimise\\train.jl:135\n"
     ]
    },
    {
     "name": "stdout",
     "output_type": "stream",
     "text": [
      "training\n"
     ]
    },
    {
     "name": "stderr",
     "output_type": "stream",
     "text": [
      "┌ Info: Epoch 22\n",
      "└ @ Main C:\\Users\\PC\\.julia\\packages\\Flux\\qp1gc\\src\\optimise\\train.jl:135\n"
     ]
    },
    {
     "name": "stdout",
     "output_type": "stream",
     "text": [
      "training\n"
     ]
    },
    {
     "name": "stderr",
     "output_type": "stream",
     "text": [
      "┌ Info: Epoch 23\n",
      "└ @ Main C:\\Users\\PC\\.julia\\packages\\Flux\\qp1gc\\src\\optimise\\train.jl:135\n"
     ]
    },
    {
     "name": "stdout",
     "output_type": "stream",
     "text": [
      "training\n"
     ]
    },
    {
     "name": "stderr",
     "output_type": "stream",
     "text": [
      "┌ Info: Epoch 24\n",
      "└ @ Main C:\\Users\\PC\\.julia\\packages\\Flux\\qp1gc\\src\\optimise\\train.jl:135\n"
     ]
    },
    {
     "name": "stdout",
     "output_type": "stream",
     "text": [
      "training\n"
     ]
    },
    {
     "name": "stderr",
     "output_type": "stream",
     "text": [
      "┌ Info: Epoch 25\n",
      "└ @ Main C:\\Users\\PC\\.julia\\packages\\Flux\\qp1gc\\src\\optimise\\train.jl:135\n"
     ]
    },
    {
     "name": "stdout",
     "output_type": "stream",
     "text": [
      "training\n"
     ]
    },
    {
     "name": "stderr",
     "output_type": "stream",
     "text": [
      "┌ Info: Epoch 26\n",
      "└ @ Main C:\\Users\\PC\\.julia\\packages\\Flux\\qp1gc\\src\\optimise\\train.jl:135\n"
     ]
    },
    {
     "name": "stdout",
     "output_type": "stream",
     "text": [
      "training\n"
     ]
    },
    {
     "name": "stderr",
     "output_type": "stream",
     "text": [
      "┌ Info: Epoch 27\n",
      "└ @ Main C:\\Users\\PC\\.julia\\packages\\Flux\\qp1gc\\src\\optimise\\train.jl:135\n"
     ]
    },
    {
     "name": "stdout",
     "output_type": "stream",
     "text": [
      "training\n"
     ]
    },
    {
     "name": "stderr",
     "output_type": "stream",
     "text": [
      "┌ Info: Epoch 28\n",
      "└ @ Main C:\\Users\\PC\\.julia\\packages\\Flux\\qp1gc\\src\\optimise\\train.jl:135\n"
     ]
    },
    {
     "name": "stdout",
     "output_type": "stream",
     "text": [
      "training\n"
     ]
    },
    {
     "name": "stderr",
     "output_type": "stream",
     "text": [
      "┌ Info: Epoch 29\n",
      "└ @ Main C:\\Users\\PC\\.julia\\packages\\Flux\\qp1gc\\src\\optimise\\train.jl:135\n"
     ]
    },
    {
     "name": "stdout",
     "output_type": "stream",
     "text": [
      "training\n"
     ]
    },
    {
     "name": "stderr",
     "output_type": "stream",
     "text": [
      "┌ Info: Epoch 30\n",
      "└ @ Main C:\\Users\\PC\\.julia\\packages\\Flux\\qp1gc\\src\\optimise\\train.jl:135\n"
     ]
    },
    {
     "name": "stdout",
     "output_type": "stream",
     "text": [
      "training\n"
     ]
    },
    {
     "name": "stderr",
     "output_type": "stream",
     "text": [
      "┌ Info: Epoch 31\n",
      "└ @ Main C:\\Users\\PC\\.julia\\packages\\Flux\\qp1gc\\src\\optimise\\train.jl:135\n"
     ]
    },
    {
     "name": "stdout",
     "output_type": "stream",
     "text": [
      "training\n"
     ]
    },
    {
     "name": "stderr",
     "output_type": "stream",
     "text": [
      "┌ Info: Epoch 32\n",
      "└ @ Main C:\\Users\\PC\\.julia\\packages\\Flux\\qp1gc\\src\\optimise\\train.jl:135\n"
     ]
    },
    {
     "name": "stdout",
     "output_type": "stream",
     "text": [
      "training\n"
     ]
    },
    {
     "name": "stderr",
     "output_type": "stream",
     "text": [
      "┌ Info: Epoch 33\n",
      "└ @ Main C:\\Users\\PC\\.julia\\packages\\Flux\\qp1gc\\src\\optimise\\train.jl:135\n"
     ]
    },
    {
     "name": "stdout",
     "output_type": "stream",
     "text": [
      "training\n"
     ]
    },
    {
     "name": "stderr",
     "output_type": "stream",
     "text": [
      "┌ Info: Epoch 34\n",
      "└ @ Main C:\\Users\\PC\\.julia\\packages\\Flux\\qp1gc\\src\\optimise\\train.jl:135\n"
     ]
    },
    {
     "name": "stdout",
     "output_type": "stream",
     "text": [
      "training\n"
     ]
    },
    {
     "name": "stderr",
     "output_type": "stream",
     "text": [
      "┌ Info: Epoch 35\n",
      "└ @ Main C:\\Users\\PC\\.julia\\packages\\Flux\\qp1gc\\src\\optimise\\train.jl:135\n"
     ]
    },
    {
     "name": "stdout",
     "output_type": "stream",
     "text": [
      "training\n"
     ]
    },
    {
     "name": "stderr",
     "output_type": "stream",
     "text": [
      "┌ Info: Epoch 36\n",
      "└ @ Main C:\\Users\\PC\\.julia\\packages\\Flux\\qp1gc\\src\\optimise\\train.jl:135\n"
     ]
    },
    {
     "name": "stdout",
     "output_type": "stream",
     "text": [
      "training\n"
     ]
    },
    {
     "name": "stderr",
     "output_type": "stream",
     "text": [
      "┌ Info: Epoch 37\n",
      "└ @ Main C:\\Users\\PC\\.julia\\packages\\Flux\\qp1gc\\src\\optimise\\train.jl:135\n"
     ]
    },
    {
     "name": "stdout",
     "output_type": "stream",
     "text": [
      "training\n"
     ]
    },
    {
     "name": "stderr",
     "output_type": "stream",
     "text": [
      "┌ Info: Epoch 38\n",
      "└ @ Main C:\\Users\\PC\\.julia\\packages\\Flux\\qp1gc\\src\\optimise\\train.jl:135\n"
     ]
    },
    {
     "name": "stdout",
     "output_type": "stream",
     "text": [
      "training\n"
     ]
    },
    {
     "name": "stderr",
     "output_type": "stream",
     "text": [
      "┌ Info: Epoch 39\n",
      "└ @ Main C:\\Users\\PC\\.julia\\packages\\Flux\\qp1gc\\src\\optimise\\train.jl:135\n"
     ]
    },
    {
     "name": "stdout",
     "output_type": "stream",
     "text": [
      "training\n"
     ]
    },
    {
     "name": "stderr",
     "output_type": "stream",
     "text": [
      "┌ Info: Epoch 40\n",
      "└ @ Main C:\\Users\\PC\\.julia\\packages\\Flux\\qp1gc\\src\\optimise\\train.jl:135\n"
     ]
    },
    {
     "name": "stdout",
     "output_type": "stream",
     "text": [
      "training\n"
     ]
    },
    {
     "name": "stderr",
     "output_type": "stream",
     "text": [
      "┌ Info: Epoch 41\n",
      "└ @ Main C:\\Users\\PC\\.julia\\packages\\Flux\\qp1gc\\src\\optimise\\train.jl:135\n"
     ]
    },
    {
     "name": "stdout",
     "output_type": "stream",
     "text": [
      "training\n"
     ]
    },
    {
     "name": "stderr",
     "output_type": "stream",
     "text": [
      "┌ Info: Epoch 42\n",
      "└ @ Main C:\\Users\\PC\\.julia\\packages\\Flux\\qp1gc\\src\\optimise\\train.jl:135\n"
     ]
    },
    {
     "name": "stdout",
     "output_type": "stream",
     "text": [
      "training\n"
     ]
    },
    {
     "name": "stderr",
     "output_type": "stream",
     "text": [
      "┌ Info: Epoch 43\n",
      "└ @ Main C:\\Users\\PC\\.julia\\packages\\Flux\\qp1gc\\src\\optimise\\train.jl:135\n"
     ]
    },
    {
     "name": "stdout",
     "output_type": "stream",
     "text": [
      "training\n"
     ]
    },
    {
     "name": "stderr",
     "output_type": "stream",
     "text": [
      "┌ Info: Epoch 44\n",
      "└ @ Main C:\\Users\\PC\\.julia\\packages\\Flux\\qp1gc\\src\\optimise\\train.jl:135\n"
     ]
    },
    {
     "name": "stdout",
     "output_type": "stream",
     "text": [
      "training\n"
     ]
    },
    {
     "name": "stderr",
     "output_type": "stream",
     "text": [
      "┌ Info: Epoch 45\n",
      "└ @ Main C:\\Users\\PC\\.julia\\packages\\Flux\\qp1gc\\src\\optimise\\train.jl:135\n"
     ]
    },
    {
     "name": "stdout",
     "output_type": "stream",
     "text": [
      "training\n"
     ]
    },
    {
     "name": "stderr",
     "output_type": "stream",
     "text": [
      "┌ Info: Epoch 46\n",
      "└ @ Main C:\\Users\\PC\\.julia\\packages\\Flux\\qp1gc\\src\\optimise\\train.jl:135\n"
     ]
    },
    {
     "name": "stdout",
     "output_type": "stream",
     "text": [
      "training\n"
     ]
    },
    {
     "name": "stderr",
     "output_type": "stream",
     "text": [
      "┌ Info: Epoch 47\n",
      "└ @ Main C:\\Users\\PC\\.julia\\packages\\Flux\\qp1gc\\src\\optimise\\train.jl:135\n"
     ]
    },
    {
     "name": "stdout",
     "output_type": "stream",
     "text": [
      "training\n"
     ]
    },
    {
     "name": "stderr",
     "output_type": "stream",
     "text": [
      "┌ Info: Epoch 48\n",
      "└ @ Main C:\\Users\\PC\\.julia\\packages\\Flux\\qp1gc\\src\\optimise\\train.jl:135\n"
     ]
    },
    {
     "name": "stdout",
     "output_type": "stream",
     "text": [
      "training\n"
     ]
    },
    {
     "name": "stderr",
     "output_type": "stream",
     "text": [
      "┌ Info: Epoch 49\n",
      "└ @ Main C:\\Users\\PC\\.julia\\packages\\Flux\\qp1gc\\src\\optimise\\train.jl:135\n"
     ]
    },
    {
     "name": "stdout",
     "output_type": "stream",
     "text": [
      "training\n"
     ]
    },
    {
     "name": "stderr",
     "output_type": "stream",
     "text": [
      "┌ Info: Epoch 50\n",
      "└ @ Main C:\\Users\\PC\\.julia\\packages\\Flux\\qp1gc\\src\\optimise\\train.jl:135\n"
     ]
    },
    {
     "name": "stdout",
     "output_type": "stream",
     "text": [
      "training\n"
     ]
    },
    {
     "name": "stderr",
     "output_type": "stream",
     "text": [
      "┌ Info: Epoch 51\n",
      "└ @ Main C:\\Users\\PC\\.julia\\packages\\Flux\\qp1gc\\src\\optimise\\train.jl:135\n"
     ]
    },
    {
     "name": "stdout",
     "output_type": "stream",
     "text": [
      "training\n"
     ]
    },
    {
     "name": "stderr",
     "output_type": "stream",
     "text": [
      "┌ Info: Epoch 52\n",
      "└ @ Main C:\\Users\\PC\\.julia\\packages\\Flux\\qp1gc\\src\\optimise\\train.jl:135\n"
     ]
    },
    {
     "name": "stdout",
     "output_type": "stream",
     "text": [
      "training\n"
     ]
    },
    {
     "name": "stderr",
     "output_type": "stream",
     "text": [
      "┌ Info: Epoch 53\n",
      "└ @ Main C:\\Users\\PC\\.julia\\packages\\Flux\\qp1gc\\src\\optimise\\train.jl:135\n"
     ]
    },
    {
     "name": "stdout",
     "output_type": "stream",
     "text": [
      "training\n"
     ]
    },
    {
     "name": "stderr",
     "output_type": "stream",
     "text": [
      "┌ Info: Epoch 54\n",
      "└ @ Main C:\\Users\\PC\\.julia\\packages\\Flux\\qp1gc\\src\\optimise\\train.jl:135\n"
     ]
    },
    {
     "name": "stdout",
     "output_type": "stream",
     "text": [
      "training\n"
     ]
    },
    {
     "name": "stderr",
     "output_type": "stream",
     "text": [
      "┌ Info: Epoch 55\n",
      "└ @ Main C:\\Users\\PC\\.julia\\packages\\Flux\\qp1gc\\src\\optimise\\train.jl:135\n"
     ]
    },
    {
     "name": "stdout",
     "output_type": "stream",
     "text": [
      "training\n"
     ]
    },
    {
     "name": "stderr",
     "output_type": "stream",
     "text": [
      "┌ Info: Epoch 56\n",
      "└ @ Main C:\\Users\\PC\\.julia\\packages\\Flux\\qp1gc\\src\\optimise\\train.jl:135\n"
     ]
    },
    {
     "name": "stdout",
     "output_type": "stream",
     "text": [
      "training\n"
     ]
    },
    {
     "name": "stderr",
     "output_type": "stream",
     "text": [
      "┌ Info: Epoch 57\n",
      "└ @ Main C:\\Users\\PC\\.julia\\packages\\Flux\\qp1gc\\src\\optimise\\train.jl:135\n"
     ]
    },
    {
     "name": "stdout",
     "output_type": "stream",
     "text": [
      "training\n"
     ]
    },
    {
     "name": "stderr",
     "output_type": "stream",
     "text": [
      "┌ Info: Epoch 58\n",
      "└ @ Main C:\\Users\\PC\\.julia\\packages\\Flux\\qp1gc\\src\\optimise\\train.jl:135\n"
     ]
    },
    {
     "name": "stdout",
     "output_type": "stream",
     "text": [
      "training\n"
     ]
    },
    {
     "name": "stderr",
     "output_type": "stream",
     "text": [
      "┌ Info: Epoch 59\n",
      "└ @ Main C:\\Users\\PC\\.julia\\packages\\Flux\\qp1gc\\src\\optimise\\train.jl:135\n"
     ]
    },
    {
     "name": "stdout",
     "output_type": "stream",
     "text": [
      "training\n"
     ]
    },
    {
     "name": "stderr",
     "output_type": "stream",
     "text": [
      "┌ Info: Epoch 60\n",
      "└ @ Main C:\\Users\\PC\\.julia\\packages\\Flux\\qp1gc\\src\\optimise\\train.jl:135\n"
     ]
    },
    {
     "name": "stdout",
     "output_type": "stream",
     "text": [
      "training\n"
     ]
    },
    {
     "name": "stderr",
     "output_type": "stream",
     "text": [
      "┌ Info: Epoch 61\n",
      "└ @ Main C:\\Users\\PC\\.julia\\packages\\Flux\\qp1gc\\src\\optimise\\train.jl:135\n"
     ]
    },
    {
     "name": "stdout",
     "output_type": "stream",
     "text": [
      "training\n"
     ]
    },
    {
     "name": "stderr",
     "output_type": "stream",
     "text": [
      "┌ Info: Epoch 62\n",
      "└ @ Main C:\\Users\\PC\\.julia\\packages\\Flux\\qp1gc\\src\\optimise\\train.jl:135\n"
     ]
    },
    {
     "name": "stdout",
     "output_type": "stream",
     "text": [
      "training\n"
     ]
    },
    {
     "name": "stderr",
     "output_type": "stream",
     "text": [
      "┌ Info: Epoch 63\n",
      "└ @ Main C:\\Users\\PC\\.julia\\packages\\Flux\\qp1gc\\src\\optimise\\train.jl:135\n"
     ]
    },
    {
     "name": "stdout",
     "output_type": "stream",
     "text": [
      "training\n"
     ]
    },
    {
     "name": "stderr",
     "output_type": "stream",
     "text": [
      "┌ Info: Epoch 64\n",
      "└ @ Main C:\\Users\\PC\\.julia\\packages\\Flux\\qp1gc\\src\\optimise\\train.jl:135\n"
     ]
    },
    {
     "name": "stdout",
     "output_type": "stream",
     "text": [
      "training\n"
     ]
    },
    {
     "name": "stderr",
     "output_type": "stream",
     "text": [
      "┌ Info: Epoch 65\n",
      "└ @ Main C:\\Users\\PC\\.julia\\packages\\Flux\\qp1gc\\src\\optimise\\train.jl:135\n"
     ]
    },
    {
     "name": "stdout",
     "output_type": "stream",
     "text": [
      "training\n"
     ]
    },
    {
     "name": "stderr",
     "output_type": "stream",
     "text": [
      "┌ Info: Epoch 66\n",
      "└ @ Main C:\\Users\\PC\\.julia\\packages\\Flux\\qp1gc\\src\\optimise\\train.jl:135\n"
     ]
    },
    {
     "name": "stdout",
     "output_type": "stream",
     "text": [
      "training\n"
     ]
    },
    {
     "name": "stderr",
     "output_type": "stream",
     "text": [
      "┌ Info: Epoch 67\n",
      "└ @ Main C:\\Users\\PC\\.julia\\packages\\Flux\\qp1gc\\src\\optimise\\train.jl:135\n"
     ]
    },
    {
     "name": "stdout",
     "output_type": "stream",
     "text": [
      "training\n"
     ]
    },
    {
     "name": "stderr",
     "output_type": "stream",
     "text": [
      "┌ Info: Epoch 68\n",
      "└ @ Main C:\\Users\\PC\\.julia\\packages\\Flux\\qp1gc\\src\\optimise\\train.jl:135\n"
     ]
    },
    {
     "name": "stdout",
     "output_type": "stream",
     "text": [
      "training\n"
     ]
    },
    {
     "name": "stderr",
     "output_type": "stream",
     "text": [
      "┌ Info: Epoch 69\n",
      "└ @ Main C:\\Users\\PC\\.julia\\packages\\Flux\\qp1gc\\src\\optimise\\train.jl:135\n"
     ]
    },
    {
     "name": "stdout",
     "output_type": "stream",
     "text": [
      "training\n"
     ]
    },
    {
     "name": "stderr",
     "output_type": "stream",
     "text": [
      "┌ Info: Epoch 70\n",
      "└ @ Main C:\\Users\\PC\\.julia\\packages\\Flux\\qp1gc\\src\\optimise\\train.jl:135\n"
     ]
    },
    {
     "name": "stdout",
     "output_type": "stream",
     "text": [
      "training\n"
     ]
    },
    {
     "name": "stderr",
     "output_type": "stream",
     "text": [
      "┌ Info: Epoch 71\n",
      "└ @ Main C:\\Users\\PC\\.julia\\packages\\Flux\\qp1gc\\src\\optimise\\train.jl:135\n"
     ]
    },
    {
     "name": "stdout",
     "output_type": "stream",
     "text": [
      "training\n"
     ]
    },
    {
     "name": "stderr",
     "output_type": "stream",
     "text": [
      "┌ Info: Epoch 72\n",
      "└ @ Main C:\\Users\\PC\\.julia\\packages\\Flux\\qp1gc\\src\\optimise\\train.jl:135\n"
     ]
    },
    {
     "name": "stdout",
     "output_type": "stream",
     "text": [
      "training\n"
     ]
    },
    {
     "name": "stderr",
     "output_type": "stream",
     "text": [
      "┌ Info: Epoch 73\n",
      "└ @ Main C:\\Users\\PC\\.julia\\packages\\Flux\\qp1gc\\src\\optimise\\train.jl:135\n"
     ]
    },
    {
     "name": "stdout",
     "output_type": "stream",
     "text": [
      "training\n"
     ]
    },
    {
     "name": "stderr",
     "output_type": "stream",
     "text": [
      "┌ Info: Epoch 74\n",
      "└ @ Main C:\\Users\\PC\\.julia\\packages\\Flux\\qp1gc\\src\\optimise\\train.jl:135\n"
     ]
    },
    {
     "name": "stdout",
     "output_type": "stream",
     "text": [
      "training\n"
     ]
    },
    {
     "name": "stderr",
     "output_type": "stream",
     "text": [
      "┌ Info: Epoch 75\n",
      "└ @ Main C:\\Users\\PC\\.julia\\packages\\Flux\\qp1gc\\src\\optimise\\train.jl:135\n"
     ]
    },
    {
     "name": "stdout",
     "output_type": "stream",
     "text": [
      "training\n"
     ]
    },
    {
     "name": "stderr",
     "output_type": "stream",
     "text": [
      "┌ Info: Epoch 76\n",
      "└ @ Main C:\\Users\\PC\\.julia\\packages\\Flux\\qp1gc\\src\\optimise\\train.jl:135\n"
     ]
    },
    {
     "name": "stdout",
     "output_type": "stream",
     "text": [
      "training\n"
     ]
    },
    {
     "name": "stderr",
     "output_type": "stream",
     "text": [
      "┌ Info: Epoch 77\n",
      "└ @ Main C:\\Users\\PC\\.julia\\packages\\Flux\\qp1gc\\src\\optimise\\train.jl:135\n"
     ]
    },
    {
     "name": "stdout",
     "output_type": "stream",
     "text": [
      "training\n"
     ]
    },
    {
     "name": "stderr",
     "output_type": "stream",
     "text": [
      "┌ Info: Epoch 78\n",
      "└ @ Main C:\\Users\\PC\\.julia\\packages\\Flux\\qp1gc\\src\\optimise\\train.jl:135\n"
     ]
    },
    {
     "name": "stdout",
     "output_type": "stream",
     "text": [
      "training\n"
     ]
    },
    {
     "name": "stderr",
     "output_type": "stream",
     "text": [
      "┌ Info: Epoch 79\n",
      "└ @ Main C:\\Users\\PC\\.julia\\packages\\Flux\\qp1gc\\src\\optimise\\train.jl:135\n"
     ]
    },
    {
     "name": "stdout",
     "output_type": "stream",
     "text": [
      "training\n"
     ]
    },
    {
     "name": "stderr",
     "output_type": "stream",
     "text": [
      "┌ Info: Epoch 80\n",
      "└ @ Main C:\\Users\\PC\\.julia\\packages\\Flux\\qp1gc\\src\\optimise\\train.jl:135\n"
     ]
    },
    {
     "name": "stdout",
     "output_type": "stream",
     "text": [
      "training\n"
     ]
    },
    {
     "name": "stderr",
     "output_type": "stream",
     "text": [
      "┌ Info: Epoch 81\n",
      "└ @ Main C:\\Users\\PC\\.julia\\packages\\Flux\\qp1gc\\src\\optimise\\train.jl:135\n"
     ]
    },
    {
     "name": "stdout",
     "output_type": "stream",
     "text": [
      "training\n"
     ]
    },
    {
     "name": "stderr",
     "output_type": "stream",
     "text": [
      "┌ Info: Epoch 82\n",
      "└ @ Main C:\\Users\\PC\\.julia\\packages\\Flux\\qp1gc\\src\\optimise\\train.jl:135\n"
     ]
    },
    {
     "name": "stdout",
     "output_type": "stream",
     "text": [
      "training\n"
     ]
    },
    {
     "name": "stderr",
     "output_type": "stream",
     "text": [
      "┌ Info: Epoch 83\n",
      "└ @ Main C:\\Users\\PC\\.julia\\packages\\Flux\\qp1gc\\src\\optimise\\train.jl:135\n"
     ]
    },
    {
     "name": "stdout",
     "output_type": "stream",
     "text": [
      "training\n"
     ]
    },
    {
     "name": "stderr",
     "output_type": "stream",
     "text": [
      "┌ Info: Epoch 84\n",
      "└ @ Main C:\\Users\\PC\\.julia\\packages\\Flux\\qp1gc\\src\\optimise\\train.jl:135\n"
     ]
    },
    {
     "name": "stdout",
     "output_type": "stream",
     "text": [
      "training\n"
     ]
    },
    {
     "name": "stderr",
     "output_type": "stream",
     "text": [
      "┌ Info: Epoch 85\n",
      "└ @ Main C:\\Users\\PC\\.julia\\packages\\Flux\\qp1gc\\src\\optimise\\train.jl:135\n"
     ]
    },
    {
     "name": "stdout",
     "output_type": "stream",
     "text": [
      "training\n"
     ]
    },
    {
     "name": "stderr",
     "output_type": "stream",
     "text": [
      "┌ Info: Epoch 86\n",
      "└ @ Main C:\\Users\\PC\\.julia\\packages\\Flux\\qp1gc\\src\\optimise\\train.jl:135\n"
     ]
    },
    {
     "name": "stdout",
     "output_type": "stream",
     "text": [
      "training\n"
     ]
    },
    {
     "name": "stderr",
     "output_type": "stream",
     "text": [
      "┌ Info: Epoch 87\n",
      "└ @ Main C:\\Users\\PC\\.julia\\packages\\Flux\\qp1gc\\src\\optimise\\train.jl:135\n"
     ]
    },
    {
     "name": "stdout",
     "output_type": "stream",
     "text": [
      "training\n"
     ]
    },
    {
     "name": "stderr",
     "output_type": "stream",
     "text": [
      "┌ Info: Epoch 88\n",
      "└ @ Main C:\\Users\\PC\\.julia\\packages\\Flux\\qp1gc\\src\\optimise\\train.jl:135\n"
     ]
    },
    {
     "name": "stdout",
     "output_type": "stream",
     "text": [
      "training\n"
     ]
    },
    {
     "name": "stderr",
     "output_type": "stream",
     "text": [
      "┌ Info: Epoch 89\n",
      "└ @ Main C:\\Users\\PC\\.julia\\packages\\Flux\\qp1gc\\src\\optimise\\train.jl:135\n"
     ]
    },
    {
     "name": "stdout",
     "output_type": "stream",
     "text": [
      "training\n"
     ]
    },
    {
     "name": "stderr",
     "output_type": "stream",
     "text": [
      "┌ Info: Epoch 90\n",
      "└ @ Main C:\\Users\\PC\\.julia\\packages\\Flux\\qp1gc\\src\\optimise\\train.jl:135\n"
     ]
    },
    {
     "name": "stdout",
     "output_type": "stream",
     "text": [
      "training\n"
     ]
    },
    {
     "name": "stderr",
     "output_type": "stream",
     "text": [
      "┌ Info: Epoch 91\n",
      "└ @ Main C:\\Users\\PC\\.julia\\packages\\Flux\\qp1gc\\src\\optimise\\train.jl:135\n"
     ]
    },
    {
     "name": "stdout",
     "output_type": "stream",
     "text": [
      "training\n"
     ]
    },
    {
     "name": "stderr",
     "output_type": "stream",
     "text": [
      "┌ Info: Epoch 92\n",
      "└ @ Main C:\\Users\\PC\\.julia\\packages\\Flux\\qp1gc\\src\\optimise\\train.jl:135\n"
     ]
    },
    {
     "name": "stdout",
     "output_type": "stream",
     "text": [
      "training\n"
     ]
    },
    {
     "name": "stderr",
     "output_type": "stream",
     "text": [
      "┌ Info: Epoch 93\n",
      "└ @ Main C:\\Users\\PC\\.julia\\packages\\Flux\\qp1gc\\src\\optimise\\train.jl:135\n"
     ]
    },
    {
     "name": "stdout",
     "output_type": "stream",
     "text": [
      "training\n"
     ]
    },
    {
     "name": "stderr",
     "output_type": "stream",
     "text": [
      "┌ Info: Epoch 94\n",
      "└ @ Main C:\\Users\\PC\\.julia\\packages\\Flux\\qp1gc\\src\\optimise\\train.jl:135\n"
     ]
    },
    {
     "name": "stdout",
     "output_type": "stream",
     "text": [
      "training\n"
     ]
    },
    {
     "name": "stderr",
     "output_type": "stream",
     "text": [
      "┌ Info: Epoch 95\n",
      "└ @ Main C:\\Users\\PC\\.julia\\packages\\Flux\\qp1gc\\src\\optimise\\train.jl:135\n"
     ]
    },
    {
     "name": "stdout",
     "output_type": "stream",
     "text": [
      "training\n"
     ]
    },
    {
     "name": "stderr",
     "output_type": "stream",
     "text": [
      "┌ Info: Epoch 96\n",
      "└ @ Main C:\\Users\\PC\\.julia\\packages\\Flux\\qp1gc\\src\\optimise\\train.jl:135\n"
     ]
    },
    {
     "name": "stdout",
     "output_type": "stream",
     "text": [
      "training\n"
     ]
    },
    {
     "name": "stderr",
     "output_type": "stream",
     "text": [
      "┌ Info: Epoch 97\n",
      "└ @ Main C:\\Users\\PC\\.julia\\packages\\Flux\\qp1gc\\src\\optimise\\train.jl:135\n"
     ]
    },
    {
     "name": "stdout",
     "output_type": "stream",
     "text": [
      "training\n"
     ]
    },
    {
     "name": "stderr",
     "output_type": "stream",
     "text": [
      "┌ Info: Epoch 98\n",
      "└ @ Main C:\\Users\\PC\\.julia\\packages\\Flux\\qp1gc\\src\\optimise\\train.jl:135\n"
     ]
    },
    {
     "name": "stdout",
     "output_type": "stream",
     "text": [
      "training\n"
     ]
    },
    {
     "name": "stderr",
     "output_type": "stream",
     "text": [
      "┌ Info: Epoch 99\n",
      "└ @ Main C:\\Users\\PC\\.julia\\packages\\Flux\\qp1gc\\src\\optimise\\train.jl:135\n"
     ]
    },
    {
     "name": "stdout",
     "output_type": "stream",
     "text": [
      "training\n"
     ]
    },
    {
     "name": "stderr",
     "output_type": "stream",
     "text": [
      "┌ Info: Epoch 100\n",
      "└ @ Main C:\\Users\\PC\\.julia\\packages\\Flux\\qp1gc\\src\\optimise\\train.jl:135\n"
     ]
    },
    {
     "name": "stdout",
     "output_type": "stream",
     "text": [
      "training\n"
     ]
    },
    {
     "name": "stderr",
     "output_type": "stream",
     "text": [
      "┌ Info: Epoch 101\n",
      "└ @ Main C:\\Users\\PC\\.julia\\packages\\Flux\\qp1gc\\src\\optimise\\train.jl:135\n"
     ]
    },
    {
     "name": "stdout",
     "output_type": "stream",
     "text": [
      "training\n"
     ]
    },
    {
     "name": "stderr",
     "output_type": "stream",
     "text": [
      "┌ Info: Epoch 102\n",
      "└ @ Main C:\\Users\\PC\\.julia\\packages\\Flux\\qp1gc\\src\\optimise\\train.jl:135\n"
     ]
    },
    {
     "name": "stdout",
     "output_type": "stream",
     "text": [
      "training\n"
     ]
    },
    {
     "name": "stderr",
     "output_type": "stream",
     "text": [
      "┌ Info: Epoch 103\n",
      "└ @ Main C:\\Users\\PC\\.julia\\packages\\Flux\\qp1gc\\src\\optimise\\train.jl:135\n"
     ]
    },
    {
     "name": "stdout",
     "output_type": "stream",
     "text": [
      "training\n"
     ]
    },
    {
     "name": "stderr",
     "output_type": "stream",
     "text": [
      "┌ Info: Epoch 104\n",
      "└ @ Main C:\\Users\\PC\\.julia\\packages\\Flux\\qp1gc\\src\\optimise\\train.jl:135\n"
     ]
    },
    {
     "name": "stdout",
     "output_type": "stream",
     "text": [
      "training\n"
     ]
    },
    {
     "name": "stderr",
     "output_type": "stream",
     "text": [
      "┌ Info: Epoch 105\n",
      "└ @ Main C:\\Users\\PC\\.julia\\packages\\Flux\\qp1gc\\src\\optimise\\train.jl:135\n"
     ]
    },
    {
     "name": "stdout",
     "output_type": "stream",
     "text": [
      "training\n"
     ]
    },
    {
     "name": "stderr",
     "output_type": "stream",
     "text": [
      "┌ Info: Epoch 106\n",
      "└ @ Main C:\\Users\\PC\\.julia\\packages\\Flux\\qp1gc\\src\\optimise\\train.jl:135\n"
     ]
    },
    {
     "name": "stdout",
     "output_type": "stream",
     "text": [
      "training\n"
     ]
    },
    {
     "name": "stderr",
     "output_type": "stream",
     "text": [
      "┌ Info: Epoch 107\n",
      "└ @ Main C:\\Users\\PC\\.julia\\packages\\Flux\\qp1gc\\src\\optimise\\train.jl:135\n"
     ]
    },
    {
     "name": "stdout",
     "output_type": "stream",
     "text": [
      "training\n"
     ]
    },
    {
     "name": "stderr",
     "output_type": "stream",
     "text": [
      "┌ Info: Epoch 108\n",
      "└ @ Main C:\\Users\\PC\\.julia\\packages\\Flux\\qp1gc\\src\\optimise\\train.jl:135\n"
     ]
    },
    {
     "name": "stdout",
     "output_type": "stream",
     "text": [
      "training\n"
     ]
    },
    {
     "name": "stderr",
     "output_type": "stream",
     "text": [
      "┌ Info: Epoch 109\n",
      "└ @ Main C:\\Users\\PC\\.julia\\packages\\Flux\\qp1gc\\src\\optimise\\train.jl:135\n"
     ]
    },
    {
     "name": "stdout",
     "output_type": "stream",
     "text": [
      "training\n"
     ]
    },
    {
     "name": "stderr",
     "output_type": "stream",
     "text": [
      "┌ Info: Epoch 110\n",
      "└ @ Main C:\\Users\\PC\\.julia\\packages\\Flux\\qp1gc\\src\\optimise\\train.jl:135\n"
     ]
    },
    {
     "name": "stdout",
     "output_type": "stream",
     "text": [
      "training\n"
     ]
    },
    {
     "name": "stderr",
     "output_type": "stream",
     "text": [
      "┌ Info: Epoch 111\n",
      "└ @ Main C:\\Users\\PC\\.julia\\packages\\Flux\\qp1gc\\src\\optimise\\train.jl:135\n"
     ]
    },
    {
     "name": "stdout",
     "output_type": "stream",
     "text": [
      "training\n"
     ]
    },
    {
     "name": "stderr",
     "output_type": "stream",
     "text": [
      "┌ Info: Epoch 112\n",
      "└ @ Main C:\\Users\\PC\\.julia\\packages\\Flux\\qp1gc\\src\\optimise\\train.jl:135\n"
     ]
    },
    {
     "name": "stdout",
     "output_type": "stream",
     "text": [
      "training\n"
     ]
    },
    {
     "name": "stderr",
     "output_type": "stream",
     "text": [
      "┌ Info: Epoch 113\n",
      "└ @ Main C:\\Users\\PC\\.julia\\packages\\Flux\\qp1gc\\src\\optimise\\train.jl:135\n"
     ]
    },
    {
     "name": "stdout",
     "output_type": "stream",
     "text": [
      "training\n"
     ]
    },
    {
     "name": "stderr",
     "output_type": "stream",
     "text": [
      "┌ Info: Epoch 114\n",
      "└ @ Main C:\\Users\\PC\\.julia\\packages\\Flux\\qp1gc\\src\\optimise\\train.jl:135\n"
     ]
    },
    {
     "name": "stdout",
     "output_type": "stream",
     "text": [
      "training\n"
     ]
    },
    {
     "name": "stderr",
     "output_type": "stream",
     "text": [
      "┌ Info: Epoch 115\n",
      "└ @ Main C:\\Users\\PC\\.julia\\packages\\Flux\\qp1gc\\src\\optimise\\train.jl:135\n"
     ]
    },
    {
     "name": "stdout",
     "output_type": "stream",
     "text": [
      "training\n"
     ]
    },
    {
     "name": "stderr",
     "output_type": "stream",
     "text": [
      "┌ Info: Epoch 116\n",
      "└ @ Main C:\\Users\\PC\\.julia\\packages\\Flux\\qp1gc\\src\\optimise\\train.jl:135\n"
     ]
    },
    {
     "name": "stdout",
     "output_type": "stream",
     "text": [
      "training\n"
     ]
    },
    {
     "name": "stderr",
     "output_type": "stream",
     "text": [
      "┌ Info: Epoch 117\n",
      "└ @ Main C:\\Users\\PC\\.julia\\packages\\Flux\\qp1gc\\src\\optimise\\train.jl:135\n"
     ]
    },
    {
     "name": "stdout",
     "output_type": "stream",
     "text": [
      "training\n"
     ]
    },
    {
     "name": "stderr",
     "output_type": "stream",
     "text": [
      "┌ Info: Epoch 118\n",
      "└ @ Main C:\\Users\\PC\\.julia\\packages\\Flux\\qp1gc\\src\\optimise\\train.jl:135\n"
     ]
    },
    {
     "name": "stdout",
     "output_type": "stream",
     "text": [
      "training\n"
     ]
    },
    {
     "name": "stderr",
     "output_type": "stream",
     "text": [
      "┌ Info: Epoch 119\n",
      "└ @ Main C:\\Users\\PC\\.julia\\packages\\Flux\\qp1gc\\src\\optimise\\train.jl:135\n"
     ]
    },
    {
     "name": "stdout",
     "output_type": "stream",
     "text": [
      "training\n"
     ]
    },
    {
     "name": "stderr",
     "output_type": "stream",
     "text": [
      "┌ Info: Epoch 120\n",
      "└ @ Main C:\\Users\\PC\\.julia\\packages\\Flux\\qp1gc\\src\\optimise\\train.jl:135\n"
     ]
    },
    {
     "name": "stdout",
     "output_type": "stream",
     "text": [
      "training\n"
     ]
    },
    {
     "name": "stderr",
     "output_type": "stream",
     "text": [
      "┌ Info: Epoch 121\n",
      "└ @ Main C:\\Users\\PC\\.julia\\packages\\Flux\\qp1gc\\src\\optimise\\train.jl:135\n"
     ]
    },
    {
     "name": "stdout",
     "output_type": "stream",
     "text": [
      "training\n"
     ]
    },
    {
     "name": "stderr",
     "output_type": "stream",
     "text": [
      "┌ Info: Epoch 122\n",
      "└ @ Main C:\\Users\\PC\\.julia\\packages\\Flux\\qp1gc\\src\\optimise\\train.jl:135\n"
     ]
    },
    {
     "name": "stdout",
     "output_type": "stream",
     "text": [
      "training\n"
     ]
    },
    {
     "name": "stderr",
     "output_type": "stream",
     "text": [
      "┌ Info: Epoch 123\n",
      "└ @ Main C:\\Users\\PC\\.julia\\packages\\Flux\\qp1gc\\src\\optimise\\train.jl:135\n"
     ]
    },
    {
     "name": "stdout",
     "output_type": "stream",
     "text": [
      "training\n"
     ]
    },
    {
     "name": "stderr",
     "output_type": "stream",
     "text": [
      "┌ Info: Epoch 124\n",
      "└ @ Main C:\\Users\\PC\\.julia\\packages\\Flux\\qp1gc\\src\\optimise\\train.jl:135\n"
     ]
    },
    {
     "name": "stdout",
     "output_type": "stream",
     "text": [
      "training\n"
     ]
    },
    {
     "name": "stderr",
     "output_type": "stream",
     "text": [
      "┌ Info: Epoch 125\n",
      "└ @ Main C:\\Users\\PC\\.julia\\packages\\Flux\\qp1gc\\src\\optimise\\train.jl:135\n"
     ]
    },
    {
     "name": "stdout",
     "output_type": "stream",
     "text": [
      "training\n"
     ]
    },
    {
     "name": "stderr",
     "output_type": "stream",
     "text": [
      "┌ Info: Epoch 126\n",
      "└ @ Main C:\\Users\\PC\\.julia\\packages\\Flux\\qp1gc\\src\\optimise\\train.jl:135\n"
     ]
    },
    {
     "name": "stdout",
     "output_type": "stream",
     "text": [
      "training\n"
     ]
    },
    {
     "name": "stderr",
     "output_type": "stream",
     "text": [
      "┌ Info: Epoch 127\n",
      "└ @ Main C:\\Users\\PC\\.julia\\packages\\Flux\\qp1gc\\src\\optimise\\train.jl:135\n"
     ]
    },
    {
     "name": "stdout",
     "output_type": "stream",
     "text": [
      "training\n"
     ]
    },
    {
     "name": "stderr",
     "output_type": "stream",
     "text": [
      "┌ Info: Epoch 128\n",
      "└ @ Main C:\\Users\\PC\\.julia\\packages\\Flux\\qp1gc\\src\\optimise\\train.jl:135\n"
     ]
    },
    {
     "name": "stdout",
     "output_type": "stream",
     "text": [
      "training\n"
     ]
    },
    {
     "name": "stderr",
     "output_type": "stream",
     "text": [
      "┌ Info: Epoch 129\n",
      "└ @ Main C:\\Users\\PC\\.julia\\packages\\Flux\\qp1gc\\src\\optimise\\train.jl:135\n"
     ]
    },
    {
     "name": "stdout",
     "output_type": "stream",
     "text": [
      "training\n"
     ]
    },
    {
     "name": "stderr",
     "output_type": "stream",
     "text": [
      "┌ Info: Epoch 130\n",
      "└ @ Main C:\\Users\\PC\\.julia\\packages\\Flux\\qp1gc\\src\\optimise\\train.jl:135\n"
     ]
    },
    {
     "name": "stdout",
     "output_type": "stream",
     "text": [
      "training\n"
     ]
    },
    {
     "name": "stderr",
     "output_type": "stream",
     "text": [
      "┌ Info: Epoch 131\n",
      "└ @ Main C:\\Users\\PC\\.julia\\packages\\Flux\\qp1gc\\src\\optimise\\train.jl:135\n"
     ]
    },
    {
     "name": "stdout",
     "output_type": "stream",
     "text": [
      "training\n"
     ]
    },
    {
     "name": "stderr",
     "output_type": "stream",
     "text": [
      "┌ Info: Epoch 132\n",
      "└ @ Main C:\\Users\\PC\\.julia\\packages\\Flux\\qp1gc\\src\\optimise\\train.jl:135\n"
     ]
    },
    {
     "name": "stdout",
     "output_type": "stream",
     "text": [
      "training\n"
     ]
    },
    {
     "name": "stderr",
     "output_type": "stream",
     "text": [
      "┌ Info: Epoch 133\n",
      "└ @ Main C:\\Users\\PC\\.julia\\packages\\Flux\\qp1gc\\src\\optimise\\train.jl:135\n"
     ]
    },
    {
     "name": "stdout",
     "output_type": "stream",
     "text": [
      "training\n"
     ]
    },
    {
     "name": "stderr",
     "output_type": "stream",
     "text": [
      "┌ Info: Epoch 134\n",
      "└ @ Main C:\\Users\\PC\\.julia\\packages\\Flux\\qp1gc\\src\\optimise\\train.jl:135\n"
     ]
    },
    {
     "name": "stdout",
     "output_type": "stream",
     "text": [
      "training\n"
     ]
    },
    {
     "name": "stderr",
     "output_type": "stream",
     "text": [
      "┌ Info: Epoch 135\n",
      "└ @ Main C:\\Users\\PC\\.julia\\packages\\Flux\\qp1gc\\src\\optimise\\train.jl:135\n"
     ]
    },
    {
     "name": "stdout",
     "output_type": "stream",
     "text": [
      "training\n"
     ]
    },
    {
     "name": "stderr",
     "output_type": "stream",
     "text": [
      "┌ Info: Epoch 136\n",
      "└ @ Main C:\\Users\\PC\\.julia\\packages\\Flux\\qp1gc\\src\\optimise\\train.jl:135\n"
     ]
    },
    {
     "name": "stdout",
     "output_type": "stream",
     "text": [
      "training\n"
     ]
    },
    {
     "name": "stderr",
     "output_type": "stream",
     "text": [
      "┌ Info: Epoch 137\n",
      "└ @ Main C:\\Users\\PC\\.julia\\packages\\Flux\\qp1gc\\src\\optimise\\train.jl:135\n"
     ]
    },
    {
     "name": "stdout",
     "output_type": "stream",
     "text": [
      "training\n"
     ]
    },
    {
     "name": "stderr",
     "output_type": "stream",
     "text": [
      "┌ Info: Epoch 138\n",
      "└ @ Main C:\\Users\\PC\\.julia\\packages\\Flux\\qp1gc\\src\\optimise\\train.jl:135\n"
     ]
    },
    {
     "name": "stdout",
     "output_type": "stream",
     "text": [
      "training\n"
     ]
    },
    {
     "name": "stderr",
     "output_type": "stream",
     "text": [
      "┌ Info: Epoch 139\n",
      "└ @ Main C:\\Users\\PC\\.julia\\packages\\Flux\\qp1gc\\src\\optimise\\train.jl:135\n"
     ]
    },
    {
     "name": "stdout",
     "output_type": "stream",
     "text": [
      "training\n"
     ]
    },
    {
     "name": "stderr",
     "output_type": "stream",
     "text": [
      "┌ Info: Epoch 140\n",
      "└ @ Main C:\\Users\\PC\\.julia\\packages\\Flux\\qp1gc\\src\\optimise\\train.jl:135\n"
     ]
    },
    {
     "name": "stdout",
     "output_type": "stream",
     "text": [
      "training\n"
     ]
    },
    {
     "name": "stderr",
     "output_type": "stream",
     "text": [
      "┌ Info: Epoch 141\n",
      "└ @ Main C:\\Users\\PC\\.julia\\packages\\Flux\\qp1gc\\src\\optimise\\train.jl:135\n"
     ]
    },
    {
     "name": "stdout",
     "output_type": "stream",
     "text": [
      "training\n"
     ]
    },
    {
     "name": "stderr",
     "output_type": "stream",
     "text": [
      "┌ Info: Epoch 142\n",
      "└ @ Main C:\\Users\\PC\\.julia\\packages\\Flux\\qp1gc\\src\\optimise\\train.jl:135\n"
     ]
    },
    {
     "name": "stdout",
     "output_type": "stream",
     "text": [
      "training\n"
     ]
    },
    {
     "name": "stderr",
     "output_type": "stream",
     "text": [
      "┌ Info: Epoch 143\n",
      "└ @ Main C:\\Users\\PC\\.julia\\packages\\Flux\\qp1gc\\src\\optimise\\train.jl:135\n"
     ]
    },
    {
     "name": "stdout",
     "output_type": "stream",
     "text": [
      "training\n"
     ]
    },
    {
     "name": "stderr",
     "output_type": "stream",
     "text": [
      "┌ Info: Epoch 144\n",
      "└ @ Main C:\\Users\\PC\\.julia\\packages\\Flux\\qp1gc\\src\\optimise\\train.jl:135\n"
     ]
    },
    {
     "name": "stdout",
     "output_type": "stream",
     "text": [
      "training\n"
     ]
    },
    {
     "name": "stderr",
     "output_type": "stream",
     "text": [
      "┌ Info: Epoch 145\n",
      "└ @ Main C:\\Users\\PC\\.julia\\packages\\Flux\\qp1gc\\src\\optimise\\train.jl:135\n"
     ]
    },
    {
     "name": "stdout",
     "output_type": "stream",
     "text": [
      "training\n"
     ]
    },
    {
     "name": "stderr",
     "output_type": "stream",
     "text": [
      "┌ Info: Epoch 146\n",
      "└ @ Main C:\\Users\\PC\\.julia\\packages\\Flux\\qp1gc\\src\\optimise\\train.jl:135\n"
     ]
    },
    {
     "name": "stdout",
     "output_type": "stream",
     "text": [
      "training\n"
     ]
    },
    {
     "name": "stderr",
     "output_type": "stream",
     "text": [
      "┌ Info: Epoch 147\n",
      "└ @ Main C:\\Users\\PC\\.julia\\packages\\Flux\\qp1gc\\src\\optimise\\train.jl:135\n"
     ]
    },
    {
     "name": "stdout",
     "output_type": "stream",
     "text": [
      "training\n"
     ]
    },
    {
     "name": "stderr",
     "output_type": "stream",
     "text": [
      "┌ Info: Epoch 148\n",
      "└ @ Main C:\\Users\\PC\\.julia\\packages\\Flux\\qp1gc\\src\\optimise\\train.jl:135\n"
     ]
    },
    {
     "name": "stdout",
     "output_type": "stream",
     "text": [
      "training\n"
     ]
    },
    {
     "name": "stderr",
     "output_type": "stream",
     "text": [
      "┌ Info: Epoch 149\n",
      "└ @ Main C:\\Users\\PC\\.julia\\packages\\Flux\\qp1gc\\src\\optimise\\train.jl:135\n"
     ]
    },
    {
     "name": "stdout",
     "output_type": "stream",
     "text": [
      "training\n"
     ]
    },
    {
     "name": "stderr",
     "output_type": "stream",
     "text": [
      "┌ Info: Epoch 150\n",
      "└ @ Main C:\\Users\\PC\\.julia\\packages\\Flux\\qp1gc\\src\\optimise\\train.jl:135\n"
     ]
    },
    {
     "name": "stdout",
     "output_type": "stream",
     "text": [
      "training\n"
     ]
    },
    {
     "name": "stderr",
     "output_type": "stream",
     "text": [
      "┌ Info: Epoch 151\n",
      "└ @ Main C:\\Users\\PC\\.julia\\packages\\Flux\\qp1gc\\src\\optimise\\train.jl:135\n"
     ]
    },
    {
     "name": "stdout",
     "output_type": "stream",
     "text": [
      "training\n"
     ]
    },
    {
     "name": "stderr",
     "output_type": "stream",
     "text": [
      "┌ Info: Epoch 152\n",
      "└ @ Main C:\\Users\\PC\\.julia\\packages\\Flux\\qp1gc\\src\\optimise\\train.jl:135\n"
     ]
    },
    {
     "name": "stdout",
     "output_type": "stream",
     "text": [
      "training\n"
     ]
    },
    {
     "name": "stderr",
     "output_type": "stream",
     "text": [
      "┌ Info: Epoch 153\n",
      "└ @ Main C:\\Users\\PC\\.julia\\packages\\Flux\\qp1gc\\src\\optimise\\train.jl:135\n"
     ]
    },
    {
     "name": "stdout",
     "output_type": "stream",
     "text": [
      "training\n"
     ]
    },
    {
     "name": "stderr",
     "output_type": "stream",
     "text": [
      "┌ Info: Epoch 154\n",
      "└ @ Main C:\\Users\\PC\\.julia\\packages\\Flux\\qp1gc\\src\\optimise\\train.jl:135\n"
     ]
    },
    {
     "name": "stdout",
     "output_type": "stream",
     "text": [
      "training\n"
     ]
    },
    {
     "name": "stderr",
     "output_type": "stream",
     "text": [
      "┌ Info: Epoch 155\n",
      "└ @ Main C:\\Users\\PC\\.julia\\packages\\Flux\\qp1gc\\src\\optimise\\train.jl:135\n"
     ]
    },
    {
     "name": "stdout",
     "output_type": "stream",
     "text": [
      "training\n"
     ]
    },
    {
     "name": "stderr",
     "output_type": "stream",
     "text": [
      "┌ Info: Epoch 156\n",
      "└ @ Main C:\\Users\\PC\\.julia\\packages\\Flux\\qp1gc\\src\\optimise\\train.jl:135\n"
     ]
    },
    {
     "name": "stdout",
     "output_type": "stream",
     "text": [
      "training\n"
     ]
    },
    {
     "name": "stderr",
     "output_type": "stream",
     "text": [
      "┌ Info: Epoch 157\n",
      "└ @ Main C:\\Users\\PC\\.julia\\packages\\Flux\\qp1gc\\src\\optimise\\train.jl:135\n"
     ]
    },
    {
     "name": "stdout",
     "output_type": "stream",
     "text": [
      "training\n"
     ]
    },
    {
     "name": "stderr",
     "output_type": "stream",
     "text": [
      "┌ Info: Epoch 158\n",
      "└ @ Main C:\\Users\\PC\\.julia\\packages\\Flux\\qp1gc\\src\\optimise\\train.jl:135\n"
     ]
    },
    {
     "name": "stdout",
     "output_type": "stream",
     "text": [
      "training\n"
     ]
    },
    {
     "name": "stderr",
     "output_type": "stream",
     "text": [
      "┌ Info: Epoch 159\n",
      "└ @ Main C:\\Users\\PC\\.julia\\packages\\Flux\\qp1gc\\src\\optimise\\train.jl:135\n"
     ]
    },
    {
     "name": "stdout",
     "output_type": "stream",
     "text": [
      "training\n"
     ]
    },
    {
     "name": "stderr",
     "output_type": "stream",
     "text": [
      "┌ Info: Epoch 160\n",
      "└ @ Main C:\\Users\\PC\\.julia\\packages\\Flux\\qp1gc\\src\\optimise\\train.jl:135\n"
     ]
    },
    {
     "name": "stdout",
     "output_type": "stream",
     "text": [
      "training\n"
     ]
    },
    {
     "name": "stderr",
     "output_type": "stream",
     "text": [
      "┌ Info: Epoch 161\n",
      "└ @ Main C:\\Users\\PC\\.julia\\packages\\Flux\\qp1gc\\src\\optimise\\train.jl:135\n"
     ]
    },
    {
     "name": "stdout",
     "output_type": "stream",
     "text": [
      "training\n"
     ]
    },
    {
     "name": "stderr",
     "output_type": "stream",
     "text": [
      "┌ Info: Epoch 162\n",
      "└ @ Main C:\\Users\\PC\\.julia\\packages\\Flux\\qp1gc\\src\\optimise\\train.jl:135\n"
     ]
    },
    {
     "name": "stdout",
     "output_type": "stream",
     "text": [
      "training\n"
     ]
    },
    {
     "name": "stderr",
     "output_type": "stream",
     "text": [
      "┌ Info: Epoch 163\n",
      "└ @ Main C:\\Users\\PC\\.julia\\packages\\Flux\\qp1gc\\src\\optimise\\train.jl:135\n"
     ]
    },
    {
     "name": "stdout",
     "output_type": "stream",
     "text": [
      "training\n"
     ]
    },
    {
     "name": "stderr",
     "output_type": "stream",
     "text": [
      "┌ Info: Epoch 164\n",
      "└ @ Main C:\\Users\\PC\\.julia\\packages\\Flux\\qp1gc\\src\\optimise\\train.jl:135\n"
     ]
    },
    {
     "name": "stdout",
     "output_type": "stream",
     "text": [
      "training\n"
     ]
    },
    {
     "name": "stderr",
     "output_type": "stream",
     "text": [
      "┌ Info: Epoch 165\n",
      "└ @ Main C:\\Users\\PC\\.julia\\packages\\Flux\\qp1gc\\src\\optimise\\train.jl:135\n"
     ]
    },
    {
     "name": "stdout",
     "output_type": "stream",
     "text": [
      "training\n"
     ]
    },
    {
     "name": "stderr",
     "output_type": "stream",
     "text": [
      "┌ Info: Epoch 166\n",
      "└ @ Main C:\\Users\\PC\\.julia\\packages\\Flux\\qp1gc\\src\\optimise\\train.jl:135\n"
     ]
    },
    {
     "name": "stdout",
     "output_type": "stream",
     "text": [
      "training\n"
     ]
    },
    {
     "name": "stderr",
     "output_type": "stream",
     "text": [
      "┌ Info: Epoch 167\n",
      "└ @ Main C:\\Users\\PC\\.julia\\packages\\Flux\\qp1gc\\src\\optimise\\train.jl:135\n"
     ]
    },
    {
     "name": "stdout",
     "output_type": "stream",
     "text": [
      "training\n"
     ]
    },
    {
     "name": "stderr",
     "output_type": "stream",
     "text": [
      "┌ Info: Epoch 168\n",
      "└ @ Main C:\\Users\\PC\\.julia\\packages\\Flux\\qp1gc\\src\\optimise\\train.jl:135\n"
     ]
    },
    {
     "name": "stdout",
     "output_type": "stream",
     "text": [
      "training\n"
     ]
    },
    {
     "name": "stderr",
     "output_type": "stream",
     "text": [
      "┌ Info: Epoch 169\n",
      "└ @ Main C:\\Users\\PC\\.julia\\packages\\Flux\\qp1gc\\src\\optimise\\train.jl:135\n"
     ]
    },
    {
     "name": "stdout",
     "output_type": "stream",
     "text": [
      "training\n"
     ]
    },
    {
     "name": "stderr",
     "output_type": "stream",
     "text": [
      "┌ Info: Epoch 170\n",
      "└ @ Main C:\\Users\\PC\\.julia\\packages\\Flux\\qp1gc\\src\\optimise\\train.jl:135\n"
     ]
    },
    {
     "name": "stdout",
     "output_type": "stream",
     "text": [
      "training\n"
     ]
    },
    {
     "name": "stderr",
     "output_type": "stream",
     "text": [
      "┌ Info: Epoch 171\n",
      "└ @ Main C:\\Users\\PC\\.julia\\packages\\Flux\\qp1gc\\src\\optimise\\train.jl:135\n"
     ]
    },
    {
     "name": "stdout",
     "output_type": "stream",
     "text": [
      "training\n"
     ]
    },
    {
     "name": "stderr",
     "output_type": "stream",
     "text": [
      "┌ Info: Epoch 172\n",
      "└ @ Main C:\\Users\\PC\\.julia\\packages\\Flux\\qp1gc\\src\\optimise\\train.jl:135\n"
     ]
    },
    {
     "name": "stdout",
     "output_type": "stream",
     "text": [
      "training\n"
     ]
    },
    {
     "name": "stderr",
     "output_type": "stream",
     "text": [
      "┌ Info: Epoch 173\n",
      "└ @ Main C:\\Users\\PC\\.julia\\packages\\Flux\\qp1gc\\src\\optimise\\train.jl:135\n"
     ]
    },
    {
     "name": "stdout",
     "output_type": "stream",
     "text": [
      "training\n"
     ]
    },
    {
     "name": "stderr",
     "output_type": "stream",
     "text": [
      "┌ Info: Epoch 174\n",
      "└ @ Main C:\\Users\\PC\\.julia\\packages\\Flux\\qp1gc\\src\\optimise\\train.jl:135\n"
     ]
    },
    {
     "name": "stdout",
     "output_type": "stream",
     "text": [
      "training\n"
     ]
    },
    {
     "name": "stderr",
     "output_type": "stream",
     "text": [
      "┌ Info: Epoch 175\n",
      "└ @ Main C:\\Users\\PC\\.julia\\packages\\Flux\\qp1gc\\src\\optimise\\train.jl:135\n"
     ]
    },
    {
     "name": "stdout",
     "output_type": "stream",
     "text": [
      "training\n"
     ]
    },
    {
     "name": "stderr",
     "output_type": "stream",
     "text": [
      "┌ Info: Epoch 176\n",
      "└ @ Main C:\\Users\\PC\\.julia\\packages\\Flux\\qp1gc\\src\\optimise\\train.jl:135\n"
     ]
    },
    {
     "name": "stdout",
     "output_type": "stream",
     "text": [
      "training\n"
     ]
    },
    {
     "name": "stderr",
     "output_type": "stream",
     "text": [
      "┌ Info: Epoch 177\n",
      "└ @ Main C:\\Users\\PC\\.julia\\packages\\Flux\\qp1gc\\src\\optimise\\train.jl:135\n"
     ]
    },
    {
     "name": "stdout",
     "output_type": "stream",
     "text": [
      "training\n"
     ]
    },
    {
     "name": "stderr",
     "output_type": "stream",
     "text": [
      "┌ Info: Epoch 178\n",
      "└ @ Main C:\\Users\\PC\\.julia\\packages\\Flux\\qp1gc\\src\\optimise\\train.jl:135\n"
     ]
    },
    {
     "name": "stdout",
     "output_type": "stream",
     "text": [
      "training\n"
     ]
    },
    {
     "name": "stderr",
     "output_type": "stream",
     "text": [
      "┌ Info: Epoch 179\n",
      "└ @ Main C:\\Users\\PC\\.julia\\packages\\Flux\\qp1gc\\src\\optimise\\train.jl:135\n"
     ]
    },
    {
     "name": "stdout",
     "output_type": "stream",
     "text": [
      "training\n"
     ]
    },
    {
     "name": "stderr",
     "output_type": "stream",
     "text": [
      "┌ Info: Epoch 180\n",
      "└ @ Main C:\\Users\\PC\\.julia\\packages\\Flux\\qp1gc\\src\\optimise\\train.jl:135\n"
     ]
    },
    {
     "name": "stdout",
     "output_type": "stream",
     "text": [
      "training\n"
     ]
    },
    {
     "name": "stderr",
     "output_type": "stream",
     "text": [
      "┌ Info: Epoch 181\n",
      "└ @ Main C:\\Users\\PC\\.julia\\packages\\Flux\\qp1gc\\src\\optimise\\train.jl:135\n"
     ]
    },
    {
     "name": "stdout",
     "output_type": "stream",
     "text": [
      "training\n"
     ]
    },
    {
     "name": "stderr",
     "output_type": "stream",
     "text": [
      "┌ Info: Epoch 182\n",
      "└ @ Main C:\\Users\\PC\\.julia\\packages\\Flux\\qp1gc\\src\\optimise\\train.jl:135\n"
     ]
    },
    {
     "name": "stdout",
     "output_type": "stream",
     "text": [
      "training\n"
     ]
    },
    {
     "name": "stderr",
     "output_type": "stream",
     "text": [
      "┌ Info: Epoch 183\n",
      "└ @ Main C:\\Users\\PC\\.julia\\packages\\Flux\\qp1gc\\src\\optimise\\train.jl:135\n"
     ]
    },
    {
     "name": "stdout",
     "output_type": "stream",
     "text": [
      "training\n"
     ]
    },
    {
     "name": "stderr",
     "output_type": "stream",
     "text": [
      "┌ Info: Epoch 184\n",
      "└ @ Main C:\\Users\\PC\\.julia\\packages\\Flux\\qp1gc\\src\\optimise\\train.jl:135\n"
     ]
    },
    {
     "name": "stdout",
     "output_type": "stream",
     "text": [
      "training\n"
     ]
    },
    {
     "name": "stderr",
     "output_type": "stream",
     "text": [
      "┌ Info: Epoch 185\n",
      "└ @ Main C:\\Users\\PC\\.julia\\packages\\Flux\\qp1gc\\src\\optimise\\train.jl:135\n"
     ]
    },
    {
     "name": "stdout",
     "output_type": "stream",
     "text": [
      "training\n"
     ]
    },
    {
     "name": "stderr",
     "output_type": "stream",
     "text": [
      "┌ Info: Epoch 186\n",
      "└ @ Main C:\\Users\\PC\\.julia\\packages\\Flux\\qp1gc\\src\\optimise\\train.jl:135\n"
     ]
    },
    {
     "name": "stdout",
     "output_type": "stream",
     "text": [
      "training\n"
     ]
    },
    {
     "name": "stderr",
     "output_type": "stream",
     "text": [
      "┌ Info: Epoch 187\n",
      "└ @ Main C:\\Users\\PC\\.julia\\packages\\Flux\\qp1gc\\src\\optimise\\train.jl:135\n"
     ]
    },
    {
     "name": "stdout",
     "output_type": "stream",
     "text": [
      "training\n"
     ]
    },
    {
     "name": "stderr",
     "output_type": "stream",
     "text": [
      "┌ Info: Epoch 188\n",
      "└ @ Main C:\\Users\\PC\\.julia\\packages\\Flux\\qp1gc\\src\\optimise\\train.jl:135\n"
     ]
    },
    {
     "name": "stdout",
     "output_type": "stream",
     "text": [
      "training\n"
     ]
    },
    {
     "name": "stderr",
     "output_type": "stream",
     "text": [
      "┌ Info: Epoch 189\n",
      "└ @ Main C:\\Users\\PC\\.julia\\packages\\Flux\\qp1gc\\src\\optimise\\train.jl:135\n"
     ]
    },
    {
     "name": "stdout",
     "output_type": "stream",
     "text": [
      "training\n"
     ]
    },
    {
     "name": "stderr",
     "output_type": "stream",
     "text": [
      "┌ Info: Epoch 190\n",
      "└ @ Main C:\\Users\\PC\\.julia\\packages\\Flux\\qp1gc\\src\\optimise\\train.jl:135\n"
     ]
    },
    {
     "name": "stdout",
     "output_type": "stream",
     "text": [
      "training\n"
     ]
    },
    {
     "name": "stderr",
     "output_type": "stream",
     "text": [
      "┌ Info: Epoch 191\n",
      "└ @ Main C:\\Users\\PC\\.julia\\packages\\Flux\\qp1gc\\src\\optimise\\train.jl:135\n"
     ]
    },
    {
     "name": "stdout",
     "output_type": "stream",
     "text": [
      "training\n"
     ]
    },
    {
     "name": "stderr",
     "output_type": "stream",
     "text": [
      "┌ Info: Epoch 192\n",
      "└ @ Main C:\\Users\\PC\\.julia\\packages\\Flux\\qp1gc\\src\\optimise\\train.jl:135\n"
     ]
    },
    {
     "name": "stdout",
     "output_type": "stream",
     "text": [
      "training\n"
     ]
    },
    {
     "name": "stderr",
     "output_type": "stream",
     "text": [
      "┌ Info: Epoch 193\n",
      "└ @ Main C:\\Users\\PC\\.julia\\packages\\Flux\\qp1gc\\src\\optimise\\train.jl:135\n"
     ]
    },
    {
     "name": "stdout",
     "output_type": "stream",
     "text": [
      "training\n"
     ]
    },
    {
     "name": "stderr",
     "output_type": "stream",
     "text": [
      "┌ Info: Epoch 194\n",
      "└ @ Main C:\\Users\\PC\\.julia\\packages\\Flux\\qp1gc\\src\\optimise\\train.jl:135\n"
     ]
    },
    {
     "name": "stdout",
     "output_type": "stream",
     "text": [
      "training\n"
     ]
    },
    {
     "name": "stderr",
     "output_type": "stream",
     "text": [
      "┌ Info: Epoch 195\n",
      "└ @ Main C:\\Users\\PC\\.julia\\packages\\Flux\\qp1gc\\src\\optimise\\train.jl:135\n"
     ]
    },
    {
     "name": "stdout",
     "output_type": "stream",
     "text": [
      "training\n"
     ]
    },
    {
     "name": "stderr",
     "output_type": "stream",
     "text": [
      "┌ Info: Epoch 196\n",
      "└ @ Main C:\\Users\\PC\\.julia\\packages\\Flux\\qp1gc\\src\\optimise\\train.jl:135\n"
     ]
    },
    {
     "name": "stdout",
     "output_type": "stream",
     "text": [
      "training\n"
     ]
    },
    {
     "name": "stderr",
     "output_type": "stream",
     "text": [
      "┌ Info: Epoch 197\n",
      "└ @ Main C:\\Users\\PC\\.julia\\packages\\Flux\\qp1gc\\src\\optimise\\train.jl:135\n"
     ]
    },
    {
     "name": "stdout",
     "output_type": "stream",
     "text": [
      "training\n"
     ]
    },
    {
     "name": "stderr",
     "output_type": "stream",
     "text": [
      "┌ Info: Epoch 198\n",
      "└ @ Main C:\\Users\\PC\\.julia\\packages\\Flux\\qp1gc\\src\\optimise\\train.jl:135\n"
     ]
    },
    {
     "name": "stdout",
     "output_type": "stream",
     "text": [
      "training\n"
     ]
    },
    {
     "name": "stderr",
     "output_type": "stream",
     "text": [
      "┌ Info: Epoch 199\n",
      "└ @ Main C:\\Users\\PC\\.julia\\packages\\Flux\\qp1gc\\src\\optimise\\train.jl:135\n"
     ]
    },
    {
     "name": "stdout",
     "output_type": "stream",
     "text": [
      "training\n"
     ]
    },
    {
     "name": "stderr",
     "output_type": "stream",
     "text": [
      "┌ Info: Epoch 200\n",
      "└ @ Main C:\\Users\\PC\\.julia\\packages\\Flux\\qp1gc\\src\\optimise\\train.jl:135\n"
     ]
    },
    {
     "name": "stdout",
     "output_type": "stream",
     "text": [
      "training\n"
     ]
    },
    {
     "name": "stderr",
     "output_type": "stream",
     "text": [
      "┌ Info: Epoch 201\n",
      "└ @ Main C:\\Users\\PC\\.julia\\packages\\Flux\\qp1gc\\src\\optimise\\train.jl:135\n"
     ]
    },
    {
     "name": "stdout",
     "output_type": "stream",
     "text": [
      "training\n"
     ]
    },
    {
     "name": "stderr",
     "output_type": "stream",
     "text": [
      "┌ Info: Epoch 202\n",
      "└ @ Main C:\\Users\\PC\\.julia\\packages\\Flux\\qp1gc\\src\\optimise\\train.jl:135\n"
     ]
    },
    {
     "name": "stdout",
     "output_type": "stream",
     "text": [
      "training\n"
     ]
    },
    {
     "name": "stderr",
     "output_type": "stream",
     "text": [
      "┌ Info: Epoch 203\n",
      "└ @ Main C:\\Users\\PC\\.julia\\packages\\Flux\\qp1gc\\src\\optimise\\train.jl:135\n"
     ]
    },
    {
     "name": "stdout",
     "output_type": "stream",
     "text": [
      "training\n"
     ]
    },
    {
     "name": "stderr",
     "output_type": "stream",
     "text": [
      "┌ Info: Epoch 204\n",
      "└ @ Main C:\\Users\\PC\\.julia\\packages\\Flux\\qp1gc\\src\\optimise\\train.jl:135\n"
     ]
    },
    {
     "name": "stdout",
     "output_type": "stream",
     "text": [
      "training\n"
     ]
    },
    {
     "name": "stderr",
     "output_type": "stream",
     "text": [
      "┌ Info: Epoch 205\n",
      "└ @ Main C:\\Users\\PC\\.julia\\packages\\Flux\\qp1gc\\src\\optimise\\train.jl:135\n"
     ]
    },
    {
     "name": "stdout",
     "output_type": "stream",
     "text": [
      "training\n"
     ]
    },
    {
     "name": "stderr",
     "output_type": "stream",
     "text": [
      "┌ Info: Epoch 206\n",
      "└ @ Main C:\\Users\\PC\\.julia\\packages\\Flux\\qp1gc\\src\\optimise\\train.jl:135\n"
     ]
    },
    {
     "name": "stdout",
     "output_type": "stream",
     "text": [
      "training\n"
     ]
    },
    {
     "name": "stderr",
     "output_type": "stream",
     "text": [
      "┌ Info: Epoch 207\n",
      "└ @ Main C:\\Users\\PC\\.julia\\packages\\Flux\\qp1gc\\src\\optimise\\train.jl:135\n"
     ]
    },
    {
     "name": "stdout",
     "output_type": "stream",
     "text": [
      "training\n"
     ]
    },
    {
     "name": "stderr",
     "output_type": "stream",
     "text": [
      "┌ Info: Epoch 208\n",
      "└ @ Main C:\\Users\\PC\\.julia\\packages\\Flux\\qp1gc\\src\\optimise\\train.jl:135\n"
     ]
    },
    {
     "name": "stdout",
     "output_type": "stream",
     "text": [
      "training\n"
     ]
    },
    {
     "name": "stderr",
     "output_type": "stream",
     "text": [
      "┌ Info: Epoch 209\n",
      "└ @ Main C:\\Users\\PC\\.julia\\packages\\Flux\\qp1gc\\src\\optimise\\train.jl:135\n"
     ]
    },
    {
     "name": "stdout",
     "output_type": "stream",
     "text": [
      "training\n"
     ]
    },
    {
     "name": "stderr",
     "output_type": "stream",
     "text": [
      "┌ Info: Epoch 210\n",
      "└ @ Main C:\\Users\\PC\\.julia\\packages\\Flux\\qp1gc\\src\\optimise\\train.jl:135\n"
     ]
    },
    {
     "name": "stdout",
     "output_type": "stream",
     "text": [
      "training\n"
     ]
    },
    {
     "name": "stderr",
     "output_type": "stream",
     "text": [
      "┌ Info: Epoch 211\n",
      "└ @ Main C:\\Users\\PC\\.julia\\packages\\Flux\\qp1gc\\src\\optimise\\train.jl:135\n"
     ]
    },
    {
     "name": "stdout",
     "output_type": "stream",
     "text": [
      "training\n"
     ]
    },
    {
     "name": "stderr",
     "output_type": "stream",
     "text": [
      "┌ Info: Epoch 212\n",
      "└ @ Main C:\\Users\\PC\\.julia\\packages\\Flux\\qp1gc\\src\\optimise\\train.jl:135\n"
     ]
    },
    {
     "name": "stdout",
     "output_type": "stream",
     "text": [
      "training\n"
     ]
    },
    {
     "name": "stderr",
     "output_type": "stream",
     "text": [
      "┌ Info: Epoch 213\n",
      "└ @ Main C:\\Users\\PC\\.julia\\packages\\Flux\\qp1gc\\src\\optimise\\train.jl:135\n"
     ]
    },
    {
     "name": "stdout",
     "output_type": "stream",
     "text": [
      "training\n"
     ]
    },
    {
     "name": "stderr",
     "output_type": "stream",
     "text": [
      "┌ Info: Epoch 214\n",
      "└ @ Main C:\\Users\\PC\\.julia\\packages\\Flux\\qp1gc\\src\\optimise\\train.jl:135\n"
     ]
    },
    {
     "name": "stdout",
     "output_type": "stream",
     "text": [
      "training\n"
     ]
    },
    {
     "name": "stderr",
     "output_type": "stream",
     "text": [
      "┌ Info: Epoch 215\n",
      "└ @ Main C:\\Users\\PC\\.julia\\packages\\Flux\\qp1gc\\src\\optimise\\train.jl:135\n"
     ]
    },
    {
     "name": "stdout",
     "output_type": "stream",
     "text": [
      "training\n"
     ]
    },
    {
     "name": "stderr",
     "output_type": "stream",
     "text": [
      "┌ Info: Epoch 216\n",
      "└ @ Main C:\\Users\\PC\\.julia\\packages\\Flux\\qp1gc\\src\\optimise\\train.jl:135\n"
     ]
    },
    {
     "name": "stdout",
     "output_type": "stream",
     "text": [
      "training\n"
     ]
    },
    {
     "name": "stderr",
     "output_type": "stream",
     "text": [
      "┌ Info: Epoch 217\n",
      "└ @ Main C:\\Users\\PC\\.julia\\packages\\Flux\\qp1gc\\src\\optimise\\train.jl:135\n"
     ]
    },
    {
     "name": "stdout",
     "output_type": "stream",
     "text": [
      "training\n"
     ]
    },
    {
     "name": "stderr",
     "output_type": "stream",
     "text": [
      "┌ Info: Epoch 218\n",
      "└ @ Main C:\\Users\\PC\\.julia\\packages\\Flux\\qp1gc\\src\\optimise\\train.jl:135\n"
     ]
    },
    {
     "name": "stdout",
     "output_type": "stream",
     "text": [
      "training\n"
     ]
    },
    {
     "name": "stderr",
     "output_type": "stream",
     "text": [
      "┌ Info: Epoch 219\n",
      "└ @ Main C:\\Users\\PC\\.julia\\packages\\Flux\\qp1gc\\src\\optimise\\train.jl:135\n"
     ]
    },
    {
     "name": "stdout",
     "output_type": "stream",
     "text": [
      "training\n"
     ]
    },
    {
     "name": "stderr",
     "output_type": "stream",
     "text": [
      "┌ Info: Epoch 220\n",
      "└ @ Main C:\\Users\\PC\\.julia\\packages\\Flux\\qp1gc\\src\\optimise\\train.jl:135\n"
     ]
    },
    {
     "name": "stdout",
     "output_type": "stream",
     "text": [
      "training\n"
     ]
    },
    {
     "name": "stderr",
     "output_type": "stream",
     "text": [
      "┌ Info: Epoch 221\n",
      "└ @ Main C:\\Users\\PC\\.julia\\packages\\Flux\\qp1gc\\src\\optimise\\train.jl:135\n"
     ]
    },
    {
     "name": "stdout",
     "output_type": "stream",
     "text": [
      "training\n"
     ]
    },
    {
     "name": "stderr",
     "output_type": "stream",
     "text": [
      "┌ Info: Epoch 222\n",
      "└ @ Main C:\\Users\\PC\\.julia\\packages\\Flux\\qp1gc\\src\\optimise\\train.jl:135\n"
     ]
    },
    {
     "name": "stdout",
     "output_type": "stream",
     "text": [
      "training\n"
     ]
    },
    {
     "name": "stderr",
     "output_type": "stream",
     "text": [
      "┌ Info: Epoch 223\n",
      "└ @ Main C:\\Users\\PC\\.julia\\packages\\Flux\\qp1gc\\src\\optimise\\train.jl:135\n"
     ]
    },
    {
     "name": "stdout",
     "output_type": "stream",
     "text": [
      "training\n"
     ]
    },
    {
     "name": "stderr",
     "output_type": "stream",
     "text": [
      "┌ Info: Epoch 224\n",
      "└ @ Main C:\\Users\\PC\\.julia\\packages\\Flux\\qp1gc\\src\\optimise\\train.jl:135\n"
     ]
    },
    {
     "name": "stdout",
     "output_type": "stream",
     "text": [
      "training\n"
     ]
    },
    {
     "name": "stderr",
     "output_type": "stream",
     "text": [
      "┌ Info: Epoch 225\n",
      "└ @ Main C:\\Users\\PC\\.julia\\packages\\Flux\\qp1gc\\src\\optimise\\train.jl:135\n"
     ]
    },
    {
     "name": "stdout",
     "output_type": "stream",
     "text": [
      "training\n"
     ]
    },
    {
     "name": "stderr",
     "output_type": "stream",
     "text": [
      "┌ Info: Epoch 226\n",
      "└ @ Main C:\\Users\\PC\\.julia\\packages\\Flux\\qp1gc\\src\\optimise\\train.jl:135\n"
     ]
    },
    {
     "name": "stdout",
     "output_type": "stream",
     "text": [
      "training\n"
     ]
    },
    {
     "name": "stderr",
     "output_type": "stream",
     "text": [
      "┌ Info: Epoch 227\n",
      "└ @ Main C:\\Users\\PC\\.julia\\packages\\Flux\\qp1gc\\src\\optimise\\train.jl:135\n"
     ]
    },
    {
     "name": "stdout",
     "output_type": "stream",
     "text": [
      "training\n"
     ]
    },
    {
     "name": "stderr",
     "output_type": "stream",
     "text": [
      "┌ Info: Epoch 228\n",
      "└ @ Main C:\\Users\\PC\\.julia\\packages\\Flux\\qp1gc\\src\\optimise\\train.jl:135\n"
     ]
    },
    {
     "name": "stdout",
     "output_type": "stream",
     "text": [
      "training\n"
     ]
    },
    {
     "name": "stderr",
     "output_type": "stream",
     "text": [
      "┌ Info: Epoch 229\n",
      "└ @ Main C:\\Users\\PC\\.julia\\packages\\Flux\\qp1gc\\src\\optimise\\train.jl:135\n"
     ]
    },
    {
     "name": "stdout",
     "output_type": "stream",
     "text": [
      "training\n"
     ]
    },
    {
     "name": "stderr",
     "output_type": "stream",
     "text": [
      "┌ Info: Epoch 230\n",
      "└ @ Main C:\\Users\\PC\\.julia\\packages\\Flux\\qp1gc\\src\\optimise\\train.jl:135\n"
     ]
    },
    {
     "name": "stdout",
     "output_type": "stream",
     "text": [
      "training\n"
     ]
    },
    {
     "name": "stderr",
     "output_type": "stream",
     "text": [
      "┌ Info: Epoch 231\n",
      "└ @ Main C:\\Users\\PC\\.julia\\packages\\Flux\\qp1gc\\src\\optimise\\train.jl:135\n"
     ]
    },
    {
     "name": "stdout",
     "output_type": "stream",
     "text": [
      "training\n"
     ]
    },
    {
     "name": "stderr",
     "output_type": "stream",
     "text": [
      "┌ Info: Epoch 232\n",
      "└ @ Main C:\\Users\\PC\\.julia\\packages\\Flux\\qp1gc\\src\\optimise\\train.jl:135\n"
     ]
    },
    {
     "name": "stdout",
     "output_type": "stream",
     "text": [
      "training\n"
     ]
    },
    {
     "name": "stderr",
     "output_type": "stream",
     "text": [
      "┌ Info: Epoch 233\n",
      "└ @ Main C:\\Users\\PC\\.julia\\packages\\Flux\\qp1gc\\src\\optimise\\train.jl:135\n"
     ]
    },
    {
     "name": "stdout",
     "output_type": "stream",
     "text": [
      "training\n"
     ]
    },
    {
     "name": "stderr",
     "output_type": "stream",
     "text": [
      "┌ Info: Epoch 234\n",
      "└ @ Main C:\\Users\\PC\\.julia\\packages\\Flux\\qp1gc\\src\\optimise\\train.jl:135\n"
     ]
    },
    {
     "name": "stdout",
     "output_type": "stream",
     "text": [
      "training\n"
     ]
    },
    {
     "name": "stderr",
     "output_type": "stream",
     "text": [
      "┌ Info: Epoch 235\n",
      "└ @ Main C:\\Users\\PC\\.julia\\packages\\Flux\\qp1gc\\src\\optimise\\train.jl:135\n"
     ]
    },
    {
     "name": "stdout",
     "output_type": "stream",
     "text": [
      "training\n"
     ]
    },
    {
     "name": "stderr",
     "output_type": "stream",
     "text": [
      "┌ Info: Epoch 236\n",
      "└ @ Main C:\\Users\\PC\\.julia\\packages\\Flux\\qp1gc\\src\\optimise\\train.jl:135\n"
     ]
    },
    {
     "name": "stdout",
     "output_type": "stream",
     "text": [
      "training\n"
     ]
    },
    {
     "name": "stderr",
     "output_type": "stream",
     "text": [
      "┌ Info: Epoch 237\n",
      "└ @ Main C:\\Users\\PC\\.julia\\packages\\Flux\\qp1gc\\src\\optimise\\train.jl:135\n"
     ]
    },
    {
     "name": "stdout",
     "output_type": "stream",
     "text": [
      "training\n"
     ]
    },
    {
     "name": "stderr",
     "output_type": "stream",
     "text": [
      "┌ Info: Epoch 238\n",
      "└ @ Main C:\\Users\\PC\\.julia\\packages\\Flux\\qp1gc\\src\\optimise\\train.jl:135\n"
     ]
    },
    {
     "name": "stdout",
     "output_type": "stream",
     "text": [
      "training\n"
     ]
    },
    {
     "name": "stderr",
     "output_type": "stream",
     "text": [
      "┌ Info: Epoch 239\n",
      "└ @ Main C:\\Users\\PC\\.julia\\packages\\Flux\\qp1gc\\src\\optimise\\train.jl:135\n"
     ]
    },
    {
     "name": "stdout",
     "output_type": "stream",
     "text": [
      "training\n"
     ]
    },
    {
     "name": "stderr",
     "output_type": "stream",
     "text": [
      "┌ Info: Epoch 240\n",
      "└ @ Main C:\\Users\\PC\\.julia\\packages\\Flux\\qp1gc\\src\\optimise\\train.jl:135\n"
     ]
    },
    {
     "name": "stdout",
     "output_type": "stream",
     "text": [
      "training\n"
     ]
    },
    {
     "name": "stderr",
     "output_type": "stream",
     "text": [
      "┌ Info: Epoch 241\n",
      "└ @ Main C:\\Users\\PC\\.julia\\packages\\Flux\\qp1gc\\src\\optimise\\train.jl:135\n"
     ]
    },
    {
     "name": "stdout",
     "output_type": "stream",
     "text": [
      "training\n"
     ]
    },
    {
     "name": "stderr",
     "output_type": "stream",
     "text": [
      "┌ Info: Epoch 242\n",
      "└ @ Main C:\\Users\\PC\\.julia\\packages\\Flux\\qp1gc\\src\\optimise\\train.jl:135\n"
     ]
    },
    {
     "name": "stdout",
     "output_type": "stream",
     "text": [
      "training\n"
     ]
    },
    {
     "name": "stderr",
     "output_type": "stream",
     "text": [
      "┌ Info: Epoch 243\n",
      "└ @ Main C:\\Users\\PC\\.julia\\packages\\Flux\\qp1gc\\src\\optimise\\train.jl:135\n"
     ]
    },
    {
     "name": "stdout",
     "output_type": "stream",
     "text": [
      "training\n"
     ]
    },
    {
     "name": "stderr",
     "output_type": "stream",
     "text": [
      "┌ Info: Epoch 244\n",
      "└ @ Main C:\\Users\\PC\\.julia\\packages\\Flux\\qp1gc\\src\\optimise\\train.jl:135\n"
     ]
    },
    {
     "name": "stdout",
     "output_type": "stream",
     "text": [
      "training\n"
     ]
    },
    {
     "name": "stderr",
     "output_type": "stream",
     "text": [
      "┌ Info: Epoch 245\n",
      "└ @ Main C:\\Users\\PC\\.julia\\packages\\Flux\\qp1gc\\src\\optimise\\train.jl:135\n"
     ]
    },
    {
     "name": "stdout",
     "output_type": "stream",
     "text": [
      "training\n"
     ]
    },
    {
     "name": "stderr",
     "output_type": "stream",
     "text": [
      "┌ Info: Epoch 246\n",
      "└ @ Main C:\\Users\\PC\\.julia\\packages\\Flux\\qp1gc\\src\\optimise\\train.jl:135\n"
     ]
    },
    {
     "name": "stdout",
     "output_type": "stream",
     "text": [
      "training\n"
     ]
    },
    {
     "name": "stderr",
     "output_type": "stream",
     "text": [
      "┌ Info: Epoch 247\n",
      "└ @ Main C:\\Users\\PC\\.julia\\packages\\Flux\\qp1gc\\src\\optimise\\train.jl:135\n"
     ]
    },
    {
     "name": "stdout",
     "output_type": "stream",
     "text": [
      "training\n"
     ]
    },
    {
     "name": "stderr",
     "output_type": "stream",
     "text": [
      "┌ Info: Epoch 248\n",
      "└ @ Main C:\\Users\\PC\\.julia\\packages\\Flux\\qp1gc\\src\\optimise\\train.jl:135\n"
     ]
    },
    {
     "name": "stdout",
     "output_type": "stream",
     "text": [
      "training\n"
     ]
    },
    {
     "name": "stderr",
     "output_type": "stream",
     "text": [
      "┌ Info: Epoch 249\n",
      "└ @ Main C:\\Users\\PC\\.julia\\packages\\Flux\\qp1gc\\src\\optimise\\train.jl:135\n"
     ]
    },
    {
     "name": "stdout",
     "output_type": "stream",
     "text": [
      "training\n"
     ]
    },
    {
     "name": "stderr",
     "output_type": "stream",
     "text": [
      "┌ Info: Epoch 250\n",
      "└ @ Main C:\\Users\\PC\\.julia\\packages\\Flux\\qp1gc\\src\\optimise\\train.jl:135\n"
     ]
    },
    {
     "name": "stdout",
     "output_type": "stream",
     "text": [
      "training\n"
     ]
    },
    {
     "name": "stderr",
     "output_type": "stream",
     "text": [
      "┌ Info: Epoch 251\n",
      "└ @ Main C:\\Users\\PC\\.julia\\packages\\Flux\\qp1gc\\src\\optimise\\train.jl:135\n"
     ]
    },
    {
     "name": "stdout",
     "output_type": "stream",
     "text": [
      "training\n"
     ]
    },
    {
     "name": "stderr",
     "output_type": "stream",
     "text": [
      "┌ Info: Epoch 252\n",
      "└ @ Main C:\\Users\\PC\\.julia\\packages\\Flux\\qp1gc\\src\\optimise\\train.jl:135\n"
     ]
    },
    {
     "name": "stdout",
     "output_type": "stream",
     "text": [
      "training\n"
     ]
    },
    {
     "name": "stderr",
     "output_type": "stream",
     "text": [
      "┌ Info: Epoch 253\n",
      "└ @ Main C:\\Users\\PC\\.julia\\packages\\Flux\\qp1gc\\src\\optimise\\train.jl:135\n"
     ]
    },
    {
     "name": "stdout",
     "output_type": "stream",
     "text": [
      "training\n"
     ]
    },
    {
     "name": "stderr",
     "output_type": "stream",
     "text": [
      "┌ Info: Epoch 254\n",
      "└ @ Main C:\\Users\\PC\\.julia\\packages\\Flux\\qp1gc\\src\\optimise\\train.jl:135\n"
     ]
    },
    {
     "name": "stdout",
     "output_type": "stream",
     "text": [
      "training\n"
     ]
    },
    {
     "name": "stderr",
     "output_type": "stream",
     "text": [
      "┌ Info: Epoch 255\n",
      "└ @ Main C:\\Users\\PC\\.julia\\packages\\Flux\\qp1gc\\src\\optimise\\train.jl:135\n"
     ]
    },
    {
     "name": "stdout",
     "output_type": "stream",
     "text": [
      "training\n"
     ]
    },
    {
     "name": "stderr",
     "output_type": "stream",
     "text": [
      "┌ Info: Epoch 256\n",
      "└ @ Main C:\\Users\\PC\\.julia\\packages\\Flux\\qp1gc\\src\\optimise\\train.jl:135\n"
     ]
    },
    {
     "name": "stdout",
     "output_type": "stream",
     "text": [
      "training\n"
     ]
    },
    {
     "name": "stderr",
     "output_type": "stream",
     "text": [
      "┌ Info: Epoch 257\n",
      "└ @ Main C:\\Users\\PC\\.julia\\packages\\Flux\\qp1gc\\src\\optimise\\train.jl:135\n"
     ]
    },
    {
     "name": "stdout",
     "output_type": "stream",
     "text": [
      "training\n"
     ]
    },
    {
     "name": "stderr",
     "output_type": "stream",
     "text": [
      "┌ Info: Epoch 258\n",
      "└ @ Main C:\\Users\\PC\\.julia\\packages\\Flux\\qp1gc\\src\\optimise\\train.jl:135\n"
     ]
    },
    {
     "name": "stdout",
     "output_type": "stream",
     "text": [
      "training\n"
     ]
    },
    {
     "name": "stderr",
     "output_type": "stream",
     "text": [
      "┌ Info: Epoch 259\n",
      "└ @ Main C:\\Users\\PC\\.julia\\packages\\Flux\\qp1gc\\src\\optimise\\train.jl:135\n"
     ]
    },
    {
     "name": "stdout",
     "output_type": "stream",
     "text": [
      "training\n"
     ]
    },
    {
     "name": "stderr",
     "output_type": "stream",
     "text": [
      "┌ Info: Epoch 260\n",
      "└ @ Main C:\\Users\\PC\\.julia\\packages\\Flux\\qp1gc\\src\\optimise\\train.jl:135\n"
     ]
    },
    {
     "name": "stdout",
     "output_type": "stream",
     "text": [
      "training\n"
     ]
    },
    {
     "name": "stderr",
     "output_type": "stream",
     "text": [
      "┌ Info: Epoch 261\n",
      "└ @ Main C:\\Users\\PC\\.julia\\packages\\Flux\\qp1gc\\src\\optimise\\train.jl:135\n"
     ]
    },
    {
     "name": "stdout",
     "output_type": "stream",
     "text": [
      "training\n"
     ]
    },
    {
     "name": "stderr",
     "output_type": "stream",
     "text": [
      "┌ Info: Epoch 262\n",
      "└ @ Main C:\\Users\\PC\\.julia\\packages\\Flux\\qp1gc\\src\\optimise\\train.jl:135\n"
     ]
    },
    {
     "name": "stdout",
     "output_type": "stream",
     "text": [
      "training\n"
     ]
    },
    {
     "name": "stderr",
     "output_type": "stream",
     "text": [
      "┌ Info: Epoch 263\n",
      "└ @ Main C:\\Users\\PC\\.julia\\packages\\Flux\\qp1gc\\src\\optimise\\train.jl:135\n"
     ]
    },
    {
     "name": "stdout",
     "output_type": "stream",
     "text": [
      "training\n"
     ]
    },
    {
     "name": "stderr",
     "output_type": "stream",
     "text": [
      "┌ Info: Epoch 264\n",
      "└ @ Main C:\\Users\\PC\\.julia\\packages\\Flux\\qp1gc\\src\\optimise\\train.jl:135\n"
     ]
    },
    {
     "name": "stdout",
     "output_type": "stream",
     "text": [
      "training\n"
     ]
    },
    {
     "name": "stderr",
     "output_type": "stream",
     "text": [
      "┌ Info: Epoch 265\n",
      "└ @ Main C:\\Users\\PC\\.julia\\packages\\Flux\\qp1gc\\src\\optimise\\train.jl:135\n"
     ]
    },
    {
     "name": "stdout",
     "output_type": "stream",
     "text": [
      "training\n"
     ]
    },
    {
     "name": "stderr",
     "output_type": "stream",
     "text": [
      "┌ Info: Epoch 266\n",
      "└ @ Main C:\\Users\\PC\\.julia\\packages\\Flux\\qp1gc\\src\\optimise\\train.jl:135\n"
     ]
    },
    {
     "name": "stdout",
     "output_type": "stream",
     "text": [
      "training\n"
     ]
    },
    {
     "name": "stderr",
     "output_type": "stream",
     "text": [
      "┌ Info: Epoch 267\n",
      "└ @ Main C:\\Users\\PC\\.julia\\packages\\Flux\\qp1gc\\src\\optimise\\train.jl:135\n"
     ]
    },
    {
     "name": "stdout",
     "output_type": "stream",
     "text": [
      "training\n"
     ]
    },
    {
     "name": "stderr",
     "output_type": "stream",
     "text": [
      "┌ Info: Epoch 268\n",
      "└ @ Main C:\\Users\\PC\\.julia\\packages\\Flux\\qp1gc\\src\\optimise\\train.jl:135\n"
     ]
    },
    {
     "name": "stdout",
     "output_type": "stream",
     "text": [
      "training\n"
     ]
    },
    {
     "name": "stderr",
     "output_type": "stream",
     "text": [
      "┌ Info: Epoch 269\n",
      "└ @ Main C:\\Users\\PC\\.julia\\packages\\Flux\\qp1gc\\src\\optimise\\train.jl:135\n"
     ]
    },
    {
     "name": "stdout",
     "output_type": "stream",
     "text": [
      "training\n"
     ]
    },
    {
     "name": "stderr",
     "output_type": "stream",
     "text": [
      "┌ Info: Epoch 270\n",
      "└ @ Main C:\\Users\\PC\\.julia\\packages\\Flux\\qp1gc\\src\\optimise\\train.jl:135\n"
     ]
    },
    {
     "name": "stdout",
     "output_type": "stream",
     "text": [
      "training\n"
     ]
    },
    {
     "name": "stderr",
     "output_type": "stream",
     "text": [
      "┌ Info: Epoch 271\n",
      "└ @ Main C:\\Users\\PC\\.julia\\packages\\Flux\\qp1gc\\src\\optimise\\train.jl:135\n"
     ]
    },
    {
     "name": "stdout",
     "output_type": "stream",
     "text": [
      "training\n"
     ]
    },
    {
     "name": "stderr",
     "output_type": "stream",
     "text": [
      "┌ Info: Epoch 272\n",
      "└ @ Main C:\\Users\\PC\\.julia\\packages\\Flux\\qp1gc\\src\\optimise\\train.jl:135\n"
     ]
    },
    {
     "name": "stdout",
     "output_type": "stream",
     "text": [
      "training\n"
     ]
    },
    {
     "name": "stderr",
     "output_type": "stream",
     "text": [
      "┌ Info: Epoch 273\n",
      "└ @ Main C:\\Users\\PC\\.julia\\packages\\Flux\\qp1gc\\src\\optimise\\train.jl:135\n"
     ]
    },
    {
     "name": "stdout",
     "output_type": "stream",
     "text": [
      "training\n"
     ]
    },
    {
     "name": "stderr",
     "output_type": "stream",
     "text": [
      "┌ Info: Epoch 274\n",
      "└ @ Main C:\\Users\\PC\\.julia\\packages\\Flux\\qp1gc\\src\\optimise\\train.jl:135\n"
     ]
    },
    {
     "name": "stdout",
     "output_type": "stream",
     "text": [
      "training\n"
     ]
    },
    {
     "name": "stderr",
     "output_type": "stream",
     "text": [
      "┌ Info: Epoch 275\n",
      "└ @ Main C:\\Users\\PC\\.julia\\packages\\Flux\\qp1gc\\src\\optimise\\train.jl:135\n"
     ]
    },
    {
     "name": "stdout",
     "output_type": "stream",
     "text": [
      "training\n"
     ]
    },
    {
     "name": "stderr",
     "output_type": "stream",
     "text": [
      "┌ Info: Epoch 276\n",
      "└ @ Main C:\\Users\\PC\\.julia\\packages\\Flux\\qp1gc\\src\\optimise\\train.jl:135\n"
     ]
    },
    {
     "name": "stdout",
     "output_type": "stream",
     "text": [
      "training\n"
     ]
    },
    {
     "name": "stderr",
     "output_type": "stream",
     "text": [
      "┌ Info: Epoch 277\n",
      "└ @ Main C:\\Users\\PC\\.julia\\packages\\Flux\\qp1gc\\src\\optimise\\train.jl:135\n"
     ]
    },
    {
     "name": "stdout",
     "output_type": "stream",
     "text": [
      "training\n"
     ]
    },
    {
     "name": "stderr",
     "output_type": "stream",
     "text": [
      "┌ Info: Epoch 278\n",
      "└ @ Main C:\\Users\\PC\\.julia\\packages\\Flux\\qp1gc\\src\\optimise\\train.jl:135\n"
     ]
    },
    {
     "name": "stdout",
     "output_type": "stream",
     "text": [
      "training\n"
     ]
    },
    {
     "name": "stderr",
     "output_type": "stream",
     "text": [
      "┌ Info: Epoch 279\n",
      "└ @ Main C:\\Users\\PC\\.julia\\packages\\Flux\\qp1gc\\src\\optimise\\train.jl:135\n"
     ]
    },
    {
     "name": "stdout",
     "output_type": "stream",
     "text": [
      "training\n"
     ]
    },
    {
     "name": "stderr",
     "output_type": "stream",
     "text": [
      "┌ Info: Epoch 280\n",
      "└ @ Main C:\\Users\\PC\\.julia\\packages\\Flux\\qp1gc\\src\\optimise\\train.jl:135\n"
     ]
    },
    {
     "name": "stdout",
     "output_type": "stream",
     "text": [
      "training\n"
     ]
    },
    {
     "name": "stderr",
     "output_type": "stream",
     "text": [
      "┌ Info: Epoch 281\n",
      "└ @ Main C:\\Users\\PC\\.julia\\packages\\Flux\\qp1gc\\src\\optimise\\train.jl:135\n"
     ]
    },
    {
     "name": "stdout",
     "output_type": "stream",
     "text": [
      "training\n"
     ]
    },
    {
     "name": "stderr",
     "output_type": "stream",
     "text": [
      "┌ Info: Epoch 282\n",
      "└ @ Main C:\\Users\\PC\\.julia\\packages\\Flux\\qp1gc\\src\\optimise\\train.jl:135\n"
     ]
    },
    {
     "name": "stdout",
     "output_type": "stream",
     "text": [
      "training\n"
     ]
    },
    {
     "name": "stderr",
     "output_type": "stream",
     "text": [
      "┌ Info: Epoch 283\n",
      "└ @ Main C:\\Users\\PC\\.julia\\packages\\Flux\\qp1gc\\src\\optimise\\train.jl:135\n"
     ]
    },
    {
     "name": "stdout",
     "output_type": "stream",
     "text": [
      "training\n"
     ]
    },
    {
     "name": "stderr",
     "output_type": "stream",
     "text": [
      "┌ Info: Epoch 284\n",
      "└ @ Main C:\\Users\\PC\\.julia\\packages\\Flux\\qp1gc\\src\\optimise\\train.jl:135\n"
     ]
    },
    {
     "name": "stdout",
     "output_type": "stream",
     "text": [
      "training\n"
     ]
    },
    {
     "name": "stderr",
     "output_type": "stream",
     "text": [
      "┌ Info: Epoch 285\n",
      "└ @ Main C:\\Users\\PC\\.julia\\packages\\Flux\\qp1gc\\src\\optimise\\train.jl:135\n"
     ]
    },
    {
     "name": "stdout",
     "output_type": "stream",
     "text": [
      "training\n"
     ]
    },
    {
     "name": "stderr",
     "output_type": "stream",
     "text": [
      "┌ Info: Epoch 286\n",
      "└ @ Main C:\\Users\\PC\\.julia\\packages\\Flux\\qp1gc\\src\\optimise\\train.jl:135\n"
     ]
    },
    {
     "name": "stdout",
     "output_type": "stream",
     "text": [
      "training\n"
     ]
    },
    {
     "name": "stderr",
     "output_type": "stream",
     "text": [
      "┌ Info: Epoch 287\n",
      "└ @ Main C:\\Users\\PC\\.julia\\packages\\Flux\\qp1gc\\src\\optimise\\train.jl:135\n"
     ]
    },
    {
     "name": "stdout",
     "output_type": "stream",
     "text": [
      "training\n"
     ]
    },
    {
     "name": "stderr",
     "output_type": "stream",
     "text": [
      "┌ Info: Epoch 288\n",
      "└ @ Main C:\\Users\\PC\\.julia\\packages\\Flux\\qp1gc\\src\\optimise\\train.jl:135\n"
     ]
    },
    {
     "name": "stdout",
     "output_type": "stream",
     "text": [
      "training\n"
     ]
    },
    {
     "name": "stderr",
     "output_type": "stream",
     "text": [
      "┌ Info: Epoch 289\n",
      "└ @ Main C:\\Users\\PC\\.julia\\packages\\Flux\\qp1gc\\src\\optimise\\train.jl:135\n"
     ]
    },
    {
     "name": "stdout",
     "output_type": "stream",
     "text": [
      "training\n"
     ]
    },
    {
     "name": "stderr",
     "output_type": "stream",
     "text": [
      "┌ Info: Epoch 290\n",
      "└ @ Main C:\\Users\\PC\\.julia\\packages\\Flux\\qp1gc\\src\\optimise\\train.jl:135\n"
     ]
    },
    {
     "name": "stdout",
     "output_type": "stream",
     "text": [
      "training\n"
     ]
    },
    {
     "name": "stderr",
     "output_type": "stream",
     "text": [
      "┌ Info: Epoch 291\n",
      "└ @ Main C:\\Users\\PC\\.julia\\packages\\Flux\\qp1gc\\src\\optimise\\train.jl:135\n"
     ]
    },
    {
     "name": "stdout",
     "output_type": "stream",
     "text": [
      "training\n"
     ]
    },
    {
     "name": "stderr",
     "output_type": "stream",
     "text": [
      "┌ Info: Epoch 292\n",
      "└ @ Main C:\\Users\\PC\\.julia\\packages\\Flux\\qp1gc\\src\\optimise\\train.jl:135\n"
     ]
    },
    {
     "name": "stdout",
     "output_type": "stream",
     "text": [
      "training\n"
     ]
    },
    {
     "name": "stderr",
     "output_type": "stream",
     "text": [
      "┌ Info: Epoch 293\n",
      "└ @ Main C:\\Users\\PC\\.julia\\packages\\Flux\\qp1gc\\src\\optimise\\train.jl:135\n"
     ]
    },
    {
     "name": "stdout",
     "output_type": "stream",
     "text": [
      "training\n"
     ]
    },
    {
     "name": "stderr",
     "output_type": "stream",
     "text": [
      "┌ Info: Epoch 294\n",
      "└ @ Main C:\\Users\\PC\\.julia\\packages\\Flux\\qp1gc\\src\\optimise\\train.jl:135\n"
     ]
    },
    {
     "name": "stdout",
     "output_type": "stream",
     "text": [
      "training\n"
     ]
    },
    {
     "name": "stderr",
     "output_type": "stream",
     "text": [
      "┌ Info: Epoch 295\n",
      "└ @ Main C:\\Users\\PC\\.julia\\packages\\Flux\\qp1gc\\src\\optimise\\train.jl:135\n"
     ]
    },
    {
     "name": "stdout",
     "output_type": "stream",
     "text": [
      "training\n"
     ]
    },
    {
     "name": "stderr",
     "output_type": "stream",
     "text": [
      "┌ Info: Epoch 296\n",
      "└ @ Main C:\\Users\\PC\\.julia\\packages\\Flux\\qp1gc\\src\\optimise\\train.jl:135\n"
     ]
    },
    {
     "name": "stdout",
     "output_type": "stream",
     "text": [
      "training\n"
     ]
    },
    {
     "name": "stderr",
     "output_type": "stream",
     "text": [
      "┌ Info: Epoch 297\n",
      "└ @ Main C:\\Users\\PC\\.julia\\packages\\Flux\\qp1gc\\src\\optimise\\train.jl:135\n"
     ]
    },
    {
     "name": "stdout",
     "output_type": "stream",
     "text": [
      "training\n"
     ]
    },
    {
     "name": "stderr",
     "output_type": "stream",
     "text": [
      "┌ Info: Epoch 298\n",
      "└ @ Main C:\\Users\\PC\\.julia\\packages\\Flux\\qp1gc\\src\\optimise\\train.jl:135\n"
     ]
    },
    {
     "name": "stdout",
     "output_type": "stream",
     "text": [
      "training\n"
     ]
    },
    {
     "name": "stderr",
     "output_type": "stream",
     "text": [
      "┌ Info: Epoch 299\n",
      "└ @ Main C:\\Users\\PC\\.julia\\packages\\Flux\\qp1gc\\src\\optimise\\train.jl:135\n"
     ]
    },
    {
     "name": "stdout",
     "output_type": "stream",
     "text": [
      "training\n"
     ]
    },
    {
     "name": "stderr",
     "output_type": "stream",
     "text": [
      "┌ Info: Epoch 300\n",
      "└ @ Main C:\\Users\\PC\\.julia\\packages\\Flux\\qp1gc\\src\\optimise\\train.jl:135\n"
     ]
    },
    {
     "name": "stdout",
     "output_type": "stream",
     "text": [
      "training\n"
     ]
    },
    {
     "name": "stderr",
     "output_type": "stream",
     "text": [
      "┌ Info: Epoch 301\n",
      "└ @ Main C:\\Users\\PC\\.julia\\packages\\Flux\\qp1gc\\src\\optimise\\train.jl:135\n"
     ]
    },
    {
     "name": "stdout",
     "output_type": "stream",
     "text": [
      "training\n"
     ]
    },
    {
     "name": "stderr",
     "output_type": "stream",
     "text": [
      "┌ Info: Epoch 302\n",
      "└ @ Main C:\\Users\\PC\\.julia\\packages\\Flux\\qp1gc\\src\\optimise\\train.jl:135\n"
     ]
    },
    {
     "name": "stdout",
     "output_type": "stream",
     "text": [
      "training\n"
     ]
    },
    {
     "name": "stderr",
     "output_type": "stream",
     "text": [
      "┌ Info: Epoch 303\n",
      "└ @ Main C:\\Users\\PC\\.julia\\packages\\Flux\\qp1gc\\src\\optimise\\train.jl:135\n"
     ]
    },
    {
     "name": "stdout",
     "output_type": "stream",
     "text": [
      "training\n"
     ]
    },
    {
     "name": "stderr",
     "output_type": "stream",
     "text": [
      "┌ Info: Epoch 304\n",
      "└ @ Main C:\\Users\\PC\\.julia\\packages\\Flux\\qp1gc\\src\\optimise\\train.jl:135\n"
     ]
    },
    {
     "name": "stdout",
     "output_type": "stream",
     "text": [
      "training\n"
     ]
    },
    {
     "name": "stderr",
     "output_type": "stream",
     "text": [
      "┌ Info: Epoch 305\n",
      "└ @ Main C:\\Users\\PC\\.julia\\packages\\Flux\\qp1gc\\src\\optimise\\train.jl:135\n"
     ]
    },
    {
     "name": "stdout",
     "output_type": "stream",
     "text": [
      "training\n"
     ]
    },
    {
     "name": "stderr",
     "output_type": "stream",
     "text": [
      "┌ Info: Epoch 306\n",
      "└ @ Main C:\\Users\\PC\\.julia\\packages\\Flux\\qp1gc\\src\\optimise\\train.jl:135\n"
     ]
    },
    {
     "name": "stdout",
     "output_type": "stream",
     "text": [
      "training\n"
     ]
    },
    {
     "name": "stderr",
     "output_type": "stream",
     "text": [
      "┌ Info: Epoch 307\n",
      "└ @ Main C:\\Users\\PC\\.julia\\packages\\Flux\\qp1gc\\src\\optimise\\train.jl:135\n"
     ]
    },
    {
     "name": "stdout",
     "output_type": "stream",
     "text": [
      "training\n"
     ]
    },
    {
     "name": "stderr",
     "output_type": "stream",
     "text": [
      "┌ Info: Epoch 308\n",
      "└ @ Main C:\\Users\\PC\\.julia\\packages\\Flux\\qp1gc\\src\\optimise\\train.jl:135\n"
     ]
    },
    {
     "name": "stdout",
     "output_type": "stream",
     "text": [
      "training\n"
     ]
    },
    {
     "name": "stderr",
     "output_type": "stream",
     "text": [
      "┌ Info: Epoch 309\n",
      "└ @ Main C:\\Users\\PC\\.julia\\packages\\Flux\\qp1gc\\src\\optimise\\train.jl:135\n"
     ]
    },
    {
     "name": "stdout",
     "output_type": "stream",
     "text": [
      "training\n"
     ]
    },
    {
     "name": "stderr",
     "output_type": "stream",
     "text": [
      "┌ Info: Epoch 310\n",
      "└ @ Main C:\\Users\\PC\\.julia\\packages\\Flux\\qp1gc\\src\\optimise\\train.jl:135\n"
     ]
    },
    {
     "name": "stdout",
     "output_type": "stream",
     "text": [
      "training\n"
     ]
    },
    {
     "name": "stderr",
     "output_type": "stream",
     "text": [
      "┌ Info: Epoch 311\n",
      "└ @ Main C:\\Users\\PC\\.julia\\packages\\Flux\\qp1gc\\src\\optimise\\train.jl:135\n"
     ]
    },
    {
     "name": "stdout",
     "output_type": "stream",
     "text": [
      "training\n"
     ]
    },
    {
     "name": "stderr",
     "output_type": "stream",
     "text": [
      "┌ Info: Epoch 312\n",
      "└ @ Main C:\\Users\\PC\\.julia\\packages\\Flux\\qp1gc\\src\\optimise\\train.jl:135\n"
     ]
    },
    {
     "name": "stdout",
     "output_type": "stream",
     "text": [
      "training\n"
     ]
    },
    {
     "name": "stderr",
     "output_type": "stream",
     "text": [
      "┌ Info: Epoch 313\n",
      "└ @ Main C:\\Users\\PC\\.julia\\packages\\Flux\\qp1gc\\src\\optimise\\train.jl:135\n"
     ]
    },
    {
     "name": "stdout",
     "output_type": "stream",
     "text": [
      "training\n"
     ]
    },
    {
     "name": "stderr",
     "output_type": "stream",
     "text": [
      "┌ Info: Epoch 314\n",
      "└ @ Main C:\\Users\\PC\\.julia\\packages\\Flux\\qp1gc\\src\\optimise\\train.jl:135\n"
     ]
    },
    {
     "name": "stdout",
     "output_type": "stream",
     "text": [
      "training\n"
     ]
    },
    {
     "name": "stderr",
     "output_type": "stream",
     "text": [
      "┌ Info: Epoch 315\n",
      "└ @ Main C:\\Users\\PC\\.julia\\packages\\Flux\\qp1gc\\src\\optimise\\train.jl:135\n"
     ]
    },
    {
     "name": "stdout",
     "output_type": "stream",
     "text": [
      "training\n"
     ]
    },
    {
     "name": "stderr",
     "output_type": "stream",
     "text": [
      "┌ Info: Epoch 316\n",
      "└ @ Main C:\\Users\\PC\\.julia\\packages\\Flux\\qp1gc\\src\\optimise\\train.jl:135\n"
     ]
    },
    {
     "name": "stdout",
     "output_type": "stream",
     "text": [
      "training\n"
     ]
    },
    {
     "name": "stderr",
     "output_type": "stream",
     "text": [
      "┌ Info: Epoch 317\n",
      "└ @ Main C:\\Users\\PC\\.julia\\packages\\Flux\\qp1gc\\src\\optimise\\train.jl:135\n"
     ]
    },
    {
     "name": "stdout",
     "output_type": "stream",
     "text": [
      "training\n"
     ]
    },
    {
     "name": "stderr",
     "output_type": "stream",
     "text": [
      "┌ Info: Epoch 318\n",
      "└ @ Main C:\\Users\\PC\\.julia\\packages\\Flux\\qp1gc\\src\\optimise\\train.jl:135\n"
     ]
    },
    {
     "name": "stdout",
     "output_type": "stream",
     "text": [
      "training\n"
     ]
    },
    {
     "name": "stderr",
     "output_type": "stream",
     "text": [
      "┌ Info: Epoch 319\n",
      "└ @ Main C:\\Users\\PC\\.julia\\packages\\Flux\\qp1gc\\src\\optimise\\train.jl:135\n"
     ]
    },
    {
     "name": "stdout",
     "output_type": "stream",
     "text": [
      "training\n"
     ]
    },
    {
     "name": "stderr",
     "output_type": "stream",
     "text": [
      "┌ Info: Epoch 320\n",
      "└ @ Main C:\\Users\\PC\\.julia\\packages\\Flux\\qp1gc\\src\\optimise\\train.jl:135\n"
     ]
    },
    {
     "name": "stdout",
     "output_type": "stream",
     "text": [
      "training\n"
     ]
    },
    {
     "name": "stderr",
     "output_type": "stream",
     "text": [
      "┌ Info: Epoch 321\n",
      "└ @ Main C:\\Users\\PC\\.julia\\packages\\Flux\\qp1gc\\src\\optimise\\train.jl:135\n"
     ]
    },
    {
     "name": "stdout",
     "output_type": "stream",
     "text": [
      "training\n"
     ]
    },
    {
     "name": "stderr",
     "output_type": "stream",
     "text": [
      "┌ Info: Epoch 322\n",
      "└ @ Main C:\\Users\\PC\\.julia\\packages\\Flux\\qp1gc\\src\\optimise\\train.jl:135\n"
     ]
    },
    {
     "name": "stdout",
     "output_type": "stream",
     "text": [
      "training\n"
     ]
    },
    {
     "name": "stderr",
     "output_type": "stream",
     "text": [
      "┌ Info: Epoch 323\n",
      "└ @ Main C:\\Users\\PC\\.julia\\packages\\Flux\\qp1gc\\src\\optimise\\train.jl:135\n"
     ]
    },
    {
     "name": "stdout",
     "output_type": "stream",
     "text": [
      "training\n"
     ]
    },
    {
     "name": "stderr",
     "output_type": "stream",
     "text": [
      "┌ Info: Epoch 324\n",
      "└ @ Main C:\\Users\\PC\\.julia\\packages\\Flux\\qp1gc\\src\\optimise\\train.jl:135\n"
     ]
    },
    {
     "name": "stdout",
     "output_type": "stream",
     "text": [
      "training\n"
     ]
    },
    {
     "name": "stderr",
     "output_type": "stream",
     "text": [
      "┌ Info: Epoch 325\n",
      "└ @ Main C:\\Users\\PC\\.julia\\packages\\Flux\\qp1gc\\src\\optimise\\train.jl:135\n"
     ]
    },
    {
     "name": "stdout",
     "output_type": "stream",
     "text": [
      "training\n"
     ]
    },
    {
     "name": "stderr",
     "output_type": "stream",
     "text": [
      "┌ Info: Epoch 326\n",
      "└ @ Main C:\\Users\\PC\\.julia\\packages\\Flux\\qp1gc\\src\\optimise\\train.jl:135\n"
     ]
    },
    {
     "name": "stdout",
     "output_type": "stream",
     "text": [
      "training\n"
     ]
    },
    {
     "name": "stderr",
     "output_type": "stream",
     "text": [
      "┌ Info: Epoch 327\n",
      "└ @ Main C:\\Users\\PC\\.julia\\packages\\Flux\\qp1gc\\src\\optimise\\train.jl:135\n"
     ]
    },
    {
     "name": "stdout",
     "output_type": "stream",
     "text": [
      "training\n"
     ]
    },
    {
     "name": "stderr",
     "output_type": "stream",
     "text": [
      "┌ Info: Epoch 328\n",
      "└ @ Main C:\\Users\\PC\\.julia\\packages\\Flux\\qp1gc\\src\\optimise\\train.jl:135\n"
     ]
    },
    {
     "name": "stdout",
     "output_type": "stream",
     "text": [
      "training\n"
     ]
    },
    {
     "name": "stderr",
     "output_type": "stream",
     "text": [
      "┌ Info: Epoch 329\n",
      "└ @ Main C:\\Users\\PC\\.julia\\packages\\Flux\\qp1gc\\src\\optimise\\train.jl:135\n"
     ]
    },
    {
     "name": "stdout",
     "output_type": "stream",
     "text": [
      "training\n"
     ]
    },
    {
     "name": "stderr",
     "output_type": "stream",
     "text": [
      "┌ Info: Epoch 330\n",
      "└ @ Main C:\\Users\\PC\\.julia\\packages\\Flux\\qp1gc\\src\\optimise\\train.jl:135\n"
     ]
    },
    {
     "name": "stdout",
     "output_type": "stream",
     "text": [
      "training\n"
     ]
    },
    {
     "name": "stderr",
     "output_type": "stream",
     "text": [
      "┌ Info: Epoch 331\n",
      "└ @ Main C:\\Users\\PC\\.julia\\packages\\Flux\\qp1gc\\src\\optimise\\train.jl:135\n"
     ]
    },
    {
     "name": "stdout",
     "output_type": "stream",
     "text": [
      "training\n"
     ]
    },
    {
     "name": "stderr",
     "output_type": "stream",
     "text": [
      "┌ Info: Epoch 332\n",
      "└ @ Main C:\\Users\\PC\\.julia\\packages\\Flux\\qp1gc\\src\\optimise\\train.jl:135\n"
     ]
    },
    {
     "name": "stdout",
     "output_type": "stream",
     "text": [
      "training\n"
     ]
    },
    {
     "name": "stderr",
     "output_type": "stream",
     "text": [
      "┌ Info: Epoch 333\n",
      "└ @ Main C:\\Users\\PC\\.julia\\packages\\Flux\\qp1gc\\src\\optimise\\train.jl:135\n"
     ]
    },
    {
     "name": "stdout",
     "output_type": "stream",
     "text": [
      "training\n"
     ]
    },
    {
     "name": "stderr",
     "output_type": "stream",
     "text": [
      "┌ Info: Epoch 334\n",
      "└ @ Main C:\\Users\\PC\\.julia\\packages\\Flux\\qp1gc\\src\\optimise\\train.jl:135\n"
     ]
    },
    {
     "name": "stdout",
     "output_type": "stream",
     "text": [
      "training\n"
     ]
    },
    {
     "name": "stderr",
     "output_type": "stream",
     "text": [
      "┌ Info: Epoch 335\n",
      "└ @ Main C:\\Users\\PC\\.julia\\packages\\Flux\\qp1gc\\src\\optimise\\train.jl:135\n"
     ]
    },
    {
     "name": "stdout",
     "output_type": "stream",
     "text": [
      "training\n"
     ]
    },
    {
     "name": "stderr",
     "output_type": "stream",
     "text": [
      "┌ Info: Epoch 336\n",
      "└ @ Main C:\\Users\\PC\\.julia\\packages\\Flux\\qp1gc\\src\\optimise\\train.jl:135\n"
     ]
    },
    {
     "name": "stdout",
     "output_type": "stream",
     "text": [
      "training\n"
     ]
    },
    {
     "name": "stderr",
     "output_type": "stream",
     "text": [
      "┌ Info: Epoch 337\n",
      "└ @ Main C:\\Users\\PC\\.julia\\packages\\Flux\\qp1gc\\src\\optimise\\train.jl:135\n"
     ]
    },
    {
     "name": "stdout",
     "output_type": "stream",
     "text": [
      "training\n"
     ]
    },
    {
     "name": "stderr",
     "output_type": "stream",
     "text": [
      "┌ Info: Epoch 338\n",
      "└ @ Main C:\\Users\\PC\\.julia\\packages\\Flux\\qp1gc\\src\\optimise\\train.jl:135\n"
     ]
    },
    {
     "name": "stdout",
     "output_type": "stream",
     "text": [
      "training\n"
     ]
    },
    {
     "name": "stderr",
     "output_type": "stream",
     "text": [
      "┌ Info: Epoch 339\n",
      "└ @ Main C:\\Users\\PC\\.julia\\packages\\Flux\\qp1gc\\src\\optimise\\train.jl:135\n"
     ]
    },
    {
     "name": "stdout",
     "output_type": "stream",
     "text": [
      "training\n"
     ]
    },
    {
     "name": "stderr",
     "output_type": "stream",
     "text": [
      "┌ Info: Epoch 340\n",
      "└ @ Main C:\\Users\\PC\\.julia\\packages\\Flux\\qp1gc\\src\\optimise\\train.jl:135\n"
     ]
    },
    {
     "name": "stdout",
     "output_type": "stream",
     "text": [
      "training\n"
     ]
    },
    {
     "name": "stderr",
     "output_type": "stream",
     "text": [
      "┌ Info: Epoch 341\n",
      "└ @ Main C:\\Users\\PC\\.julia\\packages\\Flux\\qp1gc\\src\\optimise\\train.jl:135\n"
     ]
    },
    {
     "name": "stdout",
     "output_type": "stream",
     "text": [
      "training\n"
     ]
    },
    {
     "name": "stderr",
     "output_type": "stream",
     "text": [
      "┌ Info: Epoch 342\n",
      "└ @ Main C:\\Users\\PC\\.julia\\packages\\Flux\\qp1gc\\src\\optimise\\train.jl:135\n"
     ]
    },
    {
     "name": "stdout",
     "output_type": "stream",
     "text": [
      "training\n"
     ]
    },
    {
     "name": "stderr",
     "output_type": "stream",
     "text": [
      "┌ Info: Epoch 343\n",
      "└ @ Main C:\\Users\\PC\\.julia\\packages\\Flux\\qp1gc\\src\\optimise\\train.jl:135\n"
     ]
    },
    {
     "name": "stdout",
     "output_type": "stream",
     "text": [
      "training\n"
     ]
    },
    {
     "name": "stderr",
     "output_type": "stream",
     "text": [
      "┌ Info: Epoch 344\n",
      "└ @ Main C:\\Users\\PC\\.julia\\packages\\Flux\\qp1gc\\src\\optimise\\train.jl:135\n"
     ]
    },
    {
     "name": "stdout",
     "output_type": "stream",
     "text": [
      "training\n"
     ]
    },
    {
     "name": "stderr",
     "output_type": "stream",
     "text": [
      "┌ Info: Epoch 345\n",
      "└ @ Main C:\\Users\\PC\\.julia\\packages\\Flux\\qp1gc\\src\\optimise\\train.jl:135\n"
     ]
    },
    {
     "name": "stdout",
     "output_type": "stream",
     "text": [
      "training\n"
     ]
    },
    {
     "name": "stderr",
     "output_type": "stream",
     "text": [
      "┌ Info: Epoch 346\n",
      "└ @ Main C:\\Users\\PC\\.julia\\packages\\Flux\\qp1gc\\src\\optimise\\train.jl:135\n"
     ]
    },
    {
     "name": "stdout",
     "output_type": "stream",
     "text": [
      "training\n"
     ]
    },
    {
     "name": "stderr",
     "output_type": "stream",
     "text": [
      "┌ Info: Epoch 347\n",
      "└ @ Main C:\\Users\\PC\\.julia\\packages\\Flux\\qp1gc\\src\\optimise\\train.jl:135\n"
     ]
    },
    {
     "name": "stdout",
     "output_type": "stream",
     "text": [
      "training\n"
     ]
    },
    {
     "name": "stderr",
     "output_type": "stream",
     "text": [
      "┌ Info: Epoch 348\n",
      "└ @ Main C:\\Users\\PC\\.julia\\packages\\Flux\\qp1gc\\src\\optimise\\train.jl:135\n"
     ]
    },
    {
     "name": "stdout",
     "output_type": "stream",
     "text": [
      "training\n"
     ]
    },
    {
     "name": "stderr",
     "output_type": "stream",
     "text": [
      "┌ Info: Epoch 349\n",
      "└ @ Main C:\\Users\\PC\\.julia\\packages\\Flux\\qp1gc\\src\\optimise\\train.jl:135\n"
     ]
    },
    {
     "name": "stdout",
     "output_type": "stream",
     "text": [
      "training"
     ]
    },
    {
     "name": "stderr",
     "output_type": "stream",
     "text": [
      "┌ Info: Epoch 350\n",
      "└ @ Main C:\\Users\\PC\\.julia\\packages\\Flux\\qp1gc\\src\\optimise\\train.jl:135\n"
     ]
    },
    {
     "name": "stdout",
     "output_type": "stream",
     "text": [
      "\n",
      "training\n"
     ]
    },
    {
     "name": "stderr",
     "output_type": "stream",
     "text": [
      "┌ Info: Epoch 351\n",
      "└ @ Main C:\\Users\\PC\\.julia\\packages\\Flux\\qp1gc\\src\\optimise\\train.jl:135\n"
     ]
    },
    {
     "name": "stdout",
     "output_type": "stream",
     "text": [
      "training\n"
     ]
    },
    {
     "name": "stderr",
     "output_type": "stream",
     "text": [
      "┌ Info: Epoch 352\n",
      "└ @ Main C:\\Users\\PC\\.julia\\packages\\Flux\\qp1gc\\src\\optimise\\train.jl:135\n"
     ]
    },
    {
     "name": "stdout",
     "output_type": "stream",
     "text": [
      "training\n"
     ]
    },
    {
     "name": "stderr",
     "output_type": "stream",
     "text": [
      "┌ Info: Epoch 353\n",
      "└ @ Main C:\\Users\\PC\\.julia\\packages\\Flux\\qp1gc\\src\\optimise\\train.jl:135\n"
     ]
    },
    {
     "name": "stdout",
     "output_type": "stream",
     "text": [
      "training\n"
     ]
    },
    {
     "name": "stderr",
     "output_type": "stream",
     "text": [
      "┌ Info: Epoch 354\n",
      "└ @ Main C:\\Users\\PC\\.julia\\packages\\Flux\\qp1gc\\src\\optimise\\train.jl:135\n"
     ]
    },
    {
     "name": "stdout",
     "output_type": "stream",
     "text": [
      "training\n"
     ]
    },
    {
     "name": "stderr",
     "output_type": "stream",
     "text": [
      "┌ Info: Epoch 355\n",
      "└ @ Main C:\\Users\\PC\\.julia\\packages\\Flux\\qp1gc\\src\\optimise\\train.jl:135\n"
     ]
    },
    {
     "name": "stdout",
     "output_type": "stream",
     "text": [
      "training\n"
     ]
    },
    {
     "name": "stderr",
     "output_type": "stream",
     "text": [
      "┌ Info: Epoch 356\n",
      "└ @ Main C:\\Users\\PC\\.julia\\packages\\Flux\\qp1gc\\src\\optimise\\train.jl:135\n"
     ]
    },
    {
     "name": "stdout",
     "output_type": "stream",
     "text": [
      "training\n"
     ]
    },
    {
     "name": "stderr",
     "output_type": "stream",
     "text": [
      "┌ Info: Epoch 357\n",
      "└ @ Main C:\\Users\\PC\\.julia\\packages\\Flux\\qp1gc\\src\\optimise\\train.jl:135\n"
     ]
    },
    {
     "name": "stdout",
     "output_type": "stream",
     "text": [
      "training\n"
     ]
    },
    {
     "name": "stderr",
     "output_type": "stream",
     "text": [
      "┌ Info: Epoch 358\n",
      "└ @ Main C:\\Users\\PC\\.julia\\packages\\Flux\\qp1gc\\src\\optimise\\train.jl:135\n"
     ]
    },
    {
     "name": "stdout",
     "output_type": "stream",
     "text": [
      "training\n"
     ]
    },
    {
     "name": "stderr",
     "output_type": "stream",
     "text": [
      "┌ Info: Epoch 359\n",
      "└ @ Main C:\\Users\\PC\\.julia\\packages\\Flux\\qp1gc\\src\\optimise\\train.jl:135\n"
     ]
    },
    {
     "name": "stdout",
     "output_type": "stream",
     "text": [
      "training\n"
     ]
    },
    {
     "name": "stderr",
     "output_type": "stream",
     "text": [
      "┌ Info: Epoch 360\n",
      "└ @ Main C:\\Users\\PC\\.julia\\packages\\Flux\\qp1gc\\src\\optimise\\train.jl:135\n"
     ]
    },
    {
     "name": "stdout",
     "output_type": "stream",
     "text": [
      "training\n"
     ]
    },
    {
     "name": "stderr",
     "output_type": "stream",
     "text": [
      "┌ Info: Epoch 361\n",
      "└ @ Main C:\\Users\\PC\\.julia\\packages\\Flux\\qp1gc\\src\\optimise\\train.jl:135\n"
     ]
    },
    {
     "name": "stdout",
     "output_type": "stream",
     "text": [
      "training\n"
     ]
    },
    {
     "name": "stderr",
     "output_type": "stream",
     "text": [
      "┌ Info: Epoch 362\n",
      "└ @ Main C:\\Users\\PC\\.julia\\packages\\Flux\\qp1gc\\src\\optimise\\train.jl:135\n"
     ]
    },
    {
     "name": "stdout",
     "output_type": "stream",
     "text": [
      "training\n"
     ]
    },
    {
     "name": "stderr",
     "output_type": "stream",
     "text": [
      "┌ Info: Epoch 363\n",
      "└ @ Main C:\\Users\\PC\\.julia\\packages\\Flux\\qp1gc\\src\\optimise\\train.jl:135\n"
     ]
    },
    {
     "name": "stdout",
     "output_type": "stream",
     "text": [
      "training\n"
     ]
    },
    {
     "name": "stderr",
     "output_type": "stream",
     "text": [
      "┌ Info: Epoch 364\n",
      "└ @ Main C:\\Users\\PC\\.julia\\packages\\Flux\\qp1gc\\src\\optimise\\train.jl:135\n"
     ]
    },
    {
     "name": "stdout",
     "output_type": "stream",
     "text": [
      "training\n"
     ]
    },
    {
     "name": "stderr",
     "output_type": "stream",
     "text": [
      "┌ Info: Epoch 365\n",
      "└ @ Main C:\\Users\\PC\\.julia\\packages\\Flux\\qp1gc\\src\\optimise\\train.jl:135\n"
     ]
    },
    {
     "name": "stdout",
     "output_type": "stream",
     "text": [
      "training\n"
     ]
    },
    {
     "name": "stderr",
     "output_type": "stream",
     "text": [
      "┌ Info: Epoch 366\n",
      "└ @ Main C:\\Users\\PC\\.julia\\packages\\Flux\\qp1gc\\src\\optimise\\train.jl:135\n"
     ]
    },
    {
     "name": "stdout",
     "output_type": "stream",
     "text": [
      "training\n"
     ]
    },
    {
     "name": "stderr",
     "output_type": "stream",
     "text": [
      "┌ Info: Epoch 367\n",
      "└ @ Main C:\\Users\\PC\\.julia\\packages\\Flux\\qp1gc\\src\\optimise\\train.jl:135\n"
     ]
    },
    {
     "name": "stdout",
     "output_type": "stream",
     "text": [
      "training\n"
     ]
    },
    {
     "name": "stderr",
     "output_type": "stream",
     "text": [
      "┌ Info: Epoch 368\n",
      "└ @ Main C:\\Users\\PC\\.julia\\packages\\Flux\\qp1gc\\src\\optimise\\train.jl:135\n"
     ]
    },
    {
     "name": "stdout",
     "output_type": "stream",
     "text": [
      "training\n"
     ]
    },
    {
     "name": "stderr",
     "output_type": "stream",
     "text": [
      "┌ Info: Epoch 369\n",
      "└ @ Main C:\\Users\\PC\\.julia\\packages\\Flux\\qp1gc\\src\\optimise\\train.jl:135\n"
     ]
    },
    {
     "name": "stdout",
     "output_type": "stream",
     "text": [
      "training\n"
     ]
    },
    {
     "name": "stderr",
     "output_type": "stream",
     "text": [
      "┌ Info: Epoch 370\n",
      "└ @ Main C:\\Users\\PC\\.julia\\packages\\Flux\\qp1gc\\src\\optimise\\train.jl:135\n"
     ]
    },
    {
     "name": "stdout",
     "output_type": "stream",
     "text": [
      "training\n"
     ]
    },
    {
     "name": "stderr",
     "output_type": "stream",
     "text": [
      "┌ Info: Epoch 371\n",
      "└ @ Main C:\\Users\\PC\\.julia\\packages\\Flux\\qp1gc\\src\\optimise\\train.jl:135\n"
     ]
    },
    {
     "name": "stdout",
     "output_type": "stream",
     "text": [
      "training\n"
     ]
    },
    {
     "name": "stderr",
     "output_type": "stream",
     "text": [
      "┌ Info: Epoch 372\n",
      "└ @ Main C:\\Users\\PC\\.julia\\packages\\Flux\\qp1gc\\src\\optimise\\train.jl:135\n"
     ]
    },
    {
     "name": "stdout",
     "output_type": "stream",
     "text": [
      "training\n"
     ]
    },
    {
     "name": "stderr",
     "output_type": "stream",
     "text": [
      "┌ Info: Epoch 373\n",
      "└ @ Main C:\\Users\\PC\\.julia\\packages\\Flux\\qp1gc\\src\\optimise\\train.jl:135\n"
     ]
    },
    {
     "name": "stdout",
     "output_type": "stream",
     "text": [
      "training\n"
     ]
    },
    {
     "name": "stderr",
     "output_type": "stream",
     "text": [
      "┌ Info: Epoch 374\n",
      "└ @ Main C:\\Users\\PC\\.julia\\packages\\Flux\\qp1gc\\src\\optimise\\train.jl:135\n"
     ]
    },
    {
     "name": "stdout",
     "output_type": "stream",
     "text": [
      "training\n"
     ]
    },
    {
     "name": "stderr",
     "output_type": "stream",
     "text": [
      "┌ Info: Epoch 375\n",
      "└ @ Main C:\\Users\\PC\\.julia\\packages\\Flux\\qp1gc\\src\\optimise\\train.jl:135\n"
     ]
    },
    {
     "name": "stdout",
     "output_type": "stream",
     "text": [
      "training\n"
     ]
    },
    {
     "name": "stderr",
     "output_type": "stream",
     "text": [
      "┌ Info: Epoch 376\n",
      "└ @ Main C:\\Users\\PC\\.julia\\packages\\Flux\\qp1gc\\src\\optimise\\train.jl:135\n"
     ]
    },
    {
     "name": "stdout",
     "output_type": "stream",
     "text": [
      "training\n"
     ]
    },
    {
     "name": "stderr",
     "output_type": "stream",
     "text": [
      "┌ Info: Epoch 377\n",
      "└ @ Main C:\\Users\\PC\\.julia\\packages\\Flux\\qp1gc\\src\\optimise\\train.jl:135\n"
     ]
    },
    {
     "name": "stdout",
     "output_type": "stream",
     "text": [
      "training\n"
     ]
    },
    {
     "name": "stderr",
     "output_type": "stream",
     "text": [
      "┌ Info: Epoch 378\n",
      "└ @ Main C:\\Users\\PC\\.julia\\packages\\Flux\\qp1gc\\src\\optimise\\train.jl:135\n"
     ]
    },
    {
     "name": "stdout",
     "output_type": "stream",
     "text": [
      "training\n"
     ]
    },
    {
     "name": "stderr",
     "output_type": "stream",
     "text": [
      "┌ Info: Epoch 379\n",
      "└ @ Main C:\\Users\\PC\\.julia\\packages\\Flux\\qp1gc\\src\\optimise\\train.jl:135\n"
     ]
    },
    {
     "name": "stdout",
     "output_type": "stream",
     "text": [
      "training\n"
     ]
    },
    {
     "name": "stderr",
     "output_type": "stream",
     "text": [
      "┌ Info: Epoch 380\n",
      "└ @ Main C:\\Users\\PC\\.julia\\packages\\Flux\\qp1gc\\src\\optimise\\train.jl:135\n"
     ]
    },
    {
     "name": "stdout",
     "output_type": "stream",
     "text": [
      "training\n"
     ]
    },
    {
     "name": "stderr",
     "output_type": "stream",
     "text": [
      "┌ Info: Epoch 381\n",
      "└ @ Main C:\\Users\\PC\\.julia\\packages\\Flux\\qp1gc\\src\\optimise\\train.jl:135\n"
     ]
    },
    {
     "name": "stdout",
     "output_type": "stream",
     "text": [
      "training\n"
     ]
    },
    {
     "name": "stderr",
     "output_type": "stream",
     "text": [
      "┌ Info: Epoch 382\n",
      "└ @ Main C:\\Users\\PC\\.julia\\packages\\Flux\\qp1gc\\src\\optimise\\train.jl:135\n"
     ]
    },
    {
     "name": "stdout",
     "output_type": "stream",
     "text": [
      "training\n"
     ]
    },
    {
     "name": "stderr",
     "output_type": "stream",
     "text": [
      "┌ Info: Epoch 383\n",
      "└ @ Main C:\\Users\\PC\\.julia\\packages\\Flux\\qp1gc\\src\\optimise\\train.jl:135\n"
     ]
    },
    {
     "name": "stdout",
     "output_type": "stream",
     "text": [
      "training\n"
     ]
    },
    {
     "name": "stderr",
     "output_type": "stream",
     "text": [
      "┌ Info: Epoch 384\n",
      "└ @ Main C:\\Users\\PC\\.julia\\packages\\Flux\\qp1gc\\src\\optimise\\train.jl:135\n"
     ]
    },
    {
     "name": "stdout",
     "output_type": "stream",
     "text": [
      "training\n"
     ]
    },
    {
     "name": "stderr",
     "output_type": "stream",
     "text": [
      "┌ Info: Epoch 385\n",
      "└ @ Main C:\\Users\\PC\\.julia\\packages\\Flux\\qp1gc\\src\\optimise\\train.jl:135\n"
     ]
    },
    {
     "name": "stdout",
     "output_type": "stream",
     "text": [
      "training\n"
     ]
    },
    {
     "name": "stderr",
     "output_type": "stream",
     "text": [
      "┌ Info: Epoch 386\n",
      "└ @ Main C:\\Users\\PC\\.julia\\packages\\Flux\\qp1gc\\src\\optimise\\train.jl:135\n"
     ]
    },
    {
     "name": "stdout",
     "output_type": "stream",
     "text": [
      "training\n"
     ]
    },
    {
     "name": "stderr",
     "output_type": "stream",
     "text": [
      "┌ Info: Epoch 387\n",
      "└ @ Main C:\\Users\\PC\\.julia\\packages\\Flux\\qp1gc\\src\\optimise\\train.jl:135\n"
     ]
    },
    {
     "name": "stdout",
     "output_type": "stream",
     "text": [
      "training\n"
     ]
    },
    {
     "name": "stderr",
     "output_type": "stream",
     "text": [
      "┌ Info: Epoch 388\n",
      "└ @ Main C:\\Users\\PC\\.julia\\packages\\Flux\\qp1gc\\src\\optimise\\train.jl:135\n"
     ]
    },
    {
     "name": "stdout",
     "output_type": "stream",
     "text": [
      "training\n"
     ]
    },
    {
     "name": "stderr",
     "output_type": "stream",
     "text": [
      "┌ Info: Epoch 389\n",
      "└ @ Main C:\\Users\\PC\\.julia\\packages\\Flux\\qp1gc\\src\\optimise\\train.jl:135\n"
     ]
    },
    {
     "name": "stdout",
     "output_type": "stream",
     "text": [
      "training\n"
     ]
    },
    {
     "name": "stderr",
     "output_type": "stream",
     "text": [
      "┌ Info: Epoch 390\n",
      "└ @ Main C:\\Users\\PC\\.julia\\packages\\Flux\\qp1gc\\src\\optimise\\train.jl:135\n"
     ]
    },
    {
     "name": "stdout",
     "output_type": "stream",
     "text": [
      "training\n"
     ]
    },
    {
     "name": "stderr",
     "output_type": "stream",
     "text": [
      "┌ Info: Epoch 391\n",
      "└ @ Main C:\\Users\\PC\\.julia\\packages\\Flux\\qp1gc\\src\\optimise\\train.jl:135\n"
     ]
    },
    {
     "name": "stdout",
     "output_type": "stream",
     "text": [
      "training\n"
     ]
    },
    {
     "name": "stderr",
     "output_type": "stream",
     "text": [
      "┌ Info: Epoch 392\n",
      "└ @ Main C:\\Users\\PC\\.julia\\packages\\Flux\\qp1gc\\src\\optimise\\train.jl:135\n"
     ]
    },
    {
     "name": "stdout",
     "output_type": "stream",
     "text": [
      "training\n"
     ]
    },
    {
     "name": "stderr",
     "output_type": "stream",
     "text": [
      "┌ Info: Epoch 393\n",
      "└ @ Main C:\\Users\\PC\\.julia\\packages\\Flux\\qp1gc\\src\\optimise\\train.jl:135\n"
     ]
    },
    {
     "name": "stdout",
     "output_type": "stream",
     "text": [
      "training\n"
     ]
    },
    {
     "name": "stderr",
     "output_type": "stream",
     "text": [
      "┌ Info: Epoch 394\n",
      "└ @ Main C:\\Users\\PC\\.julia\\packages\\Flux\\qp1gc\\src\\optimise\\train.jl:135\n"
     ]
    },
    {
     "name": "stdout",
     "output_type": "stream",
     "text": [
      "training\n"
     ]
    },
    {
     "name": "stderr",
     "output_type": "stream",
     "text": [
      "┌ Info: Epoch 395\n",
      "└ @ Main C:\\Users\\PC\\.julia\\packages\\Flux\\qp1gc\\src\\optimise\\train.jl:135\n"
     ]
    },
    {
     "name": "stdout",
     "output_type": "stream",
     "text": [
      "training\n"
     ]
    },
    {
     "name": "stderr",
     "output_type": "stream",
     "text": [
      "┌ Info: Epoch 396\n",
      "└ @ Main C:\\Users\\PC\\.julia\\packages\\Flux\\qp1gc\\src\\optimise\\train.jl:135\n"
     ]
    },
    {
     "name": "stdout",
     "output_type": "stream",
     "text": [
      "training\n"
     ]
    },
    {
     "name": "stderr",
     "output_type": "stream",
     "text": [
      "┌ Info: Epoch 397\n",
      "└ @ Main C:\\Users\\PC\\.julia\\packages\\Flux\\qp1gc\\src\\optimise\\train.jl:135\n"
     ]
    },
    {
     "name": "stdout",
     "output_type": "stream",
     "text": [
      "training\n"
     ]
    },
    {
     "name": "stderr",
     "output_type": "stream",
     "text": [
      "┌ Info: Epoch 398\n",
      "└ @ Main C:\\Users\\PC\\.julia\\packages\\Flux\\qp1gc\\src\\optimise\\train.jl:135\n"
     ]
    },
    {
     "name": "stdout",
     "output_type": "stream",
     "text": [
      "training\n"
     ]
    },
    {
     "name": "stderr",
     "output_type": "stream",
     "text": [
      "┌ Info: Epoch 399\n",
      "└ @ Main C:\\Users\\PC\\.julia\\packages\\Flux\\qp1gc\\src\\optimise\\train.jl:135\n"
     ]
    },
    {
     "name": "stdout",
     "output_type": "stream",
     "text": [
      "training\n"
     ]
    },
    {
     "name": "stderr",
     "output_type": "stream",
     "text": [
      "┌ Info: Epoch 400\n",
      "└ @ Main C:\\Users\\PC\\.julia\\packages\\Flux\\qp1gc\\src\\optimise\\train.jl:135\n"
     ]
    },
    {
     "name": "stdout",
     "output_type": "stream",
     "text": [
      "training\n"
     ]
    },
    {
     "name": "stderr",
     "output_type": "stream",
     "text": [
      "┌ Info: Epoch 401\n",
      "└ @ Main C:\\Users\\PC\\.julia\\packages\\Flux\\qp1gc\\src\\optimise\\train.jl:135\n"
     ]
    },
    {
     "name": "stdout",
     "output_type": "stream",
     "text": [
      "training\n"
     ]
    },
    {
     "name": "stderr",
     "output_type": "stream",
     "text": [
      "┌ Info: Epoch 402\n",
      "└ @ Main C:\\Users\\PC\\.julia\\packages\\Flux\\qp1gc\\src\\optimise\\train.jl:135\n"
     ]
    },
    {
     "name": "stdout",
     "output_type": "stream",
     "text": [
      "training\n"
     ]
    },
    {
     "name": "stderr",
     "output_type": "stream",
     "text": [
      "┌ Info: Epoch 403\n",
      "└ @ Main C:\\Users\\PC\\.julia\\packages\\Flux\\qp1gc\\src\\optimise\\train.jl:135\n"
     ]
    },
    {
     "name": "stdout",
     "output_type": "stream",
     "text": [
      "training\n"
     ]
    },
    {
     "name": "stderr",
     "output_type": "stream",
     "text": [
      "┌ Info: Epoch 404\n",
      "└ @ Main C:\\Users\\PC\\.julia\\packages\\Flux\\qp1gc\\src\\optimise\\train.jl:135\n"
     ]
    },
    {
     "name": "stdout",
     "output_type": "stream",
     "text": [
      "training\n"
     ]
    },
    {
     "name": "stderr",
     "output_type": "stream",
     "text": [
      "┌ Info: Epoch 405\n",
      "└ @ Main C:\\Users\\PC\\.julia\\packages\\Flux\\qp1gc\\src\\optimise\\train.jl:135\n"
     ]
    },
    {
     "name": "stdout",
     "output_type": "stream",
     "text": [
      "training\n"
     ]
    },
    {
     "name": "stderr",
     "output_type": "stream",
     "text": [
      "┌ Info: Epoch 406\n",
      "└ @ Main C:\\Users\\PC\\.julia\\packages\\Flux\\qp1gc\\src\\optimise\\train.jl:135\n"
     ]
    },
    {
     "name": "stdout",
     "output_type": "stream",
     "text": [
      "training\n"
     ]
    },
    {
     "name": "stderr",
     "output_type": "stream",
     "text": [
      "┌ Info: Epoch 407\n",
      "└ @ Main C:\\Users\\PC\\.julia\\packages\\Flux\\qp1gc\\src\\optimise\\train.jl:135\n"
     ]
    },
    {
     "name": "stdout",
     "output_type": "stream",
     "text": [
      "training\n"
     ]
    },
    {
     "name": "stderr",
     "output_type": "stream",
     "text": [
      "┌ Info: Epoch 408\n",
      "└ @ Main C:\\Users\\PC\\.julia\\packages\\Flux\\qp1gc\\src\\optimise\\train.jl:135\n"
     ]
    },
    {
     "name": "stdout",
     "output_type": "stream",
     "text": [
      "training\n"
     ]
    },
    {
     "name": "stderr",
     "output_type": "stream",
     "text": [
      "┌ Info: Epoch 409\n",
      "└ @ Main C:\\Users\\PC\\.julia\\packages\\Flux\\qp1gc\\src\\optimise\\train.jl:135\n"
     ]
    },
    {
     "name": "stdout",
     "output_type": "stream",
     "text": [
      "training\n"
     ]
    },
    {
     "name": "stderr",
     "output_type": "stream",
     "text": [
      "┌ Info: Epoch 410\n",
      "└ @ Main C:\\Users\\PC\\.julia\\packages\\Flux\\qp1gc\\src\\optimise\\train.jl:135\n"
     ]
    },
    {
     "name": "stdout",
     "output_type": "stream",
     "text": [
      "training\n"
     ]
    },
    {
     "name": "stderr",
     "output_type": "stream",
     "text": [
      "┌ Info: Epoch 411\n",
      "└ @ Main C:\\Users\\PC\\.julia\\packages\\Flux\\qp1gc\\src\\optimise\\train.jl:135\n"
     ]
    },
    {
     "name": "stdout",
     "output_type": "stream",
     "text": [
      "training\n"
     ]
    },
    {
     "name": "stderr",
     "output_type": "stream",
     "text": [
      "┌ Info: Epoch 412\n",
      "└ @ Main C:\\Users\\PC\\.julia\\packages\\Flux\\qp1gc\\src\\optimise\\train.jl:135\n"
     ]
    },
    {
     "name": "stdout",
     "output_type": "stream",
     "text": [
      "training\n"
     ]
    },
    {
     "name": "stderr",
     "output_type": "stream",
     "text": [
      "┌ Info: Epoch 413\n",
      "└ @ Main C:\\Users\\PC\\.julia\\packages\\Flux\\qp1gc\\src\\optimise\\train.jl:135\n"
     ]
    },
    {
     "name": "stdout",
     "output_type": "stream",
     "text": [
      "training\n"
     ]
    },
    {
     "name": "stderr",
     "output_type": "stream",
     "text": [
      "┌ Info: Epoch 414\n",
      "└ @ Main C:\\Users\\PC\\.julia\\packages\\Flux\\qp1gc\\src\\optimise\\train.jl:135\n"
     ]
    },
    {
     "name": "stdout",
     "output_type": "stream",
     "text": [
      "training\n"
     ]
    },
    {
     "name": "stderr",
     "output_type": "stream",
     "text": [
      "┌ Info: Epoch 415\n",
      "└ @ Main C:\\Users\\PC\\.julia\\packages\\Flux\\qp1gc\\src\\optimise\\train.jl:135\n"
     ]
    },
    {
     "name": "stdout",
     "output_type": "stream",
     "text": [
      "training\n"
     ]
    },
    {
     "name": "stderr",
     "output_type": "stream",
     "text": [
      "┌ Info: Epoch 416\n",
      "└ @ Main C:\\Users\\PC\\.julia\\packages\\Flux\\qp1gc\\src\\optimise\\train.jl:135\n"
     ]
    },
    {
     "name": "stdout",
     "output_type": "stream",
     "text": [
      "training\n"
     ]
    },
    {
     "name": "stderr",
     "output_type": "stream",
     "text": [
      "┌ Info: Epoch 417\n",
      "└ @ Main C:\\Users\\PC\\.julia\\packages\\Flux\\qp1gc\\src\\optimise\\train.jl:135\n"
     ]
    },
    {
     "name": "stdout",
     "output_type": "stream",
     "text": [
      "training\n"
     ]
    },
    {
     "name": "stderr",
     "output_type": "stream",
     "text": [
      "┌ Info: Epoch 418\n",
      "└ @ Main C:\\Users\\PC\\.julia\\packages\\Flux\\qp1gc\\src\\optimise\\train.jl:135\n"
     ]
    },
    {
     "name": "stdout",
     "output_type": "stream",
     "text": [
      "training\n"
     ]
    },
    {
     "name": "stderr",
     "output_type": "stream",
     "text": [
      "┌ Info: Epoch 419\n",
      "└ @ Main C:\\Users\\PC\\.julia\\packages\\Flux\\qp1gc\\src\\optimise\\train.jl:135\n"
     ]
    },
    {
     "name": "stdout",
     "output_type": "stream",
     "text": [
      "training\n"
     ]
    },
    {
     "name": "stderr",
     "output_type": "stream",
     "text": [
      "┌ Info: Epoch 420\n",
      "└ @ Main C:\\Users\\PC\\.julia\\packages\\Flux\\qp1gc\\src\\optimise\\train.jl:135\n"
     ]
    },
    {
     "name": "stdout",
     "output_type": "stream",
     "text": [
      "training\n"
     ]
    },
    {
     "name": "stderr",
     "output_type": "stream",
     "text": [
      "┌ Info: Epoch 421\n",
      "└ @ Main C:\\Users\\PC\\.julia\\packages\\Flux\\qp1gc\\src\\optimise\\train.jl:135\n"
     ]
    },
    {
     "name": "stdout",
     "output_type": "stream",
     "text": [
      "training\n"
     ]
    },
    {
     "name": "stderr",
     "output_type": "stream",
     "text": [
      "┌ Info: Epoch 422\n",
      "└ @ Main C:\\Users\\PC\\.julia\\packages\\Flux\\qp1gc\\src\\optimise\\train.jl:135\n"
     ]
    },
    {
     "name": "stdout",
     "output_type": "stream",
     "text": [
      "training\n"
     ]
    },
    {
     "name": "stderr",
     "output_type": "stream",
     "text": [
      "┌ Info: Epoch 423\n",
      "└ @ Main C:\\Users\\PC\\.julia\\packages\\Flux\\qp1gc\\src\\optimise\\train.jl:135\n"
     ]
    },
    {
     "name": "stdout",
     "output_type": "stream",
     "text": [
      "training\n"
     ]
    },
    {
     "name": "stderr",
     "output_type": "stream",
     "text": [
      "┌ Info: Epoch 424\n",
      "└ @ Main C:\\Users\\PC\\.julia\\packages\\Flux\\qp1gc\\src\\optimise\\train.jl:135\n"
     ]
    },
    {
     "name": "stdout",
     "output_type": "stream",
     "text": [
      "training\n"
     ]
    },
    {
     "name": "stderr",
     "output_type": "stream",
     "text": [
      "┌ Info: Epoch 425\n",
      "└ @ Main C:\\Users\\PC\\.julia\\packages\\Flux\\qp1gc\\src\\optimise\\train.jl:135\n"
     ]
    },
    {
     "name": "stdout",
     "output_type": "stream",
     "text": [
      "training\n"
     ]
    },
    {
     "name": "stderr",
     "output_type": "stream",
     "text": [
      "┌ Info: Epoch 426\n",
      "└ @ Main C:\\Users\\PC\\.julia\\packages\\Flux\\qp1gc\\src\\optimise\\train.jl:135\n"
     ]
    },
    {
     "name": "stdout",
     "output_type": "stream",
     "text": [
      "training\n"
     ]
    },
    {
     "name": "stderr",
     "output_type": "stream",
     "text": [
      "┌ Info: Epoch 427\n",
      "└ @ Main C:\\Users\\PC\\.julia\\packages\\Flux\\qp1gc\\src\\optimise\\train.jl:135\n"
     ]
    },
    {
     "name": "stdout",
     "output_type": "stream",
     "text": [
      "training\n"
     ]
    },
    {
     "name": "stderr",
     "output_type": "stream",
     "text": [
      "┌ Info: Epoch 428\n",
      "└ @ Main C:\\Users\\PC\\.julia\\packages\\Flux\\qp1gc\\src\\optimise\\train.jl:135\n"
     ]
    },
    {
     "name": "stdout",
     "output_type": "stream",
     "text": [
      "training\n"
     ]
    },
    {
     "name": "stderr",
     "output_type": "stream",
     "text": [
      "┌ Info: Epoch 429\n",
      "└ @ Main C:\\Users\\PC\\.julia\\packages\\Flux\\qp1gc\\src\\optimise\\train.jl:135\n"
     ]
    },
    {
     "name": "stdout",
     "output_type": "stream",
     "text": [
      "training\n"
     ]
    },
    {
     "name": "stderr",
     "output_type": "stream",
     "text": [
      "┌ Info: Epoch 430\n",
      "└ @ Main C:\\Users\\PC\\.julia\\packages\\Flux\\qp1gc\\src\\optimise\\train.jl:135\n"
     ]
    },
    {
     "name": "stdout",
     "output_type": "stream",
     "text": [
      "training\n"
     ]
    },
    {
     "name": "stderr",
     "output_type": "stream",
     "text": [
      "┌ Info: Epoch 431\n",
      "└ @ Main C:\\Users\\PC\\.julia\\packages\\Flux\\qp1gc\\src\\optimise\\train.jl:135\n"
     ]
    },
    {
     "name": "stdout",
     "output_type": "stream",
     "text": [
      "training\n"
     ]
    },
    {
     "name": "stderr",
     "output_type": "stream",
     "text": [
      "┌ Info: Epoch 432\n",
      "└ @ Main C:\\Users\\PC\\.julia\\packages\\Flux\\qp1gc\\src\\optimise\\train.jl:135\n"
     ]
    },
    {
     "name": "stdout",
     "output_type": "stream",
     "text": [
      "training\n"
     ]
    },
    {
     "name": "stderr",
     "output_type": "stream",
     "text": [
      "┌ Info: Epoch 433\n",
      "└ @ Main C:\\Users\\PC\\.julia\\packages\\Flux\\qp1gc\\src\\optimise\\train.jl:135\n"
     ]
    },
    {
     "name": "stdout",
     "output_type": "stream",
     "text": [
      "training\n"
     ]
    },
    {
     "name": "stderr",
     "output_type": "stream",
     "text": [
      "┌ Info: Epoch 434\n",
      "└ @ Main C:\\Users\\PC\\.julia\\packages\\Flux\\qp1gc\\src\\optimise\\train.jl:135\n"
     ]
    },
    {
     "name": "stdout",
     "output_type": "stream",
     "text": [
      "training\n"
     ]
    },
    {
     "name": "stderr",
     "output_type": "stream",
     "text": [
      "┌ Info: Epoch 435\n",
      "└ @ Main C:\\Users\\PC\\.julia\\packages\\Flux\\qp1gc\\src\\optimise\\train.jl:135\n"
     ]
    },
    {
     "name": "stdout",
     "output_type": "stream",
     "text": [
      "training\n"
     ]
    },
    {
     "name": "stderr",
     "output_type": "stream",
     "text": [
      "┌ Info: Epoch 436\n",
      "└ @ Main C:\\Users\\PC\\.julia\\packages\\Flux\\qp1gc\\src\\optimise\\train.jl:135\n"
     ]
    },
    {
     "name": "stdout",
     "output_type": "stream",
     "text": [
      "training\n"
     ]
    },
    {
     "name": "stderr",
     "output_type": "stream",
     "text": [
      "┌ Info: Epoch 437\n",
      "└ @ Main C:\\Users\\PC\\.julia\\packages\\Flux\\qp1gc\\src\\optimise\\train.jl:135\n"
     ]
    },
    {
     "name": "stdout",
     "output_type": "stream",
     "text": [
      "training\n"
     ]
    },
    {
     "name": "stderr",
     "output_type": "stream",
     "text": [
      "┌ Info: Epoch 438\n",
      "└ @ Main C:\\Users\\PC\\.julia\\packages\\Flux\\qp1gc\\src\\optimise\\train.jl:135\n"
     ]
    },
    {
     "name": "stdout",
     "output_type": "stream",
     "text": [
      "training\n"
     ]
    },
    {
     "name": "stderr",
     "output_type": "stream",
     "text": [
      "┌ Info: Epoch 439\n",
      "└ @ Main C:\\Users\\PC\\.julia\\packages\\Flux\\qp1gc\\src\\optimise\\train.jl:135\n"
     ]
    },
    {
     "name": "stdout",
     "output_type": "stream",
     "text": [
      "training\n"
     ]
    },
    {
     "name": "stderr",
     "output_type": "stream",
     "text": [
      "┌ Info: Epoch 440\n",
      "└ @ Main C:\\Users\\PC\\.julia\\packages\\Flux\\qp1gc\\src\\optimise\\train.jl:135\n"
     ]
    },
    {
     "name": "stdout",
     "output_type": "stream",
     "text": [
      "training\n"
     ]
    },
    {
     "name": "stderr",
     "output_type": "stream",
     "text": [
      "┌ Info: Epoch 441\n",
      "└ @ Main C:\\Users\\PC\\.julia\\packages\\Flux\\qp1gc\\src\\optimise\\train.jl:135\n"
     ]
    },
    {
     "name": "stdout",
     "output_type": "stream",
     "text": [
      "training\n"
     ]
    },
    {
     "name": "stderr",
     "output_type": "stream",
     "text": [
      "┌ Info: Epoch 442\n",
      "└ @ Main C:\\Users\\PC\\.julia\\packages\\Flux\\qp1gc\\src\\optimise\\train.jl:135\n"
     ]
    },
    {
     "name": "stdout",
     "output_type": "stream",
     "text": [
      "training\n"
     ]
    },
    {
     "name": "stderr",
     "output_type": "stream",
     "text": [
      "┌ Info: Epoch 443\n",
      "└ @ Main C:\\Users\\PC\\.julia\\packages\\Flux\\qp1gc\\src\\optimise\\train.jl:135\n"
     ]
    },
    {
     "name": "stdout",
     "output_type": "stream",
     "text": [
      "training\n"
     ]
    },
    {
     "name": "stderr",
     "output_type": "stream",
     "text": [
      "┌ Info: Epoch 444\n",
      "└ @ Main C:\\Users\\PC\\.julia\\packages\\Flux\\qp1gc\\src\\optimise\\train.jl:135\n"
     ]
    },
    {
     "name": "stdout",
     "output_type": "stream",
     "text": [
      "training\n"
     ]
    },
    {
     "name": "stderr",
     "output_type": "stream",
     "text": [
      "┌ Info: Epoch 445\n",
      "└ @ Main C:\\Users\\PC\\.julia\\packages\\Flux\\qp1gc\\src\\optimise\\train.jl:135\n"
     ]
    },
    {
     "name": "stdout",
     "output_type": "stream",
     "text": [
      "training\n"
     ]
    },
    {
     "name": "stderr",
     "output_type": "stream",
     "text": [
      "┌ Info: Epoch 446\n",
      "└ @ Main C:\\Users\\PC\\.julia\\packages\\Flux\\qp1gc\\src\\optimise\\train.jl:135\n"
     ]
    },
    {
     "name": "stdout",
     "output_type": "stream",
     "text": [
      "training\n"
     ]
    },
    {
     "name": "stderr",
     "output_type": "stream",
     "text": [
      "┌ Info: Epoch 447\n",
      "└ @ Main C:\\Users\\PC\\.julia\\packages\\Flux\\qp1gc\\src\\optimise\\train.jl:135\n"
     ]
    },
    {
     "name": "stdout",
     "output_type": "stream",
     "text": [
      "training\n"
     ]
    },
    {
     "name": "stderr",
     "output_type": "stream",
     "text": [
      "┌ Info: Epoch 448\n",
      "└ @ Main C:\\Users\\PC\\.julia\\packages\\Flux\\qp1gc\\src\\optimise\\train.jl:135\n"
     ]
    },
    {
     "name": "stdout",
     "output_type": "stream",
     "text": [
      "training\n"
     ]
    },
    {
     "name": "stderr",
     "output_type": "stream",
     "text": [
      "┌ Info: Epoch 449\n",
      "└ @ Main C:\\Users\\PC\\.julia\\packages\\Flux\\qp1gc\\src\\optimise\\train.jl:135\n"
     ]
    },
    {
     "name": "stdout",
     "output_type": "stream",
     "text": [
      "training\n"
     ]
    },
    {
     "name": "stderr",
     "output_type": "stream",
     "text": [
      "┌ Info: Epoch 450\n",
      "└ @ Main C:\\Users\\PC\\.julia\\packages\\Flux\\qp1gc\\src\\optimise\\train.jl:135\n"
     ]
    },
    {
     "name": "stdout",
     "output_type": "stream",
     "text": [
      "training\n"
     ]
    },
    {
     "name": "stderr",
     "output_type": "stream",
     "text": [
      "┌ Info: Epoch 451\n",
      "└ @ Main C:\\Users\\PC\\.julia\\packages\\Flux\\qp1gc\\src\\optimise\\train.jl:135\n"
     ]
    },
    {
     "name": "stdout",
     "output_type": "stream",
     "text": [
      "training\n"
     ]
    },
    {
     "name": "stderr",
     "output_type": "stream",
     "text": [
      "┌ Info: Epoch 452\n",
      "└ @ Main C:\\Users\\PC\\.julia\\packages\\Flux\\qp1gc\\src\\optimise\\train.jl:135\n"
     ]
    },
    {
     "name": "stdout",
     "output_type": "stream",
     "text": [
      "training\n"
     ]
    },
    {
     "name": "stderr",
     "output_type": "stream",
     "text": [
      "┌ Info: Epoch 453\n",
      "└ @ Main C:\\Users\\PC\\.julia\\packages\\Flux\\qp1gc\\src\\optimise\\train.jl:135\n"
     ]
    },
    {
     "name": "stdout",
     "output_type": "stream",
     "text": [
      "training\n"
     ]
    },
    {
     "name": "stderr",
     "output_type": "stream",
     "text": [
      "┌ Info: Epoch 454\n",
      "└ @ Main C:\\Users\\PC\\.julia\\packages\\Flux\\qp1gc\\src\\optimise\\train.jl:135\n"
     ]
    },
    {
     "name": "stdout",
     "output_type": "stream",
     "text": [
      "training\n"
     ]
    },
    {
     "name": "stderr",
     "output_type": "stream",
     "text": [
      "┌ Info: Epoch 455\n",
      "└ @ Main C:\\Users\\PC\\.julia\\packages\\Flux\\qp1gc\\src\\optimise\\train.jl:135\n"
     ]
    },
    {
     "name": "stdout",
     "output_type": "stream",
     "text": [
      "training\n"
     ]
    },
    {
     "name": "stderr",
     "output_type": "stream",
     "text": [
      "┌ Info: Epoch 456\n",
      "└ @ Main C:\\Users\\PC\\.julia\\packages\\Flux\\qp1gc\\src\\optimise\\train.jl:135\n"
     ]
    },
    {
     "name": "stdout",
     "output_type": "stream",
     "text": [
      "training\n"
     ]
    },
    {
     "name": "stderr",
     "output_type": "stream",
     "text": [
      "┌ Info: Epoch 457\n",
      "└ @ Main C:\\Users\\PC\\.julia\\packages\\Flux\\qp1gc\\src\\optimise\\train.jl:135\n"
     ]
    },
    {
     "name": "stdout",
     "output_type": "stream",
     "text": [
      "training\n"
     ]
    },
    {
     "name": "stderr",
     "output_type": "stream",
     "text": [
      "┌ Info: Epoch 458\n",
      "└ @ Main C:\\Users\\PC\\.julia\\packages\\Flux\\qp1gc\\src\\optimise\\train.jl:135\n"
     ]
    },
    {
     "name": "stdout",
     "output_type": "stream",
     "text": [
      "training\n"
     ]
    },
    {
     "name": "stderr",
     "output_type": "stream",
     "text": [
      "┌ Info: Epoch 459\n",
      "└ @ Main C:\\Users\\PC\\.julia\\packages\\Flux\\qp1gc\\src\\optimise\\train.jl:135\n"
     ]
    },
    {
     "name": "stdout",
     "output_type": "stream",
     "text": [
      "training\n"
     ]
    },
    {
     "name": "stderr",
     "output_type": "stream",
     "text": [
      "┌ Info: Epoch 460\n",
      "└ @ Main C:\\Users\\PC\\.julia\\packages\\Flux\\qp1gc\\src\\optimise\\train.jl:135\n"
     ]
    },
    {
     "name": "stdout",
     "output_type": "stream",
     "text": [
      "training\n"
     ]
    },
    {
     "name": "stderr",
     "output_type": "stream",
     "text": [
      "┌ Info: Epoch 461\n",
      "└ @ Main C:\\Users\\PC\\.julia\\packages\\Flux\\qp1gc\\src\\optimise\\train.jl:135\n"
     ]
    },
    {
     "name": "stdout",
     "output_type": "stream",
     "text": [
      "training\n"
     ]
    },
    {
     "name": "stderr",
     "output_type": "stream",
     "text": [
      "┌ Info: Epoch 462\n",
      "└ @ Main C:\\Users\\PC\\.julia\\packages\\Flux\\qp1gc\\src\\optimise\\train.jl:135\n"
     ]
    },
    {
     "name": "stdout",
     "output_type": "stream",
     "text": [
      "training\n"
     ]
    },
    {
     "name": "stderr",
     "output_type": "stream",
     "text": [
      "┌ Info: Epoch 463\n",
      "└ @ Main C:\\Users\\PC\\.julia\\packages\\Flux\\qp1gc\\src\\optimise\\train.jl:135\n"
     ]
    },
    {
     "name": "stdout",
     "output_type": "stream",
     "text": [
      "training\n"
     ]
    },
    {
     "name": "stderr",
     "output_type": "stream",
     "text": [
      "┌ Info: Epoch 464\n",
      "└ @ Main C:\\Users\\PC\\.julia\\packages\\Flux\\qp1gc\\src\\optimise\\train.jl:135\n"
     ]
    },
    {
     "name": "stdout",
     "output_type": "stream",
     "text": [
      "training\n"
     ]
    },
    {
     "name": "stderr",
     "output_type": "stream",
     "text": [
      "┌ Info: Epoch 465\n",
      "└ @ Main C:\\Users\\PC\\.julia\\packages\\Flux\\qp1gc\\src\\optimise\\train.jl:135\n"
     ]
    },
    {
     "name": "stdout",
     "output_type": "stream",
     "text": [
      "training\n"
     ]
    },
    {
     "name": "stderr",
     "output_type": "stream",
     "text": [
      "┌ Info: Epoch 466\n",
      "└ @ Main C:\\Users\\PC\\.julia\\packages\\Flux\\qp1gc\\src\\optimise\\train.jl:135\n"
     ]
    },
    {
     "name": "stdout",
     "output_type": "stream",
     "text": [
      "training\n"
     ]
    },
    {
     "name": "stderr",
     "output_type": "stream",
     "text": [
      "┌ Info: Epoch 467\n",
      "└ @ Main C:\\Users\\PC\\.julia\\packages\\Flux\\qp1gc\\src\\optimise\\train.jl:135\n"
     ]
    },
    {
     "name": "stdout",
     "output_type": "stream",
     "text": [
      "training\n"
     ]
    },
    {
     "name": "stderr",
     "output_type": "stream",
     "text": [
      "┌ Info: Epoch 468\n",
      "└ @ Main C:\\Users\\PC\\.julia\\packages\\Flux\\qp1gc\\src\\optimise\\train.jl:135\n"
     ]
    },
    {
     "name": "stdout",
     "output_type": "stream",
     "text": [
      "training\n"
     ]
    },
    {
     "name": "stderr",
     "output_type": "stream",
     "text": [
      "┌ Info: Epoch 469\n",
      "└ @ Main C:\\Users\\PC\\.julia\\packages\\Flux\\qp1gc\\src\\optimise\\train.jl:135\n"
     ]
    },
    {
     "name": "stdout",
     "output_type": "stream",
     "text": [
      "training\n"
     ]
    },
    {
     "name": "stderr",
     "output_type": "stream",
     "text": [
      "┌ Info: Epoch 470\n",
      "└ @ Main C:\\Users\\PC\\.julia\\packages\\Flux\\qp1gc\\src\\optimise\\train.jl:135\n"
     ]
    },
    {
     "name": "stdout",
     "output_type": "stream",
     "text": [
      "training\n"
     ]
    },
    {
     "name": "stderr",
     "output_type": "stream",
     "text": [
      "┌ Info: Epoch 471\n",
      "└ @ Main C:\\Users\\PC\\.julia\\packages\\Flux\\qp1gc\\src\\optimise\\train.jl:135\n"
     ]
    },
    {
     "name": "stdout",
     "output_type": "stream",
     "text": [
      "training\n"
     ]
    },
    {
     "name": "stderr",
     "output_type": "stream",
     "text": [
      "┌ Info: Epoch 472\n",
      "└ @ Main C:\\Users\\PC\\.julia\\packages\\Flux\\qp1gc\\src\\optimise\\train.jl:135\n"
     ]
    },
    {
     "name": "stdout",
     "output_type": "stream",
     "text": [
      "training\n"
     ]
    },
    {
     "name": "stderr",
     "output_type": "stream",
     "text": [
      "┌ Info: Epoch 473\n",
      "└ @ Main C:\\Users\\PC\\.julia\\packages\\Flux\\qp1gc\\src\\optimise\\train.jl:135\n"
     ]
    },
    {
     "name": "stdout",
     "output_type": "stream",
     "text": [
      "training\n"
     ]
    },
    {
     "name": "stderr",
     "output_type": "stream",
     "text": [
      "┌ Info: Epoch 474\n",
      "└ @ Main C:\\Users\\PC\\.julia\\packages\\Flux\\qp1gc\\src\\optimise\\train.jl:135\n"
     ]
    },
    {
     "name": "stdout",
     "output_type": "stream",
     "text": [
      "training\n"
     ]
    },
    {
     "name": "stderr",
     "output_type": "stream",
     "text": [
      "┌ Info: Epoch 475\n",
      "└ @ Main C:\\Users\\PC\\.julia\\packages\\Flux\\qp1gc\\src\\optimise\\train.jl:135\n"
     ]
    },
    {
     "name": "stdout",
     "output_type": "stream",
     "text": [
      "training\n"
     ]
    },
    {
     "name": "stderr",
     "output_type": "stream",
     "text": [
      "┌ Info: Epoch 476\n",
      "└ @ Main C:\\Users\\PC\\.julia\\packages\\Flux\\qp1gc\\src\\optimise\\train.jl:135\n"
     ]
    },
    {
     "name": "stdout",
     "output_type": "stream",
     "text": [
      "training\n"
     ]
    },
    {
     "name": "stderr",
     "output_type": "stream",
     "text": [
      "┌ Info: Epoch 477\n",
      "└ @ Main C:\\Users\\PC\\.julia\\packages\\Flux\\qp1gc\\src\\optimise\\train.jl:135\n"
     ]
    },
    {
     "name": "stdout",
     "output_type": "stream",
     "text": [
      "training\n"
     ]
    },
    {
     "name": "stderr",
     "output_type": "stream",
     "text": [
      "┌ Info: Epoch 478\n",
      "└ @ Main C:\\Users\\PC\\.julia\\packages\\Flux\\qp1gc\\src\\optimise\\train.jl:135\n"
     ]
    },
    {
     "name": "stdout",
     "output_type": "stream",
     "text": [
      "training\n"
     ]
    },
    {
     "name": "stderr",
     "output_type": "stream",
     "text": [
      "┌ Info: Epoch 479\n",
      "└ @ Main C:\\Users\\PC\\.julia\\packages\\Flux\\qp1gc\\src\\optimise\\train.jl:135\n"
     ]
    },
    {
     "name": "stdout",
     "output_type": "stream",
     "text": [
      "training\n"
     ]
    },
    {
     "name": "stderr",
     "output_type": "stream",
     "text": [
      "┌ Info: Epoch 480\n",
      "└ @ Main C:\\Users\\PC\\.julia\\packages\\Flux\\qp1gc\\src\\optimise\\train.jl:135\n"
     ]
    },
    {
     "name": "stdout",
     "output_type": "stream",
     "text": [
      "training\n"
     ]
    },
    {
     "name": "stderr",
     "output_type": "stream",
     "text": [
      "┌ Info: Epoch 481\n",
      "└ @ Main C:\\Users\\PC\\.julia\\packages\\Flux\\qp1gc\\src\\optimise\\train.jl:135\n"
     ]
    },
    {
     "name": "stdout",
     "output_type": "stream",
     "text": [
      "training\n"
     ]
    },
    {
     "name": "stderr",
     "output_type": "stream",
     "text": [
      "┌ Info: Epoch 482\n",
      "└ @ Main C:\\Users\\PC\\.julia\\packages\\Flux\\qp1gc\\src\\optimise\\train.jl:135\n"
     ]
    },
    {
     "name": "stdout",
     "output_type": "stream",
     "text": [
      "training\n"
     ]
    },
    {
     "name": "stderr",
     "output_type": "stream",
     "text": [
      "┌ Info: Epoch 483\n",
      "└ @ Main C:\\Users\\PC\\.julia\\packages\\Flux\\qp1gc\\src\\optimise\\train.jl:135\n"
     ]
    },
    {
     "name": "stdout",
     "output_type": "stream",
     "text": [
      "training\n"
     ]
    },
    {
     "name": "stderr",
     "output_type": "stream",
     "text": [
      "┌ Info: Epoch 484\n",
      "└ @ Main C:\\Users\\PC\\.julia\\packages\\Flux\\qp1gc\\src\\optimise\\train.jl:135\n"
     ]
    },
    {
     "name": "stdout",
     "output_type": "stream",
     "text": [
      "training\n"
     ]
    },
    {
     "name": "stderr",
     "output_type": "stream",
     "text": [
      "┌ Info: Epoch 485\n",
      "└ @ Main C:\\Users\\PC\\.julia\\packages\\Flux\\qp1gc\\src\\optimise\\train.jl:135\n"
     ]
    },
    {
     "name": "stdout",
     "output_type": "stream",
     "text": [
      "training\n"
     ]
    },
    {
     "name": "stderr",
     "output_type": "stream",
     "text": [
      "┌ Info: Epoch 486\n",
      "└ @ Main C:\\Users\\PC\\.julia\\packages\\Flux\\qp1gc\\src\\optimise\\train.jl:135\n"
     ]
    },
    {
     "name": "stdout",
     "output_type": "stream",
     "text": [
      "training\n"
     ]
    },
    {
     "name": "stderr",
     "output_type": "stream",
     "text": [
      "┌ Info: Epoch 487\n",
      "└ @ Main C:\\Users\\PC\\.julia\\packages\\Flux\\qp1gc\\src\\optimise\\train.jl:135\n"
     ]
    },
    {
     "name": "stdout",
     "output_type": "stream",
     "text": [
      "training\n"
     ]
    },
    {
     "name": "stderr",
     "output_type": "stream",
     "text": [
      "┌ Info: Epoch 488\n",
      "└ @ Main C:\\Users\\PC\\.julia\\packages\\Flux\\qp1gc\\src\\optimise\\train.jl:135\n"
     ]
    },
    {
     "name": "stdout",
     "output_type": "stream",
     "text": [
      "training\n"
     ]
    },
    {
     "name": "stderr",
     "output_type": "stream",
     "text": [
      "┌ Info: Epoch 489\n",
      "└ @ Main C:\\Users\\PC\\.julia\\packages\\Flux\\qp1gc\\src\\optimise\\train.jl:135\n"
     ]
    },
    {
     "name": "stdout",
     "output_type": "stream",
     "text": [
      "training\n"
     ]
    },
    {
     "name": "stderr",
     "output_type": "stream",
     "text": [
      "┌ Info: Epoch 490\n",
      "└ @ Main C:\\Users\\PC\\.julia\\packages\\Flux\\qp1gc\\src\\optimise\\train.jl:135\n"
     ]
    },
    {
     "name": "stdout",
     "output_type": "stream",
     "text": [
      "training\n"
     ]
    },
    {
     "name": "stderr",
     "output_type": "stream",
     "text": [
      "┌ Info: Epoch 491\n",
      "└ @ Main C:\\Users\\PC\\.julia\\packages\\Flux\\qp1gc\\src\\optimise\\train.jl:135\n"
     ]
    },
    {
     "name": "stdout",
     "output_type": "stream",
     "text": [
      "training\n"
     ]
    },
    {
     "name": "stderr",
     "output_type": "stream",
     "text": [
      "┌ Info: Epoch 492\n",
      "└ @ Main C:\\Users\\PC\\.julia\\packages\\Flux\\qp1gc\\src\\optimise\\train.jl:135\n"
     ]
    },
    {
     "name": "stdout",
     "output_type": "stream",
     "text": [
      "training\n"
     ]
    },
    {
     "name": "stderr",
     "output_type": "stream",
     "text": [
      "┌ Info: Epoch 493\n",
      "└ @ Main C:\\Users\\PC\\.julia\\packages\\Flux\\qp1gc\\src\\optimise\\train.jl:135\n"
     ]
    },
    {
     "name": "stdout",
     "output_type": "stream",
     "text": [
      "training\n"
     ]
    },
    {
     "name": "stderr",
     "output_type": "stream",
     "text": [
      "┌ Info: Epoch 494\n",
      "└ @ Main C:\\Users\\PC\\.julia\\packages\\Flux\\qp1gc\\src\\optimise\\train.jl:135\n"
     ]
    },
    {
     "name": "stdout",
     "output_type": "stream",
     "text": [
      "training\n"
     ]
    },
    {
     "name": "stderr",
     "output_type": "stream",
     "text": [
      "┌ Info: Epoch 495\n",
      "└ @ Main C:\\Users\\PC\\.julia\\packages\\Flux\\qp1gc\\src\\optimise\\train.jl:135\n"
     ]
    },
    {
     "name": "stdout",
     "output_type": "stream",
     "text": [
      "training\n"
     ]
    },
    {
     "name": "stderr",
     "output_type": "stream",
     "text": [
      "┌ Info: Epoch 496\n",
      "└ @ Main C:\\Users\\PC\\.julia\\packages\\Flux\\qp1gc\\src\\optimise\\train.jl:135\n"
     ]
    },
    {
     "name": "stdout",
     "output_type": "stream",
     "text": [
      "training\n"
     ]
    },
    {
     "name": "stderr",
     "output_type": "stream",
     "text": [
      "┌ Info: Epoch 497\n",
      "└ @ Main C:\\Users\\PC\\.julia\\packages\\Flux\\qp1gc\\src\\optimise\\train.jl:135\n"
     ]
    },
    {
     "name": "stdout",
     "output_type": "stream",
     "text": [
      "training\n"
     ]
    },
    {
     "name": "stderr",
     "output_type": "stream",
     "text": [
      "┌ Info: Epoch 498\n",
      "└ @ Main C:\\Users\\PC\\.julia\\packages\\Flux\\qp1gc\\src\\optimise\\train.jl:135\n"
     ]
    },
    {
     "name": "stdout",
     "output_type": "stream",
     "text": [
      "training\n"
     ]
    },
    {
     "name": "stderr",
     "output_type": "stream",
     "text": [
      "┌ Info: Epoch 499\n",
      "└ @ Main C:\\Users\\PC\\.julia\\packages\\Flux\\qp1gc\\src\\optimise\\train.jl:135\n"
     ]
    },
    {
     "name": "stdout",
     "output_type": "stream",
     "text": [
      "training\n"
     ]
    },
    {
     "name": "stderr",
     "output_type": "stream",
     "text": [
      "┌ Info: Epoch 500\n",
      "└ @ Main C:\\Users\\PC\\.julia\\packages\\Flux\\qp1gc\\src\\optimise\\train.jl:135\n"
     ]
    },
    {
     "name": "stdout",
     "output_type": "stream",
     "text": [
      "training\n"
     ]
    },
    {
     "name": "stderr",
     "output_type": "stream",
     "text": [
      "┌ Info: Epoch 501\n",
      "└ @ Main C:\\Users\\PC\\.julia\\packages\\Flux\\qp1gc\\src\\optimise\\train.jl:135\n"
     ]
    },
    {
     "name": "stdout",
     "output_type": "stream",
     "text": [
      "training\n"
     ]
    },
    {
     "name": "stderr",
     "output_type": "stream",
     "text": [
      "┌ Info: Epoch 502\n",
      "└ @ Main C:\\Users\\PC\\.julia\\packages\\Flux\\qp1gc\\src\\optimise\\train.jl:135\n"
     ]
    },
    {
     "name": "stdout",
     "output_type": "stream",
     "text": [
      "training\n"
     ]
    },
    {
     "name": "stderr",
     "output_type": "stream",
     "text": [
      "┌ Info: Epoch 503\n",
      "└ @ Main C:\\Users\\PC\\.julia\\packages\\Flux\\qp1gc\\src\\optimise\\train.jl:135\n"
     ]
    },
    {
     "name": "stdout",
     "output_type": "stream",
     "text": [
      "training\n"
     ]
    },
    {
     "name": "stderr",
     "output_type": "stream",
     "text": [
      "┌ Info: Epoch 504\n",
      "└ @ Main C:\\Users\\PC\\.julia\\packages\\Flux\\qp1gc\\src\\optimise\\train.jl:135\n"
     ]
    },
    {
     "name": "stdout",
     "output_type": "stream",
     "text": [
      "training\n"
     ]
    },
    {
     "name": "stderr",
     "output_type": "stream",
     "text": [
      "┌ Info: Epoch 505\n",
      "└ @ Main C:\\Users\\PC\\.julia\\packages\\Flux\\qp1gc\\src\\optimise\\train.jl:135\n"
     ]
    },
    {
     "name": "stdout",
     "output_type": "stream",
     "text": [
      "training\n"
     ]
    },
    {
     "name": "stderr",
     "output_type": "stream",
     "text": [
      "┌ Info: Epoch 506\n",
      "└ @ Main C:\\Users\\PC\\.julia\\packages\\Flux\\qp1gc\\src\\optimise\\train.jl:135\n"
     ]
    },
    {
     "name": "stdout",
     "output_type": "stream",
     "text": [
      "training\n"
     ]
    },
    {
     "name": "stderr",
     "output_type": "stream",
     "text": [
      "┌ Info: Epoch 507\n",
      "└ @ Main C:\\Users\\PC\\.julia\\packages\\Flux\\qp1gc\\src\\optimise\\train.jl:135\n"
     ]
    },
    {
     "name": "stdout",
     "output_type": "stream",
     "text": [
      "training\n"
     ]
    },
    {
     "name": "stderr",
     "output_type": "stream",
     "text": [
      "┌ Info: Epoch 508\n",
      "└ @ Main C:\\Users\\PC\\.julia\\packages\\Flux\\qp1gc\\src\\optimise\\train.jl:135\n"
     ]
    },
    {
     "name": "stdout",
     "output_type": "stream",
     "text": [
      "training\n"
     ]
    },
    {
     "name": "stderr",
     "output_type": "stream",
     "text": [
      "┌ Info: Epoch 509\n",
      "└ @ Main C:\\Users\\PC\\.julia\\packages\\Flux\\qp1gc\\src\\optimise\\train.jl:135\n"
     ]
    },
    {
     "name": "stdout",
     "output_type": "stream",
     "text": [
      "training\n"
     ]
    },
    {
     "name": "stderr",
     "output_type": "stream",
     "text": [
      "┌ Info: Epoch 510\n",
      "└ @ Main C:\\Users\\PC\\.julia\\packages\\Flux\\qp1gc\\src\\optimise\\train.jl:135\n"
     ]
    },
    {
     "name": "stdout",
     "output_type": "stream",
     "text": [
      "training\n"
     ]
    },
    {
     "name": "stderr",
     "output_type": "stream",
     "text": [
      "┌ Info: Epoch 511\n",
      "└ @ Main C:\\Users\\PC\\.julia\\packages\\Flux\\qp1gc\\src\\optimise\\train.jl:135\n"
     ]
    },
    {
     "name": "stdout",
     "output_type": "stream",
     "text": [
      "training\n"
     ]
    },
    {
     "name": "stderr",
     "output_type": "stream",
     "text": [
      "┌ Info: Epoch 512\n",
      "└ @ Main C:\\Users\\PC\\.julia\\packages\\Flux\\qp1gc\\src\\optimise\\train.jl:135\n"
     ]
    },
    {
     "name": "stdout",
     "output_type": "stream",
     "text": [
      "training\n"
     ]
    },
    {
     "name": "stderr",
     "output_type": "stream",
     "text": [
      "┌ Info: Epoch 513\n",
      "└ @ Main C:\\Users\\PC\\.julia\\packages\\Flux\\qp1gc\\src\\optimise\\train.jl:135\n"
     ]
    },
    {
     "name": "stdout",
     "output_type": "stream",
     "text": [
      "training\n"
     ]
    },
    {
     "name": "stderr",
     "output_type": "stream",
     "text": [
      "┌ Info: Epoch 514\n",
      "└ @ Main C:\\Users\\PC\\.julia\\packages\\Flux\\qp1gc\\src\\optimise\\train.jl:135\n"
     ]
    },
    {
     "name": "stdout",
     "output_type": "stream",
     "text": [
      "training\n"
     ]
    },
    {
     "name": "stderr",
     "output_type": "stream",
     "text": [
      "┌ Info: Epoch 515\n",
      "└ @ Main C:\\Users\\PC\\.julia\\packages\\Flux\\qp1gc\\src\\optimise\\train.jl:135\n"
     ]
    },
    {
     "name": "stdout",
     "output_type": "stream",
     "text": [
      "training\n"
     ]
    },
    {
     "name": "stderr",
     "output_type": "stream",
     "text": [
      "┌ Info: Epoch 516\n",
      "└ @ Main C:\\Users\\PC\\.julia\\packages\\Flux\\qp1gc\\src\\optimise\\train.jl:135\n"
     ]
    },
    {
     "name": "stdout",
     "output_type": "stream",
     "text": [
      "training\n"
     ]
    },
    {
     "name": "stderr",
     "output_type": "stream",
     "text": [
      "┌ Info: Epoch 517\n",
      "└ @ Main C:\\Users\\PC\\.julia\\packages\\Flux\\qp1gc\\src\\optimise\\train.jl:135\n"
     ]
    },
    {
     "name": "stdout",
     "output_type": "stream",
     "text": [
      "training\n"
     ]
    },
    {
     "name": "stderr",
     "output_type": "stream",
     "text": [
      "┌ Info: Epoch 518\n",
      "└ @ Main C:\\Users\\PC\\.julia\\packages\\Flux\\qp1gc\\src\\optimise\\train.jl:135\n"
     ]
    },
    {
     "name": "stdout",
     "output_type": "stream",
     "text": [
      "training\n"
     ]
    },
    {
     "name": "stderr",
     "output_type": "stream",
     "text": [
      "┌ Info: Epoch 519\n",
      "└ @ Main C:\\Users\\PC\\.julia\\packages\\Flux\\qp1gc\\src\\optimise\\train.jl:135\n"
     ]
    },
    {
     "name": "stdout",
     "output_type": "stream",
     "text": [
      "training\n"
     ]
    },
    {
     "name": "stderr",
     "output_type": "stream",
     "text": [
      "┌ Info: Epoch 520\n",
      "└ @ Main C:\\Users\\PC\\.julia\\packages\\Flux\\qp1gc\\src\\optimise\\train.jl:135\n"
     ]
    },
    {
     "name": "stdout",
     "output_type": "stream",
     "text": [
      "training\n"
     ]
    },
    {
     "name": "stderr",
     "output_type": "stream",
     "text": [
      "┌ Info: Epoch 521\n",
      "└ @ Main C:\\Users\\PC\\.julia\\packages\\Flux\\qp1gc\\src\\optimise\\train.jl:135\n"
     ]
    },
    {
     "name": "stdout",
     "output_type": "stream",
     "text": [
      "training\n"
     ]
    },
    {
     "name": "stderr",
     "output_type": "stream",
     "text": [
      "┌ Info: Epoch 522\n",
      "└ @ Main C:\\Users\\PC\\.julia\\packages\\Flux\\qp1gc\\src\\optimise\\train.jl:135\n"
     ]
    },
    {
     "name": "stdout",
     "output_type": "stream",
     "text": [
      "training\n"
     ]
    },
    {
     "name": "stderr",
     "output_type": "stream",
     "text": [
      "┌ Info: Epoch 523\n",
      "└ @ Main C:\\Users\\PC\\.julia\\packages\\Flux\\qp1gc\\src\\optimise\\train.jl:135\n"
     ]
    },
    {
     "name": "stdout",
     "output_type": "stream",
     "text": [
      "training\n"
     ]
    },
    {
     "name": "stderr",
     "output_type": "stream",
     "text": [
      "┌ Info: Epoch 524\n",
      "└ @ Main C:\\Users\\PC\\.julia\\packages\\Flux\\qp1gc\\src\\optimise\\train.jl:135\n"
     ]
    },
    {
     "name": "stdout",
     "output_type": "stream",
     "text": [
      "training\n"
     ]
    },
    {
     "name": "stderr",
     "output_type": "stream",
     "text": [
      "┌ Info: Epoch 525\n",
      "└ @ Main C:\\Users\\PC\\.julia\\packages\\Flux\\qp1gc\\src\\optimise\\train.jl:135\n"
     ]
    },
    {
     "name": "stdout",
     "output_type": "stream",
     "text": [
      "training\n"
     ]
    },
    {
     "name": "stderr",
     "output_type": "stream",
     "text": [
      "┌ Info: Epoch 526\n",
      "└ @ Main C:\\Users\\PC\\.julia\\packages\\Flux\\qp1gc\\src\\optimise\\train.jl:135\n"
     ]
    },
    {
     "name": "stdout",
     "output_type": "stream",
     "text": [
      "training\n"
     ]
    },
    {
     "name": "stderr",
     "output_type": "stream",
     "text": [
      "┌ Info: Epoch 527\n",
      "└ @ Main C:\\Users\\PC\\.julia\\packages\\Flux\\qp1gc\\src\\optimise\\train.jl:135\n"
     ]
    },
    {
     "name": "stdout",
     "output_type": "stream",
     "text": [
      "training\n"
     ]
    },
    {
     "name": "stderr",
     "output_type": "stream",
     "text": [
      "┌ Info: Epoch 528\n",
      "└ @ Main C:\\Users\\PC\\.julia\\packages\\Flux\\qp1gc\\src\\optimise\\train.jl:135\n"
     ]
    },
    {
     "name": "stdout",
     "output_type": "stream",
     "text": [
      "training\n"
     ]
    },
    {
     "name": "stderr",
     "output_type": "stream",
     "text": [
      "┌ Info: Epoch 529\n",
      "└ @ Main C:\\Users\\PC\\.julia\\packages\\Flux\\qp1gc\\src\\optimise\\train.jl:135\n"
     ]
    },
    {
     "name": "stdout",
     "output_type": "stream",
     "text": [
      "training\n"
     ]
    },
    {
     "name": "stderr",
     "output_type": "stream",
     "text": [
      "┌ Info: Epoch 530\n",
      "└ @ Main C:\\Users\\PC\\.julia\\packages\\Flux\\qp1gc\\src\\optimise\\train.jl:135\n"
     ]
    },
    {
     "name": "stdout",
     "output_type": "stream",
     "text": [
      "training\n"
     ]
    },
    {
     "name": "stderr",
     "output_type": "stream",
     "text": [
      "┌ Info: Epoch 531\n",
      "└ @ Main C:\\Users\\PC\\.julia\\packages\\Flux\\qp1gc\\src\\optimise\\train.jl:135\n"
     ]
    },
    {
     "name": "stdout",
     "output_type": "stream",
     "text": [
      "training\n"
     ]
    },
    {
     "name": "stderr",
     "output_type": "stream",
     "text": [
      "┌ Info: Epoch 532\n",
      "└ @ Main C:\\Users\\PC\\.julia\\packages\\Flux\\qp1gc\\src\\optimise\\train.jl:135\n"
     ]
    },
    {
     "name": "stdout",
     "output_type": "stream",
     "text": [
      "training\n"
     ]
    },
    {
     "name": "stderr",
     "output_type": "stream",
     "text": [
      "┌ Info: Epoch 533\n",
      "└ @ Main C:\\Users\\PC\\.julia\\packages\\Flux\\qp1gc\\src\\optimise\\train.jl:135\n"
     ]
    },
    {
     "name": "stdout",
     "output_type": "stream",
     "text": [
      "training\n"
     ]
    },
    {
     "name": "stderr",
     "output_type": "stream",
     "text": [
      "┌ Info: Epoch 534\n",
      "└ @ Main C:\\Users\\PC\\.julia\\packages\\Flux\\qp1gc\\src\\optimise\\train.jl:135\n"
     ]
    },
    {
     "name": "stdout",
     "output_type": "stream",
     "text": [
      "training\n"
     ]
    },
    {
     "name": "stderr",
     "output_type": "stream",
     "text": [
      "┌ Info: Epoch 535\n",
      "└ @ Main C:\\Users\\PC\\.julia\\packages\\Flux\\qp1gc\\src\\optimise\\train.jl:135\n"
     ]
    },
    {
     "name": "stdout",
     "output_type": "stream",
     "text": [
      "training\n"
     ]
    },
    {
     "name": "stderr",
     "output_type": "stream",
     "text": [
      "┌ Info: Epoch 536\n",
      "└ @ Main C:\\Users\\PC\\.julia\\packages\\Flux\\qp1gc\\src\\optimise\\train.jl:135\n"
     ]
    },
    {
     "name": "stdout",
     "output_type": "stream",
     "text": [
      "training\n"
     ]
    },
    {
     "name": "stderr",
     "output_type": "stream",
     "text": [
      "┌ Info: Epoch 537\n",
      "└ @ Main C:\\Users\\PC\\.julia\\packages\\Flux\\qp1gc\\src\\optimise\\train.jl:135\n"
     ]
    },
    {
     "name": "stdout",
     "output_type": "stream",
     "text": [
      "training\n"
     ]
    },
    {
     "name": "stderr",
     "output_type": "stream",
     "text": [
      "┌ Info: Epoch 538\n",
      "└ @ Main C:\\Users\\PC\\.julia\\packages\\Flux\\qp1gc\\src\\optimise\\train.jl:135\n"
     ]
    },
    {
     "name": "stdout",
     "output_type": "stream",
     "text": [
      "training\n"
     ]
    },
    {
     "name": "stderr",
     "output_type": "stream",
     "text": [
      "┌ Info: Epoch 539\n",
      "└ @ Main C:\\Users\\PC\\.julia\\packages\\Flux\\qp1gc\\src\\optimise\\train.jl:135\n"
     ]
    },
    {
     "name": "stdout",
     "output_type": "stream",
     "text": [
      "training\n"
     ]
    },
    {
     "name": "stderr",
     "output_type": "stream",
     "text": [
      "┌ Info: Epoch 540\n",
      "└ @ Main C:\\Users\\PC\\.julia\\packages\\Flux\\qp1gc\\src\\optimise\\train.jl:135\n"
     ]
    },
    {
     "name": "stdout",
     "output_type": "stream",
     "text": [
      "training\n"
     ]
    },
    {
     "name": "stderr",
     "output_type": "stream",
     "text": [
      "┌ Info: Epoch 541\n",
      "└ @ Main C:\\Users\\PC\\.julia\\packages\\Flux\\qp1gc\\src\\optimise\\train.jl:135\n"
     ]
    },
    {
     "name": "stdout",
     "output_type": "stream",
     "text": [
      "training\n"
     ]
    },
    {
     "name": "stderr",
     "output_type": "stream",
     "text": [
      "┌ Info: Epoch 542\n",
      "└ @ Main C:\\Users\\PC\\.julia\\packages\\Flux\\qp1gc\\src\\optimise\\train.jl:135\n"
     ]
    },
    {
     "name": "stdout",
     "output_type": "stream",
     "text": [
      "training\n"
     ]
    },
    {
     "name": "stderr",
     "output_type": "stream",
     "text": [
      "┌ Info: Epoch 543\n",
      "└ @ Main C:\\Users\\PC\\.julia\\packages\\Flux\\qp1gc\\src\\optimise\\train.jl:135\n"
     ]
    },
    {
     "name": "stdout",
     "output_type": "stream",
     "text": [
      "training\n"
     ]
    },
    {
     "name": "stderr",
     "output_type": "stream",
     "text": [
      "┌ Info: Epoch 544\n",
      "└ @ Main C:\\Users\\PC\\.julia\\packages\\Flux\\qp1gc\\src\\optimise\\train.jl:135\n"
     ]
    },
    {
     "name": "stdout",
     "output_type": "stream",
     "text": [
      "training\n"
     ]
    },
    {
     "name": "stderr",
     "output_type": "stream",
     "text": [
      "┌ Info: Epoch 545\n",
      "└ @ Main C:\\Users\\PC\\.julia\\packages\\Flux\\qp1gc\\src\\optimise\\train.jl:135\n"
     ]
    },
    {
     "name": "stdout",
     "output_type": "stream",
     "text": [
      "training\n"
     ]
    },
    {
     "name": "stderr",
     "output_type": "stream",
     "text": [
      "┌ Info: Epoch 546\n",
      "└ @ Main C:\\Users\\PC\\.julia\\packages\\Flux\\qp1gc\\src\\optimise\\train.jl:135\n"
     ]
    },
    {
     "name": "stdout",
     "output_type": "stream",
     "text": [
      "training\n"
     ]
    },
    {
     "name": "stderr",
     "output_type": "stream",
     "text": [
      "┌ Info: Epoch 547\n",
      "└ @ Main C:\\Users\\PC\\.julia\\packages\\Flux\\qp1gc\\src\\optimise\\train.jl:135\n"
     ]
    },
    {
     "name": "stdout",
     "output_type": "stream",
     "text": [
      "training\n"
     ]
    },
    {
     "name": "stderr",
     "output_type": "stream",
     "text": [
      "┌ Info: Epoch 548\n",
      "└ @ Main C:\\Users\\PC\\.julia\\packages\\Flux\\qp1gc\\src\\optimise\\train.jl:135\n"
     ]
    },
    {
     "name": "stdout",
     "output_type": "stream",
     "text": [
      "training\n"
     ]
    },
    {
     "name": "stderr",
     "output_type": "stream",
     "text": [
      "┌ Info: Epoch 549\n",
      "└ @ Main C:\\Users\\PC\\.julia\\packages\\Flux\\qp1gc\\src\\optimise\\train.jl:135\n"
     ]
    },
    {
     "name": "stdout",
     "output_type": "stream",
     "text": [
      "training\n"
     ]
    },
    {
     "name": "stderr",
     "output_type": "stream",
     "text": [
      "┌ Info: Epoch 550\n",
      "└ @ Main C:\\Users\\PC\\.julia\\packages\\Flux\\qp1gc\\src\\optimise\\train.jl:135\n"
     ]
    },
    {
     "name": "stdout",
     "output_type": "stream",
     "text": [
      "training\n"
     ]
    },
    {
     "name": "stderr",
     "output_type": "stream",
     "text": [
      "┌ Info: Epoch 551\n",
      "└ @ Main C:\\Users\\PC\\.julia\\packages\\Flux\\qp1gc\\src\\optimise\\train.jl:135\n"
     ]
    },
    {
     "name": "stdout",
     "output_type": "stream",
     "text": [
      "training\n"
     ]
    },
    {
     "name": "stderr",
     "output_type": "stream",
     "text": [
      "┌ Info: Epoch 552\n",
      "└ @ Main C:\\Users\\PC\\.julia\\packages\\Flux\\qp1gc\\src\\optimise\\train.jl:135\n"
     ]
    },
    {
     "name": "stdout",
     "output_type": "stream",
     "text": [
      "training\n"
     ]
    },
    {
     "name": "stderr",
     "output_type": "stream",
     "text": [
      "┌ Info: Epoch 553\n",
      "└ @ Main C:\\Users\\PC\\.julia\\packages\\Flux\\qp1gc\\src\\optimise\\train.jl:135\n"
     ]
    },
    {
     "name": "stdout",
     "output_type": "stream",
     "text": [
      "training\n"
     ]
    },
    {
     "name": "stderr",
     "output_type": "stream",
     "text": [
      "┌ Info: Epoch 554\n",
      "└ @ Main C:\\Users\\PC\\.julia\\packages\\Flux\\qp1gc\\src\\optimise\\train.jl:135\n"
     ]
    },
    {
     "name": "stdout",
     "output_type": "stream",
     "text": [
      "training\n"
     ]
    },
    {
     "name": "stderr",
     "output_type": "stream",
     "text": [
      "┌ Info: Epoch 555\n",
      "└ @ Main C:\\Users\\PC\\.julia\\packages\\Flux\\qp1gc\\src\\optimise\\train.jl:135\n"
     ]
    },
    {
     "name": "stdout",
     "output_type": "stream",
     "text": [
      "training\n"
     ]
    },
    {
     "name": "stderr",
     "output_type": "stream",
     "text": [
      "┌ Info: Epoch 556\n",
      "└ @ Main C:\\Users\\PC\\.julia\\packages\\Flux\\qp1gc\\src\\optimise\\train.jl:135\n"
     ]
    },
    {
     "name": "stdout",
     "output_type": "stream",
     "text": [
      "training\n"
     ]
    },
    {
     "name": "stderr",
     "output_type": "stream",
     "text": [
      "┌ Info: Epoch 557\n",
      "└ @ Main C:\\Users\\PC\\.julia\\packages\\Flux\\qp1gc\\src\\optimise\\train.jl:135\n"
     ]
    },
    {
     "name": "stdout",
     "output_type": "stream",
     "text": [
      "training\n"
     ]
    },
    {
     "name": "stderr",
     "output_type": "stream",
     "text": [
      "┌ Info: Epoch 558\n",
      "└ @ Main C:\\Users\\PC\\.julia\\packages\\Flux\\qp1gc\\src\\optimise\\train.jl:135\n"
     ]
    },
    {
     "name": "stdout",
     "output_type": "stream",
     "text": [
      "training\n"
     ]
    },
    {
     "name": "stderr",
     "output_type": "stream",
     "text": [
      "┌ Info: Epoch 559\n",
      "└ @ Main C:\\Users\\PC\\.julia\\packages\\Flux\\qp1gc\\src\\optimise\\train.jl:135\n"
     ]
    },
    {
     "name": "stdout",
     "output_type": "stream",
     "text": [
      "training\n"
     ]
    },
    {
     "name": "stderr",
     "output_type": "stream",
     "text": [
      "┌ Info: Epoch 560\n",
      "└ @ Main C:\\Users\\PC\\.julia\\packages\\Flux\\qp1gc\\src\\optimise\\train.jl:135\n"
     ]
    },
    {
     "name": "stdout",
     "output_type": "stream",
     "text": [
      "training\n"
     ]
    },
    {
     "name": "stderr",
     "output_type": "stream",
     "text": [
      "┌ Info: Epoch 561\n",
      "└ @ Main C:\\Users\\PC\\.julia\\packages\\Flux\\qp1gc\\src\\optimise\\train.jl:135\n"
     ]
    },
    {
     "name": "stdout",
     "output_type": "stream",
     "text": [
      "training\n"
     ]
    },
    {
     "name": "stderr",
     "output_type": "stream",
     "text": [
      "┌ Info: Epoch 562\n",
      "└ @ Main C:\\Users\\PC\\.julia\\packages\\Flux\\qp1gc\\src\\optimise\\train.jl:135\n"
     ]
    },
    {
     "name": "stdout",
     "output_type": "stream",
     "text": [
      "training\n"
     ]
    },
    {
     "name": "stderr",
     "output_type": "stream",
     "text": [
      "┌ Info: Epoch 563\n",
      "└ @ Main C:\\Users\\PC\\.julia\\packages\\Flux\\qp1gc\\src\\optimise\\train.jl:135\n"
     ]
    },
    {
     "name": "stdout",
     "output_type": "stream",
     "text": [
      "training\n"
     ]
    },
    {
     "name": "stderr",
     "output_type": "stream",
     "text": [
      "┌ Info: Epoch 564\n",
      "└ @ Main C:\\Users\\PC\\.julia\\packages\\Flux\\qp1gc\\src\\optimise\\train.jl:135\n"
     ]
    },
    {
     "name": "stdout",
     "output_type": "stream",
     "text": [
      "training\n"
     ]
    },
    {
     "name": "stderr",
     "output_type": "stream",
     "text": [
      "┌ Info: Epoch 565\n",
      "└ @ Main C:\\Users\\PC\\.julia\\packages\\Flux\\qp1gc\\src\\optimise\\train.jl:135\n"
     ]
    },
    {
     "name": "stdout",
     "output_type": "stream",
     "text": [
      "training\n"
     ]
    },
    {
     "name": "stderr",
     "output_type": "stream",
     "text": [
      "┌ Info: Epoch 566\n",
      "└ @ Main C:\\Users\\PC\\.julia\\packages\\Flux\\qp1gc\\src\\optimise\\train.jl:135\n"
     ]
    },
    {
     "name": "stdout",
     "output_type": "stream",
     "text": [
      "training\n"
     ]
    },
    {
     "name": "stderr",
     "output_type": "stream",
     "text": [
      "┌ Info: Epoch 567\n",
      "└ @ Main C:\\Users\\PC\\.julia\\packages\\Flux\\qp1gc\\src\\optimise\\train.jl:135\n"
     ]
    },
    {
     "name": "stdout",
     "output_type": "stream",
     "text": [
      "training\n"
     ]
    },
    {
     "name": "stderr",
     "output_type": "stream",
     "text": [
      "┌ Info: Epoch 568\n",
      "└ @ Main C:\\Users\\PC\\.julia\\packages\\Flux\\qp1gc\\src\\optimise\\train.jl:135\n"
     ]
    },
    {
     "name": "stdout",
     "output_type": "stream",
     "text": [
      "training\n"
     ]
    },
    {
     "name": "stderr",
     "output_type": "stream",
     "text": [
      "┌ Info: Epoch 569\n",
      "└ @ Main C:\\Users\\PC\\.julia\\packages\\Flux\\qp1gc\\src\\optimise\\train.jl:135\n"
     ]
    },
    {
     "name": "stdout",
     "output_type": "stream",
     "text": [
      "training\n"
     ]
    },
    {
     "name": "stderr",
     "output_type": "stream",
     "text": [
      "┌ Info: Epoch 570\n",
      "└ @ Main C:\\Users\\PC\\.julia\\packages\\Flux\\qp1gc\\src\\optimise\\train.jl:135\n"
     ]
    },
    {
     "name": "stdout",
     "output_type": "stream",
     "text": [
      "training\n"
     ]
    },
    {
     "name": "stderr",
     "output_type": "stream",
     "text": [
      "┌ Info: Epoch 571\n",
      "└ @ Main C:\\Users\\PC\\.julia\\packages\\Flux\\qp1gc\\src\\optimise\\train.jl:135\n"
     ]
    },
    {
     "name": "stdout",
     "output_type": "stream",
     "text": [
      "training\n"
     ]
    },
    {
     "name": "stderr",
     "output_type": "stream",
     "text": [
      "┌ Info: Epoch 572\n",
      "└ @ Main C:\\Users\\PC\\.julia\\packages\\Flux\\qp1gc\\src\\optimise\\train.jl:135\n"
     ]
    },
    {
     "name": "stdout",
     "output_type": "stream",
     "text": [
      "training\n"
     ]
    },
    {
     "name": "stderr",
     "output_type": "stream",
     "text": [
      "┌ Info: Epoch 573\n",
      "└ @ Main C:\\Users\\PC\\.julia\\packages\\Flux\\qp1gc\\src\\optimise\\train.jl:135\n"
     ]
    },
    {
     "name": "stdout",
     "output_type": "stream",
     "text": [
      "training\n"
     ]
    },
    {
     "name": "stderr",
     "output_type": "stream",
     "text": [
      "┌ Info: Epoch 574\n",
      "└ @ Main C:\\Users\\PC\\.julia\\packages\\Flux\\qp1gc\\src\\optimise\\train.jl:135\n"
     ]
    },
    {
     "name": "stdout",
     "output_type": "stream",
     "text": [
      "training\n"
     ]
    },
    {
     "name": "stderr",
     "output_type": "stream",
     "text": [
      "┌ Info: Epoch 575\n",
      "└ @ Main C:\\Users\\PC\\.julia\\packages\\Flux\\qp1gc\\src\\optimise\\train.jl:135\n"
     ]
    },
    {
     "name": "stdout",
     "output_type": "stream",
     "text": [
      "training\n"
     ]
    },
    {
     "name": "stderr",
     "output_type": "stream",
     "text": [
      "┌ Info: Epoch 576\n",
      "└ @ Main C:\\Users\\PC\\.julia\\packages\\Flux\\qp1gc\\src\\optimise\\train.jl:135\n"
     ]
    },
    {
     "name": "stdout",
     "output_type": "stream",
     "text": [
      "training\n"
     ]
    },
    {
     "name": "stderr",
     "output_type": "stream",
     "text": [
      "┌ Info: Epoch 577\n",
      "└ @ Main C:\\Users\\PC\\.julia\\packages\\Flux\\qp1gc\\src\\optimise\\train.jl:135\n"
     ]
    },
    {
     "name": "stdout",
     "output_type": "stream",
     "text": [
      "training\n"
     ]
    },
    {
     "name": "stderr",
     "output_type": "stream",
     "text": [
      "┌ Info: Epoch 578\n",
      "└ @ Main C:\\Users\\PC\\.julia\\packages\\Flux\\qp1gc\\src\\optimise\\train.jl:135\n"
     ]
    },
    {
     "name": "stdout",
     "output_type": "stream",
     "text": [
      "training\n"
     ]
    },
    {
     "name": "stderr",
     "output_type": "stream",
     "text": [
      "┌ Info: Epoch 579\n",
      "└ @ Main C:\\Users\\PC\\.julia\\packages\\Flux\\qp1gc\\src\\optimise\\train.jl:135\n"
     ]
    },
    {
     "name": "stdout",
     "output_type": "stream",
     "text": [
      "training\n"
     ]
    },
    {
     "name": "stderr",
     "output_type": "stream",
     "text": [
      "┌ Info: Epoch 580\n",
      "└ @ Main C:\\Users\\PC\\.julia\\packages\\Flux\\qp1gc\\src\\optimise\\train.jl:135\n"
     ]
    },
    {
     "name": "stdout",
     "output_type": "stream",
     "text": [
      "training\n"
     ]
    },
    {
     "name": "stderr",
     "output_type": "stream",
     "text": [
      "┌ Info: Epoch 581\n",
      "└ @ Main C:\\Users\\PC\\.julia\\packages\\Flux\\qp1gc\\src\\optimise\\train.jl:135\n"
     ]
    },
    {
     "name": "stdout",
     "output_type": "stream",
     "text": [
      "training\n"
     ]
    },
    {
     "name": "stderr",
     "output_type": "stream",
     "text": [
      "┌ Info: Epoch 582\n",
      "└ @ Main C:\\Users\\PC\\.julia\\packages\\Flux\\qp1gc\\src\\optimise\\train.jl:135\n"
     ]
    },
    {
     "name": "stdout",
     "output_type": "stream",
     "text": [
      "training\n"
     ]
    },
    {
     "name": "stderr",
     "output_type": "stream",
     "text": [
      "┌ Info: Epoch 583\n",
      "└ @ Main C:\\Users\\PC\\.julia\\packages\\Flux\\qp1gc\\src\\optimise\\train.jl:135\n"
     ]
    },
    {
     "name": "stdout",
     "output_type": "stream",
     "text": [
      "training\n"
     ]
    },
    {
     "name": "stderr",
     "output_type": "stream",
     "text": [
      "┌ Info: Epoch 584\n",
      "└ @ Main C:\\Users\\PC\\.julia\\packages\\Flux\\qp1gc\\src\\optimise\\train.jl:135\n"
     ]
    },
    {
     "name": "stdout",
     "output_type": "stream",
     "text": [
      "training\n"
     ]
    },
    {
     "name": "stderr",
     "output_type": "stream",
     "text": [
      "┌ Info: Epoch 585\n",
      "└ @ Main C:\\Users\\PC\\.julia\\packages\\Flux\\qp1gc\\src\\optimise\\train.jl:135\n"
     ]
    },
    {
     "name": "stdout",
     "output_type": "stream",
     "text": [
      "training\n"
     ]
    },
    {
     "name": "stderr",
     "output_type": "stream",
     "text": [
      "┌ Info: Epoch 586\n",
      "└ @ Main C:\\Users\\PC\\.julia\\packages\\Flux\\qp1gc\\src\\optimise\\train.jl:135\n"
     ]
    },
    {
     "name": "stdout",
     "output_type": "stream",
     "text": [
      "training\n"
     ]
    },
    {
     "name": "stderr",
     "output_type": "stream",
     "text": [
      "┌ Info: Epoch 587\n",
      "└ @ Main C:\\Users\\PC\\.julia\\packages\\Flux\\qp1gc\\src\\optimise\\train.jl:135\n"
     ]
    },
    {
     "name": "stdout",
     "output_type": "stream",
     "text": [
      "training\n"
     ]
    },
    {
     "name": "stderr",
     "output_type": "stream",
     "text": [
      "┌ Info: Epoch 588\n",
      "└ @ Main C:\\Users\\PC\\.julia\\packages\\Flux\\qp1gc\\src\\optimise\\train.jl:135\n"
     ]
    },
    {
     "name": "stdout",
     "output_type": "stream",
     "text": [
      "training\n"
     ]
    },
    {
     "name": "stderr",
     "output_type": "stream",
     "text": [
      "┌ Info: Epoch 589\n",
      "└ @ Main C:\\Users\\PC\\.julia\\packages\\Flux\\qp1gc\\src\\optimise\\train.jl:135\n"
     ]
    },
    {
     "name": "stdout",
     "output_type": "stream",
     "text": [
      "training\n"
     ]
    },
    {
     "name": "stderr",
     "output_type": "stream",
     "text": [
      "┌ Info: Epoch 590\n",
      "└ @ Main C:\\Users\\PC\\.julia\\packages\\Flux\\qp1gc\\src\\optimise\\train.jl:135\n"
     ]
    },
    {
     "name": "stdout",
     "output_type": "stream",
     "text": [
      "training\n"
     ]
    },
    {
     "name": "stderr",
     "output_type": "stream",
     "text": [
      "┌ Info: Epoch 591\n",
      "└ @ Main C:\\Users\\PC\\.julia\\packages\\Flux\\qp1gc\\src\\optimise\\train.jl:135\n"
     ]
    },
    {
     "name": "stdout",
     "output_type": "stream",
     "text": [
      "training\n"
     ]
    },
    {
     "name": "stderr",
     "output_type": "stream",
     "text": [
      "┌ Info: Epoch 592\n",
      "└ @ Main C:\\Users\\PC\\.julia\\packages\\Flux\\qp1gc\\src\\optimise\\train.jl:135\n"
     ]
    },
    {
     "name": "stdout",
     "output_type": "stream",
     "text": [
      "training\n"
     ]
    },
    {
     "name": "stderr",
     "output_type": "stream",
     "text": [
      "┌ Info: Epoch 593\n",
      "└ @ Main C:\\Users\\PC\\.julia\\packages\\Flux\\qp1gc\\src\\optimise\\train.jl:135\n"
     ]
    },
    {
     "name": "stdout",
     "output_type": "stream",
     "text": [
      "training\n"
     ]
    },
    {
     "name": "stderr",
     "output_type": "stream",
     "text": [
      "┌ Info: Epoch 594\n",
      "└ @ Main C:\\Users\\PC\\.julia\\packages\\Flux\\qp1gc\\src\\optimise\\train.jl:135\n"
     ]
    },
    {
     "name": "stdout",
     "output_type": "stream",
     "text": [
      "training\n"
     ]
    },
    {
     "name": "stderr",
     "output_type": "stream",
     "text": [
      "┌ Info: Epoch 595\n",
      "└ @ Main C:\\Users\\PC\\.julia\\packages\\Flux\\qp1gc\\src\\optimise\\train.jl:135\n"
     ]
    },
    {
     "name": "stdout",
     "output_type": "stream",
     "text": [
      "training\n"
     ]
    },
    {
     "name": "stderr",
     "output_type": "stream",
     "text": [
      "┌ Info: Epoch 596\n",
      "└ @ Main C:\\Users\\PC\\.julia\\packages\\Flux\\qp1gc\\src\\optimise\\train.jl:135\n"
     ]
    },
    {
     "name": "stdout",
     "output_type": "stream",
     "text": [
      "training\n"
     ]
    },
    {
     "name": "stderr",
     "output_type": "stream",
     "text": [
      "┌ Info: Epoch 597\n",
      "└ @ Main C:\\Users\\PC\\.julia\\packages\\Flux\\qp1gc\\src\\optimise\\train.jl:135\n"
     ]
    },
    {
     "name": "stdout",
     "output_type": "stream",
     "text": [
      "training\n"
     ]
    },
    {
     "name": "stderr",
     "output_type": "stream",
     "text": [
      "┌ Info: Epoch 598\n",
      "└ @ Main C:\\Users\\PC\\.julia\\packages\\Flux\\qp1gc\\src\\optimise\\train.jl:135\n"
     ]
    },
    {
     "name": "stdout",
     "output_type": "stream",
     "text": [
      "training\n"
     ]
    },
    {
     "name": "stderr",
     "output_type": "stream",
     "text": [
      "┌ Info: Epoch 599\n",
      "└ @ Main C:\\Users\\PC\\.julia\\packages\\Flux\\qp1gc\\src\\optimise\\train.jl:135\n"
     ]
    },
    {
     "name": "stdout",
     "output_type": "stream",
     "text": [
      "training\n"
     ]
    },
    {
     "name": "stderr",
     "output_type": "stream",
     "text": [
      "┌ Info: Epoch 600\n",
      "└ @ Main C:\\Users\\PC\\.julia\\packages\\Flux\\qp1gc\\src\\optimise\\train.jl:135\n"
     ]
    },
    {
     "name": "stdout",
     "output_type": "stream",
     "text": [
      "training\n"
     ]
    },
    {
     "name": "stderr",
     "output_type": "stream",
     "text": [
      "┌ Info: Epoch 601\n",
      "└ @ Main C:\\Users\\PC\\.julia\\packages\\Flux\\qp1gc\\src\\optimise\\train.jl:135\n"
     ]
    },
    {
     "name": "stdout",
     "output_type": "stream",
     "text": [
      "training\n"
     ]
    },
    {
     "name": "stderr",
     "output_type": "stream",
     "text": [
      "┌ Info: Epoch 602\n",
      "└ @ Main C:\\Users\\PC\\.julia\\packages\\Flux\\qp1gc\\src\\optimise\\train.jl:135\n"
     ]
    },
    {
     "name": "stdout",
     "output_type": "stream",
     "text": [
      "training\n"
     ]
    },
    {
     "name": "stderr",
     "output_type": "stream",
     "text": [
      "┌ Info: Epoch 603\n",
      "└ @ Main C:\\Users\\PC\\.julia\\packages\\Flux\\qp1gc\\src\\optimise\\train.jl:135\n"
     ]
    },
    {
     "name": "stdout",
     "output_type": "stream",
     "text": [
      "training\n"
     ]
    },
    {
     "name": "stderr",
     "output_type": "stream",
     "text": [
      "┌ Info: Epoch 604\n",
      "└ @ Main C:\\Users\\PC\\.julia\\packages\\Flux\\qp1gc\\src\\optimise\\train.jl:135\n"
     ]
    },
    {
     "name": "stdout",
     "output_type": "stream",
     "text": [
      "training\n"
     ]
    },
    {
     "name": "stderr",
     "output_type": "stream",
     "text": [
      "┌ Info: Epoch 605\n",
      "└ @ Main C:\\Users\\PC\\.julia\\packages\\Flux\\qp1gc\\src\\optimise\\train.jl:135\n"
     ]
    },
    {
     "name": "stdout",
     "output_type": "stream",
     "text": [
      "training\n"
     ]
    },
    {
     "name": "stderr",
     "output_type": "stream",
     "text": [
      "┌ Info: Epoch 606\n",
      "└ @ Main C:\\Users\\PC\\.julia\\packages\\Flux\\qp1gc\\src\\optimise\\train.jl:135\n"
     ]
    },
    {
     "name": "stdout",
     "output_type": "stream",
     "text": [
      "training\n"
     ]
    },
    {
     "name": "stderr",
     "output_type": "stream",
     "text": [
      "┌ Info: Epoch 607\n",
      "└ @ Main C:\\Users\\PC\\.julia\\packages\\Flux\\qp1gc\\src\\optimise\\train.jl:135\n"
     ]
    },
    {
     "name": "stdout",
     "output_type": "stream",
     "text": [
      "training\n"
     ]
    },
    {
     "name": "stderr",
     "output_type": "stream",
     "text": [
      "┌ Info: Epoch 608\n",
      "└ @ Main C:\\Users\\PC\\.julia\\packages\\Flux\\qp1gc\\src\\optimise\\train.jl:135\n"
     ]
    },
    {
     "name": "stdout",
     "output_type": "stream",
     "text": [
      "training\n"
     ]
    },
    {
     "name": "stderr",
     "output_type": "stream",
     "text": [
      "┌ Info: Epoch 609\n",
      "└ @ Main C:\\Users\\PC\\.julia\\packages\\Flux\\qp1gc\\src\\optimise\\train.jl:135\n"
     ]
    },
    {
     "name": "stdout",
     "output_type": "stream",
     "text": [
      "training\n"
     ]
    },
    {
     "name": "stderr",
     "output_type": "stream",
     "text": [
      "┌ Info: Epoch 610\n",
      "└ @ Main C:\\Users\\PC\\.julia\\packages\\Flux\\qp1gc\\src\\optimise\\train.jl:135\n"
     ]
    },
    {
     "name": "stdout",
     "output_type": "stream",
     "text": [
      "training\n"
     ]
    },
    {
     "name": "stderr",
     "output_type": "stream",
     "text": [
      "┌ Info: Epoch 611\n",
      "└ @ Main C:\\Users\\PC\\.julia\\packages\\Flux\\qp1gc\\src\\optimise\\train.jl:135\n"
     ]
    },
    {
     "name": "stdout",
     "output_type": "stream",
     "text": [
      "training\n"
     ]
    },
    {
     "name": "stderr",
     "output_type": "stream",
     "text": [
      "┌ Info: Epoch 612\n",
      "└ @ Main C:\\Users\\PC\\.julia\\packages\\Flux\\qp1gc\\src\\optimise\\train.jl:135\n"
     ]
    },
    {
     "name": "stdout",
     "output_type": "stream",
     "text": [
      "training\n"
     ]
    },
    {
     "name": "stderr",
     "output_type": "stream",
     "text": [
      "┌ Info: Epoch 613\n",
      "└ @ Main C:\\Users\\PC\\.julia\\packages\\Flux\\qp1gc\\src\\optimise\\train.jl:135\n"
     ]
    },
    {
     "name": "stdout",
     "output_type": "stream",
     "text": [
      "training\n"
     ]
    },
    {
     "name": "stderr",
     "output_type": "stream",
     "text": [
      "┌ Info: Epoch 614\n",
      "└ @ Main C:\\Users\\PC\\.julia\\packages\\Flux\\qp1gc\\src\\optimise\\train.jl:135\n"
     ]
    },
    {
     "name": "stdout",
     "output_type": "stream",
     "text": [
      "training\n"
     ]
    },
    {
     "name": "stderr",
     "output_type": "stream",
     "text": [
      "┌ Info: Epoch 615\n",
      "└ @ Main C:\\Users\\PC\\.julia\\packages\\Flux\\qp1gc\\src\\optimise\\train.jl:135\n"
     ]
    },
    {
     "name": "stdout",
     "output_type": "stream",
     "text": [
      "training\n"
     ]
    },
    {
     "name": "stderr",
     "output_type": "stream",
     "text": [
      "┌ Info: Epoch 616\n",
      "└ @ Main C:\\Users\\PC\\.julia\\packages\\Flux\\qp1gc\\src\\optimise\\train.jl:135\n"
     ]
    },
    {
     "name": "stdout",
     "output_type": "stream",
     "text": [
      "training\n"
     ]
    },
    {
     "name": "stderr",
     "output_type": "stream",
     "text": [
      "┌ Info: Epoch 617\n",
      "└ @ Main C:\\Users\\PC\\.julia\\packages\\Flux\\qp1gc\\src\\optimise\\train.jl:135\n"
     ]
    },
    {
     "name": "stdout",
     "output_type": "stream",
     "text": [
      "training\n"
     ]
    },
    {
     "name": "stderr",
     "output_type": "stream",
     "text": [
      "┌ Info: Epoch 618\n",
      "└ @ Main C:\\Users\\PC\\.julia\\packages\\Flux\\qp1gc\\src\\optimise\\train.jl:135\n"
     ]
    },
    {
     "name": "stdout",
     "output_type": "stream",
     "text": [
      "training\n"
     ]
    },
    {
     "name": "stderr",
     "output_type": "stream",
     "text": [
      "┌ Info: Epoch 619\n",
      "└ @ Main C:\\Users\\PC\\.julia\\packages\\Flux\\qp1gc\\src\\optimise\\train.jl:135\n"
     ]
    },
    {
     "name": "stdout",
     "output_type": "stream",
     "text": [
      "training\n"
     ]
    },
    {
     "name": "stderr",
     "output_type": "stream",
     "text": [
      "┌ Info: Epoch 620\n",
      "└ @ Main C:\\Users\\PC\\.julia\\packages\\Flux\\qp1gc\\src\\optimise\\train.jl:135\n"
     ]
    },
    {
     "name": "stdout",
     "output_type": "stream",
     "text": [
      "training\n"
     ]
    },
    {
     "name": "stderr",
     "output_type": "stream",
     "text": [
      "┌ Info: Epoch 621\n",
      "└ @ Main C:\\Users\\PC\\.julia\\packages\\Flux\\qp1gc\\src\\optimise\\train.jl:135\n"
     ]
    },
    {
     "name": "stdout",
     "output_type": "stream",
     "text": [
      "training\n"
     ]
    },
    {
     "name": "stderr",
     "output_type": "stream",
     "text": [
      "┌ Info: Epoch 622\n",
      "└ @ Main C:\\Users\\PC\\.julia\\packages\\Flux\\qp1gc\\src\\optimise\\train.jl:135\n"
     ]
    },
    {
     "name": "stdout",
     "output_type": "stream",
     "text": [
      "training\n"
     ]
    },
    {
     "name": "stderr",
     "output_type": "stream",
     "text": [
      "┌ Info: Epoch 623\n",
      "└ @ Main C:\\Users\\PC\\.julia\\packages\\Flux\\qp1gc\\src\\optimise\\train.jl:135\n"
     ]
    },
    {
     "name": "stdout",
     "output_type": "stream",
     "text": [
      "training\n"
     ]
    },
    {
     "name": "stderr",
     "output_type": "stream",
     "text": [
      "┌ Info: Epoch 624\n",
      "└ @ Main C:\\Users\\PC\\.julia\\packages\\Flux\\qp1gc\\src\\optimise\\train.jl:135\n"
     ]
    },
    {
     "name": "stdout",
     "output_type": "stream",
     "text": [
      "training\n"
     ]
    },
    {
     "name": "stderr",
     "output_type": "stream",
     "text": [
      "┌ Info: Epoch 625\n",
      "└ @ Main C:\\Users\\PC\\.julia\\packages\\Flux\\qp1gc\\src\\optimise\\train.jl:135\n"
     ]
    },
    {
     "name": "stdout",
     "output_type": "stream",
     "text": [
      "training\n"
     ]
    },
    {
     "name": "stderr",
     "output_type": "stream",
     "text": [
      "┌ Info: Epoch 626\n",
      "└ @ Main C:\\Users\\PC\\.julia\\packages\\Flux\\qp1gc\\src\\optimise\\train.jl:135\n"
     ]
    },
    {
     "name": "stdout",
     "output_type": "stream",
     "text": [
      "training\n"
     ]
    },
    {
     "name": "stderr",
     "output_type": "stream",
     "text": [
      "┌ Info: Epoch 627\n",
      "└ @ Main C:\\Users\\PC\\.julia\\packages\\Flux\\qp1gc\\src\\optimise\\train.jl:135\n"
     ]
    },
    {
     "name": "stdout",
     "output_type": "stream",
     "text": [
      "training\n"
     ]
    },
    {
     "name": "stderr",
     "output_type": "stream",
     "text": [
      "┌ Info: Epoch 628\n",
      "└ @ Main C:\\Users\\PC\\.julia\\packages\\Flux\\qp1gc\\src\\optimise\\train.jl:135\n"
     ]
    },
    {
     "name": "stdout",
     "output_type": "stream",
     "text": [
      "training\n"
     ]
    },
    {
     "name": "stderr",
     "output_type": "stream",
     "text": [
      "┌ Info: Epoch 629\n",
      "└ @ Main C:\\Users\\PC\\.julia\\packages\\Flux\\qp1gc\\src\\optimise\\train.jl:135\n"
     ]
    },
    {
     "name": "stdout",
     "output_type": "stream",
     "text": [
      "training\n"
     ]
    },
    {
     "name": "stderr",
     "output_type": "stream",
     "text": [
      "┌ Info: Epoch 630\n",
      "└ @ Main C:\\Users\\PC\\.julia\\packages\\Flux\\qp1gc\\src\\optimise\\train.jl:135\n"
     ]
    },
    {
     "name": "stdout",
     "output_type": "stream",
     "text": [
      "training\n"
     ]
    },
    {
     "name": "stderr",
     "output_type": "stream",
     "text": [
      "┌ Info: Epoch 631\n",
      "└ @ Main C:\\Users\\PC\\.julia\\packages\\Flux\\qp1gc\\src\\optimise\\train.jl:135\n"
     ]
    },
    {
     "name": "stdout",
     "output_type": "stream",
     "text": [
      "training\n"
     ]
    },
    {
     "name": "stderr",
     "output_type": "stream",
     "text": [
      "┌ Info: Epoch 632\n",
      "└ @ Main C:\\Users\\PC\\.julia\\packages\\Flux\\qp1gc\\src\\optimise\\train.jl:135\n"
     ]
    },
    {
     "name": "stdout",
     "output_type": "stream",
     "text": [
      "training\n"
     ]
    },
    {
     "name": "stderr",
     "output_type": "stream",
     "text": [
      "┌ Info: Epoch 633\n",
      "└ @ Main C:\\Users\\PC\\.julia\\packages\\Flux\\qp1gc\\src\\optimise\\train.jl:135\n"
     ]
    },
    {
     "name": "stdout",
     "output_type": "stream",
     "text": [
      "training\n"
     ]
    },
    {
     "name": "stderr",
     "output_type": "stream",
     "text": [
      "┌ Info: Epoch 634\n",
      "└ @ Main C:\\Users\\PC\\.julia\\packages\\Flux\\qp1gc\\src\\optimise\\train.jl:135\n"
     ]
    },
    {
     "name": "stdout",
     "output_type": "stream",
     "text": [
      "training\n"
     ]
    },
    {
     "name": "stderr",
     "output_type": "stream",
     "text": [
      "┌ Info: Epoch 635\n",
      "└ @ Main C:\\Users\\PC\\.julia\\packages\\Flux\\qp1gc\\src\\optimise\\train.jl:135\n"
     ]
    },
    {
     "name": "stdout",
     "output_type": "stream",
     "text": [
      "training\n"
     ]
    },
    {
     "name": "stderr",
     "output_type": "stream",
     "text": [
      "┌ Info: Epoch 636\n",
      "└ @ Main C:\\Users\\PC\\.julia\\packages\\Flux\\qp1gc\\src\\optimise\\train.jl:135\n"
     ]
    },
    {
     "name": "stdout",
     "output_type": "stream",
     "text": [
      "training\n"
     ]
    },
    {
     "name": "stderr",
     "output_type": "stream",
     "text": [
      "┌ Info: Epoch 637\n",
      "└ @ Main C:\\Users\\PC\\.julia\\packages\\Flux\\qp1gc\\src\\optimise\\train.jl:135\n"
     ]
    },
    {
     "name": "stdout",
     "output_type": "stream",
     "text": [
      "training\n"
     ]
    },
    {
     "name": "stderr",
     "output_type": "stream",
     "text": [
      "┌ Info: Epoch 638\n",
      "└ @ Main C:\\Users\\PC\\.julia\\packages\\Flux\\qp1gc\\src\\optimise\\train.jl:135\n"
     ]
    },
    {
     "name": "stdout",
     "output_type": "stream",
     "text": [
      "training\n"
     ]
    },
    {
     "name": "stderr",
     "output_type": "stream",
     "text": [
      "┌ Info: Epoch 639\n",
      "└ @ Main C:\\Users\\PC\\.julia\\packages\\Flux\\qp1gc\\src\\optimise\\train.jl:135\n"
     ]
    },
    {
     "name": "stdout",
     "output_type": "stream",
     "text": [
      "training\n"
     ]
    },
    {
     "name": "stderr",
     "output_type": "stream",
     "text": [
      "┌ Info: Epoch 640\n",
      "└ @ Main C:\\Users\\PC\\.julia\\packages\\Flux\\qp1gc\\src\\optimise\\train.jl:135\n"
     ]
    },
    {
     "name": "stdout",
     "output_type": "stream",
     "text": [
      "training\n"
     ]
    },
    {
     "name": "stderr",
     "output_type": "stream",
     "text": [
      "┌ Info: Epoch 641\n",
      "└ @ Main C:\\Users\\PC\\.julia\\packages\\Flux\\qp1gc\\src\\optimise\\train.jl:135\n"
     ]
    },
    {
     "name": "stdout",
     "output_type": "stream",
     "text": [
      "training\n"
     ]
    },
    {
     "name": "stderr",
     "output_type": "stream",
     "text": [
      "┌ Info: Epoch 642\n",
      "└ @ Main C:\\Users\\PC\\.julia\\packages\\Flux\\qp1gc\\src\\optimise\\train.jl:135\n"
     ]
    },
    {
     "name": "stdout",
     "output_type": "stream",
     "text": [
      "training\n"
     ]
    },
    {
     "name": "stderr",
     "output_type": "stream",
     "text": [
      "┌ Info: Epoch 643\n",
      "└ @ Main C:\\Users\\PC\\.julia\\packages\\Flux\\qp1gc\\src\\optimise\\train.jl:135\n"
     ]
    },
    {
     "name": "stdout",
     "output_type": "stream",
     "text": [
      "training\n"
     ]
    },
    {
     "name": "stderr",
     "output_type": "stream",
     "text": [
      "┌ Info: Epoch 644\n",
      "└ @ Main C:\\Users\\PC\\.julia\\packages\\Flux\\qp1gc\\src\\optimise\\train.jl:135\n"
     ]
    },
    {
     "name": "stdout",
     "output_type": "stream",
     "text": [
      "training\n"
     ]
    },
    {
     "name": "stderr",
     "output_type": "stream",
     "text": [
      "┌ Info: Epoch 645\n",
      "└ @ Main C:\\Users\\PC\\.julia\\packages\\Flux\\qp1gc\\src\\optimise\\train.jl:135\n"
     ]
    },
    {
     "name": "stdout",
     "output_type": "stream",
     "text": [
      "training\n"
     ]
    },
    {
     "name": "stderr",
     "output_type": "stream",
     "text": [
      "┌ Info: Epoch 646\n",
      "└ @ Main C:\\Users\\PC\\.julia\\packages\\Flux\\qp1gc\\src\\optimise\\train.jl:135\n"
     ]
    },
    {
     "name": "stdout",
     "output_type": "stream",
     "text": [
      "training\n"
     ]
    },
    {
     "name": "stderr",
     "output_type": "stream",
     "text": [
      "┌ Info: Epoch 647\n",
      "└ @ Main C:\\Users\\PC\\.julia\\packages\\Flux\\qp1gc\\src\\optimise\\train.jl:135\n"
     ]
    },
    {
     "name": "stdout",
     "output_type": "stream",
     "text": [
      "training\n"
     ]
    },
    {
     "name": "stderr",
     "output_type": "stream",
     "text": [
      "┌ Info: Epoch 648\n",
      "└ @ Main C:\\Users\\PC\\.julia\\packages\\Flux\\qp1gc\\src\\optimise\\train.jl:135\n"
     ]
    },
    {
     "name": "stdout",
     "output_type": "stream",
     "text": [
      "training\n"
     ]
    },
    {
     "name": "stderr",
     "output_type": "stream",
     "text": [
      "┌ Info: Epoch 649\n",
      "└ @ Main C:\\Users\\PC\\.julia\\packages\\Flux\\qp1gc\\src\\optimise\\train.jl:135\n"
     ]
    },
    {
     "name": "stdout",
     "output_type": "stream",
     "text": [
      "training\n"
     ]
    },
    {
     "name": "stderr",
     "output_type": "stream",
     "text": [
      "┌ Info: Epoch 650\n",
      "└ @ Main C:\\Users\\PC\\.julia\\packages\\Flux\\qp1gc\\src\\optimise\\train.jl:135\n"
     ]
    },
    {
     "name": "stdout",
     "output_type": "stream",
     "text": [
      "training\n"
     ]
    },
    {
     "name": "stderr",
     "output_type": "stream",
     "text": [
      "┌ Info: Epoch 651\n",
      "└ @ Main C:\\Users\\PC\\.julia\\packages\\Flux\\qp1gc\\src\\optimise\\train.jl:135\n"
     ]
    },
    {
     "name": "stdout",
     "output_type": "stream",
     "text": [
      "training\n"
     ]
    },
    {
     "name": "stderr",
     "output_type": "stream",
     "text": [
      "┌ Info: Epoch 652\n",
      "└ @ Main C:\\Users\\PC\\.julia\\packages\\Flux\\qp1gc\\src\\optimise\\train.jl:135\n"
     ]
    },
    {
     "name": "stdout",
     "output_type": "stream",
     "text": [
      "training\n"
     ]
    },
    {
     "name": "stderr",
     "output_type": "stream",
     "text": [
      "┌ Info: Epoch 653\n",
      "└ @ Main C:\\Users\\PC\\.julia\\packages\\Flux\\qp1gc\\src\\optimise\\train.jl:135\n"
     ]
    },
    {
     "name": "stdout",
     "output_type": "stream",
     "text": [
      "training\n"
     ]
    },
    {
     "name": "stderr",
     "output_type": "stream",
     "text": [
      "┌ Info: Epoch 654\n",
      "└ @ Main C:\\Users\\PC\\.julia\\packages\\Flux\\qp1gc\\src\\optimise\\train.jl:135\n"
     ]
    },
    {
     "name": "stdout",
     "output_type": "stream",
     "text": [
      "training\n"
     ]
    },
    {
     "name": "stderr",
     "output_type": "stream",
     "text": [
      "┌ Info: Epoch 655\n",
      "└ @ Main C:\\Users\\PC\\.julia\\packages\\Flux\\qp1gc\\src\\optimise\\train.jl:135\n"
     ]
    },
    {
     "name": "stdout",
     "output_type": "stream",
     "text": [
      "training\n"
     ]
    },
    {
     "name": "stderr",
     "output_type": "stream",
     "text": [
      "┌ Info: Epoch 656\n",
      "└ @ Main C:\\Users\\PC\\.julia\\packages\\Flux\\qp1gc\\src\\optimise\\train.jl:135\n"
     ]
    },
    {
     "name": "stdout",
     "output_type": "stream",
     "text": [
      "training\n"
     ]
    },
    {
     "name": "stderr",
     "output_type": "stream",
     "text": [
      "┌ Info: Epoch 657\n",
      "└ @ Main C:\\Users\\PC\\.julia\\packages\\Flux\\qp1gc\\src\\optimise\\train.jl:135\n"
     ]
    },
    {
     "name": "stdout",
     "output_type": "stream",
     "text": [
      "training\n"
     ]
    },
    {
     "name": "stderr",
     "output_type": "stream",
     "text": [
      "┌ Info: Epoch 658\n",
      "└ @ Main C:\\Users\\PC\\.julia\\packages\\Flux\\qp1gc\\src\\optimise\\train.jl:135\n"
     ]
    },
    {
     "name": "stdout",
     "output_type": "stream",
     "text": [
      "training\n"
     ]
    },
    {
     "name": "stderr",
     "output_type": "stream",
     "text": [
      "┌ Info: Epoch 659\n",
      "└ @ Main C:\\Users\\PC\\.julia\\packages\\Flux\\qp1gc\\src\\optimise\\train.jl:135\n"
     ]
    },
    {
     "name": "stdout",
     "output_type": "stream",
     "text": [
      "training\n"
     ]
    },
    {
     "name": "stderr",
     "output_type": "stream",
     "text": [
      "┌ Info: Epoch 660\n",
      "└ @ Main C:\\Users\\PC\\.julia\\packages\\Flux\\qp1gc\\src\\optimise\\train.jl:135\n"
     ]
    },
    {
     "name": "stdout",
     "output_type": "stream",
     "text": [
      "training\n"
     ]
    },
    {
     "name": "stderr",
     "output_type": "stream",
     "text": [
      "┌ Info: Epoch 661\n",
      "└ @ Main C:\\Users\\PC\\.julia\\packages\\Flux\\qp1gc\\src\\optimise\\train.jl:135\n"
     ]
    },
    {
     "name": "stdout",
     "output_type": "stream",
     "text": [
      "training\n"
     ]
    },
    {
     "name": "stderr",
     "output_type": "stream",
     "text": [
      "┌ Info: Epoch 662\n",
      "└ @ Main C:\\Users\\PC\\.julia\\packages\\Flux\\qp1gc\\src\\optimise\\train.jl:135\n"
     ]
    },
    {
     "name": "stdout",
     "output_type": "stream",
     "text": [
      "training\n"
     ]
    },
    {
     "name": "stderr",
     "output_type": "stream",
     "text": [
      "┌ Info: Epoch 663\n",
      "└ @ Main C:\\Users\\PC\\.julia\\packages\\Flux\\qp1gc\\src\\optimise\\train.jl:135\n"
     ]
    },
    {
     "name": "stdout",
     "output_type": "stream",
     "text": [
      "training\n"
     ]
    },
    {
     "name": "stderr",
     "output_type": "stream",
     "text": [
      "┌ Info: Epoch 664\n",
      "└ @ Main C:\\Users\\PC\\.julia\\packages\\Flux\\qp1gc\\src\\optimise\\train.jl:135\n"
     ]
    },
    {
     "name": "stdout",
     "output_type": "stream",
     "text": [
      "training\n"
     ]
    },
    {
     "name": "stderr",
     "output_type": "stream",
     "text": [
      "┌ Info: Epoch 665\n",
      "└ @ Main C:\\Users\\PC\\.julia\\packages\\Flux\\qp1gc\\src\\optimise\\train.jl:135\n"
     ]
    },
    {
     "name": "stdout",
     "output_type": "stream",
     "text": [
      "training\n"
     ]
    },
    {
     "name": "stderr",
     "output_type": "stream",
     "text": [
      "┌ Info: Epoch 666\n",
      "└ @ Main C:\\Users\\PC\\.julia\\packages\\Flux\\qp1gc\\src\\optimise\\train.jl:135\n"
     ]
    },
    {
     "name": "stdout",
     "output_type": "stream",
     "text": [
      "training\n"
     ]
    },
    {
     "name": "stderr",
     "output_type": "stream",
     "text": [
      "┌ Info: Epoch 667\n",
      "└ @ Main C:\\Users\\PC\\.julia\\packages\\Flux\\qp1gc\\src\\optimise\\train.jl:135\n"
     ]
    },
    {
     "name": "stdout",
     "output_type": "stream",
     "text": [
      "training\n"
     ]
    },
    {
     "name": "stderr",
     "output_type": "stream",
     "text": [
      "┌ Info: Epoch 668\n",
      "└ @ Main C:\\Users\\PC\\.julia\\packages\\Flux\\qp1gc\\src\\optimise\\train.jl:135\n"
     ]
    },
    {
     "name": "stdout",
     "output_type": "stream",
     "text": [
      "training\n"
     ]
    },
    {
     "name": "stderr",
     "output_type": "stream",
     "text": [
      "┌ Info: Epoch 669\n",
      "└ @ Main C:\\Users\\PC\\.julia\\packages\\Flux\\qp1gc\\src\\optimise\\train.jl:135\n"
     ]
    },
    {
     "name": "stdout",
     "output_type": "stream",
     "text": [
      "training\n"
     ]
    },
    {
     "name": "stderr",
     "output_type": "stream",
     "text": [
      "┌ Info: Epoch 670\n",
      "└ @ Main C:\\Users\\PC\\.julia\\packages\\Flux\\qp1gc\\src\\optimise\\train.jl:135\n"
     ]
    },
    {
     "name": "stdout",
     "output_type": "stream",
     "text": [
      "training\n"
     ]
    },
    {
     "name": "stderr",
     "output_type": "stream",
     "text": [
      "┌ Info: Epoch 671\n",
      "└ @ Main C:\\Users\\PC\\.julia\\packages\\Flux\\qp1gc\\src\\optimise\\train.jl:135\n"
     ]
    },
    {
     "name": "stdout",
     "output_type": "stream",
     "text": [
      "training\n"
     ]
    },
    {
     "name": "stderr",
     "output_type": "stream",
     "text": [
      "┌ Info: Epoch 672\n",
      "└ @ Main C:\\Users\\PC\\.julia\\packages\\Flux\\qp1gc\\src\\optimise\\train.jl:135\n"
     ]
    },
    {
     "name": "stdout",
     "output_type": "stream",
     "text": [
      "training\n"
     ]
    },
    {
     "name": "stderr",
     "output_type": "stream",
     "text": [
      "┌ Info: Epoch 673\n",
      "└ @ Main C:\\Users\\PC\\.julia\\packages\\Flux\\qp1gc\\src\\optimise\\train.jl:135\n"
     ]
    },
    {
     "name": "stdout",
     "output_type": "stream",
     "text": [
      "training\n"
     ]
    },
    {
     "name": "stderr",
     "output_type": "stream",
     "text": [
      "┌ Info: Epoch 674\n",
      "└ @ Main C:\\Users\\PC\\.julia\\packages\\Flux\\qp1gc\\src\\optimise\\train.jl:135\n"
     ]
    },
    {
     "name": "stdout",
     "output_type": "stream",
     "text": [
      "training\n"
     ]
    },
    {
     "name": "stderr",
     "output_type": "stream",
     "text": [
      "┌ Info: Epoch 675\n",
      "└ @ Main C:\\Users\\PC\\.julia\\packages\\Flux\\qp1gc\\src\\optimise\\train.jl:135\n"
     ]
    },
    {
     "name": "stdout",
     "output_type": "stream",
     "text": [
      "training\n"
     ]
    },
    {
     "name": "stderr",
     "output_type": "stream",
     "text": [
      "┌ Info: Epoch 676\n",
      "└ @ Main C:\\Users\\PC\\.julia\\packages\\Flux\\qp1gc\\src\\optimise\\train.jl:135\n"
     ]
    },
    {
     "name": "stdout",
     "output_type": "stream",
     "text": [
      "training\n"
     ]
    },
    {
     "name": "stderr",
     "output_type": "stream",
     "text": [
      "┌ Info: Epoch 677\n",
      "└ @ Main C:\\Users\\PC\\.julia\\packages\\Flux\\qp1gc\\src\\optimise\\train.jl:135\n"
     ]
    },
    {
     "name": "stdout",
     "output_type": "stream",
     "text": [
      "training\n"
     ]
    },
    {
     "name": "stderr",
     "output_type": "stream",
     "text": [
      "┌ Info: Epoch 678\n",
      "└ @ Main C:\\Users\\PC\\.julia\\packages\\Flux\\qp1gc\\src\\optimise\\train.jl:135\n"
     ]
    },
    {
     "name": "stdout",
     "output_type": "stream",
     "text": [
      "training\n"
     ]
    },
    {
     "name": "stderr",
     "output_type": "stream",
     "text": [
      "┌ Info: Epoch 679\n",
      "└ @ Main C:\\Users\\PC\\.julia\\packages\\Flux\\qp1gc\\src\\optimise\\train.jl:135\n"
     ]
    },
    {
     "name": "stdout",
     "output_type": "stream",
     "text": [
      "training\n"
     ]
    },
    {
     "name": "stderr",
     "output_type": "stream",
     "text": [
      "┌ Info: Epoch 680\n",
      "└ @ Main C:\\Users\\PC\\.julia\\packages\\Flux\\qp1gc\\src\\optimise\\train.jl:135\n"
     ]
    },
    {
     "name": "stdout",
     "output_type": "stream",
     "text": [
      "training\n"
     ]
    },
    {
     "name": "stderr",
     "output_type": "stream",
     "text": [
      "┌ Info: Epoch 681\n",
      "└ @ Main C:\\Users\\PC\\.julia\\packages\\Flux\\qp1gc\\src\\optimise\\train.jl:135\n"
     ]
    },
    {
     "name": "stdout",
     "output_type": "stream",
     "text": [
      "training\n"
     ]
    },
    {
     "name": "stderr",
     "output_type": "stream",
     "text": [
      "┌ Info: Epoch 682\n",
      "└ @ Main C:\\Users\\PC\\.julia\\packages\\Flux\\qp1gc\\src\\optimise\\train.jl:135\n"
     ]
    },
    {
     "name": "stdout",
     "output_type": "stream",
     "text": [
      "training\n"
     ]
    },
    {
     "name": "stderr",
     "output_type": "stream",
     "text": [
      "┌ Info: Epoch 683\n",
      "└ @ Main C:\\Users\\PC\\.julia\\packages\\Flux\\qp1gc\\src\\optimise\\train.jl:135\n"
     ]
    },
    {
     "name": "stdout",
     "output_type": "stream",
     "text": [
      "training\n"
     ]
    },
    {
     "name": "stderr",
     "output_type": "stream",
     "text": [
      "┌ Info: Epoch 684\n",
      "└ @ Main C:\\Users\\PC\\.julia\\packages\\Flux\\qp1gc\\src\\optimise\\train.jl:135\n"
     ]
    },
    {
     "name": "stdout",
     "output_type": "stream",
     "text": [
      "training\n"
     ]
    },
    {
     "name": "stderr",
     "output_type": "stream",
     "text": [
      "┌ Info: Epoch 685\n",
      "└ @ Main C:\\Users\\PC\\.julia\\packages\\Flux\\qp1gc\\src\\optimise\\train.jl:135\n"
     ]
    },
    {
     "name": "stdout",
     "output_type": "stream",
     "text": [
      "training\n"
     ]
    },
    {
     "name": "stderr",
     "output_type": "stream",
     "text": [
      "┌ Info: Epoch 686\n",
      "└ @ Main C:\\Users\\PC\\.julia\\packages\\Flux\\qp1gc\\src\\optimise\\train.jl:135\n"
     ]
    },
    {
     "name": "stdout",
     "output_type": "stream",
     "text": [
      "training\n"
     ]
    },
    {
     "name": "stderr",
     "output_type": "stream",
     "text": [
      "┌ Info: Epoch 687\n",
      "└ @ Main C:\\Users\\PC\\.julia\\packages\\Flux\\qp1gc\\src\\optimise\\train.jl:135\n"
     ]
    },
    {
     "name": "stdout",
     "output_type": "stream",
     "text": [
      "training\n"
     ]
    },
    {
     "name": "stderr",
     "output_type": "stream",
     "text": [
      "┌ Info: Epoch 688\n",
      "└ @ Main C:\\Users\\PC\\.julia\\packages\\Flux\\qp1gc\\src\\optimise\\train.jl:135\n"
     ]
    },
    {
     "name": "stdout",
     "output_type": "stream",
     "text": [
      "training\n"
     ]
    },
    {
     "name": "stderr",
     "output_type": "stream",
     "text": [
      "┌ Info: Epoch 689\n",
      "└ @ Main C:\\Users\\PC\\.julia\\packages\\Flux\\qp1gc\\src\\optimise\\train.jl:135\n"
     ]
    },
    {
     "name": "stdout",
     "output_type": "stream",
     "text": [
      "training\n"
     ]
    },
    {
     "name": "stderr",
     "output_type": "stream",
     "text": [
      "┌ Info: Epoch 690\n",
      "└ @ Main C:\\Users\\PC\\.julia\\packages\\Flux\\qp1gc\\src\\optimise\\train.jl:135\n"
     ]
    },
    {
     "name": "stdout",
     "output_type": "stream",
     "text": [
      "training\n"
     ]
    },
    {
     "name": "stderr",
     "output_type": "stream",
     "text": [
      "┌ Info: Epoch 691\n",
      "└ @ Main C:\\Users\\PC\\.julia\\packages\\Flux\\qp1gc\\src\\optimise\\train.jl:135\n"
     ]
    },
    {
     "name": "stdout",
     "output_type": "stream",
     "text": [
      "training\n"
     ]
    },
    {
     "name": "stderr",
     "output_type": "stream",
     "text": [
      "┌ Info: Epoch 692\n",
      "└ @ Main C:\\Users\\PC\\.julia\\packages\\Flux\\qp1gc\\src\\optimise\\train.jl:135\n"
     ]
    },
    {
     "name": "stdout",
     "output_type": "stream",
     "text": [
      "training\n"
     ]
    },
    {
     "name": "stderr",
     "output_type": "stream",
     "text": [
      "┌ Info: Epoch 693\n",
      "└ @ Main C:\\Users\\PC\\.julia\\packages\\Flux\\qp1gc\\src\\optimise\\train.jl:135\n"
     ]
    },
    {
     "name": "stdout",
     "output_type": "stream",
     "text": [
      "training\n"
     ]
    },
    {
     "name": "stderr",
     "output_type": "stream",
     "text": [
      "┌ Info: Epoch 694\n",
      "└ @ Main C:\\Users\\PC\\.julia\\packages\\Flux\\qp1gc\\src\\optimise\\train.jl:135\n"
     ]
    },
    {
     "name": "stdout",
     "output_type": "stream",
     "text": [
      "training\n"
     ]
    },
    {
     "name": "stderr",
     "output_type": "stream",
     "text": [
      "┌ Info: Epoch 695\n",
      "└ @ Main C:\\Users\\PC\\.julia\\packages\\Flux\\qp1gc\\src\\optimise\\train.jl:135\n"
     ]
    },
    {
     "name": "stdout",
     "output_type": "stream",
     "text": [
      "training\n"
     ]
    },
    {
     "name": "stderr",
     "output_type": "stream",
     "text": [
      "┌ Info: Epoch 696\n",
      "└ @ Main C:\\Users\\PC\\.julia\\packages\\Flux\\qp1gc\\src\\optimise\\train.jl:135\n"
     ]
    },
    {
     "name": "stdout",
     "output_type": "stream",
     "text": [
      "training\n"
     ]
    },
    {
     "name": "stderr",
     "output_type": "stream",
     "text": [
      "┌ Info: Epoch 697\n",
      "└ @ Main C:\\Users\\PC\\.julia\\packages\\Flux\\qp1gc\\src\\optimise\\train.jl:135\n"
     ]
    },
    {
     "name": "stdout",
     "output_type": "stream",
     "text": [
      "training\n"
     ]
    },
    {
     "name": "stderr",
     "output_type": "stream",
     "text": [
      "┌ Info: Epoch 698\n",
      "└ @ Main C:\\Users\\PC\\.julia\\packages\\Flux\\qp1gc\\src\\optimise\\train.jl:135\n"
     ]
    },
    {
     "name": "stdout",
     "output_type": "stream",
     "text": [
      "training\n"
     ]
    },
    {
     "name": "stderr",
     "output_type": "stream",
     "text": [
      "┌ Info: Epoch 699\n",
      "└ @ Main C:\\Users\\PC\\.julia\\packages\\Flux\\qp1gc\\src\\optimise\\train.jl:135\n"
     ]
    },
    {
     "name": "stdout",
     "output_type": "stream",
     "text": [
      "training\n"
     ]
    },
    {
     "name": "stderr",
     "output_type": "stream",
     "text": [
      "┌ Info: Epoch 700\n",
      "└ @ Main C:\\Users\\PC\\.julia\\packages\\Flux\\qp1gc\\src\\optimise\\train.jl:135\n"
     ]
    },
    {
     "name": "stdout",
     "output_type": "stream",
     "text": [
      "training\n"
     ]
    },
    {
     "name": "stderr",
     "output_type": "stream",
     "text": [
      "┌ Info: Epoch 701\n",
      "└ @ Main C:\\Users\\PC\\.julia\\packages\\Flux\\qp1gc\\src\\optimise\\train.jl:135\n"
     ]
    },
    {
     "name": "stdout",
     "output_type": "stream",
     "text": [
      "training\n"
     ]
    },
    {
     "name": "stderr",
     "output_type": "stream",
     "text": [
      "┌ Info: Epoch 702\n",
      "└ @ Main C:\\Users\\PC\\.julia\\packages\\Flux\\qp1gc\\src\\optimise\\train.jl:135\n"
     ]
    },
    {
     "name": "stdout",
     "output_type": "stream",
     "text": [
      "training\n"
     ]
    },
    {
     "name": "stderr",
     "output_type": "stream",
     "text": [
      "┌ Info: Epoch 703\n",
      "└ @ Main C:\\Users\\PC\\.julia\\packages\\Flux\\qp1gc\\src\\optimise\\train.jl:135\n"
     ]
    },
    {
     "name": "stdout",
     "output_type": "stream",
     "text": [
      "training\n"
     ]
    },
    {
     "name": "stderr",
     "output_type": "stream",
     "text": [
      "┌ Info: Epoch 704\n",
      "└ @ Main C:\\Users\\PC\\.julia\\packages\\Flux\\qp1gc\\src\\optimise\\train.jl:135\n"
     ]
    },
    {
     "name": "stdout",
     "output_type": "stream",
     "text": [
      "training\n"
     ]
    },
    {
     "name": "stderr",
     "output_type": "stream",
     "text": [
      "┌ Info: Epoch 705\n",
      "└ @ Main C:\\Users\\PC\\.julia\\packages\\Flux\\qp1gc\\src\\optimise\\train.jl:135\n"
     ]
    },
    {
     "name": "stdout",
     "output_type": "stream",
     "text": [
      "training\n"
     ]
    },
    {
     "name": "stderr",
     "output_type": "stream",
     "text": [
      "┌ Info: Epoch 706\n",
      "└ @ Main C:\\Users\\PC\\.julia\\packages\\Flux\\qp1gc\\src\\optimise\\train.jl:135\n"
     ]
    },
    {
     "name": "stdout",
     "output_type": "stream",
     "text": [
      "training\n"
     ]
    },
    {
     "name": "stderr",
     "output_type": "stream",
     "text": [
      "┌ Info: Epoch 707\n",
      "└ @ Main C:\\Users\\PC\\.julia\\packages\\Flux\\qp1gc\\src\\optimise\\train.jl:135\n"
     ]
    },
    {
     "name": "stdout",
     "output_type": "stream",
     "text": [
      "training\n"
     ]
    },
    {
     "name": "stderr",
     "output_type": "stream",
     "text": [
      "┌ Info: Epoch 708\n",
      "└ @ Main C:\\Users\\PC\\.julia\\packages\\Flux\\qp1gc\\src\\optimise\\train.jl:135\n"
     ]
    },
    {
     "name": "stdout",
     "output_type": "stream",
     "text": [
      "training\n"
     ]
    },
    {
     "name": "stderr",
     "output_type": "stream",
     "text": [
      "┌ Info: Epoch 709\n",
      "└ @ Main C:\\Users\\PC\\.julia\\packages\\Flux\\qp1gc\\src\\optimise\\train.jl:135\n"
     ]
    },
    {
     "name": "stdout",
     "output_type": "stream",
     "text": [
      "training\n"
     ]
    },
    {
     "name": "stderr",
     "output_type": "stream",
     "text": [
      "┌ Info: Epoch 710\n",
      "└ @ Main C:\\Users\\PC\\.julia\\packages\\Flux\\qp1gc\\src\\optimise\\train.jl:135\n"
     ]
    },
    {
     "name": "stdout",
     "output_type": "stream",
     "text": [
      "training\n"
     ]
    },
    {
     "name": "stderr",
     "output_type": "stream",
     "text": [
      "┌ Info: Epoch 711\n",
      "└ @ Main C:\\Users\\PC\\.julia\\packages\\Flux\\qp1gc\\src\\optimise\\train.jl:135\n"
     ]
    },
    {
     "name": "stdout",
     "output_type": "stream",
     "text": [
      "training\n"
     ]
    },
    {
     "name": "stderr",
     "output_type": "stream",
     "text": [
      "┌ Info: Epoch 712\n",
      "└ @ Main C:\\Users\\PC\\.julia\\packages\\Flux\\qp1gc\\src\\optimise\\train.jl:135\n"
     ]
    },
    {
     "name": "stdout",
     "output_type": "stream",
     "text": [
      "training\n"
     ]
    },
    {
     "name": "stderr",
     "output_type": "stream",
     "text": [
      "┌ Info: Epoch 713\n",
      "└ @ Main C:\\Users\\PC\\.julia\\packages\\Flux\\qp1gc\\src\\optimise\\train.jl:135\n"
     ]
    },
    {
     "name": "stdout",
     "output_type": "stream",
     "text": [
      "training\n"
     ]
    },
    {
     "name": "stderr",
     "output_type": "stream",
     "text": [
      "┌ Info: Epoch 714\n",
      "└ @ Main C:\\Users\\PC\\.julia\\packages\\Flux\\qp1gc\\src\\optimise\\train.jl:135\n"
     ]
    },
    {
     "name": "stdout",
     "output_type": "stream",
     "text": [
      "training\n"
     ]
    },
    {
     "name": "stderr",
     "output_type": "stream",
     "text": [
      "┌ Info: Epoch 715\n",
      "└ @ Main C:\\Users\\PC\\.julia\\packages\\Flux\\qp1gc\\src\\optimise\\train.jl:135\n"
     ]
    },
    {
     "name": "stdout",
     "output_type": "stream",
     "text": [
      "training\n"
     ]
    },
    {
     "name": "stderr",
     "output_type": "stream",
     "text": [
      "┌ Info: Epoch 716\n",
      "└ @ Main C:\\Users\\PC\\.julia\\packages\\Flux\\qp1gc\\src\\optimise\\train.jl:135\n"
     ]
    },
    {
     "name": "stdout",
     "output_type": "stream",
     "text": [
      "training\n"
     ]
    },
    {
     "name": "stderr",
     "output_type": "stream",
     "text": [
      "┌ Info: Epoch 717\n",
      "└ @ Main C:\\Users\\PC\\.julia\\packages\\Flux\\qp1gc\\src\\optimise\\train.jl:135\n"
     ]
    },
    {
     "name": "stdout",
     "output_type": "stream",
     "text": [
      "training\n"
     ]
    },
    {
     "name": "stderr",
     "output_type": "stream",
     "text": [
      "┌ Info: Epoch 718\n",
      "└ @ Main C:\\Users\\PC\\.julia\\packages\\Flux\\qp1gc\\src\\optimise\\train.jl:135\n"
     ]
    },
    {
     "name": "stdout",
     "output_type": "stream",
     "text": [
      "training\n"
     ]
    },
    {
     "name": "stderr",
     "output_type": "stream",
     "text": [
      "┌ Info: Epoch 719\n",
      "└ @ Main C:\\Users\\PC\\.julia\\packages\\Flux\\qp1gc\\src\\optimise\\train.jl:135\n"
     ]
    },
    {
     "name": "stdout",
     "output_type": "stream",
     "text": [
      "training\n"
     ]
    },
    {
     "name": "stderr",
     "output_type": "stream",
     "text": [
      "┌ Info: Epoch 720\n",
      "└ @ Main C:\\Users\\PC\\.julia\\packages\\Flux\\qp1gc\\src\\optimise\\train.jl:135\n"
     ]
    },
    {
     "name": "stdout",
     "output_type": "stream",
     "text": [
      "training\n"
     ]
    },
    {
     "name": "stderr",
     "output_type": "stream",
     "text": [
      "┌ Info: Epoch 721\n",
      "└ @ Main C:\\Users\\PC\\.julia\\packages\\Flux\\qp1gc\\src\\optimise\\train.jl:135\n"
     ]
    },
    {
     "name": "stdout",
     "output_type": "stream",
     "text": [
      "training\n"
     ]
    },
    {
     "name": "stderr",
     "output_type": "stream",
     "text": [
      "┌ Info: Epoch 722\n",
      "└ @ Main C:\\Users\\PC\\.julia\\packages\\Flux\\qp1gc\\src\\optimise\\train.jl:135\n"
     ]
    },
    {
     "name": "stdout",
     "output_type": "stream",
     "text": [
      "training\n"
     ]
    },
    {
     "name": "stderr",
     "output_type": "stream",
     "text": [
      "┌ Info: Epoch 723\n",
      "└ @ Main C:\\Users\\PC\\.julia\\packages\\Flux\\qp1gc\\src\\optimise\\train.jl:135\n"
     ]
    },
    {
     "name": "stdout",
     "output_type": "stream",
     "text": [
      "training\n"
     ]
    },
    {
     "name": "stderr",
     "output_type": "stream",
     "text": [
      "┌ Info: Epoch 724\n",
      "└ @ Main C:\\Users\\PC\\.julia\\packages\\Flux\\qp1gc\\src\\optimise\\train.jl:135\n"
     ]
    },
    {
     "name": "stdout",
     "output_type": "stream",
     "text": [
      "training\n"
     ]
    },
    {
     "name": "stderr",
     "output_type": "stream",
     "text": [
      "┌ Info: Epoch 725\n",
      "└ @ Main C:\\Users\\PC\\.julia\\packages\\Flux\\qp1gc\\src\\optimise\\train.jl:135\n"
     ]
    },
    {
     "name": "stdout",
     "output_type": "stream",
     "text": [
      "training\n"
     ]
    },
    {
     "name": "stderr",
     "output_type": "stream",
     "text": [
      "┌ Info: Epoch 726\n",
      "└ @ Main C:\\Users\\PC\\.julia\\packages\\Flux\\qp1gc\\src\\optimise\\train.jl:135\n"
     ]
    },
    {
     "name": "stdout",
     "output_type": "stream",
     "text": [
      "training\n"
     ]
    },
    {
     "name": "stderr",
     "output_type": "stream",
     "text": [
      "┌ Info: Epoch 727\n",
      "└ @ Main C:\\Users\\PC\\.julia\\packages\\Flux\\qp1gc\\src\\optimise\\train.jl:135\n"
     ]
    },
    {
     "name": "stdout",
     "output_type": "stream",
     "text": [
      "training\n"
     ]
    },
    {
     "name": "stderr",
     "output_type": "stream",
     "text": [
      "┌ Info: Epoch 728\n",
      "└ @ Main C:\\Users\\PC\\.julia\\packages\\Flux\\qp1gc\\src\\optimise\\train.jl:135\n"
     ]
    },
    {
     "name": "stdout",
     "output_type": "stream",
     "text": [
      "training\n"
     ]
    },
    {
     "name": "stderr",
     "output_type": "stream",
     "text": [
      "┌ Info: Epoch 729\n",
      "└ @ Main C:\\Users\\PC\\.julia\\packages\\Flux\\qp1gc\\src\\optimise\\train.jl:135\n"
     ]
    },
    {
     "name": "stdout",
     "output_type": "stream",
     "text": [
      "training\n"
     ]
    },
    {
     "name": "stderr",
     "output_type": "stream",
     "text": [
      "┌ Info: Epoch 730\n",
      "└ @ Main C:\\Users\\PC\\.julia\\packages\\Flux\\qp1gc\\src\\optimise\\train.jl:135\n"
     ]
    },
    {
     "name": "stdout",
     "output_type": "stream",
     "text": [
      "training\n"
     ]
    },
    {
     "name": "stderr",
     "output_type": "stream",
     "text": [
      "┌ Info: Epoch 731\n",
      "└ @ Main C:\\Users\\PC\\.julia\\packages\\Flux\\qp1gc\\src\\optimise\\train.jl:135\n"
     ]
    },
    {
     "name": "stdout",
     "output_type": "stream",
     "text": [
      "training\n"
     ]
    },
    {
     "name": "stderr",
     "output_type": "stream",
     "text": [
      "┌ Info: Epoch 732\n",
      "└ @ Main C:\\Users\\PC\\.julia\\packages\\Flux\\qp1gc\\src\\optimise\\train.jl:135\n"
     ]
    },
    {
     "name": "stdout",
     "output_type": "stream",
     "text": [
      "training\n"
     ]
    },
    {
     "name": "stderr",
     "output_type": "stream",
     "text": [
      "┌ Info: Epoch 733\n",
      "└ @ Main C:\\Users\\PC\\.julia\\packages\\Flux\\qp1gc\\src\\optimise\\train.jl:135\n"
     ]
    },
    {
     "name": "stdout",
     "output_type": "stream",
     "text": [
      "training\n"
     ]
    },
    {
     "name": "stderr",
     "output_type": "stream",
     "text": [
      "┌ Info: Epoch 734\n",
      "└ @ Main C:\\Users\\PC\\.julia\\packages\\Flux\\qp1gc\\src\\optimise\\train.jl:135\n"
     ]
    },
    {
     "name": "stdout",
     "output_type": "stream",
     "text": [
      "training\n"
     ]
    },
    {
     "name": "stderr",
     "output_type": "stream",
     "text": [
      "┌ Info: Epoch 735\n",
      "└ @ Main C:\\Users\\PC\\.julia\\packages\\Flux\\qp1gc\\src\\optimise\\train.jl:135\n"
     ]
    },
    {
     "name": "stdout",
     "output_type": "stream",
     "text": [
      "training\n"
     ]
    },
    {
     "name": "stderr",
     "output_type": "stream",
     "text": [
      "┌ Info: Epoch 736\n",
      "└ @ Main C:\\Users\\PC\\.julia\\packages\\Flux\\qp1gc\\src\\optimise\\train.jl:135\n"
     ]
    },
    {
     "name": "stdout",
     "output_type": "stream",
     "text": [
      "training\n"
     ]
    },
    {
     "name": "stderr",
     "output_type": "stream",
     "text": [
      "┌ Info: Epoch 737\n",
      "└ @ Main C:\\Users\\PC\\.julia\\packages\\Flux\\qp1gc\\src\\optimise\\train.jl:135\n"
     ]
    },
    {
     "name": "stdout",
     "output_type": "stream",
     "text": [
      "training\n"
     ]
    },
    {
     "name": "stderr",
     "output_type": "stream",
     "text": [
      "┌ Info: Epoch 738\n",
      "└ @ Main C:\\Users\\PC\\.julia\\packages\\Flux\\qp1gc\\src\\optimise\\train.jl:135\n"
     ]
    },
    {
     "name": "stdout",
     "output_type": "stream",
     "text": [
      "training\n"
     ]
    },
    {
     "name": "stderr",
     "output_type": "stream",
     "text": [
      "┌ Info: Epoch 739\n",
      "└ @ Main C:\\Users\\PC\\.julia\\packages\\Flux\\qp1gc\\src\\optimise\\train.jl:135\n"
     ]
    },
    {
     "name": "stdout",
     "output_type": "stream",
     "text": [
      "training\n"
     ]
    },
    {
     "name": "stderr",
     "output_type": "stream",
     "text": [
      "┌ Info: Epoch 740\n",
      "└ @ Main C:\\Users\\PC\\.julia\\packages\\Flux\\qp1gc\\src\\optimise\\train.jl:135\n"
     ]
    },
    {
     "name": "stdout",
     "output_type": "stream",
     "text": [
      "training\n"
     ]
    },
    {
     "name": "stderr",
     "output_type": "stream",
     "text": [
      "┌ Info: Epoch 741\n",
      "└ @ Main C:\\Users\\PC\\.julia\\packages\\Flux\\qp1gc\\src\\optimise\\train.jl:135\n"
     ]
    },
    {
     "name": "stdout",
     "output_type": "stream",
     "text": [
      "training\n"
     ]
    },
    {
     "name": "stderr",
     "output_type": "stream",
     "text": [
      "┌ Info: Epoch 742\n",
      "└ @ Main C:\\Users\\PC\\.julia\\packages\\Flux\\qp1gc\\src\\optimise\\train.jl:135\n"
     ]
    },
    {
     "name": "stdout",
     "output_type": "stream",
     "text": [
      "training\n"
     ]
    },
    {
     "name": "stderr",
     "output_type": "stream",
     "text": [
      "┌ Info: Epoch 743\n",
      "└ @ Main C:\\Users\\PC\\.julia\\packages\\Flux\\qp1gc\\src\\optimise\\train.jl:135\n"
     ]
    },
    {
     "name": "stdout",
     "output_type": "stream",
     "text": [
      "training\n"
     ]
    },
    {
     "name": "stderr",
     "output_type": "stream",
     "text": [
      "┌ Info: Epoch 744\n",
      "└ @ Main C:\\Users\\PC\\.julia\\packages\\Flux\\qp1gc\\src\\optimise\\train.jl:135\n"
     ]
    },
    {
     "name": "stdout",
     "output_type": "stream",
     "text": [
      "training\n"
     ]
    },
    {
     "name": "stderr",
     "output_type": "stream",
     "text": [
      "┌ Info: Epoch 745\n",
      "└ @ Main C:\\Users\\PC\\.julia\\packages\\Flux\\qp1gc\\src\\optimise\\train.jl:135\n"
     ]
    },
    {
     "name": "stdout",
     "output_type": "stream",
     "text": [
      "training\n"
     ]
    },
    {
     "name": "stderr",
     "output_type": "stream",
     "text": [
      "┌ Info: Epoch 746\n",
      "└ @ Main C:\\Users\\PC\\.julia\\packages\\Flux\\qp1gc\\src\\optimise\\train.jl:135\n"
     ]
    },
    {
     "name": "stdout",
     "output_type": "stream",
     "text": [
      "training\n"
     ]
    },
    {
     "name": "stderr",
     "output_type": "stream",
     "text": [
      "┌ Info: Epoch 747\n",
      "└ @ Main C:\\Users\\PC\\.julia\\packages\\Flux\\qp1gc\\src\\optimise\\train.jl:135\n"
     ]
    },
    {
     "name": "stdout",
     "output_type": "stream",
     "text": [
      "training\n"
     ]
    },
    {
     "name": "stderr",
     "output_type": "stream",
     "text": [
      "┌ Info: Epoch 748\n",
      "└ @ Main C:\\Users\\PC\\.julia\\packages\\Flux\\qp1gc\\src\\optimise\\train.jl:135\n"
     ]
    },
    {
     "name": "stdout",
     "output_type": "stream",
     "text": [
      "training\n"
     ]
    },
    {
     "name": "stderr",
     "output_type": "stream",
     "text": [
      "┌ Info: Epoch 749\n",
      "└ @ Main C:\\Users\\PC\\.julia\\packages\\Flux\\qp1gc\\src\\optimise\\train.jl:135\n"
     ]
    },
    {
     "name": "stdout",
     "output_type": "stream",
     "text": [
      "training\n"
     ]
    },
    {
     "name": "stderr",
     "output_type": "stream",
     "text": [
      "┌ Info: Epoch 750\n",
      "└ @ Main C:\\Users\\PC\\.julia\\packages\\Flux\\qp1gc\\src\\optimise\\train.jl:135\n"
     ]
    },
    {
     "name": "stdout",
     "output_type": "stream",
     "text": [
      "training\n"
     ]
    },
    {
     "name": "stderr",
     "output_type": "stream",
     "text": [
      "┌ Info: Epoch 751\n",
      "└ @ Main C:\\Users\\PC\\.julia\\packages\\Flux\\qp1gc\\src\\optimise\\train.jl:135\n"
     ]
    },
    {
     "name": "stdout",
     "output_type": "stream",
     "text": [
      "training\n"
     ]
    },
    {
     "name": "stderr",
     "output_type": "stream",
     "text": [
      "┌ Info: Epoch 752\n",
      "└ @ Main C:\\Users\\PC\\.julia\\packages\\Flux\\qp1gc\\src\\optimise\\train.jl:135\n"
     ]
    },
    {
     "name": "stdout",
     "output_type": "stream",
     "text": [
      "training\n"
     ]
    },
    {
     "name": "stderr",
     "output_type": "stream",
     "text": [
      "┌ Info: Epoch 753\n",
      "└ @ Main C:\\Users\\PC\\.julia\\packages\\Flux\\qp1gc\\src\\optimise\\train.jl:135\n"
     ]
    },
    {
     "name": "stdout",
     "output_type": "stream",
     "text": [
      "training\n"
     ]
    },
    {
     "name": "stderr",
     "output_type": "stream",
     "text": [
      "┌ Info: Epoch 754\n",
      "└ @ Main C:\\Users\\PC\\.julia\\packages\\Flux\\qp1gc\\src\\optimise\\train.jl:135\n"
     ]
    },
    {
     "name": "stdout",
     "output_type": "stream",
     "text": [
      "training\n"
     ]
    },
    {
     "name": "stderr",
     "output_type": "stream",
     "text": [
      "┌ Info: Epoch 755\n",
      "└ @ Main C:\\Users\\PC\\.julia\\packages\\Flux\\qp1gc\\src\\optimise\\train.jl:135\n"
     ]
    },
    {
     "name": "stdout",
     "output_type": "stream",
     "text": [
      "training\n"
     ]
    },
    {
     "name": "stderr",
     "output_type": "stream",
     "text": [
      "┌ Info: Epoch 756\n",
      "└ @ Main C:\\Users\\PC\\.julia\\packages\\Flux\\qp1gc\\src\\optimise\\train.jl:135\n"
     ]
    },
    {
     "name": "stdout",
     "output_type": "stream",
     "text": [
      "training\n"
     ]
    },
    {
     "name": "stderr",
     "output_type": "stream",
     "text": [
      "┌ Info: Epoch 757\n",
      "└ @ Main C:\\Users\\PC\\.julia\\packages\\Flux\\qp1gc\\src\\optimise\\train.jl:135\n"
     ]
    },
    {
     "name": "stdout",
     "output_type": "stream",
     "text": [
      "training\n"
     ]
    },
    {
     "name": "stderr",
     "output_type": "stream",
     "text": [
      "┌ Info: Epoch 758\n",
      "└ @ Main C:\\Users\\PC\\.julia\\packages\\Flux\\qp1gc\\src\\optimise\\train.jl:135\n"
     ]
    },
    {
     "name": "stdout",
     "output_type": "stream",
     "text": [
      "training\n"
     ]
    },
    {
     "name": "stderr",
     "output_type": "stream",
     "text": [
      "┌ Info: Epoch 759\n",
      "└ @ Main C:\\Users\\PC\\.julia\\packages\\Flux\\qp1gc\\src\\optimise\\train.jl:135\n"
     ]
    },
    {
     "name": "stdout",
     "output_type": "stream",
     "text": [
      "training\n"
     ]
    },
    {
     "name": "stderr",
     "output_type": "stream",
     "text": [
      "┌ Info: Epoch 760\n",
      "└ @ Main C:\\Users\\PC\\.julia\\packages\\Flux\\qp1gc\\src\\optimise\\train.jl:135\n"
     ]
    },
    {
     "name": "stdout",
     "output_type": "stream",
     "text": [
      "training\n"
     ]
    },
    {
     "name": "stderr",
     "output_type": "stream",
     "text": [
      "┌ Info: Epoch 761\n",
      "└ @ Main C:\\Users\\PC\\.julia\\packages\\Flux\\qp1gc\\src\\optimise\\train.jl:135\n"
     ]
    },
    {
     "name": "stdout",
     "output_type": "stream",
     "text": [
      "training\n"
     ]
    },
    {
     "name": "stderr",
     "output_type": "stream",
     "text": [
      "┌ Info: Epoch 762\n",
      "└ @ Main C:\\Users\\PC\\.julia\\packages\\Flux\\qp1gc\\src\\optimise\\train.jl:135\n"
     ]
    },
    {
     "name": "stdout",
     "output_type": "stream",
     "text": [
      "training\n"
     ]
    },
    {
     "name": "stderr",
     "output_type": "stream",
     "text": [
      "┌ Info: Epoch 763\n",
      "└ @ Main C:\\Users\\PC\\.julia\\packages\\Flux\\qp1gc\\src\\optimise\\train.jl:135\n"
     ]
    },
    {
     "name": "stdout",
     "output_type": "stream",
     "text": [
      "training\n"
     ]
    },
    {
     "name": "stderr",
     "output_type": "stream",
     "text": [
      "┌ Info: Epoch 764\n",
      "└ @ Main C:\\Users\\PC\\.julia\\packages\\Flux\\qp1gc\\src\\optimise\\train.jl:135\n"
     ]
    },
    {
     "name": "stdout",
     "output_type": "stream",
     "text": [
      "training\n"
     ]
    },
    {
     "name": "stderr",
     "output_type": "stream",
     "text": [
      "┌ Info: Epoch 765\n",
      "└ @ Main C:\\Users\\PC\\.julia\\packages\\Flux\\qp1gc\\src\\optimise\\train.jl:135\n"
     ]
    },
    {
     "name": "stdout",
     "output_type": "stream",
     "text": [
      "training\n"
     ]
    },
    {
     "name": "stderr",
     "output_type": "stream",
     "text": [
      "┌ Info: Epoch 766\n",
      "└ @ Main C:\\Users\\PC\\.julia\\packages\\Flux\\qp1gc\\src\\optimise\\train.jl:135\n"
     ]
    },
    {
     "name": "stdout",
     "output_type": "stream",
     "text": [
      "training\n"
     ]
    },
    {
     "name": "stderr",
     "output_type": "stream",
     "text": [
      "┌ Info: Epoch 767\n",
      "└ @ Main C:\\Users\\PC\\.julia\\packages\\Flux\\qp1gc\\src\\optimise\\train.jl:135\n"
     ]
    },
    {
     "name": "stdout",
     "output_type": "stream",
     "text": [
      "training\n"
     ]
    },
    {
     "name": "stderr",
     "output_type": "stream",
     "text": [
      "┌ Info: Epoch 768\n",
      "└ @ Main C:\\Users\\PC\\.julia\\packages\\Flux\\qp1gc\\src\\optimise\\train.jl:135\n"
     ]
    },
    {
     "name": "stdout",
     "output_type": "stream",
     "text": [
      "training\n"
     ]
    },
    {
     "name": "stderr",
     "output_type": "stream",
     "text": [
      "┌ Info: Epoch 769\n",
      "└ @ Main C:\\Users\\PC\\.julia\\packages\\Flux\\qp1gc\\src\\optimise\\train.jl:135\n"
     ]
    },
    {
     "name": "stdout",
     "output_type": "stream",
     "text": [
      "training\n"
     ]
    },
    {
     "name": "stderr",
     "output_type": "stream",
     "text": [
      "┌ Info: Epoch 770\n",
      "└ @ Main C:\\Users\\PC\\.julia\\packages\\Flux\\qp1gc\\src\\optimise\\train.jl:135\n"
     ]
    },
    {
     "name": "stdout",
     "output_type": "stream",
     "text": [
      "training\n"
     ]
    },
    {
     "name": "stderr",
     "output_type": "stream",
     "text": [
      "┌ Info: Epoch 771\n",
      "└ @ Main C:\\Users\\PC\\.julia\\packages\\Flux\\qp1gc\\src\\optimise\\train.jl:135\n"
     ]
    },
    {
     "name": "stdout",
     "output_type": "stream",
     "text": [
      "training\n"
     ]
    },
    {
     "name": "stderr",
     "output_type": "stream",
     "text": [
      "┌ Info: Epoch 772\n",
      "└ @ Main C:\\Users\\PC\\.julia\\packages\\Flux\\qp1gc\\src\\optimise\\train.jl:135\n"
     ]
    },
    {
     "name": "stdout",
     "output_type": "stream",
     "text": [
      "training\n"
     ]
    },
    {
     "name": "stderr",
     "output_type": "stream",
     "text": [
      "┌ Info: Epoch 773\n",
      "└ @ Main C:\\Users\\PC\\.julia\\packages\\Flux\\qp1gc\\src\\optimise\\train.jl:135\n"
     ]
    },
    {
     "name": "stdout",
     "output_type": "stream",
     "text": [
      "training\n"
     ]
    },
    {
     "name": "stderr",
     "output_type": "stream",
     "text": [
      "┌ Info: Epoch 774\n",
      "└ @ Main C:\\Users\\PC\\.julia\\packages\\Flux\\qp1gc\\src\\optimise\\train.jl:135\n"
     ]
    },
    {
     "name": "stdout",
     "output_type": "stream",
     "text": [
      "training\n"
     ]
    },
    {
     "name": "stderr",
     "output_type": "stream",
     "text": [
      "┌ Info: Epoch 775\n",
      "└ @ Main C:\\Users\\PC\\.julia\\packages\\Flux\\qp1gc\\src\\optimise\\train.jl:135\n"
     ]
    },
    {
     "name": "stdout",
     "output_type": "stream",
     "text": [
      "training\n"
     ]
    },
    {
     "name": "stderr",
     "output_type": "stream",
     "text": [
      "┌ Info: Epoch 776\n",
      "└ @ Main C:\\Users\\PC\\.julia\\packages\\Flux\\qp1gc\\src\\optimise\\train.jl:135\n"
     ]
    },
    {
     "name": "stdout",
     "output_type": "stream",
     "text": [
      "training\n"
     ]
    },
    {
     "name": "stderr",
     "output_type": "stream",
     "text": [
      "┌ Info: Epoch 777\n",
      "└ @ Main C:\\Users\\PC\\.julia\\packages\\Flux\\qp1gc\\src\\optimise\\train.jl:135\n"
     ]
    },
    {
     "name": "stdout",
     "output_type": "stream",
     "text": [
      "training\n"
     ]
    },
    {
     "name": "stderr",
     "output_type": "stream",
     "text": [
      "┌ Info: Epoch 778\n",
      "└ @ Main C:\\Users\\PC\\.julia\\packages\\Flux\\qp1gc\\src\\optimise\\train.jl:135\n"
     ]
    },
    {
     "name": "stdout",
     "output_type": "stream",
     "text": [
      "training\n"
     ]
    },
    {
     "name": "stderr",
     "output_type": "stream",
     "text": [
      "┌ Info: Epoch 779\n",
      "└ @ Main C:\\Users\\PC\\.julia\\packages\\Flux\\qp1gc\\src\\optimise\\train.jl:135\n"
     ]
    },
    {
     "name": "stdout",
     "output_type": "stream",
     "text": [
      "training\n"
     ]
    },
    {
     "name": "stderr",
     "output_type": "stream",
     "text": [
      "┌ Info: Epoch 780\n",
      "└ @ Main C:\\Users\\PC\\.julia\\packages\\Flux\\qp1gc\\src\\optimise\\train.jl:135\n"
     ]
    },
    {
     "name": "stdout",
     "output_type": "stream",
     "text": [
      "training\n"
     ]
    },
    {
     "name": "stderr",
     "output_type": "stream",
     "text": [
      "┌ Info: Epoch 781\n",
      "└ @ Main C:\\Users\\PC\\.julia\\packages\\Flux\\qp1gc\\src\\optimise\\train.jl:135\n"
     ]
    },
    {
     "name": "stdout",
     "output_type": "stream",
     "text": [
      "training\n"
     ]
    },
    {
     "name": "stderr",
     "output_type": "stream",
     "text": [
      "┌ Info: Epoch 782\n",
      "└ @ Main C:\\Users\\PC\\.julia\\packages\\Flux\\qp1gc\\src\\optimise\\train.jl:135\n"
     ]
    },
    {
     "name": "stdout",
     "output_type": "stream",
     "text": [
      "training\n"
     ]
    },
    {
     "name": "stderr",
     "output_type": "stream",
     "text": [
      "┌ Info: Epoch 783\n",
      "└ @ Main C:\\Users\\PC\\.julia\\packages\\Flux\\qp1gc\\src\\optimise\\train.jl:135\n"
     ]
    },
    {
     "name": "stdout",
     "output_type": "stream",
     "text": [
      "training\n"
     ]
    },
    {
     "name": "stderr",
     "output_type": "stream",
     "text": [
      "┌ Info: Epoch 784\n",
      "└ @ Main C:\\Users\\PC\\.julia\\packages\\Flux\\qp1gc\\src\\optimise\\train.jl:135\n"
     ]
    },
    {
     "name": "stdout",
     "output_type": "stream",
     "text": [
      "training\n"
     ]
    },
    {
     "name": "stderr",
     "output_type": "stream",
     "text": [
      "┌ Info: Epoch 785\n",
      "└ @ Main C:\\Users\\PC\\.julia\\packages\\Flux\\qp1gc\\src\\optimise\\train.jl:135\n"
     ]
    },
    {
     "name": "stdout",
     "output_type": "stream",
     "text": [
      "training\n"
     ]
    },
    {
     "name": "stderr",
     "output_type": "stream",
     "text": [
      "┌ Info: Epoch 786\n",
      "└ @ Main C:\\Users\\PC\\.julia\\packages\\Flux\\qp1gc\\src\\optimise\\train.jl:135\n"
     ]
    },
    {
     "name": "stdout",
     "output_type": "stream",
     "text": [
      "training\n"
     ]
    },
    {
     "name": "stderr",
     "output_type": "stream",
     "text": [
      "┌ Info: Epoch 787\n",
      "└ @ Main C:\\Users\\PC\\.julia\\packages\\Flux\\qp1gc\\src\\optimise\\train.jl:135\n"
     ]
    },
    {
     "name": "stdout",
     "output_type": "stream",
     "text": [
      "training\n"
     ]
    },
    {
     "name": "stderr",
     "output_type": "stream",
     "text": [
      "┌ Info: Epoch 788\n",
      "└ @ Main C:\\Users\\PC\\.julia\\packages\\Flux\\qp1gc\\src\\optimise\\train.jl:135\n"
     ]
    },
    {
     "name": "stdout",
     "output_type": "stream",
     "text": [
      "training\n"
     ]
    },
    {
     "name": "stderr",
     "output_type": "stream",
     "text": [
      "┌ Info: Epoch 789\n",
      "└ @ Main C:\\Users\\PC\\.julia\\packages\\Flux\\qp1gc\\src\\optimise\\train.jl:135\n"
     ]
    },
    {
     "name": "stdout",
     "output_type": "stream",
     "text": [
      "training\n"
     ]
    },
    {
     "name": "stderr",
     "output_type": "stream",
     "text": [
      "┌ Info: Epoch 790\n",
      "└ @ Main C:\\Users\\PC\\.julia\\packages\\Flux\\qp1gc\\src\\optimise\\train.jl:135\n"
     ]
    },
    {
     "name": "stdout",
     "output_type": "stream",
     "text": [
      "training\n"
     ]
    },
    {
     "name": "stderr",
     "output_type": "stream",
     "text": [
      "┌ Info: Epoch 791\n",
      "└ @ Main C:\\Users\\PC\\.julia\\packages\\Flux\\qp1gc\\src\\optimise\\train.jl:135\n"
     ]
    },
    {
     "name": "stdout",
     "output_type": "stream",
     "text": [
      "training\n"
     ]
    },
    {
     "name": "stderr",
     "output_type": "stream",
     "text": [
      "┌ Info: Epoch 792\n",
      "└ @ Main C:\\Users\\PC\\.julia\\packages\\Flux\\qp1gc\\src\\optimise\\train.jl:135\n"
     ]
    },
    {
     "name": "stdout",
     "output_type": "stream",
     "text": [
      "training\n"
     ]
    },
    {
     "name": "stderr",
     "output_type": "stream",
     "text": [
      "┌ Info: Epoch 793\n",
      "└ @ Main C:\\Users\\PC\\.julia\\packages\\Flux\\qp1gc\\src\\optimise\\train.jl:135\n"
     ]
    },
    {
     "name": "stdout",
     "output_type": "stream",
     "text": [
      "training\n"
     ]
    },
    {
     "name": "stderr",
     "output_type": "stream",
     "text": [
      "┌ Info: Epoch 794\n",
      "└ @ Main C:\\Users\\PC\\.julia\\packages\\Flux\\qp1gc\\src\\optimise\\train.jl:135\n"
     ]
    },
    {
     "name": "stdout",
     "output_type": "stream",
     "text": [
      "training\n"
     ]
    },
    {
     "name": "stderr",
     "output_type": "stream",
     "text": [
      "┌ Info: Epoch 795\n",
      "└ @ Main C:\\Users\\PC\\.julia\\packages\\Flux\\qp1gc\\src\\optimise\\train.jl:135\n"
     ]
    },
    {
     "name": "stdout",
     "output_type": "stream",
     "text": [
      "training\n"
     ]
    },
    {
     "name": "stderr",
     "output_type": "stream",
     "text": [
      "┌ Info: Epoch 796\n",
      "└ @ Main C:\\Users\\PC\\.julia\\packages\\Flux\\qp1gc\\src\\optimise\\train.jl:135\n"
     ]
    },
    {
     "name": "stdout",
     "output_type": "stream",
     "text": [
      "training\n"
     ]
    },
    {
     "name": "stderr",
     "output_type": "stream",
     "text": [
      "┌ Info: Epoch 797\n",
      "└ @ Main C:\\Users\\PC\\.julia\\packages\\Flux\\qp1gc\\src\\optimise\\train.jl:135\n"
     ]
    },
    {
     "name": "stdout",
     "output_type": "stream",
     "text": [
      "training\n"
     ]
    },
    {
     "name": "stderr",
     "output_type": "stream",
     "text": [
      "┌ Info: Epoch 798\n",
      "└ @ Main C:\\Users\\PC\\.julia\\packages\\Flux\\qp1gc\\src\\optimise\\train.jl:135\n"
     ]
    },
    {
     "name": "stdout",
     "output_type": "stream",
     "text": [
      "training\n"
     ]
    },
    {
     "name": "stderr",
     "output_type": "stream",
     "text": [
      "┌ Info: Epoch 799\n",
      "└ @ Main C:\\Users\\PC\\.julia\\packages\\Flux\\qp1gc\\src\\optimise\\train.jl:135\n"
     ]
    },
    {
     "name": "stdout",
     "output_type": "stream",
     "text": [
      "training\n"
     ]
    },
    {
     "name": "stderr",
     "output_type": "stream",
     "text": [
      "┌ Info: Epoch 800\n",
      "└ @ Main C:\\Users\\PC\\.julia\\packages\\Flux\\qp1gc\\src\\optimise\\train.jl:135\n"
     ]
    },
    {
     "name": "stdout",
     "output_type": "stream",
     "text": [
      "training\n"
     ]
    },
    {
     "name": "stderr",
     "output_type": "stream",
     "text": [
      "┌ Info: Epoch 801\n",
      "└ @ Main C:\\Users\\PC\\.julia\\packages\\Flux\\qp1gc\\src\\optimise\\train.jl:135\n"
     ]
    },
    {
     "name": "stdout",
     "output_type": "stream",
     "text": [
      "training\n"
     ]
    },
    {
     "name": "stderr",
     "output_type": "stream",
     "text": [
      "┌ Info: Epoch 802\n",
      "└ @ Main C:\\Users\\PC\\.julia\\packages\\Flux\\qp1gc\\src\\optimise\\train.jl:135\n"
     ]
    },
    {
     "name": "stdout",
     "output_type": "stream",
     "text": [
      "training\n"
     ]
    },
    {
     "name": "stderr",
     "output_type": "stream",
     "text": [
      "┌ Info: Epoch 803\n",
      "└ @ Main C:\\Users\\PC\\.julia\\packages\\Flux\\qp1gc\\src\\optimise\\train.jl:135\n"
     ]
    },
    {
     "name": "stdout",
     "output_type": "stream",
     "text": [
      "training\n"
     ]
    },
    {
     "name": "stderr",
     "output_type": "stream",
     "text": [
      "┌ Info: Epoch 804\n",
      "└ @ Main C:\\Users\\PC\\.julia\\packages\\Flux\\qp1gc\\src\\optimise\\train.jl:135\n"
     ]
    },
    {
     "name": "stdout",
     "output_type": "stream",
     "text": [
      "training\n"
     ]
    },
    {
     "name": "stderr",
     "output_type": "stream",
     "text": [
      "┌ Info: Epoch 805\n",
      "└ @ Main C:\\Users\\PC\\.julia\\packages\\Flux\\qp1gc\\src\\optimise\\train.jl:135\n"
     ]
    },
    {
     "name": "stdout",
     "output_type": "stream",
     "text": [
      "training\n"
     ]
    },
    {
     "name": "stderr",
     "output_type": "stream",
     "text": [
      "┌ Info: Epoch 806\n",
      "└ @ Main C:\\Users\\PC\\.julia\\packages\\Flux\\qp1gc\\src\\optimise\\train.jl:135\n"
     ]
    },
    {
     "name": "stdout",
     "output_type": "stream",
     "text": [
      "training\n"
     ]
    },
    {
     "name": "stderr",
     "output_type": "stream",
     "text": [
      "┌ Info: Epoch 807\n",
      "└ @ Main C:\\Users\\PC\\.julia\\packages\\Flux\\qp1gc\\src\\optimise\\train.jl:135\n"
     ]
    },
    {
     "name": "stdout",
     "output_type": "stream",
     "text": [
      "training\n"
     ]
    },
    {
     "name": "stderr",
     "output_type": "stream",
     "text": [
      "┌ Info: Epoch 808\n",
      "└ @ Main C:\\Users\\PC\\.julia\\packages\\Flux\\qp1gc\\src\\optimise\\train.jl:135\n"
     ]
    },
    {
     "name": "stdout",
     "output_type": "stream",
     "text": [
      "training\n"
     ]
    },
    {
     "name": "stderr",
     "output_type": "stream",
     "text": [
      "┌ Info: Epoch 809\n",
      "└ @ Main C:\\Users\\PC\\.julia\\packages\\Flux\\qp1gc\\src\\optimise\\train.jl:135\n"
     ]
    },
    {
     "name": "stdout",
     "output_type": "stream",
     "text": [
      "training\n"
     ]
    },
    {
     "name": "stderr",
     "output_type": "stream",
     "text": [
      "┌ Info: Epoch 810\n",
      "└ @ Main C:\\Users\\PC\\.julia\\packages\\Flux\\qp1gc\\src\\optimise\\train.jl:135\n"
     ]
    },
    {
     "name": "stdout",
     "output_type": "stream",
     "text": [
      "training\n"
     ]
    },
    {
     "name": "stderr",
     "output_type": "stream",
     "text": [
      "┌ Info: Epoch 811\n",
      "└ @ Main C:\\Users\\PC\\.julia\\packages\\Flux\\qp1gc\\src\\optimise\\train.jl:135\n"
     ]
    },
    {
     "name": "stdout",
     "output_type": "stream",
     "text": [
      "training\n"
     ]
    },
    {
     "name": "stderr",
     "output_type": "stream",
     "text": [
      "┌ Info: Epoch 812\n",
      "└ @ Main C:\\Users\\PC\\.julia\\packages\\Flux\\qp1gc\\src\\optimise\\train.jl:135\n"
     ]
    },
    {
     "name": "stdout",
     "output_type": "stream",
     "text": [
      "training\n"
     ]
    },
    {
     "name": "stderr",
     "output_type": "stream",
     "text": [
      "┌ Info: Epoch 813\n",
      "└ @ Main C:\\Users\\PC\\.julia\\packages\\Flux\\qp1gc\\src\\optimise\\train.jl:135\n"
     ]
    },
    {
     "name": "stdout",
     "output_type": "stream",
     "text": [
      "training\n"
     ]
    },
    {
     "name": "stderr",
     "output_type": "stream",
     "text": [
      "┌ Info: Epoch 814\n",
      "└ @ Main C:\\Users\\PC\\.julia\\packages\\Flux\\qp1gc\\src\\optimise\\train.jl:135\n"
     ]
    },
    {
     "name": "stdout",
     "output_type": "stream",
     "text": [
      "training\n"
     ]
    },
    {
     "name": "stderr",
     "output_type": "stream",
     "text": [
      "┌ Info: Epoch 815\n",
      "└ @ Main C:\\Users\\PC\\.julia\\packages\\Flux\\qp1gc\\src\\optimise\\train.jl:135\n"
     ]
    },
    {
     "name": "stdout",
     "output_type": "stream",
     "text": [
      "training\n"
     ]
    },
    {
     "name": "stderr",
     "output_type": "stream",
     "text": [
      "┌ Info: Epoch 816\n",
      "└ @ Main C:\\Users\\PC\\.julia\\packages\\Flux\\qp1gc\\src\\optimise\\train.jl:135\n"
     ]
    },
    {
     "name": "stdout",
     "output_type": "stream",
     "text": [
      "training\n"
     ]
    },
    {
     "name": "stderr",
     "output_type": "stream",
     "text": [
      "┌ Info: Epoch 817\n",
      "└ @ Main C:\\Users\\PC\\.julia\\packages\\Flux\\qp1gc\\src\\optimise\\train.jl:135\n"
     ]
    },
    {
     "name": "stdout",
     "output_type": "stream",
     "text": [
      "training\n"
     ]
    },
    {
     "name": "stderr",
     "output_type": "stream",
     "text": [
      "┌ Info: Epoch 818\n",
      "└ @ Main C:\\Users\\PC\\.julia\\packages\\Flux\\qp1gc\\src\\optimise\\train.jl:135\n"
     ]
    },
    {
     "name": "stdout",
     "output_type": "stream",
     "text": [
      "training\n"
     ]
    },
    {
     "name": "stderr",
     "output_type": "stream",
     "text": [
      "┌ Info: Epoch 819\n",
      "└ @ Main C:\\Users\\PC\\.julia\\packages\\Flux\\qp1gc\\src\\optimise\\train.jl:135\n"
     ]
    },
    {
     "name": "stdout",
     "output_type": "stream",
     "text": [
      "training\n"
     ]
    },
    {
     "name": "stderr",
     "output_type": "stream",
     "text": [
      "┌ Info: Epoch 820\n",
      "└ @ Main C:\\Users\\PC\\.julia\\packages\\Flux\\qp1gc\\src\\optimise\\train.jl:135\n"
     ]
    },
    {
     "name": "stdout",
     "output_type": "stream",
     "text": [
      "training\n"
     ]
    },
    {
     "name": "stderr",
     "output_type": "stream",
     "text": [
      "┌ Info: Epoch 821\n",
      "└ @ Main C:\\Users\\PC\\.julia\\packages\\Flux\\qp1gc\\src\\optimise\\train.jl:135\n"
     ]
    },
    {
     "name": "stdout",
     "output_type": "stream",
     "text": [
      "training\n"
     ]
    },
    {
     "name": "stderr",
     "output_type": "stream",
     "text": [
      "┌ Info: Epoch 822\n",
      "└ @ Main C:\\Users\\PC\\.julia\\packages\\Flux\\qp1gc\\src\\optimise\\train.jl:135\n"
     ]
    },
    {
     "name": "stdout",
     "output_type": "stream",
     "text": [
      "training\n"
     ]
    },
    {
     "name": "stderr",
     "output_type": "stream",
     "text": [
      "┌ Info: Epoch 823\n",
      "└ @ Main C:\\Users\\PC\\.julia\\packages\\Flux\\qp1gc\\src\\optimise\\train.jl:135\n"
     ]
    },
    {
     "name": "stdout",
     "output_type": "stream",
     "text": [
      "training\n"
     ]
    },
    {
     "name": "stderr",
     "output_type": "stream",
     "text": [
      "┌ Info: Epoch 824\n",
      "└ @ Main C:\\Users\\PC\\.julia\\packages\\Flux\\qp1gc\\src\\optimise\\train.jl:135\n"
     ]
    },
    {
     "name": "stdout",
     "output_type": "stream",
     "text": [
      "training\n"
     ]
    },
    {
     "name": "stderr",
     "output_type": "stream",
     "text": [
      "┌ Info: Epoch 825\n",
      "└ @ Main C:\\Users\\PC\\.julia\\packages\\Flux\\qp1gc\\src\\optimise\\train.jl:135\n"
     ]
    },
    {
     "name": "stdout",
     "output_type": "stream",
     "text": [
      "training\n"
     ]
    },
    {
     "name": "stderr",
     "output_type": "stream",
     "text": [
      "┌ Info: Epoch 826\n",
      "└ @ Main C:\\Users\\PC\\.julia\\packages\\Flux\\qp1gc\\src\\optimise\\train.jl:135\n"
     ]
    },
    {
     "name": "stdout",
     "output_type": "stream",
     "text": [
      "training\n"
     ]
    },
    {
     "name": "stderr",
     "output_type": "stream",
     "text": [
      "┌ Info: Epoch 827\n",
      "└ @ Main C:\\Users\\PC\\.julia\\packages\\Flux\\qp1gc\\src\\optimise\\train.jl:135\n"
     ]
    },
    {
     "name": "stdout",
     "output_type": "stream",
     "text": [
      "training\n"
     ]
    },
    {
     "name": "stderr",
     "output_type": "stream",
     "text": [
      "┌ Info: Epoch 828\n",
      "└ @ Main C:\\Users\\PC\\.julia\\packages\\Flux\\qp1gc\\src\\optimise\\train.jl:135\n"
     ]
    },
    {
     "name": "stdout",
     "output_type": "stream",
     "text": [
      "training\n"
     ]
    },
    {
     "name": "stderr",
     "output_type": "stream",
     "text": [
      "┌ Info: Epoch 829\n",
      "└ @ Main C:\\Users\\PC\\.julia\\packages\\Flux\\qp1gc\\src\\optimise\\train.jl:135\n"
     ]
    },
    {
     "name": "stdout",
     "output_type": "stream",
     "text": [
      "training\n"
     ]
    },
    {
     "name": "stderr",
     "output_type": "stream",
     "text": [
      "┌ Info: Epoch 830\n",
      "└ @ Main C:\\Users\\PC\\.julia\\packages\\Flux\\qp1gc\\src\\optimise\\train.jl:135\n"
     ]
    },
    {
     "name": "stdout",
     "output_type": "stream",
     "text": [
      "training\n"
     ]
    },
    {
     "name": "stderr",
     "output_type": "stream",
     "text": [
      "┌ Info: Epoch 831\n",
      "└ @ Main C:\\Users\\PC\\.julia\\packages\\Flux\\qp1gc\\src\\optimise\\train.jl:135\n"
     ]
    },
    {
     "name": "stdout",
     "output_type": "stream",
     "text": [
      "training\n"
     ]
    },
    {
     "name": "stderr",
     "output_type": "stream",
     "text": [
      "┌ Info: Epoch 832\n",
      "└ @ Main C:\\Users\\PC\\.julia\\packages\\Flux\\qp1gc\\src\\optimise\\train.jl:135\n"
     ]
    },
    {
     "name": "stdout",
     "output_type": "stream",
     "text": [
      "training\n"
     ]
    },
    {
     "name": "stderr",
     "output_type": "stream",
     "text": [
      "┌ Info: Epoch 833\n",
      "└ @ Main C:\\Users\\PC\\.julia\\packages\\Flux\\qp1gc\\src\\optimise\\train.jl:135\n"
     ]
    },
    {
     "name": "stdout",
     "output_type": "stream",
     "text": [
      "training\n"
     ]
    },
    {
     "name": "stderr",
     "output_type": "stream",
     "text": [
      "┌ Info: Epoch 834\n",
      "└ @ Main C:\\Users\\PC\\.julia\\packages\\Flux\\qp1gc\\src\\optimise\\train.jl:135\n"
     ]
    },
    {
     "name": "stdout",
     "output_type": "stream",
     "text": [
      "training\n"
     ]
    },
    {
     "name": "stderr",
     "output_type": "stream",
     "text": [
      "┌ Info: Epoch 835\n",
      "└ @ Main C:\\Users\\PC\\.julia\\packages\\Flux\\qp1gc\\src\\optimise\\train.jl:135\n"
     ]
    },
    {
     "name": "stdout",
     "output_type": "stream",
     "text": [
      "training\n"
     ]
    },
    {
     "name": "stderr",
     "output_type": "stream",
     "text": [
      "┌ Info: Epoch 836\n",
      "└ @ Main C:\\Users\\PC\\.julia\\packages\\Flux\\qp1gc\\src\\optimise\\train.jl:135\n"
     ]
    },
    {
     "name": "stdout",
     "output_type": "stream",
     "text": [
      "training\n"
     ]
    },
    {
     "name": "stderr",
     "output_type": "stream",
     "text": [
      "┌ Info: Epoch 837\n",
      "└ @ Main C:\\Users\\PC\\.julia\\packages\\Flux\\qp1gc\\src\\optimise\\train.jl:135\n"
     ]
    },
    {
     "name": "stdout",
     "output_type": "stream",
     "text": [
      "training\n"
     ]
    },
    {
     "name": "stderr",
     "output_type": "stream",
     "text": [
      "┌ Info: Epoch 838\n",
      "└ @ Main C:\\Users\\PC\\.julia\\packages\\Flux\\qp1gc\\src\\optimise\\train.jl:135\n"
     ]
    },
    {
     "name": "stdout",
     "output_type": "stream",
     "text": [
      "training\n"
     ]
    },
    {
     "name": "stderr",
     "output_type": "stream",
     "text": [
      "┌ Info: Epoch 839\n",
      "└ @ Main C:\\Users\\PC\\.julia\\packages\\Flux\\qp1gc\\src\\optimise\\train.jl:135\n"
     ]
    },
    {
     "name": "stdout",
     "output_type": "stream",
     "text": [
      "training\n"
     ]
    },
    {
     "name": "stderr",
     "output_type": "stream",
     "text": [
      "┌ Info: Epoch 840\n",
      "└ @ Main C:\\Users\\PC\\.julia\\packages\\Flux\\qp1gc\\src\\optimise\\train.jl:135\n"
     ]
    },
    {
     "name": "stdout",
     "output_type": "stream",
     "text": [
      "training\n"
     ]
    },
    {
     "name": "stderr",
     "output_type": "stream",
     "text": [
      "┌ Info: Epoch 841\n",
      "└ @ Main C:\\Users\\PC\\.julia\\packages\\Flux\\qp1gc\\src\\optimise\\train.jl:135\n"
     ]
    },
    {
     "name": "stdout",
     "output_type": "stream",
     "text": [
      "training\n"
     ]
    },
    {
     "name": "stderr",
     "output_type": "stream",
     "text": [
      "┌ Info: Epoch 842\n",
      "└ @ Main C:\\Users\\PC\\.julia\\packages\\Flux\\qp1gc\\src\\optimise\\train.jl:135\n"
     ]
    },
    {
     "name": "stdout",
     "output_type": "stream",
     "text": [
      "training\n"
     ]
    },
    {
     "name": "stderr",
     "output_type": "stream",
     "text": [
      "┌ Info: Epoch 843\n",
      "└ @ Main C:\\Users\\PC\\.julia\\packages\\Flux\\qp1gc\\src\\optimise\\train.jl:135\n"
     ]
    },
    {
     "name": "stdout",
     "output_type": "stream",
     "text": [
      "training\n"
     ]
    },
    {
     "name": "stderr",
     "output_type": "stream",
     "text": [
      "┌ Info: Epoch 844\n",
      "└ @ Main C:\\Users\\PC\\.julia\\packages\\Flux\\qp1gc\\src\\optimise\\train.jl:135\n"
     ]
    },
    {
     "name": "stdout",
     "output_type": "stream",
     "text": [
      "training\n"
     ]
    },
    {
     "name": "stderr",
     "output_type": "stream",
     "text": [
      "┌ Info: Epoch 845\n",
      "└ @ Main C:\\Users\\PC\\.julia\\packages\\Flux\\qp1gc\\src\\optimise\\train.jl:135\n"
     ]
    },
    {
     "name": "stdout",
     "output_type": "stream",
     "text": [
      "training\n"
     ]
    },
    {
     "name": "stderr",
     "output_type": "stream",
     "text": [
      "┌ Info: Epoch 846\n",
      "└ @ Main C:\\Users\\PC\\.julia\\packages\\Flux\\qp1gc\\src\\optimise\\train.jl:135\n"
     ]
    },
    {
     "name": "stdout",
     "output_type": "stream",
     "text": [
      "training\n"
     ]
    },
    {
     "name": "stderr",
     "output_type": "stream",
     "text": [
      "┌ Info: Epoch 847\n",
      "└ @ Main C:\\Users\\PC\\.julia\\packages\\Flux\\qp1gc\\src\\optimise\\train.jl:135\n"
     ]
    },
    {
     "name": "stdout",
     "output_type": "stream",
     "text": [
      "training\n"
     ]
    },
    {
     "name": "stderr",
     "output_type": "stream",
     "text": [
      "┌ Info: Epoch 848\n",
      "└ @ Main C:\\Users\\PC\\.julia\\packages\\Flux\\qp1gc\\src\\optimise\\train.jl:135\n"
     ]
    },
    {
     "name": "stdout",
     "output_type": "stream",
     "text": [
      "training\n"
     ]
    },
    {
     "name": "stderr",
     "output_type": "stream",
     "text": [
      "┌ Info: Epoch 849\n",
      "└ @ Main C:\\Users\\PC\\.julia\\packages\\Flux\\qp1gc\\src\\optimise\\train.jl:135\n"
     ]
    },
    {
     "name": "stdout",
     "output_type": "stream",
     "text": [
      "training\n"
     ]
    },
    {
     "name": "stderr",
     "output_type": "stream",
     "text": [
      "┌ Info: Epoch 850\n",
      "└ @ Main C:\\Users\\PC\\.julia\\packages\\Flux\\qp1gc\\src\\optimise\\train.jl:135\n"
     ]
    },
    {
     "name": "stdout",
     "output_type": "stream",
     "text": [
      "training\n"
     ]
    },
    {
     "name": "stderr",
     "output_type": "stream",
     "text": [
      "┌ Info: Epoch 851\n",
      "└ @ Main C:\\Users\\PC\\.julia\\packages\\Flux\\qp1gc\\src\\optimise\\train.jl:135\n"
     ]
    },
    {
     "name": "stdout",
     "output_type": "stream",
     "text": [
      "training\n"
     ]
    },
    {
     "name": "stderr",
     "output_type": "stream",
     "text": [
      "┌ Info: Epoch 852\n",
      "└ @ Main C:\\Users\\PC\\.julia\\packages\\Flux\\qp1gc\\src\\optimise\\train.jl:135\n"
     ]
    },
    {
     "name": "stdout",
     "output_type": "stream",
     "text": [
      "training\n"
     ]
    },
    {
     "name": "stderr",
     "output_type": "stream",
     "text": [
      "┌ Info: Epoch 853\n",
      "└ @ Main C:\\Users\\PC\\.julia\\packages\\Flux\\qp1gc\\src\\optimise\\train.jl:135\n"
     ]
    },
    {
     "name": "stdout",
     "output_type": "stream",
     "text": [
      "training\n"
     ]
    },
    {
     "name": "stderr",
     "output_type": "stream",
     "text": [
      "┌ Info: Epoch 854\n",
      "└ @ Main C:\\Users\\PC\\.julia\\packages\\Flux\\qp1gc\\src\\optimise\\train.jl:135\n"
     ]
    },
    {
     "name": "stdout",
     "output_type": "stream",
     "text": [
      "training\n"
     ]
    },
    {
     "name": "stderr",
     "output_type": "stream",
     "text": [
      "┌ Info: Epoch 855\n",
      "└ @ Main C:\\Users\\PC\\.julia\\packages\\Flux\\qp1gc\\src\\optimise\\train.jl:135\n"
     ]
    },
    {
     "name": "stdout",
     "output_type": "stream",
     "text": [
      "training\n"
     ]
    },
    {
     "name": "stderr",
     "output_type": "stream",
     "text": [
      "┌ Info: Epoch 856\n",
      "└ @ Main C:\\Users\\PC\\.julia\\packages\\Flux\\qp1gc\\src\\optimise\\train.jl:135\n"
     ]
    },
    {
     "name": "stdout",
     "output_type": "stream",
     "text": [
      "training\n"
     ]
    },
    {
     "name": "stderr",
     "output_type": "stream",
     "text": [
      "┌ Info: Epoch 857\n",
      "└ @ Main C:\\Users\\PC\\.julia\\packages\\Flux\\qp1gc\\src\\optimise\\train.jl:135\n"
     ]
    },
    {
     "name": "stdout",
     "output_type": "stream",
     "text": [
      "training\n"
     ]
    },
    {
     "name": "stderr",
     "output_type": "stream",
     "text": [
      "┌ Info: Epoch 858\n",
      "└ @ Main C:\\Users\\PC\\.julia\\packages\\Flux\\qp1gc\\src\\optimise\\train.jl:135\n"
     ]
    },
    {
     "name": "stdout",
     "output_type": "stream",
     "text": [
      "training\n"
     ]
    },
    {
     "name": "stderr",
     "output_type": "stream",
     "text": [
      "┌ Info: Epoch 859\n",
      "└ @ Main C:\\Users\\PC\\.julia\\packages\\Flux\\qp1gc\\src\\optimise\\train.jl:135\n"
     ]
    },
    {
     "name": "stdout",
     "output_type": "stream",
     "text": [
      "training\n"
     ]
    },
    {
     "name": "stderr",
     "output_type": "stream",
     "text": [
      "┌ Info: Epoch 860\n",
      "└ @ Main C:\\Users\\PC\\.julia\\packages\\Flux\\qp1gc\\src\\optimise\\train.jl:135\n"
     ]
    },
    {
     "name": "stdout",
     "output_type": "stream",
     "text": [
      "training\n"
     ]
    },
    {
     "name": "stderr",
     "output_type": "stream",
     "text": [
      "┌ Info: Epoch 861\n",
      "└ @ Main C:\\Users\\PC\\.julia\\packages\\Flux\\qp1gc\\src\\optimise\\train.jl:135\n"
     ]
    },
    {
     "name": "stdout",
     "output_type": "stream",
     "text": [
      "training\n"
     ]
    },
    {
     "name": "stderr",
     "output_type": "stream",
     "text": [
      "┌ Info: Epoch 862\n",
      "└ @ Main C:\\Users\\PC\\.julia\\packages\\Flux\\qp1gc\\src\\optimise\\train.jl:135\n"
     ]
    },
    {
     "name": "stdout",
     "output_type": "stream",
     "text": [
      "training\n"
     ]
    },
    {
     "name": "stderr",
     "output_type": "stream",
     "text": [
      "┌ Info: Epoch 863\n",
      "└ @ Main C:\\Users\\PC\\.julia\\packages\\Flux\\qp1gc\\src\\optimise\\train.jl:135\n"
     ]
    },
    {
     "name": "stdout",
     "output_type": "stream",
     "text": [
      "training\n"
     ]
    },
    {
     "name": "stderr",
     "output_type": "stream",
     "text": [
      "┌ Info: Epoch 864\n",
      "└ @ Main C:\\Users\\PC\\.julia\\packages\\Flux\\qp1gc\\src\\optimise\\train.jl:135\n"
     ]
    },
    {
     "name": "stdout",
     "output_type": "stream",
     "text": [
      "training\n"
     ]
    },
    {
     "name": "stderr",
     "output_type": "stream",
     "text": [
      "┌ Info: Epoch 865\n",
      "└ @ Main C:\\Users\\PC\\.julia\\packages\\Flux\\qp1gc\\src\\optimise\\train.jl:135\n"
     ]
    },
    {
     "name": "stdout",
     "output_type": "stream",
     "text": [
      "training\n"
     ]
    },
    {
     "name": "stderr",
     "output_type": "stream",
     "text": [
      "┌ Info: Epoch 866\n",
      "└ @ Main C:\\Users\\PC\\.julia\\packages\\Flux\\qp1gc\\src\\optimise\\train.jl:135\n"
     ]
    },
    {
     "name": "stdout",
     "output_type": "stream",
     "text": [
      "training\n"
     ]
    },
    {
     "name": "stderr",
     "output_type": "stream",
     "text": [
      "┌ Info: Epoch 867\n",
      "└ @ Main C:\\Users\\PC\\.julia\\packages\\Flux\\qp1gc\\src\\optimise\\train.jl:135\n"
     ]
    },
    {
     "name": "stdout",
     "output_type": "stream",
     "text": [
      "training\n"
     ]
    },
    {
     "name": "stderr",
     "output_type": "stream",
     "text": [
      "┌ Info: Epoch 868\n",
      "└ @ Main C:\\Users\\PC\\.julia\\packages\\Flux\\qp1gc\\src\\optimise\\train.jl:135\n"
     ]
    },
    {
     "name": "stdout",
     "output_type": "stream",
     "text": [
      "training\n"
     ]
    },
    {
     "name": "stderr",
     "output_type": "stream",
     "text": [
      "┌ Info: Epoch 869\n",
      "└ @ Main C:\\Users\\PC\\.julia\\packages\\Flux\\qp1gc\\src\\optimise\\train.jl:135\n"
     ]
    },
    {
     "name": "stdout",
     "output_type": "stream",
     "text": [
      "training\n"
     ]
    },
    {
     "name": "stderr",
     "output_type": "stream",
     "text": [
      "┌ Info: Epoch 870\n",
      "└ @ Main C:\\Users\\PC\\.julia\\packages\\Flux\\qp1gc\\src\\optimise\\train.jl:135\n"
     ]
    },
    {
     "name": "stdout",
     "output_type": "stream",
     "text": [
      "training\n"
     ]
    },
    {
     "name": "stderr",
     "output_type": "stream",
     "text": [
      "┌ Info: Epoch 871\n",
      "└ @ Main C:\\Users\\PC\\.julia\\packages\\Flux\\qp1gc\\src\\optimise\\train.jl:135\n"
     ]
    },
    {
     "name": "stdout",
     "output_type": "stream",
     "text": [
      "training\n"
     ]
    },
    {
     "name": "stderr",
     "output_type": "stream",
     "text": [
      "┌ Info: Epoch 872\n",
      "└ @ Main C:\\Users\\PC\\.julia\\packages\\Flux\\qp1gc\\src\\optimise\\train.jl:135\n"
     ]
    },
    {
     "name": "stdout",
     "output_type": "stream",
     "text": [
      "training\n"
     ]
    },
    {
     "name": "stderr",
     "output_type": "stream",
     "text": [
      "┌ Info: Epoch 873\n",
      "└ @ Main C:\\Users\\PC\\.julia\\packages\\Flux\\qp1gc\\src\\optimise\\train.jl:135\n"
     ]
    },
    {
     "name": "stdout",
     "output_type": "stream",
     "text": [
      "training\n"
     ]
    },
    {
     "name": "stderr",
     "output_type": "stream",
     "text": [
      "┌ Info: Epoch 874\n",
      "└ @ Main C:\\Users\\PC\\.julia\\packages\\Flux\\qp1gc\\src\\optimise\\train.jl:135\n"
     ]
    },
    {
     "name": "stdout",
     "output_type": "stream",
     "text": [
      "training\n"
     ]
    },
    {
     "name": "stderr",
     "output_type": "stream",
     "text": [
      "┌ Info: Epoch 875\n",
      "└ @ Main C:\\Users\\PC\\.julia\\packages\\Flux\\qp1gc\\src\\optimise\\train.jl:135\n"
     ]
    },
    {
     "name": "stdout",
     "output_type": "stream",
     "text": [
      "training\n"
     ]
    },
    {
     "name": "stderr",
     "output_type": "stream",
     "text": [
      "┌ Info: Epoch 876\n",
      "└ @ Main C:\\Users\\PC\\.julia\\packages\\Flux\\qp1gc\\src\\optimise\\train.jl:135\n"
     ]
    },
    {
     "name": "stdout",
     "output_type": "stream",
     "text": [
      "training\n"
     ]
    },
    {
     "name": "stderr",
     "output_type": "stream",
     "text": [
      "┌ Info: Epoch 877\n",
      "└ @ Main C:\\Users\\PC\\.julia\\packages\\Flux\\qp1gc\\src\\optimise\\train.jl:135\n"
     ]
    },
    {
     "name": "stdout",
     "output_type": "stream",
     "text": [
      "training\n"
     ]
    },
    {
     "name": "stderr",
     "output_type": "stream",
     "text": [
      "┌ Info: Epoch 878\n",
      "└ @ Main C:\\Users\\PC\\.julia\\packages\\Flux\\qp1gc\\src\\optimise\\train.jl:135\n"
     ]
    },
    {
     "name": "stdout",
     "output_type": "stream",
     "text": [
      "training\n"
     ]
    },
    {
     "name": "stderr",
     "output_type": "stream",
     "text": [
      "┌ Info: Epoch 879\n",
      "└ @ Main C:\\Users\\PC\\.julia\\packages\\Flux\\qp1gc\\src\\optimise\\train.jl:135\n"
     ]
    },
    {
     "name": "stdout",
     "output_type": "stream",
     "text": [
      "training\n"
     ]
    },
    {
     "name": "stderr",
     "output_type": "stream",
     "text": [
      "┌ Info: Epoch 880\n",
      "└ @ Main C:\\Users\\PC\\.julia\\packages\\Flux\\qp1gc\\src\\optimise\\train.jl:135\n"
     ]
    },
    {
     "name": "stdout",
     "output_type": "stream",
     "text": [
      "training\n"
     ]
    },
    {
     "name": "stderr",
     "output_type": "stream",
     "text": [
      "┌ Info: Epoch 881\n",
      "└ @ Main C:\\Users\\PC\\.julia\\packages\\Flux\\qp1gc\\src\\optimise\\train.jl:135\n"
     ]
    },
    {
     "name": "stdout",
     "output_type": "stream",
     "text": [
      "training\n"
     ]
    },
    {
     "name": "stderr",
     "output_type": "stream",
     "text": [
      "┌ Info: Epoch 882\n",
      "└ @ Main C:\\Users\\PC\\.julia\\packages\\Flux\\qp1gc\\src\\optimise\\train.jl:135\n"
     ]
    },
    {
     "name": "stdout",
     "output_type": "stream",
     "text": [
      "training\n"
     ]
    },
    {
     "name": "stderr",
     "output_type": "stream",
     "text": [
      "┌ Info: Epoch 883\n",
      "└ @ Main C:\\Users\\PC\\.julia\\packages\\Flux\\qp1gc\\src\\optimise\\train.jl:135\n"
     ]
    },
    {
     "name": "stdout",
     "output_type": "stream",
     "text": [
      "training\n"
     ]
    },
    {
     "name": "stderr",
     "output_type": "stream",
     "text": [
      "┌ Info: Epoch 884\n",
      "└ @ Main C:\\Users\\PC\\.julia\\packages\\Flux\\qp1gc\\src\\optimise\\train.jl:135\n"
     ]
    },
    {
     "name": "stdout",
     "output_type": "stream",
     "text": [
      "training\n"
     ]
    },
    {
     "name": "stderr",
     "output_type": "stream",
     "text": [
      "┌ Info: Epoch 885\n",
      "└ @ Main C:\\Users\\PC\\.julia\\packages\\Flux\\qp1gc\\src\\optimise\\train.jl:135\n"
     ]
    },
    {
     "name": "stdout",
     "output_type": "stream",
     "text": [
      "training\n"
     ]
    },
    {
     "name": "stderr",
     "output_type": "stream",
     "text": [
      "┌ Info: Epoch 886\n",
      "└ @ Main C:\\Users\\PC\\.julia\\packages\\Flux\\qp1gc\\src\\optimise\\train.jl:135\n"
     ]
    },
    {
     "name": "stdout",
     "output_type": "stream",
     "text": [
      "training\n"
     ]
    },
    {
     "name": "stderr",
     "output_type": "stream",
     "text": [
      "┌ Info: Epoch 887\n",
      "└ @ Main C:\\Users\\PC\\.julia\\packages\\Flux\\qp1gc\\src\\optimise\\train.jl:135\n"
     ]
    },
    {
     "name": "stdout",
     "output_type": "stream",
     "text": [
      "training\n"
     ]
    },
    {
     "name": "stderr",
     "output_type": "stream",
     "text": [
      "┌ Info: Epoch 888\n",
      "└ @ Main C:\\Users\\PC\\.julia\\packages\\Flux\\qp1gc\\src\\optimise\\train.jl:135\n"
     ]
    },
    {
     "name": "stdout",
     "output_type": "stream",
     "text": [
      "training\n"
     ]
    },
    {
     "name": "stderr",
     "output_type": "stream",
     "text": [
      "┌ Info: Epoch 889\n",
      "└ @ Main C:\\Users\\PC\\.julia\\packages\\Flux\\qp1gc\\src\\optimise\\train.jl:135\n"
     ]
    },
    {
     "name": "stdout",
     "output_type": "stream",
     "text": [
      "training\n"
     ]
    },
    {
     "name": "stderr",
     "output_type": "stream",
     "text": [
      "┌ Info: Epoch 890\n",
      "└ @ Main C:\\Users\\PC\\.julia\\packages\\Flux\\qp1gc\\src\\optimise\\train.jl:135\n"
     ]
    },
    {
     "name": "stdout",
     "output_type": "stream",
     "text": [
      "training\n"
     ]
    },
    {
     "name": "stderr",
     "output_type": "stream",
     "text": [
      "┌ Info: Epoch 891\n",
      "└ @ Main C:\\Users\\PC\\.julia\\packages\\Flux\\qp1gc\\src\\optimise\\train.jl:135\n"
     ]
    },
    {
     "name": "stdout",
     "output_type": "stream",
     "text": [
      "training\n"
     ]
    },
    {
     "name": "stderr",
     "output_type": "stream",
     "text": [
      "┌ Info: Epoch 892\n",
      "└ @ Main C:\\Users\\PC\\.julia\\packages\\Flux\\qp1gc\\src\\optimise\\train.jl:135\n"
     ]
    },
    {
     "name": "stdout",
     "output_type": "stream",
     "text": [
      "training\n"
     ]
    },
    {
     "name": "stderr",
     "output_type": "stream",
     "text": [
      "┌ Info: Epoch 893\n",
      "└ @ Main C:\\Users\\PC\\.julia\\packages\\Flux\\qp1gc\\src\\optimise\\train.jl:135\n"
     ]
    },
    {
     "name": "stdout",
     "output_type": "stream",
     "text": [
      "training\n"
     ]
    },
    {
     "name": "stderr",
     "output_type": "stream",
     "text": [
      "┌ Info: Epoch 894\n",
      "└ @ Main C:\\Users\\PC\\.julia\\packages\\Flux\\qp1gc\\src\\optimise\\train.jl:135\n"
     ]
    },
    {
     "name": "stdout",
     "output_type": "stream",
     "text": [
      "training\n"
     ]
    },
    {
     "name": "stderr",
     "output_type": "stream",
     "text": [
      "┌ Info: Epoch 895\n",
      "└ @ Main C:\\Users\\PC\\.julia\\packages\\Flux\\qp1gc\\src\\optimise\\train.jl:135\n"
     ]
    },
    {
     "name": "stdout",
     "output_type": "stream",
     "text": [
      "training\n"
     ]
    },
    {
     "name": "stderr",
     "output_type": "stream",
     "text": [
      "┌ Info: Epoch 896\n",
      "└ @ Main C:\\Users\\PC\\.julia\\packages\\Flux\\qp1gc\\src\\optimise\\train.jl:135\n"
     ]
    },
    {
     "name": "stdout",
     "output_type": "stream",
     "text": [
      "training\n"
     ]
    },
    {
     "name": "stderr",
     "output_type": "stream",
     "text": [
      "┌ Info: Epoch 897\n",
      "└ @ Main C:\\Users\\PC\\.julia\\packages\\Flux\\qp1gc\\src\\optimise\\train.jl:135\n"
     ]
    },
    {
     "name": "stdout",
     "output_type": "stream",
     "text": [
      "training\n"
     ]
    },
    {
     "name": "stderr",
     "output_type": "stream",
     "text": [
      "┌ Info: Epoch 898\n",
      "└ @ Main C:\\Users\\PC\\.julia\\packages\\Flux\\qp1gc\\src\\optimise\\train.jl:135\n"
     ]
    },
    {
     "name": "stdout",
     "output_type": "stream",
     "text": [
      "training\n"
     ]
    },
    {
     "name": "stderr",
     "output_type": "stream",
     "text": [
      "┌ Info: Epoch 899\n",
      "└ @ Main C:\\Users\\PC\\.julia\\packages\\Flux\\qp1gc\\src\\optimise\\train.jl:135\n"
     ]
    },
    {
     "name": "stdout",
     "output_type": "stream",
     "text": [
      "training\n"
     ]
    },
    {
     "name": "stderr",
     "output_type": "stream",
     "text": [
      "┌ Info: Epoch 900\n",
      "└ @ Main C:\\Users\\PC\\.julia\\packages\\Flux\\qp1gc\\src\\optimise\\train.jl:135\n"
     ]
    },
    {
     "name": "stdout",
     "output_type": "stream",
     "text": [
      "training\n"
     ]
    },
    {
     "name": "stderr",
     "output_type": "stream",
     "text": [
      "┌ Info: Epoch 901\n",
      "└ @ Main C:\\Users\\PC\\.julia\\packages\\Flux\\qp1gc\\src\\optimise\\train.jl:135\n"
     ]
    },
    {
     "name": "stdout",
     "output_type": "stream",
     "text": [
      "training\n"
     ]
    },
    {
     "name": "stderr",
     "output_type": "stream",
     "text": [
      "┌ Info: Epoch 902\n",
      "└ @ Main C:\\Users\\PC\\.julia\\packages\\Flux\\qp1gc\\src\\optimise\\train.jl:135\n"
     ]
    },
    {
     "name": "stdout",
     "output_type": "stream",
     "text": [
      "training\n"
     ]
    },
    {
     "name": "stderr",
     "output_type": "stream",
     "text": [
      "┌ Info: Epoch 903\n",
      "└ @ Main C:\\Users\\PC\\.julia\\packages\\Flux\\qp1gc\\src\\optimise\\train.jl:135\n"
     ]
    },
    {
     "name": "stdout",
     "output_type": "stream",
     "text": [
      "training\n"
     ]
    },
    {
     "name": "stderr",
     "output_type": "stream",
     "text": [
      "┌ Info: Epoch 904\n",
      "└ @ Main C:\\Users\\PC\\.julia\\packages\\Flux\\qp1gc\\src\\optimise\\train.jl:135\n"
     ]
    },
    {
     "name": "stdout",
     "output_type": "stream",
     "text": [
      "training\n"
     ]
    },
    {
     "name": "stderr",
     "output_type": "stream",
     "text": [
      "┌ Info: Epoch 905\n",
      "└ @ Main C:\\Users\\PC\\.julia\\packages\\Flux\\qp1gc\\src\\optimise\\train.jl:135\n"
     ]
    },
    {
     "name": "stdout",
     "output_type": "stream",
     "text": [
      "training\n"
     ]
    },
    {
     "name": "stderr",
     "output_type": "stream",
     "text": [
      "┌ Info: Epoch 906\n",
      "└ @ Main C:\\Users\\PC\\.julia\\packages\\Flux\\qp1gc\\src\\optimise\\train.jl:135\n"
     ]
    },
    {
     "name": "stdout",
     "output_type": "stream",
     "text": [
      "training\n"
     ]
    },
    {
     "name": "stderr",
     "output_type": "stream",
     "text": [
      "┌ Info: Epoch 907\n",
      "└ @ Main C:\\Users\\PC\\.julia\\packages\\Flux\\qp1gc\\src\\optimise\\train.jl:135\n"
     ]
    },
    {
     "name": "stdout",
     "output_type": "stream",
     "text": [
      "training\n"
     ]
    },
    {
     "name": "stderr",
     "output_type": "stream",
     "text": [
      "┌ Info: Epoch 908\n",
      "└ @ Main C:\\Users\\PC\\.julia\\packages\\Flux\\qp1gc\\src\\optimise\\train.jl:135\n"
     ]
    },
    {
     "name": "stdout",
     "output_type": "stream",
     "text": [
      "training\n"
     ]
    },
    {
     "name": "stderr",
     "output_type": "stream",
     "text": [
      "┌ Info: Epoch 909\n",
      "└ @ Main C:\\Users\\PC\\.julia\\packages\\Flux\\qp1gc\\src\\optimise\\train.jl:135\n"
     ]
    },
    {
     "name": "stdout",
     "output_type": "stream",
     "text": [
      "training\n"
     ]
    },
    {
     "name": "stderr",
     "output_type": "stream",
     "text": [
      "┌ Info: Epoch 910\n",
      "└ @ Main C:\\Users\\PC\\.julia\\packages\\Flux\\qp1gc\\src\\optimise\\train.jl:135\n"
     ]
    },
    {
     "name": "stdout",
     "output_type": "stream",
     "text": [
      "training\n"
     ]
    },
    {
     "name": "stderr",
     "output_type": "stream",
     "text": [
      "┌ Info: Epoch 911\n",
      "└ @ Main C:\\Users\\PC\\.julia\\packages\\Flux\\qp1gc\\src\\optimise\\train.jl:135\n"
     ]
    },
    {
     "name": "stdout",
     "output_type": "stream",
     "text": [
      "training\n"
     ]
    },
    {
     "name": "stderr",
     "output_type": "stream",
     "text": [
      "┌ Info: Epoch 912\n",
      "└ @ Main C:\\Users\\PC\\.julia\\packages\\Flux\\qp1gc\\src\\optimise\\train.jl:135\n"
     ]
    },
    {
     "name": "stdout",
     "output_type": "stream",
     "text": [
      "training\n"
     ]
    },
    {
     "name": "stderr",
     "output_type": "stream",
     "text": [
      "┌ Info: Epoch 913\n",
      "└ @ Main C:\\Users\\PC\\.julia\\packages\\Flux\\qp1gc\\src\\optimise\\train.jl:135\n"
     ]
    },
    {
     "name": "stdout",
     "output_type": "stream",
     "text": [
      "training\n"
     ]
    },
    {
     "name": "stderr",
     "output_type": "stream",
     "text": [
      "┌ Info: Epoch 914\n",
      "└ @ Main C:\\Users\\PC\\.julia\\packages\\Flux\\qp1gc\\src\\optimise\\train.jl:135\n"
     ]
    },
    {
     "name": "stdout",
     "output_type": "stream",
     "text": [
      "training\n"
     ]
    },
    {
     "name": "stderr",
     "output_type": "stream",
     "text": [
      "┌ Info: Epoch 915\n",
      "└ @ Main C:\\Users\\PC\\.julia\\packages\\Flux\\qp1gc\\src\\optimise\\train.jl:135\n"
     ]
    },
    {
     "name": "stdout",
     "output_type": "stream",
     "text": [
      "training\n"
     ]
    },
    {
     "name": "stderr",
     "output_type": "stream",
     "text": [
      "┌ Info: Epoch 916\n",
      "└ @ Main C:\\Users\\PC\\.julia\\packages\\Flux\\qp1gc\\src\\optimise\\train.jl:135\n"
     ]
    },
    {
     "name": "stdout",
     "output_type": "stream",
     "text": [
      "training\n"
     ]
    },
    {
     "name": "stderr",
     "output_type": "stream",
     "text": [
      "┌ Info: Epoch 917\n",
      "└ @ Main C:\\Users\\PC\\.julia\\packages\\Flux\\qp1gc\\src\\optimise\\train.jl:135\n"
     ]
    },
    {
     "name": "stdout",
     "output_type": "stream",
     "text": [
      "training\n"
     ]
    },
    {
     "name": "stderr",
     "output_type": "stream",
     "text": [
      "┌ Info: Epoch 918\n",
      "└ @ Main C:\\Users\\PC\\.julia\\packages\\Flux\\qp1gc\\src\\optimise\\train.jl:135\n"
     ]
    },
    {
     "name": "stdout",
     "output_type": "stream",
     "text": [
      "training\n"
     ]
    },
    {
     "name": "stderr",
     "output_type": "stream",
     "text": [
      "┌ Info: Epoch 919\n",
      "└ @ Main C:\\Users\\PC\\.julia\\packages\\Flux\\qp1gc\\src\\optimise\\train.jl:135\n"
     ]
    },
    {
     "name": "stdout",
     "output_type": "stream",
     "text": [
      "training\n"
     ]
    },
    {
     "name": "stderr",
     "output_type": "stream",
     "text": [
      "┌ Info: Epoch 920\n",
      "└ @ Main C:\\Users\\PC\\.julia\\packages\\Flux\\qp1gc\\src\\optimise\\train.jl:135\n"
     ]
    },
    {
     "name": "stdout",
     "output_type": "stream",
     "text": [
      "training\n"
     ]
    },
    {
     "name": "stderr",
     "output_type": "stream",
     "text": [
      "┌ Info: Epoch 921\n",
      "└ @ Main C:\\Users\\PC\\.julia\\packages\\Flux\\qp1gc\\src\\optimise\\train.jl:135\n"
     ]
    },
    {
     "name": "stdout",
     "output_type": "stream",
     "text": [
      "training\n"
     ]
    },
    {
     "name": "stderr",
     "output_type": "stream",
     "text": [
      "┌ Info: Epoch 922\n",
      "└ @ Main C:\\Users\\PC\\.julia\\packages\\Flux\\qp1gc\\src\\optimise\\train.jl:135\n"
     ]
    },
    {
     "name": "stdout",
     "output_type": "stream",
     "text": [
      "training\n"
     ]
    },
    {
     "name": "stderr",
     "output_type": "stream",
     "text": [
      "┌ Info: Epoch 923\n",
      "└ @ Main C:\\Users\\PC\\.julia\\packages\\Flux\\qp1gc\\src\\optimise\\train.jl:135\n"
     ]
    },
    {
     "name": "stdout",
     "output_type": "stream",
     "text": [
      "training\n"
     ]
    },
    {
     "name": "stderr",
     "output_type": "stream",
     "text": [
      "┌ Info: Epoch 924\n",
      "└ @ Main C:\\Users\\PC\\.julia\\packages\\Flux\\qp1gc\\src\\optimise\\train.jl:135\n"
     ]
    },
    {
     "name": "stdout",
     "output_type": "stream",
     "text": [
      "training\n"
     ]
    },
    {
     "name": "stderr",
     "output_type": "stream",
     "text": [
      "┌ Info: Epoch 925\n",
      "└ @ Main C:\\Users\\PC\\.julia\\packages\\Flux\\qp1gc\\src\\optimise\\train.jl:135\n"
     ]
    },
    {
     "name": "stdout",
     "output_type": "stream",
     "text": [
      "training\n"
     ]
    },
    {
     "name": "stderr",
     "output_type": "stream",
     "text": [
      "┌ Info: Epoch 926\n",
      "└ @ Main C:\\Users\\PC\\.julia\\packages\\Flux\\qp1gc\\src\\optimise\\train.jl:135\n"
     ]
    },
    {
     "name": "stdout",
     "output_type": "stream",
     "text": [
      "training\n"
     ]
    },
    {
     "name": "stderr",
     "output_type": "stream",
     "text": [
      "┌ Info: Epoch 927\n",
      "└ @ Main C:\\Users\\PC\\.julia\\packages\\Flux\\qp1gc\\src\\optimise\\train.jl:135\n"
     ]
    },
    {
     "name": "stdout",
     "output_type": "stream",
     "text": [
      "training\n"
     ]
    },
    {
     "name": "stderr",
     "output_type": "stream",
     "text": [
      "┌ Info: Epoch 928\n",
      "└ @ Main C:\\Users\\PC\\.julia\\packages\\Flux\\qp1gc\\src\\optimise\\train.jl:135\n"
     ]
    },
    {
     "name": "stdout",
     "output_type": "stream",
     "text": [
      "training\n"
     ]
    },
    {
     "name": "stderr",
     "output_type": "stream",
     "text": [
      "┌ Info: Epoch 929\n",
      "└ @ Main C:\\Users\\PC\\.julia\\packages\\Flux\\qp1gc\\src\\optimise\\train.jl:135\n"
     ]
    },
    {
     "name": "stdout",
     "output_type": "stream",
     "text": [
      "training\n"
     ]
    },
    {
     "name": "stderr",
     "output_type": "stream",
     "text": [
      "┌ Info: Epoch 930\n",
      "└ @ Main C:\\Users\\PC\\.julia\\packages\\Flux\\qp1gc\\src\\optimise\\train.jl:135\n"
     ]
    },
    {
     "name": "stdout",
     "output_type": "stream",
     "text": [
      "training\n"
     ]
    },
    {
     "name": "stderr",
     "output_type": "stream",
     "text": [
      "┌ Info: Epoch 931\n",
      "└ @ Main C:\\Users\\PC\\.julia\\packages\\Flux\\qp1gc\\src\\optimise\\train.jl:135\n"
     ]
    },
    {
     "name": "stdout",
     "output_type": "stream",
     "text": [
      "training\n"
     ]
    },
    {
     "name": "stderr",
     "output_type": "stream",
     "text": [
      "┌ Info: Epoch 932\n",
      "└ @ Main C:\\Users\\PC\\.julia\\packages\\Flux\\qp1gc\\src\\optimise\\train.jl:135\n"
     ]
    },
    {
     "name": "stdout",
     "output_type": "stream",
     "text": [
      "training\n"
     ]
    },
    {
     "name": "stderr",
     "output_type": "stream",
     "text": [
      "┌ Info: Epoch 933\n",
      "└ @ Main C:\\Users\\PC\\.julia\\packages\\Flux\\qp1gc\\src\\optimise\\train.jl:135\n"
     ]
    },
    {
     "name": "stdout",
     "output_type": "stream",
     "text": [
      "training\n"
     ]
    },
    {
     "name": "stderr",
     "output_type": "stream",
     "text": [
      "┌ Info: Epoch 934\n",
      "└ @ Main C:\\Users\\PC\\.julia\\packages\\Flux\\qp1gc\\src\\optimise\\train.jl:135\n"
     ]
    },
    {
     "name": "stdout",
     "output_type": "stream",
     "text": [
      "training\n"
     ]
    },
    {
     "name": "stderr",
     "output_type": "stream",
     "text": [
      "┌ Info: Epoch 935\n",
      "└ @ Main C:\\Users\\PC\\.julia\\packages\\Flux\\qp1gc\\src\\optimise\\train.jl:135\n"
     ]
    },
    {
     "name": "stdout",
     "output_type": "stream",
     "text": [
      "training\n"
     ]
    },
    {
     "name": "stderr",
     "output_type": "stream",
     "text": [
      "┌ Info: Epoch 936\n",
      "└ @ Main C:\\Users\\PC\\.julia\\packages\\Flux\\qp1gc\\src\\optimise\\train.jl:135\n"
     ]
    },
    {
     "name": "stdout",
     "output_type": "stream",
     "text": [
      "training\n"
     ]
    },
    {
     "name": "stderr",
     "output_type": "stream",
     "text": [
      "┌ Info: Epoch 937\n",
      "└ @ Main C:\\Users\\PC\\.julia\\packages\\Flux\\qp1gc\\src\\optimise\\train.jl:135\n"
     ]
    },
    {
     "name": "stdout",
     "output_type": "stream",
     "text": [
      "training\n"
     ]
    },
    {
     "name": "stderr",
     "output_type": "stream",
     "text": [
      "┌ Info: Epoch 938\n",
      "└ @ Main C:\\Users\\PC\\.julia\\packages\\Flux\\qp1gc\\src\\optimise\\train.jl:135\n"
     ]
    },
    {
     "name": "stdout",
     "output_type": "stream",
     "text": [
      "training\n"
     ]
    },
    {
     "name": "stderr",
     "output_type": "stream",
     "text": [
      "┌ Info: Epoch 939\n",
      "└ @ Main C:\\Users\\PC\\.julia\\packages\\Flux\\qp1gc\\src\\optimise\\train.jl:135\n"
     ]
    },
    {
     "name": "stdout",
     "output_type": "stream",
     "text": [
      "training\n"
     ]
    },
    {
     "name": "stderr",
     "output_type": "stream",
     "text": [
      "┌ Info: Epoch 940\n",
      "└ @ Main C:\\Users\\PC\\.julia\\packages\\Flux\\qp1gc\\src\\optimise\\train.jl:135\n"
     ]
    },
    {
     "name": "stdout",
     "output_type": "stream",
     "text": [
      "training\n"
     ]
    },
    {
     "name": "stderr",
     "output_type": "stream",
     "text": [
      "┌ Info: Epoch 941\n",
      "└ @ Main C:\\Users\\PC\\.julia\\packages\\Flux\\qp1gc\\src\\optimise\\train.jl:135\n"
     ]
    },
    {
     "name": "stdout",
     "output_type": "stream",
     "text": [
      "training\n"
     ]
    },
    {
     "name": "stderr",
     "output_type": "stream",
     "text": [
      "┌ Info: Epoch 942\n",
      "└ @ Main C:\\Users\\PC\\.julia\\packages\\Flux\\qp1gc\\src\\optimise\\train.jl:135\n"
     ]
    },
    {
     "name": "stdout",
     "output_type": "stream",
     "text": [
      "training\n"
     ]
    },
    {
     "name": "stderr",
     "output_type": "stream",
     "text": [
      "┌ Info: Epoch 943\n",
      "└ @ Main C:\\Users\\PC\\.julia\\packages\\Flux\\qp1gc\\src\\optimise\\train.jl:135\n"
     ]
    },
    {
     "name": "stdout",
     "output_type": "stream",
     "text": [
      "training\n"
     ]
    },
    {
     "name": "stderr",
     "output_type": "stream",
     "text": [
      "┌ Info: Epoch 944\n",
      "└ @ Main C:\\Users\\PC\\.julia\\packages\\Flux\\qp1gc\\src\\optimise\\train.jl:135\n"
     ]
    },
    {
     "name": "stdout",
     "output_type": "stream",
     "text": [
      "training\n"
     ]
    },
    {
     "name": "stderr",
     "output_type": "stream",
     "text": [
      "┌ Info: Epoch 945\n",
      "└ @ Main C:\\Users\\PC\\.julia\\packages\\Flux\\qp1gc\\src\\optimise\\train.jl:135\n"
     ]
    },
    {
     "name": "stdout",
     "output_type": "stream",
     "text": [
      "training\n"
     ]
    },
    {
     "name": "stderr",
     "output_type": "stream",
     "text": [
      "┌ Info: Epoch 946\n",
      "└ @ Main C:\\Users\\PC\\.julia\\packages\\Flux\\qp1gc\\src\\optimise\\train.jl:135\n"
     ]
    },
    {
     "name": "stdout",
     "output_type": "stream",
     "text": [
      "training\n"
     ]
    },
    {
     "name": "stderr",
     "output_type": "stream",
     "text": [
      "┌ Info: Epoch 947\n",
      "└ @ Main C:\\Users\\PC\\.julia\\packages\\Flux\\qp1gc\\src\\optimise\\train.jl:135\n"
     ]
    },
    {
     "name": "stdout",
     "output_type": "stream",
     "text": [
      "training\n"
     ]
    },
    {
     "name": "stderr",
     "output_type": "stream",
     "text": [
      "┌ Info: Epoch 948\n",
      "└ @ Main C:\\Users\\PC\\.julia\\packages\\Flux\\qp1gc\\src\\optimise\\train.jl:135\n"
     ]
    },
    {
     "name": "stdout",
     "output_type": "stream",
     "text": [
      "training\n"
     ]
    },
    {
     "name": "stderr",
     "output_type": "stream",
     "text": [
      "┌ Info: Epoch 949\n",
      "└ @ Main C:\\Users\\PC\\.julia\\packages\\Flux\\qp1gc\\src\\optimise\\train.jl:135\n"
     ]
    },
    {
     "name": "stdout",
     "output_type": "stream",
     "text": [
      "training\n"
     ]
    },
    {
     "name": "stderr",
     "output_type": "stream",
     "text": [
      "┌ Info: Epoch 950\n",
      "└ @ Main C:\\Users\\PC\\.julia\\packages\\Flux\\qp1gc\\src\\optimise\\train.jl:135\n"
     ]
    },
    {
     "name": "stdout",
     "output_type": "stream",
     "text": [
      "training\n"
     ]
    },
    {
     "name": "stderr",
     "output_type": "stream",
     "text": [
      "┌ Info: Epoch 951\n",
      "└ @ Main C:\\Users\\PC\\.julia\\packages\\Flux\\qp1gc\\src\\optimise\\train.jl:135\n"
     ]
    },
    {
     "name": "stdout",
     "output_type": "stream",
     "text": [
      "training\n"
     ]
    },
    {
     "name": "stderr",
     "output_type": "stream",
     "text": [
      "┌ Info: Epoch 952\n",
      "└ @ Main C:\\Users\\PC\\.julia\\packages\\Flux\\qp1gc\\src\\optimise\\train.jl:135\n"
     ]
    },
    {
     "name": "stdout",
     "output_type": "stream",
     "text": [
      "training\n"
     ]
    },
    {
     "name": "stderr",
     "output_type": "stream",
     "text": [
      "┌ Info: Epoch 953\n",
      "└ @ Main C:\\Users\\PC\\.julia\\packages\\Flux\\qp1gc\\src\\optimise\\train.jl:135\n"
     ]
    },
    {
     "name": "stdout",
     "output_type": "stream",
     "text": [
      "training\n"
     ]
    },
    {
     "name": "stderr",
     "output_type": "stream",
     "text": [
      "┌ Info: Epoch 954\n",
      "└ @ Main C:\\Users\\PC\\.julia\\packages\\Flux\\qp1gc\\src\\optimise\\train.jl:135\n"
     ]
    },
    {
     "name": "stdout",
     "output_type": "stream",
     "text": [
      "training\n"
     ]
    },
    {
     "name": "stderr",
     "output_type": "stream",
     "text": [
      "┌ Info: Epoch 955\n",
      "└ @ Main C:\\Users\\PC\\.julia\\packages\\Flux\\qp1gc\\src\\optimise\\train.jl:135\n"
     ]
    },
    {
     "name": "stdout",
     "output_type": "stream",
     "text": [
      "training\n"
     ]
    },
    {
     "name": "stderr",
     "output_type": "stream",
     "text": [
      "┌ Info: Epoch 956\n",
      "└ @ Main C:\\Users\\PC\\.julia\\packages\\Flux\\qp1gc\\src\\optimise\\train.jl:135\n"
     ]
    },
    {
     "name": "stdout",
     "output_type": "stream",
     "text": [
      "training\n"
     ]
    },
    {
     "name": "stderr",
     "output_type": "stream",
     "text": [
      "┌ Info: Epoch 957\n",
      "└ @ Main C:\\Users\\PC\\.julia\\packages\\Flux\\qp1gc\\src\\optimise\\train.jl:135\n"
     ]
    },
    {
     "name": "stdout",
     "output_type": "stream",
     "text": [
      "training\n"
     ]
    },
    {
     "name": "stderr",
     "output_type": "stream",
     "text": [
      "┌ Info: Epoch 958\n",
      "└ @ Main C:\\Users\\PC\\.julia\\packages\\Flux\\qp1gc\\src\\optimise\\train.jl:135\n"
     ]
    },
    {
     "name": "stdout",
     "output_type": "stream",
     "text": [
      "training\n"
     ]
    },
    {
     "name": "stderr",
     "output_type": "stream",
     "text": [
      "┌ Info: Epoch 959\n",
      "└ @ Main C:\\Users\\PC\\.julia\\packages\\Flux\\qp1gc\\src\\optimise\\train.jl:135\n"
     ]
    },
    {
     "name": "stdout",
     "output_type": "stream",
     "text": [
      "training\n"
     ]
    },
    {
     "name": "stderr",
     "output_type": "stream",
     "text": [
      "┌ Info: Epoch 960\n",
      "└ @ Main C:\\Users\\PC\\.julia\\packages\\Flux\\qp1gc\\src\\optimise\\train.jl:135\n"
     ]
    },
    {
     "name": "stdout",
     "output_type": "stream",
     "text": [
      "training\n"
     ]
    },
    {
     "name": "stderr",
     "output_type": "stream",
     "text": [
      "┌ Info: Epoch 961\n",
      "└ @ Main C:\\Users\\PC\\.julia\\packages\\Flux\\qp1gc\\src\\optimise\\train.jl:135\n"
     ]
    },
    {
     "name": "stdout",
     "output_type": "stream",
     "text": [
      "training"
     ]
    },
    {
     "name": "stderr",
     "output_type": "stream",
     "text": [
      "┌ Info: Epoch 962\n",
      "└ @ Main C:\\Users\\PC\\.julia\\packages\\Flux\\qp1gc\\src\\optimise\\train.jl:135\n"
     ]
    },
    {
     "name": "stdout",
     "output_type": "stream",
     "text": [
      "\n",
      "training\n"
     ]
    },
    {
     "name": "stderr",
     "output_type": "stream",
     "text": [
      "┌ Info: Epoch 963\n",
      "└ @ Main C:\\Users\\PC\\.julia\\packages\\Flux\\qp1gc\\src\\optimise\\train.jl:135\n"
     ]
    },
    {
     "name": "stdout",
     "output_type": "stream",
     "text": [
      "training\n"
     ]
    },
    {
     "name": "stderr",
     "output_type": "stream",
     "text": [
      "┌ Info: Epoch 964\n",
      "└ @ Main C:\\Users\\PC\\.julia\\packages\\Flux\\qp1gc\\src\\optimise\\train.jl:135\n"
     ]
    },
    {
     "name": "stdout",
     "output_type": "stream",
     "text": [
      "training\n"
     ]
    },
    {
     "name": "stderr",
     "output_type": "stream",
     "text": [
      "┌ Info: Epoch 965\n",
      "└ @ Main C:\\Users\\PC\\.julia\\packages\\Flux\\qp1gc\\src\\optimise\\train.jl:135\n"
     ]
    },
    {
     "name": "stdout",
     "output_type": "stream",
     "text": [
      "training\n"
     ]
    },
    {
     "name": "stderr",
     "output_type": "stream",
     "text": [
      "┌ Info: Epoch 966\n",
      "└ @ Main C:\\Users\\PC\\.julia\\packages\\Flux\\qp1gc\\src\\optimise\\train.jl:135\n"
     ]
    },
    {
     "name": "stdout",
     "output_type": "stream",
     "text": [
      "training\n"
     ]
    },
    {
     "name": "stderr",
     "output_type": "stream",
     "text": [
      "┌ Info: Epoch 967\n",
      "└ @ Main C:\\Users\\PC\\.julia\\packages\\Flux\\qp1gc\\src\\optimise\\train.jl:135\n"
     ]
    },
    {
     "name": "stdout",
     "output_type": "stream",
     "text": [
      "training\n"
     ]
    },
    {
     "name": "stderr",
     "output_type": "stream",
     "text": [
      "┌ Info: Epoch 968\n",
      "└ @ Main C:\\Users\\PC\\.julia\\packages\\Flux\\qp1gc\\src\\optimise\\train.jl:135\n"
     ]
    },
    {
     "name": "stdout",
     "output_type": "stream",
     "text": [
      "training\n"
     ]
    },
    {
     "name": "stderr",
     "output_type": "stream",
     "text": [
      "┌ Info: Epoch 969\n",
      "└ @ Main C:\\Users\\PC\\.julia\\packages\\Flux\\qp1gc\\src\\optimise\\train.jl:135\n"
     ]
    },
    {
     "name": "stdout",
     "output_type": "stream",
     "text": [
      "training\n"
     ]
    },
    {
     "name": "stderr",
     "output_type": "stream",
     "text": [
      "┌ Info: Epoch 970\n",
      "└ @ Main C:\\Users\\PC\\.julia\\packages\\Flux\\qp1gc\\src\\optimise\\train.jl:135\n"
     ]
    },
    {
     "name": "stdout",
     "output_type": "stream",
     "text": [
      "training\n"
     ]
    },
    {
     "name": "stderr",
     "output_type": "stream",
     "text": [
      "┌ Info: Epoch 971\n",
      "└ @ Main C:\\Users\\PC\\.julia\\packages\\Flux\\qp1gc\\src\\optimise\\train.jl:135\n"
     ]
    },
    {
     "name": "stdout",
     "output_type": "stream",
     "text": [
      "training\n"
     ]
    },
    {
     "name": "stderr",
     "output_type": "stream",
     "text": [
      "┌ Info: Epoch 972\n",
      "└ @ Main C:\\Users\\PC\\.julia\\packages\\Flux\\qp1gc\\src\\optimise\\train.jl:135\n"
     ]
    },
    {
     "name": "stdout",
     "output_type": "stream",
     "text": [
      "training\n"
     ]
    },
    {
     "name": "stderr",
     "output_type": "stream",
     "text": [
      "┌ Info: Epoch 973\n",
      "└ @ Main C:\\Users\\PC\\.julia\\packages\\Flux\\qp1gc\\src\\optimise\\train.jl:135\n"
     ]
    },
    {
     "name": "stdout",
     "output_type": "stream",
     "text": [
      "training\n"
     ]
    },
    {
     "name": "stderr",
     "output_type": "stream",
     "text": [
      "┌ Info: Epoch 974\n",
      "└ @ Main C:\\Users\\PC\\.julia\\packages\\Flux\\qp1gc\\src\\optimise\\train.jl:135\n"
     ]
    },
    {
     "name": "stdout",
     "output_type": "stream",
     "text": [
      "training\n"
     ]
    },
    {
     "name": "stderr",
     "output_type": "stream",
     "text": [
      "┌ Info: Epoch 975\n",
      "└ @ Main C:\\Users\\PC\\.julia\\packages\\Flux\\qp1gc\\src\\optimise\\train.jl:135\n"
     ]
    },
    {
     "name": "stdout",
     "output_type": "stream",
     "text": [
      "training\n"
     ]
    },
    {
     "name": "stderr",
     "output_type": "stream",
     "text": [
      "┌ Info: Epoch 976\n",
      "└ @ Main C:\\Users\\PC\\.julia\\packages\\Flux\\qp1gc\\src\\optimise\\train.jl:135\n"
     ]
    },
    {
     "name": "stdout",
     "output_type": "stream",
     "text": [
      "training\n"
     ]
    },
    {
     "name": "stderr",
     "output_type": "stream",
     "text": [
      "┌ Info: Epoch 977\n",
      "└ @ Main C:\\Users\\PC\\.julia\\packages\\Flux\\qp1gc\\src\\optimise\\train.jl:135\n"
     ]
    },
    {
     "name": "stdout",
     "output_type": "stream",
     "text": [
      "training\n"
     ]
    },
    {
     "name": "stderr",
     "output_type": "stream",
     "text": [
      "┌ Info: Epoch 978\n",
      "└ @ Main C:\\Users\\PC\\.julia\\packages\\Flux\\qp1gc\\src\\optimise\\train.jl:135\n"
     ]
    },
    {
     "name": "stdout",
     "output_type": "stream",
     "text": [
      "training\n"
     ]
    },
    {
     "name": "stderr",
     "output_type": "stream",
     "text": [
      "┌ Info: Epoch 979\n",
      "└ @ Main C:\\Users\\PC\\.julia\\packages\\Flux\\qp1gc\\src\\optimise\\train.jl:135\n"
     ]
    },
    {
     "name": "stdout",
     "output_type": "stream",
     "text": [
      "training\n"
     ]
    },
    {
     "name": "stderr",
     "output_type": "stream",
     "text": [
      "┌ Info: Epoch 980\n",
      "└ @ Main C:\\Users\\PC\\.julia\\packages\\Flux\\qp1gc\\src\\optimise\\train.jl:135\n"
     ]
    },
    {
     "name": "stdout",
     "output_type": "stream",
     "text": [
      "training\n"
     ]
    },
    {
     "name": "stderr",
     "output_type": "stream",
     "text": [
      "┌ Info: Epoch 981\n",
      "└ @ Main C:\\Users\\PC\\.julia\\packages\\Flux\\qp1gc\\src\\optimise\\train.jl:135\n"
     ]
    },
    {
     "name": "stdout",
     "output_type": "stream",
     "text": [
      "training\n"
     ]
    },
    {
     "name": "stderr",
     "output_type": "stream",
     "text": [
      "┌ Info: Epoch 982\n",
      "└ @ Main C:\\Users\\PC\\.julia\\packages\\Flux\\qp1gc\\src\\optimise\\train.jl:135\n"
     ]
    },
    {
     "name": "stdout",
     "output_type": "stream",
     "text": [
      "training\n"
     ]
    },
    {
     "name": "stderr",
     "output_type": "stream",
     "text": [
      "┌ Info: Epoch 983\n",
      "└ @ Main C:\\Users\\PC\\.julia\\packages\\Flux\\qp1gc\\src\\optimise\\train.jl:135\n"
     ]
    },
    {
     "name": "stdout",
     "output_type": "stream",
     "text": [
      "training\n"
     ]
    },
    {
     "name": "stderr",
     "output_type": "stream",
     "text": [
      "┌ Info: Epoch 984\n",
      "└ @ Main C:\\Users\\PC\\.julia\\packages\\Flux\\qp1gc\\src\\optimise\\train.jl:135\n"
     ]
    },
    {
     "name": "stdout",
     "output_type": "stream",
     "text": [
      "training\n"
     ]
    },
    {
     "name": "stderr",
     "output_type": "stream",
     "text": [
      "┌ Info: Epoch 985\n",
      "└ @ Main C:\\Users\\PC\\.julia\\packages\\Flux\\qp1gc\\src\\optimise\\train.jl:135\n"
     ]
    },
    {
     "name": "stdout",
     "output_type": "stream",
     "text": [
      "training\n"
     ]
    },
    {
     "name": "stderr",
     "output_type": "stream",
     "text": [
      "┌ Info: Epoch 986\n",
      "└ @ Main C:\\Users\\PC\\.julia\\packages\\Flux\\qp1gc\\src\\optimise\\train.jl:135\n"
     ]
    },
    {
     "name": "stdout",
     "output_type": "stream",
     "text": [
      "training\n"
     ]
    },
    {
     "name": "stderr",
     "output_type": "stream",
     "text": [
      "┌ Info: Epoch 987\n",
      "└ @ Main C:\\Users\\PC\\.julia\\packages\\Flux\\qp1gc\\src\\optimise\\train.jl:135\n"
     ]
    },
    {
     "name": "stdout",
     "output_type": "stream",
     "text": [
      "training\n"
     ]
    },
    {
     "name": "stderr",
     "output_type": "stream",
     "text": [
      "┌ Info: Epoch 988\n",
      "└ @ Main C:\\Users\\PC\\.julia\\packages\\Flux\\qp1gc\\src\\optimise\\train.jl:135\n"
     ]
    },
    {
     "name": "stdout",
     "output_type": "stream",
     "text": [
      "training\n"
     ]
    },
    {
     "name": "stderr",
     "output_type": "stream",
     "text": [
      "┌ Info: Epoch 989\n",
      "└ @ Main C:\\Users\\PC\\.julia\\packages\\Flux\\qp1gc\\src\\optimise\\train.jl:135\n"
     ]
    },
    {
     "name": "stdout",
     "output_type": "stream",
     "text": [
      "training\n"
     ]
    },
    {
     "name": "stderr",
     "output_type": "stream",
     "text": [
      "┌ Info: Epoch 990\n",
      "└ @ Main C:\\Users\\PC\\.julia\\packages\\Flux\\qp1gc\\src\\optimise\\train.jl:135\n"
     ]
    },
    {
     "name": "stdout",
     "output_type": "stream",
     "text": [
      "training\n"
     ]
    },
    {
     "name": "stderr",
     "output_type": "stream",
     "text": [
      "┌ Info: Epoch 991\n",
      "└ @ Main C:\\Users\\PC\\.julia\\packages\\Flux\\qp1gc\\src\\optimise\\train.jl:135\n"
     ]
    },
    {
     "name": "stdout",
     "output_type": "stream",
     "text": [
      "training\n"
     ]
    },
    {
     "name": "stderr",
     "output_type": "stream",
     "text": [
      "┌ Info: Epoch 992\n",
      "└ @ Main C:\\Users\\PC\\.julia\\packages\\Flux\\qp1gc\\src\\optimise\\train.jl:135\n"
     ]
    },
    {
     "name": "stdout",
     "output_type": "stream",
     "text": [
      "training\n"
     ]
    },
    {
     "name": "stderr",
     "output_type": "stream",
     "text": [
      "┌ Info: Epoch 993\n",
      "└ @ Main C:\\Users\\PC\\.julia\\packages\\Flux\\qp1gc\\src\\optimise\\train.jl:135\n"
     ]
    },
    {
     "name": "stdout",
     "output_type": "stream",
     "text": [
      "training\n"
     ]
    },
    {
     "name": "stderr",
     "output_type": "stream",
     "text": [
      "┌ Info: Epoch 994\n",
      "└ @ Main C:\\Users\\PC\\.julia\\packages\\Flux\\qp1gc\\src\\optimise\\train.jl:135\n"
     ]
    },
    {
     "name": "stdout",
     "output_type": "stream",
     "text": [
      "training\n"
     ]
    },
    {
     "name": "stderr",
     "output_type": "stream",
     "text": [
      "┌ Info: Epoch 995\n",
      "└ @ Main C:\\Users\\PC\\.julia\\packages\\Flux\\qp1gc\\src\\optimise\\train.jl:135\n"
     ]
    },
    {
     "name": "stdout",
     "output_type": "stream",
     "text": [
      "training\n"
     ]
    },
    {
     "name": "stderr",
     "output_type": "stream",
     "text": [
      "┌ Info: Epoch 996\n",
      "└ @ Main C:\\Users\\PC\\.julia\\packages\\Flux\\qp1gc\\src\\optimise\\train.jl:135\n"
     ]
    },
    {
     "name": "stdout",
     "output_type": "stream",
     "text": [
      "training\n"
     ]
    },
    {
     "name": "stderr",
     "output_type": "stream",
     "text": [
      "┌ Info: Epoch 997\n",
      "└ @ Main C:\\Users\\PC\\.julia\\packages\\Flux\\qp1gc\\src\\optimise\\train.jl:135\n"
     ]
    },
    {
     "name": "stdout",
     "output_type": "stream",
     "text": [
      "training\n"
     ]
    },
    {
     "name": "stderr",
     "output_type": "stream",
     "text": [
      "┌ Info: Epoch 998\n",
      "└ @ Main C:\\Users\\PC\\.julia\\packages\\Flux\\qp1gc\\src\\optimise\\train.jl:135\n"
     ]
    },
    {
     "name": "stdout",
     "output_type": "stream",
     "text": [
      "training\n"
     ]
    },
    {
     "name": "stderr",
     "output_type": "stream",
     "text": [
      "┌ Info: Epoch 999\n",
      "└ @ Main C:\\Users\\PC\\.julia\\packages\\Flux\\qp1gc\\src\\optimise\\train.jl:135\n"
     ]
    },
    {
     "name": "stdout",
     "output_type": "stream",
     "text": [
      "training\n"
     ]
    },
    {
     "name": "stderr",
     "output_type": "stream",
     "text": [
      "┌ Info: Epoch 1000\n",
      "└ @ Main C:\\Users\\PC\\.julia\\packages\\Flux\\qp1gc\\src\\optimise\\train.jl:135\n"
     ]
    }
   ],
   "source": [
    "# training the network \n",
    "\n",
    "#@epochs 1000 Flux.train!(loss, ps, data, opt, cb = throttle(() -> println(\"training\"), 10))\n",
    "@epochs 1000 Flux.train!(loss, ps, data, opt1, cb = throttle(() -> println(\"training\"), 10))"
   ]
  },
  {
   "cell_type": "markdown",
   "metadata": {},
   "source": [
    "After training the neural network, we can evaluate the performance of our model on the test sample."
   ]
  },
  {
   "cell_type": "code",
   "execution_count": null,
   "metadata": {
    "execution": {
     "iopub.execute_input": "2021-03-28T13:29:15.427188Z",
     "iopub.status.busy": "2021-03-28T13:29:15.425758Z",
     "iopub.status.idle": "2021-03-28T13:29:15.613538Z",
     "shell.execute_reply": "2021-03-28T13:29:15.612330Z"
    },
    "papermill": {
     "duration": 0.201132,
     "end_time": "2021-03-28T13:29:15.613661",
     "exception": false,
     "start_time": "2021-03-28T13:29:15.412529",
     "status": "completed"
    },
    "tags": []
   },
   "outputs": [],
   "source": [
    "# # evaluating the performnace\n",
    "# model %>% evaluate(model_X_basic_test, Y_test, verbose = 0)"
   ]
  },
  {
   "cell_type": "code",
   "execution_count": 93,
   "metadata": {},
   "outputs": [
    {
     "name": "stdout",
     "output_type": "stream",
     "text": [
      "coef(MSE_nn_basic) = [0.9299250584273192]\n",
      "stderror(MSE_nn_basic) = [0.052566401001302235]\n",
      "The R^2 using NN is equal to [0.11516006433982762]\n"
     ]
    }
   ],
   "source": [
    "# Calculating the performance measures \n",
    "\n",
    "pred_nn = model(model_X_basic_test')'\n",
    "# We change the type of this variable in order to make numeric operations\n",
    "pred_nn = vec(pred_nn)\n",
    "\n",
    "resid_basic = (Y_test .- pred_nn).^2\n",
    "\n",
    "one = vec(ones(size(Y_test,1),1))\n",
    "\n",
    "resid_basic = DataFrame([resid_basic], [:resid_basic])\n",
    "\n",
    "one = DataFrame([one], [:one])\n",
    "data_aux = [resid_basic one]\n",
    "\n",
    "fm = @formula(resid_basic ~ 0 + one)\n",
    "\n",
    "MSE_nn_basic = lm(fm, data_aux, dropcollinear=false)\n",
    "\n",
    "@show coef(MSE_nn_basic)\n",
    "@show stderror(MSE_nn_basic)\n",
    "\n",
    "R2_nn_basic = 1 .- (coef(MSE_nn_basic) / var(Y_test))\n",
    "println(\"The R^2 using NN is equal to \", R2_nn_basic) # MSE NN (basic model) "
   ]
  },
  {
   "cell_type": "code",
   "execution_count": 94,
   "metadata": {},
   "outputs": [
    {
     "data": {
      "image/svg+xml": [
       "<?xml version=\"1.0\" encoding=\"utf-8\"?>\n",
       "<svg xmlns=\"http://www.w3.org/2000/svg\" xmlns:xlink=\"http://www.w3.org/1999/xlink\" width=\"950\" height=\"600\" viewBox=\"0 0 3800 2400\">\n",
       "<defs>\n",
       "  <clipPath id=\"clip850\">\n",
       "    <rect x=\"0\" y=\"0\" width=\"3800\" height=\"2400\"/>\n",
       "  </clipPath>\n",
       "</defs>\n",
       "<path clip-path=\"url(#clip850)\" d=\"\n",
       "M0 2400 L3800 2400 L3800 0 L0 0  Z\n",
       "  \" fill=\"#ffffff\" fill-rule=\"evenodd\" fill-opacity=\"1\"/>\n",
       "<defs>\n",
       "  <clipPath id=\"clip851\">\n",
       "    <rect x=\"760\" y=\"0\" width=\"2661\" height=\"2400\"/>\n",
       "  </clipPath>\n",
       "</defs>\n",
       "<path clip-path=\"url(#clip850)\" d=\"\n",
       "M161.108 2280.27 L3752.76 2280.27 L3752.76 47.2441 L161.108 47.2441  Z\n",
       "  \" fill=\"#ffffff\" fill-rule=\"evenodd\" fill-opacity=\"1\"/>\n",
       "<defs>\n",
       "  <clipPath id=\"clip852\">\n",
       "    <rect x=\"161\" y=\"47\" width=\"3593\" height=\"2234\"/>\n",
       "  </clipPath>\n",
       "</defs>\n",
       "<polyline clip-path=\"url(#clip852)\" style=\"stroke:#000000; stroke-linecap:butt; stroke-linejoin:round; stroke-width:2; stroke-opacity:0.1; fill:none\" points=\"\n",
       "  260.125,2280.27 260.125,47.2441 \n",
       "  \"/>\n",
       "<polyline clip-path=\"url(#clip852)\" style=\"stroke:#000000; stroke-linecap:butt; stroke-linejoin:round; stroke-width:2; stroke-opacity:0.1; fill:none\" points=\"\n",
       "  786.675,2280.27 786.675,47.2441 \n",
       "  \"/>\n",
       "<polyline clip-path=\"url(#clip852)\" style=\"stroke:#000000; stroke-linecap:butt; stroke-linejoin:round; stroke-width:2; stroke-opacity:0.1; fill:none\" points=\"\n",
       "  1313.22,2280.27 1313.22,47.2441 \n",
       "  \"/>\n",
       "<polyline clip-path=\"url(#clip852)\" style=\"stroke:#000000; stroke-linecap:butt; stroke-linejoin:round; stroke-width:2; stroke-opacity:0.1; fill:none\" points=\"\n",
       "  1839.77,2280.27 1839.77,47.2441 \n",
       "  \"/>\n",
       "<polyline clip-path=\"url(#clip852)\" style=\"stroke:#000000; stroke-linecap:butt; stroke-linejoin:round; stroke-width:2; stroke-opacity:0.1; fill:none\" points=\"\n",
       "  2366.32,2280.27 2366.32,47.2441 \n",
       "  \"/>\n",
       "<polyline clip-path=\"url(#clip852)\" style=\"stroke:#000000; stroke-linecap:butt; stroke-linejoin:round; stroke-width:2; stroke-opacity:0.1; fill:none\" points=\"\n",
       "  2892.87,2280.27 2892.87,47.2441 \n",
       "  \"/>\n",
       "<polyline clip-path=\"url(#clip852)\" style=\"stroke:#000000; stroke-linecap:butt; stroke-linejoin:round; stroke-width:2; stroke-opacity:0.1; fill:none\" points=\"\n",
       "  3419.42,2280.27 3419.42,47.2441 \n",
       "  \"/>\n",
       "<polyline clip-path=\"url(#clip850)\" style=\"stroke:#000000; stroke-linecap:butt; stroke-linejoin:round; stroke-width:4; stroke-opacity:1; fill:none\" points=\"\n",
       "  161.108,2280.27 3752.76,2280.27 \n",
       "  \"/>\n",
       "<polyline clip-path=\"url(#clip850)\" style=\"stroke:#000000; stroke-linecap:butt; stroke-linejoin:round; stroke-width:4; stroke-opacity:1; fill:none\" points=\"\n",
       "  260.125,2280.27 260.125,2261.37 \n",
       "  \"/>\n",
       "<polyline clip-path=\"url(#clip850)\" style=\"stroke:#000000; stroke-linecap:butt; stroke-linejoin:round; stroke-width:4; stroke-opacity:1; fill:none\" points=\"\n",
       "  786.675,2280.27 786.675,2261.37 \n",
       "  \"/>\n",
       "<polyline clip-path=\"url(#clip850)\" style=\"stroke:#000000; stroke-linecap:butt; stroke-linejoin:round; stroke-width:4; stroke-opacity:1; fill:none\" points=\"\n",
       "  1313.22,2280.27 1313.22,2261.37 \n",
       "  \"/>\n",
       "<polyline clip-path=\"url(#clip850)\" style=\"stroke:#000000; stroke-linecap:butt; stroke-linejoin:round; stroke-width:4; stroke-opacity:1; fill:none\" points=\"\n",
       "  1839.77,2280.27 1839.77,2261.37 \n",
       "  \"/>\n",
       "<polyline clip-path=\"url(#clip850)\" style=\"stroke:#000000; stroke-linecap:butt; stroke-linejoin:round; stroke-width:4; stroke-opacity:1; fill:none\" points=\"\n",
       "  2366.32,2280.27 2366.32,2261.37 \n",
       "  \"/>\n",
       "<polyline clip-path=\"url(#clip850)\" style=\"stroke:#000000; stroke-linecap:butt; stroke-linejoin:round; stroke-width:4; stroke-opacity:1; fill:none\" points=\"\n",
       "  2892.87,2280.27 2892.87,2261.37 \n",
       "  \"/>\n",
       "<polyline clip-path=\"url(#clip850)\" style=\"stroke:#000000; stroke-linecap:butt; stroke-linejoin:round; stroke-width:4; stroke-opacity:1; fill:none\" points=\"\n",
       "  3419.42,2280.27 3419.42,2261.37 \n",
       "  \"/>\n",
       "<path clip-path=\"url(#clip850)\" d=\"M260.125 2322.39 Q256.514 2322.39 254.685 2325.95 Q252.88 2329.49 252.88 2336.62 Q252.88 2343.73 254.685 2347.29 Q256.514 2350.83 260.125 2350.83 Q263.759 2350.83 265.565 2347.29 Q267.394 2343.73 267.394 2336.62 Q267.394 2329.49 265.565 2325.95 Q263.759 2322.39 260.125 2322.39 M260.125 2318.68 Q265.935 2318.68 268.991 2323.29 Q272.07 2327.87 272.07 2336.62 Q272.07 2345.35 268.991 2349.95 Q265.935 2354.54 260.125 2354.54 Q254.315 2354.54 251.236 2349.95 Q248.181 2345.35 248.181 2336.62 Q248.181 2327.87 251.236 2323.29 Q254.315 2318.68 260.125 2318.68 Z\" fill=\"#000000\" fill-rule=\"evenodd\" fill-opacity=\"1\" /><path clip-path=\"url(#clip850)\" d=\"M750.367 2349.93 L766.687 2349.93 L766.687 2353.87 L744.742 2353.87 L744.742 2349.93 Q747.404 2347.18 751.988 2342.55 Q756.594 2337.89 757.775 2336.55 Q760.02 2334.03 760.9 2332.29 Q761.802 2330.53 761.802 2328.84 Q761.802 2326.09 759.858 2324.35 Q757.937 2322.62 754.835 2322.62 Q752.636 2322.62 750.182 2323.38 Q747.752 2324.14 744.974 2325.7 L744.974 2320.97 Q747.798 2319.84 750.252 2319.26 Q752.705 2318.68 754.742 2318.68 Q760.113 2318.68 763.307 2321.37 Q766.501 2324.05 766.501 2328.54 Q766.501 2330.67 765.691 2332.59 Q764.904 2334.49 762.798 2337.08 Q762.219 2337.76 759.117 2340.97 Q756.015 2344.17 750.367 2349.93 Z\" fill=\"#000000\" fill-rule=\"evenodd\" fill-opacity=\"1\" /><path clip-path=\"url(#clip850)\" d=\"M786.501 2322.39 Q782.89 2322.39 781.062 2325.95 Q779.256 2329.49 779.256 2336.62 Q779.256 2343.73 781.062 2347.29 Q782.89 2350.83 786.501 2350.83 Q790.136 2350.83 791.941 2347.29 Q793.77 2343.73 793.77 2336.62 Q793.77 2329.49 791.941 2325.95 Q790.136 2322.39 786.501 2322.39 M786.501 2318.68 Q792.311 2318.68 795.367 2323.29 Q798.446 2327.87 798.446 2336.62 Q798.446 2345.35 795.367 2349.95 Q792.311 2354.54 786.501 2354.54 Q780.691 2354.54 777.612 2349.95 Q774.557 2345.35 774.557 2336.62 Q774.557 2327.87 777.612 2323.29 Q780.691 2318.68 786.501 2318.68 Z\" fill=\"#000000\" fill-rule=\"evenodd\" fill-opacity=\"1\" /><path clip-path=\"url(#clip850)\" d=\"M816.663 2322.39 Q813.052 2322.39 811.223 2325.95 Q809.418 2329.49 809.418 2336.62 Q809.418 2343.73 811.223 2347.29 Q813.052 2350.83 816.663 2350.83 Q820.297 2350.83 822.103 2347.29 Q823.932 2343.73 823.932 2336.62 Q823.932 2329.49 822.103 2325.95 Q820.297 2322.39 816.663 2322.39 M816.663 2318.68 Q822.473 2318.68 825.529 2323.29 Q828.608 2327.87 828.608 2336.62 Q828.608 2345.35 825.529 2349.95 Q822.473 2354.54 816.663 2354.54 Q810.853 2354.54 807.774 2349.95 Q804.719 2345.35 804.719 2336.62 Q804.719 2327.87 807.774 2323.29 Q810.853 2318.68 816.663 2318.68 Z\" fill=\"#000000\" fill-rule=\"evenodd\" fill-opacity=\"1\" /><path clip-path=\"url(#clip850)\" d=\"M1286.32 2323.38 L1274.51 2341.83 L1286.32 2341.83 L1286.32 2323.38 M1285.09 2319.31 L1290.97 2319.31 L1290.97 2341.83 L1295.9 2341.83 L1295.9 2345.72 L1290.97 2345.72 L1290.97 2353.87 L1286.32 2353.87 L1286.32 2345.72 L1270.71 2345.72 L1270.71 2341.2 L1285.09 2319.31 Z\" fill=\"#000000\" fill-rule=\"evenodd\" fill-opacity=\"1\" /><path clip-path=\"url(#clip850)\" d=\"M1313.63 2322.39 Q1310.02 2322.39 1308.19 2325.95 Q1306.38 2329.49 1306.38 2336.62 Q1306.38 2343.73 1308.19 2347.29 Q1310.02 2350.83 1313.63 2350.83 Q1317.26 2350.83 1319.07 2347.29 Q1320.9 2343.73 1320.9 2336.62 Q1320.9 2329.49 1319.07 2325.95 Q1317.26 2322.39 1313.63 2322.39 M1313.63 2318.68 Q1319.44 2318.68 1322.5 2323.29 Q1325.57 2327.87 1325.57 2336.62 Q1325.57 2345.35 1322.5 2349.95 Q1319.44 2354.54 1313.63 2354.54 Q1307.82 2354.54 1304.74 2349.95 Q1301.69 2345.35 1301.69 2336.62 Q1301.69 2327.87 1304.74 2323.29 Q1307.82 2318.68 1313.63 2318.68 Z\" fill=\"#000000\" fill-rule=\"evenodd\" fill-opacity=\"1\" /><path clip-path=\"url(#clip850)\" d=\"M1343.79 2322.39 Q1340.18 2322.39 1338.35 2325.95 Q1336.55 2329.49 1336.55 2336.62 Q1336.55 2343.73 1338.35 2347.29 Q1340.18 2350.83 1343.79 2350.83 Q1347.43 2350.83 1349.23 2347.29 Q1351.06 2343.73 1351.06 2336.62 Q1351.06 2329.49 1349.23 2325.95 Q1347.43 2322.39 1343.79 2322.39 M1343.79 2318.68 Q1349.6 2318.68 1352.66 2323.29 Q1355.74 2327.87 1355.74 2336.62 Q1355.74 2345.35 1352.66 2349.95 Q1349.6 2354.54 1343.79 2354.54 Q1337.98 2354.54 1334.9 2349.95 Q1331.85 2345.35 1331.85 2336.62 Q1331.85 2327.87 1334.9 2323.29 Q1337.98 2318.68 1343.79 2318.68 Z\" fill=\"#000000\" fill-rule=\"evenodd\" fill-opacity=\"1\" /><path clip-path=\"url(#clip850)\" d=\"M1810.1 2334.72 Q1806.95 2334.72 1805.1 2336.88 Q1803.27 2339.03 1803.27 2342.78 Q1803.27 2346.51 1805.1 2348.68 Q1806.95 2350.83 1810.1 2350.83 Q1813.25 2350.83 1815.08 2348.68 Q1816.93 2346.51 1816.93 2342.78 Q1816.93 2339.03 1815.08 2336.88 Q1813.25 2334.72 1810.1 2334.72 M1819.38 2320.07 L1819.38 2324.33 Q1817.62 2323.5 1815.82 2323.06 Q1814.03 2322.62 1812.27 2322.62 Q1807.64 2322.62 1805.19 2325.74 Q1802.76 2328.87 1802.41 2335.19 Q1803.78 2333.17 1805.84 2332.11 Q1807.9 2331.02 1810.38 2331.02 Q1815.58 2331.02 1818.59 2334.19 Q1821.63 2337.34 1821.63 2342.78 Q1821.63 2348.1 1818.48 2351.32 Q1815.33 2354.54 1810.1 2354.54 Q1804.1 2354.54 1800.93 2349.95 Q1797.76 2345.35 1797.76 2336.62 Q1797.76 2328.43 1801.65 2323.57 Q1805.54 2318.68 1812.09 2318.68 Q1813.85 2318.68 1815.63 2319.03 Q1817.44 2319.38 1819.38 2320.07 Z\" fill=\"#000000\" fill-rule=\"evenodd\" fill-opacity=\"1\" /><path clip-path=\"url(#clip850)\" d=\"M1839.68 2322.39 Q1836.07 2322.39 1834.24 2325.95 Q1832.44 2329.49 1832.44 2336.62 Q1832.44 2343.73 1834.24 2347.29 Q1836.07 2350.83 1839.68 2350.83 Q1843.32 2350.83 1845.12 2347.29 Q1846.95 2343.73 1846.95 2336.62 Q1846.95 2329.49 1845.12 2325.95 Q1843.32 2322.39 1839.68 2322.39 M1839.68 2318.68 Q1845.49 2318.68 1848.55 2323.29 Q1851.63 2327.87 1851.63 2336.62 Q1851.63 2345.35 1848.55 2349.95 Q1845.49 2354.54 1839.68 2354.54 Q1833.87 2354.54 1830.79 2349.95 Q1827.74 2345.35 1827.74 2336.62 Q1827.74 2327.87 1830.79 2323.29 Q1833.87 2318.68 1839.68 2318.68 Z\" fill=\"#000000\" fill-rule=\"evenodd\" fill-opacity=\"1\" /><path clip-path=\"url(#clip850)\" d=\"M1869.84 2322.39 Q1866.23 2322.39 1864.4 2325.95 Q1862.6 2329.49 1862.6 2336.62 Q1862.6 2343.73 1864.4 2347.29 Q1866.23 2350.83 1869.84 2350.83 Q1873.48 2350.83 1875.28 2347.29 Q1877.11 2343.73 1877.11 2336.62 Q1877.11 2329.49 1875.28 2325.95 Q1873.48 2322.39 1869.84 2322.39 M1869.84 2318.68 Q1875.65 2318.68 1878.71 2323.29 Q1881.79 2327.87 1881.79 2336.62 Q1881.79 2345.35 1878.71 2349.95 Q1875.65 2354.54 1869.84 2354.54 Q1864.03 2354.54 1860.95 2349.95 Q1857.9 2345.35 1857.9 2336.62 Q1857.9 2327.87 1860.95 2323.29 Q1864.03 2318.68 1869.84 2318.68 Z\" fill=\"#000000\" fill-rule=\"evenodd\" fill-opacity=\"1\" /><path clip-path=\"url(#clip850)\" d=\"M2336.12 2337.45 Q2332.78 2337.45 2330.86 2339.24 Q2328.96 2341.02 2328.96 2344.14 Q2328.96 2347.27 2330.86 2349.05 Q2332.78 2350.83 2336.12 2350.83 Q2339.45 2350.83 2341.37 2349.05 Q2343.29 2347.25 2343.29 2344.14 Q2343.29 2341.02 2341.37 2339.24 Q2339.47 2337.45 2336.12 2337.45 M2331.44 2335.46 Q2328.43 2334.72 2326.74 2332.66 Q2325.07 2330.6 2325.07 2327.64 Q2325.07 2323.5 2328.01 2321.09 Q2330.98 2318.68 2336.12 2318.68 Q2341.28 2318.68 2344.22 2321.09 Q2347.16 2323.5 2347.16 2327.64 Q2347.16 2330.6 2345.47 2332.66 Q2343.8 2334.72 2340.82 2335.46 Q2344.19 2336.25 2346.07 2338.54 Q2347.97 2340.83 2347.97 2344.14 Q2347.97 2349.17 2344.89 2351.85 Q2341.83 2354.54 2336.12 2354.54 Q2330.4 2354.54 2327.32 2351.85 Q2324.26 2349.17 2324.26 2344.14 Q2324.26 2340.83 2326.16 2338.54 Q2328.06 2336.25 2331.44 2335.46 M2329.73 2328.08 Q2329.73 2330.77 2331.39 2332.27 Q2333.08 2333.77 2336.12 2333.77 Q2339.13 2333.77 2340.82 2332.27 Q2342.53 2330.77 2342.53 2328.08 Q2342.53 2325.39 2340.82 2323.89 Q2339.13 2322.39 2336.12 2322.39 Q2333.08 2322.39 2331.39 2323.89 Q2329.73 2325.39 2329.73 2328.08 Z\" fill=\"#000000\" fill-rule=\"evenodd\" fill-opacity=\"1\" /><path clip-path=\"url(#clip850)\" d=\"M2366.28 2322.39 Q2362.67 2322.39 2360.84 2325.95 Q2359.03 2329.49 2359.03 2336.62 Q2359.03 2343.73 2360.84 2347.29 Q2362.67 2350.83 2366.28 2350.83 Q2369.91 2350.83 2371.72 2347.29 Q2373.55 2343.73 2373.55 2336.62 Q2373.55 2329.49 2371.72 2325.95 Q2369.91 2322.39 2366.28 2322.39 M2366.28 2318.68 Q2372.09 2318.68 2375.14 2323.29 Q2378.22 2327.87 2378.22 2336.62 Q2378.22 2345.35 2375.14 2349.95 Q2372.09 2354.54 2366.28 2354.54 Q2360.47 2354.54 2357.39 2349.95 Q2354.33 2345.35 2354.33 2336.62 Q2354.33 2327.87 2357.39 2323.29 Q2360.47 2318.68 2366.28 2318.68 Z\" fill=\"#000000\" fill-rule=\"evenodd\" fill-opacity=\"1\" /><path clip-path=\"url(#clip850)\" d=\"M2396.44 2322.39 Q2392.83 2322.39 2391 2325.95 Q2389.19 2329.49 2389.19 2336.62 Q2389.19 2343.73 2391 2347.29 Q2392.83 2350.83 2396.44 2350.83 Q2400.07 2350.83 2401.88 2347.29 Q2403.71 2343.73 2403.71 2336.62 Q2403.71 2329.49 2401.88 2325.95 Q2400.07 2322.39 2396.44 2322.39 M2396.44 2318.68 Q2402.25 2318.68 2405.31 2323.29 Q2408.38 2327.87 2408.38 2336.62 Q2408.38 2345.35 2405.31 2349.95 Q2402.25 2354.54 2396.44 2354.54 Q2390.63 2354.54 2387.55 2349.95 Q2384.5 2345.35 2384.5 2336.62 Q2384.5 2327.87 2387.55 2323.29 Q2390.63 2318.68 2396.44 2318.68 Z\" fill=\"#000000\" fill-rule=\"evenodd\" fill-opacity=\"1\" /><path clip-path=\"url(#clip850)\" d=\"M2837.4 2349.93 L2845.04 2349.93 L2845.04 2323.57 L2836.73 2325.23 L2836.73 2320.97 L2844.99 2319.31 L2849.67 2319.31 L2849.67 2349.93 L2857.31 2349.93 L2857.31 2353.87 L2837.4 2353.87 L2837.4 2349.93 Z\" fill=\"#000000\" fill-rule=\"evenodd\" fill-opacity=\"1\" /><path clip-path=\"url(#clip850)\" d=\"M2876.75 2322.39 Q2873.14 2322.39 2871.31 2325.95 Q2869.51 2329.49 2869.51 2336.62 Q2869.51 2343.73 2871.31 2347.29 Q2873.14 2350.83 2876.75 2350.83 Q2880.39 2350.83 2882.19 2347.29 Q2884.02 2343.73 2884.02 2336.62 Q2884.02 2329.49 2882.19 2325.95 Q2880.39 2322.39 2876.75 2322.39 M2876.75 2318.68 Q2882.56 2318.68 2885.62 2323.29 Q2888.7 2327.87 2888.7 2336.62 Q2888.7 2345.35 2885.62 2349.95 Q2882.56 2354.54 2876.75 2354.54 Q2870.94 2354.54 2867.86 2349.95 Q2864.81 2345.35 2864.81 2336.62 Q2864.81 2327.87 2867.86 2323.29 Q2870.94 2318.68 2876.75 2318.68 Z\" fill=\"#000000\" fill-rule=\"evenodd\" fill-opacity=\"1\" /><path clip-path=\"url(#clip850)\" d=\"M2906.91 2322.39 Q2903.3 2322.39 2901.47 2325.95 Q2899.67 2329.49 2899.67 2336.62 Q2899.67 2343.73 2901.47 2347.29 Q2903.3 2350.83 2906.91 2350.83 Q2910.55 2350.83 2912.35 2347.29 Q2914.18 2343.73 2914.18 2336.62 Q2914.18 2329.49 2912.35 2325.95 Q2910.55 2322.39 2906.91 2322.39 M2906.91 2318.68 Q2912.72 2318.68 2915.78 2323.29 Q2918.86 2327.87 2918.86 2336.62 Q2918.86 2345.35 2915.78 2349.95 Q2912.72 2354.54 2906.91 2354.54 Q2901.1 2354.54 2898.02 2349.95 Q2894.97 2345.35 2894.97 2336.62 Q2894.97 2327.87 2898.02 2323.29 Q2901.1 2318.68 2906.91 2318.68 Z\" fill=\"#000000\" fill-rule=\"evenodd\" fill-opacity=\"1\" /><path clip-path=\"url(#clip850)\" d=\"M2937.08 2322.39 Q2933.46 2322.39 2931.64 2325.95 Q2929.83 2329.49 2929.83 2336.62 Q2929.83 2343.73 2931.64 2347.29 Q2933.46 2350.83 2937.08 2350.83 Q2940.71 2350.83 2942.51 2347.29 Q2944.34 2343.73 2944.34 2336.62 Q2944.34 2329.49 2942.51 2325.95 Q2940.71 2322.39 2937.08 2322.39 M2937.08 2318.68 Q2942.89 2318.68 2945.94 2323.29 Q2949.02 2327.87 2949.02 2336.62 Q2949.02 2345.35 2945.94 2349.95 Q2942.89 2354.54 2937.08 2354.54 Q2931.26 2354.54 2928.19 2349.95 Q2925.13 2345.35 2925.13 2336.62 Q2925.13 2327.87 2928.19 2323.29 Q2931.26 2318.68 2937.08 2318.68 Z\" fill=\"#000000\" fill-rule=\"evenodd\" fill-opacity=\"1\" /><path clip-path=\"url(#clip850)\" d=\"M3363.95 2349.93 L3371.59 2349.93 L3371.59 2323.57 L3363.28 2325.23 L3363.28 2320.97 L3371.54 2319.31 L3376.22 2319.31 L3376.22 2349.93 L3383.86 2349.93 L3383.86 2353.87 L3363.95 2353.87 L3363.95 2349.93 Z\" fill=\"#000000\" fill-rule=\"evenodd\" fill-opacity=\"1\" /><path clip-path=\"url(#clip850)\" d=\"M3397.33 2349.93 L3413.65 2349.93 L3413.65 2353.87 L3391.7 2353.87 L3391.7 2349.93 Q3394.37 2347.18 3398.95 2342.55 Q3403.56 2337.89 3404.74 2336.55 Q3406.98 2334.03 3407.86 2332.29 Q3408.76 2330.53 3408.76 2328.84 Q3408.76 2326.09 3406.82 2324.35 Q3404.9 2322.62 3401.8 2322.62 Q3399.6 2322.62 3397.14 2323.38 Q3394.71 2324.14 3391.94 2325.7 L3391.94 2320.97 Q3394.76 2319.84 3397.21 2319.26 Q3399.67 2318.68 3401.7 2318.68 Q3407.07 2318.68 3410.27 2321.37 Q3413.46 2324.05 3413.46 2328.54 Q3413.46 2330.67 3412.65 2332.59 Q3411.87 2334.49 3409.76 2337.08 Q3409.18 2337.76 3406.08 2340.97 Q3402.98 2344.17 3397.33 2349.93 Z\" fill=\"#000000\" fill-rule=\"evenodd\" fill-opacity=\"1\" /><path clip-path=\"url(#clip850)\" d=\"M3433.46 2322.39 Q3429.85 2322.39 3428.02 2325.95 Q3426.22 2329.49 3426.22 2336.62 Q3426.22 2343.73 3428.02 2347.29 Q3429.85 2350.83 3433.46 2350.83 Q3437.1 2350.83 3438.9 2347.29 Q3440.73 2343.73 3440.73 2336.62 Q3440.73 2329.49 3438.9 2325.95 Q3437.1 2322.39 3433.46 2322.39 M3433.46 2318.68 Q3439.27 2318.68 3442.33 2323.29 Q3445.41 2327.87 3445.41 2336.62 Q3445.41 2345.35 3442.33 2349.95 Q3439.27 2354.54 3433.46 2354.54 Q3427.65 2354.54 3424.57 2349.95 Q3421.52 2345.35 3421.52 2336.62 Q3421.52 2327.87 3424.57 2323.29 Q3427.65 2318.68 3433.46 2318.68 Z\" fill=\"#000000\" fill-rule=\"evenodd\" fill-opacity=\"1\" /><path clip-path=\"url(#clip850)\" d=\"M3463.62 2322.39 Q3460.01 2322.39 3458.18 2325.95 Q3456.38 2329.49 3456.38 2336.62 Q3456.38 2343.73 3458.18 2347.29 Q3460.01 2350.83 3463.62 2350.83 Q3467.26 2350.83 3469.06 2347.29 Q3470.89 2343.73 3470.89 2336.62 Q3470.89 2329.49 3469.06 2325.95 Q3467.26 2322.39 3463.62 2322.39 M3463.62 2318.68 Q3469.43 2318.68 3472.49 2323.29 Q3475.57 2327.87 3475.57 2336.62 Q3475.57 2345.35 3472.49 2349.95 Q3469.43 2354.54 3463.62 2354.54 Q3457.81 2354.54 3454.74 2349.95 Q3451.68 2345.35 3451.68 2336.62 Q3451.68 2327.87 3454.74 2323.29 Q3457.81 2318.68 3463.62 2318.68 Z\" fill=\"#000000\" fill-rule=\"evenodd\" fill-opacity=\"1\" /><polyline clip-path=\"url(#clip852)\" style=\"stroke:#000000; stroke-linecap:butt; stroke-linejoin:round; stroke-width:2; stroke-opacity:0.1; fill:none\" points=\"\n",
       "  161.108,1956.96 3752.76,1956.96 \n",
       "  \"/>\n",
       "<polyline clip-path=\"url(#clip852)\" style=\"stroke:#000000; stroke-linecap:butt; stroke-linejoin:round; stroke-width:2; stroke-opacity:0.1; fill:none\" points=\"\n",
       "  161.108,1484.71 3752.76,1484.71 \n",
       "  \"/>\n",
       "<polyline clip-path=\"url(#clip852)\" style=\"stroke:#000000; stroke-linecap:butt; stroke-linejoin:round; stroke-width:2; stroke-opacity:0.1; fill:none\" points=\"\n",
       "  161.108,1012.46 3752.76,1012.46 \n",
       "  \"/>\n",
       "<polyline clip-path=\"url(#clip852)\" style=\"stroke:#000000; stroke-linecap:butt; stroke-linejoin:round; stroke-width:2; stroke-opacity:0.1; fill:none\" points=\"\n",
       "  161.108,540.212 3752.76,540.212 \n",
       "  \"/>\n",
       "<polyline clip-path=\"url(#clip852)\" style=\"stroke:#000000; stroke-linecap:butt; stroke-linejoin:round; stroke-width:2; stroke-opacity:0.1; fill:none\" points=\"\n",
       "  161.108,67.963 3752.76,67.963 \n",
       "  \"/>\n",
       "<polyline clip-path=\"url(#clip850)\" style=\"stroke:#000000; stroke-linecap:butt; stroke-linejoin:round; stroke-width:4; stroke-opacity:1; fill:none\" points=\"\n",
       "  161.108,2280.27 161.108,47.2441 \n",
       "  \"/>\n",
       "<polyline clip-path=\"url(#clip850)\" style=\"stroke:#000000; stroke-linecap:butt; stroke-linejoin:round; stroke-width:4; stroke-opacity:1; fill:none\" points=\"\n",
       "  161.108,1956.96 180.005,1956.96 \n",
       "  \"/>\n",
       "<polyline clip-path=\"url(#clip850)\" style=\"stroke:#000000; stroke-linecap:butt; stroke-linejoin:round; stroke-width:4; stroke-opacity:1; fill:none\" points=\"\n",
       "  161.108,1484.71 180.005,1484.71 \n",
       "  \"/>\n",
       "<polyline clip-path=\"url(#clip850)\" style=\"stroke:#000000; stroke-linecap:butt; stroke-linejoin:round; stroke-width:4; stroke-opacity:1; fill:none\" points=\"\n",
       "  161.108,1012.46 180.005,1012.46 \n",
       "  \"/>\n",
       "<polyline clip-path=\"url(#clip850)\" style=\"stroke:#000000; stroke-linecap:butt; stroke-linejoin:round; stroke-width:4; stroke-opacity:1; fill:none\" points=\"\n",
       "  161.108,540.212 180.005,540.212 \n",
       "  \"/>\n",
       "<polyline clip-path=\"url(#clip850)\" style=\"stroke:#000000; stroke-linecap:butt; stroke-linejoin:round; stroke-width:4; stroke-opacity:1; fill:none\" points=\"\n",
       "  161.108,67.963 180.005,67.963 \n",
       "  \"/>\n",
       "<path clip-path=\"url(#clip850)\" d=\"M43.9921 1957.41 L73.6679 1957.41 L73.6679 1961.35 L43.9921 1961.35 L43.9921 1957.41 Z\" fill=\"#000000\" fill-rule=\"evenodd\" fill-opacity=\"1\" /><path clip-path=\"url(#clip850)\" d=\"M87.7882 1970.3 L104.108 1970.3 L104.108 1974.24 L82.1632 1974.24 L82.1632 1970.3 Q84.8252 1967.55 89.4085 1962.92 Q94.015 1958.27 95.1956 1956.92 Q97.4409 1954.4 98.3205 1952.67 Q99.2233 1950.91 99.2233 1949.22 Q99.2233 1946.46 97.2789 1944.73 Q95.3576 1942.99 92.2558 1942.99 Q90.0567 1942.99 87.603 1943.75 Q85.1725 1944.52 82.3947 1946.07 L82.3947 1941.35 Q85.2188 1940.21 87.6724 1939.63 Q90.1261 1939.05 92.1632 1939.05 Q97.5335 1939.05 100.728 1941.74 Q103.922 1944.42 103.922 1948.92 Q103.922 1951.05 103.112 1952.97 Q102.325 1954.86 100.219 1957.46 Q99.64 1958.13 96.5381 1961.35 Q93.4363 1964.54 87.7882 1970.3 Z\" fill=\"#000000\" fill-rule=\"evenodd\" fill-opacity=\"1\" /><path clip-path=\"url(#clip850)\" d=\"M92.1632 1470.51 Q88.5521 1470.51 86.7234 1474.07 Q84.9178 1477.62 84.9178 1484.74 Q84.9178 1491.85 86.7234 1495.42 Q88.5521 1498.96 92.1632 1498.96 Q95.7974 1498.96 97.6029 1495.42 Q99.4316 1491.85 99.4316 1484.74 Q99.4316 1477.62 97.6029 1474.07 Q95.7974 1470.51 92.1632 1470.51 M92.1632 1466.81 Q97.9733 1466.81 101.029 1471.41 Q104.108 1476 104.108 1484.74 Q104.108 1493.47 101.029 1498.08 Q97.9733 1502.66 92.1632 1502.66 Q86.353 1502.66 83.2743 1498.08 Q80.2188 1493.47 80.2188 1484.74 Q80.2188 1476 83.2743 1471.41 Q86.353 1466.81 92.1632 1466.81 Z\" fill=\"#000000\" fill-rule=\"evenodd\" fill-opacity=\"1\" /><path clip-path=\"url(#clip850)\" d=\"M87.7882 1025.81 L104.108 1025.81 L104.108 1029.74 L82.1632 1029.74 L82.1632 1025.81 Q84.8252 1023.05 89.4085 1018.42 Q94.015 1013.77 95.1956 1012.43 Q97.4409 1009.9 98.3205 1008.17 Q99.2233 1006.41 99.2233 1004.72 Q99.2233 1001.96 97.2789 1000.23 Q95.3576 998.491 92.2558 998.491 Q90.0567 998.491 87.603 999.255 Q85.1725 1000.02 82.3947 1001.57 L82.3947 996.848 Q85.2188 995.714 87.6724 995.135 Q90.1261 994.556 92.1632 994.556 Q97.5335 994.556 100.728 997.241 Q103.922 999.927 103.922 1004.42 Q103.922 1006.55 103.112 1008.47 Q102.325 1010.37 100.219 1012.96 Q99.64 1013.63 96.5381 1016.85 Q93.4363 1020.04 87.7882 1025.81 Z\" fill=\"#000000\" fill-rule=\"evenodd\" fill-opacity=\"1\" /><path clip-path=\"url(#clip850)\" d=\"M94.5243 527.006 L82.7188 545.455 L94.5243 545.455 L94.5243 527.006 M93.2974 522.932 L99.177 522.932 L99.177 545.455 L104.108 545.455 L104.108 549.344 L99.177 549.344 L99.177 557.492 L94.5243 557.492 L94.5243 549.344 L78.9225 549.344 L78.9225 544.83 L93.2974 522.932 Z\" fill=\"#000000\" fill-rule=\"evenodd\" fill-opacity=\"1\" /><path clip-path=\"url(#clip850)\" d=\"M92.5798 66.0996 Q89.4317 66.0996 87.5799 68.2524 Q85.7512 70.4051 85.7512 74.1551 Q85.7512 77.882 87.5799 80.0579 Q89.4317 82.2106 92.5798 82.2106 Q95.728 82.2106 97.5567 80.0579 Q99.4085 77.882 99.4085 74.1551 Q99.4085 70.4051 97.5567 68.2524 Q95.728 66.0996 92.5798 66.0996 M101.862 51.4469 L101.862 55.7061 Q100.103 54.8728 98.2974 54.433 Q96.515 53.9932 94.7557 53.9932 Q90.1261 53.9932 87.6724 57.1182 Q85.2419 60.2432 84.8947 66.5626 Q86.2604 64.5487 88.3206 63.4839 Q90.3808 62.3959 92.8576 62.3959 Q98.0659 62.3959 101.075 65.5672 Q104.108 68.7153 104.108 74.1551 Q104.108 79.4792 100.959 82.6967 Q97.8113 85.9143 92.5798 85.9143 Q86.5845 85.9143 83.4132 81.331 Q80.2419 76.7245 80.2419 67.9977 Q80.2419 59.8033 84.1308 54.9423 Q88.0197 50.058 94.5706 50.058 Q96.3298 50.058 98.1122 50.4052 Q99.9178 50.7525 101.862 51.4469 Z\" fill=\"#000000\" fill-rule=\"evenodd\" fill-opacity=\"1\" /><polyline clip-path=\"url(#clip852)\" style=\"stroke:#009af9; stroke-linecap:butt; stroke-linejoin:round; stroke-width:4; stroke-opacity:1; fill:none\" points=\"\n",
       "  262.758,1779.75 265.391,1624.97 268.023,1686.8 270.656,1648.18 273.289,1523.49 275.922,1559.78 278.554,1687.46 281.187,1481.6 283.82,1688.65 286.453,1398.06 \n",
       "  289.085,1173.53 291.718,1759.43 294.351,1899.59 296.984,1656.14 299.616,1425.61 302.249,1253.76 304.882,1410.45 307.515,1973.16 310.147,1779.75 312.78,1828.81 \n",
       "  315.413,1686.8 318.046,1546.64 320.678,1441.95 323.311,2217.07 325.944,1491.01 328.577,1515.52 331.209,1779.75 333.842,1432.79 336.475,1595.7 339.108,1721.53 \n",
       "  341.74,1322.11 344.373,1779.75 347.006,1309.76 349.639,1577.51 352.271,1542.37 354.904,1721.53 357.537,1546.64 360.17,1229.16 362.802,1425.61 365.435,1595.7 \n",
       "  368.068,1610.85 370.701,1407.42 373.333,1250.81 375.966,1246.16 378.599,1202.27 381.232,1654.74 383.864,1383.94 386.497,1404.78 389.13,1715.54 391.763,1491.01 \n",
       "  394.395,1408.18 397.028,1411.61 399.661,1349.66 402.294,1401.4 404.926,1474.67 407.559,1992.54 410.192,1708.14 412.825,1527.78 415.457,1597.19 418.09,1525.74 \n",
       "  420.723,1573.68 423.356,1633.03 425.988,1398.06 428.621,1610.85 431.254,1460.88 433.887,1779.75 436.519,1288.77 439.152,1288.77 441.785,1441.95 444.418,1153.21 \n",
       "  447.05,1415.06 449.683,1654.74 452.316,1480.72 454.949,1762.37 457.581,2028.79 460.214,1257.9 462.847,1441.95 465.48,1779.75 468.112,1476.68 470.745,1069.62 \n",
       "  473.378,1693.52 476.011,1322.11 478.643,727.625 481.276,1423.83 483.909,1454.35 486.542,1707.57 489.174,1728.07 491.807,1686.8 494.44,1534.9 497.073,1295.22 \n",
       "  499.705,1686.8 502.338,1322.11 504.971,1322.11 507.604,1423.83 510.236,820.578 512.869,1229.16 515.502,1449.32 518.135,812.329 520.767,1779.75 523.4,1358.35 \n",
       "  526.033,1256.29 528.666,1555.22 531.298,1721.53 533.931,1157.08 536.564,1214.01 539.197,1162.57 541.829,1583.96 544.462,1491.01 547.095,1398.06 549.728,1943.09 \n",
       "  552.36,1322.11 554.993,1656.14 557.626,1583.96 560.259,1546.64 562.891,1371.17 565.524,1350.85 568.157,1319.03 570.79,243.099 573.422,1953.68 576.055,1288.57 \n",
       "  578.688,1109.32 581.321,1358.35 583.953,1257.9 586.586,1508.02 589.219,1202.27 591.852,1642.91 594.484,1246.16 597.117,1627.85 599.75,1278.22 602.383,1474.67 \n",
       "  605.015,1688.65 607.648,1336.23 610.281,1415.06 612.914,2012.87 615.546,1491.01 618.179,1491.01 620.812,1583.96 623.445,1336.23 626.077,1519.75 628.71,1727.17 \n",
       "  631.343,1288.77 633.976,1558.71 636.608,1610.85 639.241,1512.38 641.874,1491.01 644.507,1508.02 647.139,1491.01 649.772,1703.8 652.405,1358.35 655.038,1491.01 \n",
       "  657.67,1398.06 660.303,1700.16 662.936,1647.09 665.569,1594.51 668.201,1684.42 670.834,1398.06 673.467,1295.22 676.1,1322.12 678.732,1371.17 681.365,1257.9 \n",
       "  683.998,1269.97 686.631,2012.87 689.263,1618.22 691.896,1381.72 694.529,1620.21 697.161,1534.9 699.794,1105.17 702.427,1306.96 705.06,1823.64 707.692,1779.75 \n",
       "  710.325,1563.99 712.958,1833 715.591,1229.16 718.223,1322.11 720.856,1441.95 723.489,820.578 726.122,1092.98 728.754,1447.79 731.387,1146.65 734.02,845.089 \n",
       "  736.653,1451.31 739.285,1337.83 741.918,1515.52 744.551,864.467 747.184,1654.32 749.816,1491.01 752.449,1358.35 755.082,1278.22 757.715,1491.01 760.347,1912.41 \n",
       "  762.98,1109.32 765.613,893.207 768.246,1212.82 770.878,1146.65 773.511,1441.95 776.144,1322.11 778.777,1503.09 781.409,1246.16 784.042,1336.23 786.675,1654.74 \n",
       "  789.308,975.15 791.94,1386.32 794.573,1288.77 797.206,1899.59 799.839,1530.3 802.471,1398.06 805.104,1212.82 807.737,1740.05 810.37,1088.99 813.002,1455.11 \n",
       "  815.635,1430.98 818.268,1823.64 820.901,1631.17 823.533,1153.21 826.166,1610.85 828.799,1534.9 831.432,1639.59 834.064,1202.27 836.697,1069.62 839.33,1441.95 \n",
       "  841.963,1301.78 844.595,1470.69 847.228,1322.11 849.861,1620.21 852.494,1373.78 855.126,1358.35 857.759,1229.16 860.392,1558.71 863.025,1779.75 865.657,1241.56 \n",
       "  868.29,1358.35 870.923,1435.39 873.556,1322.11 876.188,1261.88 878.821,1583.96 881.454,2068.45 884.087,1801.12 886.719,1673.68 889.352,1546.64 891.985,1758.38 \n",
       "  894.618,1654.74 897.25,1670.46 899.883,1686.8 902.516,1491.01 905.149,1540.08 907.781,1491.01 910.414,1571.15 913.047,1541.57 915.68,1534.9 918.312,1567.63 \n",
       "  920.945,1773.92 923.578,1153.21 926.211,1583.96 928.843,1558.71 931.476,1823.64 934.109,1759.43 936.742,1779.75 939.374,1689.06 942.007,1948.65 944.64,1278.22 \n",
       "  947.273,1269.97 949.905,2085.5 952.538,1433.18 955.171,1959.2 957.804,1401.4 960.436,1616.88 963.069,1721.53 965.702,1322.11 968.335,1491.01 970.967,1872.7 \n",
       "  973.6,1686.8 976.233,1703.8 978.866,1715.54 981.498,1610.85 984.131,1398.06 986.764,1572.55 989.397,896.527 992.029,1358.35 994.662,1639.59 997.295,1092.98 \n",
       "  999.928,1639.59 1002.56,1727.61 1005.19,1546.64 1007.83,1022.82 1010.46,1831.11 1013.09,1546.64 1015.72,1472.68 1018.36,1555.22 1020.99,1296.63 1023.62,1496.25 \n",
       "  1026.26,1406.47 1028.89,1740.05 1031.52,1288.77 1034.15,1546.64 1036.79,1676.92 1039.42,1721.53 1042.05,1399.91 1044.68,1707.79 1047.32,1899.59 1049.95,1624.97 \n",
       "  1052.58,1398.06 1055.22,1455.98 1057.85,1779.75 1060.48,1420.09 1063.11,1546.64 1065.75,1670.46 1068.38,1740.05 1071.01,1703.8 1073.64,1686.8 1076.28,1690.24 \n",
       "  1078.91,1692.37 1081.54,1491.01 1084.18,1633.03 1086.81,1401.4 1089.44,1479.73 1092.07,1415.06 1094.71,1343.48 1097.34,1013.99 1099.97,1219.96 1102.6,1078.98 \n",
       "  1105.24,1415.06 1107.87,1686.8 1110.5,1398.06 1113.14,1358.35 1115.77,1703.8 1118.4,1088.99 1121.03,1523.49 1123.67,1092.98 1126.3,1491.01 1128.93,1740.05 \n",
       "  1131.57,1526.81 1134.2,1743.09 1136.83,1595.7 1139.46,1499.43 1142.1,1125.66 1144.73,1537.22 1147.36,1491.01 1149.99,1350.85 1152.63,1571.15 1155.26,1540.08 \n",
       "  1157.89,1686.8 1160.53,1858.04 1163.16,1959.2 1165.79,1398.06 1168.42,1398.06 1171.06,1491.01 1173.69,1654.74 1176.32,1128.26 1178.95,1583.96 1181.59,1144.05 \n",
       "  1184.22,1331.94 1186.85,1563.64 1189.49,818.5 1192.12,1648.18 1194.75,1229.16 1197.38,1639.59 1200.02,1435.39 1202.65,1671.74 1205.28,1856.37 1207.91,1779.75 \n",
       "  1210.55,1441.95 1213.18,1202.27 1215.81,1843.96 1218.45,1501.56 1221.08,1415.06 1223.71,1696.16 1226.34,1558.69 1228.98,1470.69 1231.61,1474.67 1234.24,1256.58 \n",
       "  1236.87,1447.12 1239.51,1398.06 1242.14,834.7 1244.77,1210.69 1247.41,1109.32 1250.04,1322.11 1252.67,1306.96 1255.3,1457.67 1257.94,1373.78 1260.57,1670.46 \n",
       "  1263.2,1646.25 1265.84,1735.86 1268.47,1481.86 1271.1,1202.27 1273.73,1872.7 1276.37,1703.8 1279,1464.13 1281.63,1546.64 1284.26,1796.76 1286.9,1491.01 \n",
       "  1289.53,1670.46 1292.16,1561.44 1294.8,1415.06 1297.43,1546.64 1300.06,1325.21 1302.69,1288.77 1305.33,1779.75 1307.96,1524.35 1310.59,1350.85 1313.22,900.713 \n",
       "  1315.86,1558.71 1318.49,2112.38 1321.12,1779.75 1323.76,1181.95 1326.39,1890.43 1329.02,1610.85 1331.65,1398.72 1334.29,1899.59 1336.92,1398.06 1339.55,1976.2 \n",
       "  1342.18,1779.75 1344.82,1398.06 1347.45,1610.85 1350.08,1336.23 1352.72,1610.85 1355.35,1251.99 1357.98,1381.72 1360.61,1703.8 1363.25,1639.59 1365.88,1546.64 \n",
       "  1368.51,1607.77 1371.15,1899.59 1373.78,1441.95 1376.41,1415.06 1379.04,1752.87 1381.68,1371.17 1384.31,1572.55 1386.94,1495.2 1389.57,1558.71 1392.21,1109.32 \n",
       "  1394.84,1305.1 1397.47,1670.46 1400.11,1322.11 1402.74,1658.72 1405.37,1759.43 1408,1610.85 1410.64,1622.26 1413.27,1253.53 1415.9,1301.05 1418.53,1604.65 \n",
       "  1421.17,1393.83 1423.8,1257.9 1426.43,1381.72 1429.07,1229.16 1431.7,1899.59 1434.33,1721.53 1436.96,1415.06 1439.6,1384.94 1442.23,1501.56 1444.86,1301.78 \n",
       "  1447.49,1546.64 1450.13,1740.05 1452.76,1779.75 1455.39,1659.91 1458.03,1847.43 1460.66,758.752 1463.29,1675.55 1465.92,1519.75 1468.56,1549.78 1471.19,1269.97 \n",
       "  1473.82,864.467 1476.46,1899.59 1479.09,1583.96 1481.72,1186.14 1484.35,988.96 1486.99,1491.01 1489.62,1703.8 1492.25,1197.22 1494.88,1389.81 1497.52,1344.94 \n",
       "  1500.15,1583.96 1502.78,1890.43 1505.42,1398.06 1508.05,1823.64 1510.68,1622.58 1513.31,1606.25 1515.95,1288.77 1518.58,1948.65 1521.21,1633.37 1523.84,1899.59 \n",
       "  1526.48,1670.46 1529.11,1036.86 1531.74,1470.69 1534.38,1407.42 1537.01,1534.9 1539.64,1358.35 1542.27,1679.29 1544.91,1446.09 1547.54,1610.85 1550.17,1197.1 \n",
       "  1552.8,1410.75 1555.44,1257.9 1558.07,1322.11 1560.7,1523.49 1563.34,1282.41 1565.97,1597.19 1568.6,1491.01 1571.23,1647.09 1573.87,1610.85 1576.5,1779.75 \n",
       "  1579.13,1595.7 1581.77,1398.06 1584.4,1451.31 1587.03,1686.8 1589.66,1546.64 1592.3,1441.95 1594.93,1401.4 1597.56,1490.99 1600.19,1552.63 1602.83,1491.01 \n",
       "  1605.46,1398.06 1608.09,1610.85 1610.73,1621.48 1613.36,1673.89 1615.99,1532.7 1618.62,1322.11 1621.26,1496.25 1623.89,1491.01 1626.52,1491.01 1629.15,1670.46 \n",
       "  1631.79,1558.71 1634.42,1549.78 1637.05,1139.55 1639.69,1583.96 1642.32,1329.11 1644.95,1512.38 1647.58,1202.27 1650.22,1322.11 1652.85,1419.72 1655.48,1295.22 \n",
       "  1658.11,1322.11 1660.75,1398.06 1663.38,1583.96 1666.01,1646.25 1668.65,1735.86 1671.28,1594.25 1673.91,1624.97 1676.54,1642.91 1679.18,1426.8 1681.81,1972.22 \n",
       "  1684.44,1823.64 1687.07,1631.17 1689.71,1804.14 1692.34,1512.38 1694.97,1610.85 1697.61,1493.62 1700.24,1289.48 1702.87,1281.44 1705.5,1465.76 1708.14,1398.06 \n",
       "  1710.77,1342.86 1713.4,1534.9 1716.04,1322.11 1718.67,1202.27 1721.3,1358.35 1723.93,1501.56 1726.57,1491.01 1729.2,1206.46 1731.83,1745.49 1734.46,1818.35 \n",
       "  1737.1,1496.04 1739.73,1358.35 1742.36,1381.72 1745,1278.22 1747.63,1583.96 1750.26,907.329 1752.89,1049.09 1755.53,1664.1 1758.16,1583.96 1760.79,1441.95 \n",
       "  1763.42,1610.85 1766.06,1594.51 1768.69,1358.35 1771.32,1358.35 1773.96,1583.96 1776.59,1763.41 1779.22,1257.9 1781.85,1583.96 1784.49,1721.53 1787.12,1948.65 \n",
       "  1789.75,1441.95 1792.38,1654.74 1795.02,2012.87 1797.65,1963.8 1800.28,1109.32 1802.92,1700.92 1805.55,1610.85 1808.18,1608.63 1810.81,1630.76 1813.45,1546.64 \n",
       "  1816.08,1583.96 1818.71,1690.14 1821.35,1501.56 1823.98,1167.33 1826.61,1491.01 1829.24,1779.75 1831.88,1434.97 1834.51,1583.96 1837.14,1394.11 1839.77,1721.53 \n",
       "  1842.41,1441.95 1845.04,1839.36 1847.67,1624.97 1850.31,1202.27 1852.94,1202.27 1855.57,1847.45 1858.2,1610.85 1860.84,1261.88 1863.47,1703.8 1866.1,1703.8 \n",
       "  1868.73,1814.77 1871.37,1687.46 1874,1525.74 1876.63,1491.01 1879.27,1639.59 1881.9,1398.06 1884.53,1006.48 1887.16,1227.31 1889.8,1610.85 1892.43,1470.69 \n",
       "  1895.06,1779.75 1897.69,1686.8 1900.33,1828.81 1902.96,1670.46 1905.59,1639.59 1908.23,1467.65 1910.86,1512.38 1913.49,1385.74 1916.12,1512.38 1918.76,1381.72 \n",
       "  1921.39,1322.11 1924.02,1686.8 1926.66,1491.01 1929.29,1764.03 1931.92,1288.77 1934.55,1288.77 1937.19,1389.81 1939.82,1322.11 1942.45,1162.57 1945.08,1480.72 \n",
       "  1947.72,1610.85 1950.35,1491.01 1952.98,1441.95 1955.62,1441.95 1958.25,1899.59 1960.88,1703.8 1963.51,1381.72 1966.15,1594.51 1968.78,1779.75 1971.41,1069.62 \n",
       "  1974.04,869.642 1976.68,1654.74 1979.31,940.416 1981.94,1202.27 1984.58,1593.18 1987.21,1398.06 1989.84,1633.37 1992.47,1534.9 1995.11,1308.45 1997.74,1610.85 \n",
       "  2000.37,1546.64 2003,1398.06 2005.64,1491.01 2008.27,1441.95 2010.9,1308.45 2013.54,1607.02 2016.17,1295.22 2018.8,1322.11 2021.43,1687.46 2024.07,1583.96 \n",
       "  2026.7,1322.11 2029.33,1371.17 2031.97,1109.32 2034.6,1292.63 2037.23,1234.75 2039.86,1333.52 2042.5,1263.89 2045.13,1279.89 2047.76,1069.62 2050.39,1130.68 \n",
       "  2053.03,1333.37 2055.66,1006.48 2058.29,1257.9 2060.93,1553.15 2063.56,1546.64 2066.19,1202.27 2068.82,1197.35 2071.46,1139.55 2074.09,1301.05 2076.72,1229.16 \n",
       "  2079.35,1389.81 2081.99,1301.05 2084.62,1185.93 2087.25,1109.32 2089.89,1398.06 2092.52,1375.63 2095.15,1153.21 2097.78,1028.08 2100.42,1441.95 2103.05,1509.95 \n",
       "  2105.68,1238.52 2108.31,948.832 2110.95,1186.94 2113.58,1155.06 2116.21,1269.97 2118.85,1373.78 2121.48,1306.96 2124.11,1350.85 2126.74,1381.72 2129.38,1523.49 \n",
       "  2132.01,1375.36 2134.64,918.52 2137.28,1159.14 2139.91,1202.27 2142.54,1308.45 2145.17,1109.32 2147.81,1373.78 2150.44,1278.22 2153.07,1364.71 2155.7,1301.05 \n",
       "  2158.34,1295.22 2160.97,1457.67 2163.6,1491.01 2166.24,1288.77 2168.87,1654.74 2171.5,1654.74 2174.13,1779.75 2176.77,1644.38 2179.4,1491.01 2182.03,2102.14 \n",
       "  2184.66,1218.19 2187.3,2068.49 2189.93,2125.2 2192.56,1430.78 2195.2,1020.93 2197.83,1624.97 2200.46,1109.32 2203.09,1415.06 2205.73,1130.68 2208.36,1402.47 \n",
       "  2210.99,1546.61 2213.62,1530.3 2216.26,1407.42 2218.89,1408.18 2221.52,1288.77 2224.16,1358.35 2226.79,1288.77 2229.42,1546.64 2232.05,1516.79 2234.69,1583.96 \n",
       "  2237.32,1706.48 2239.95,1646.73 2242.58,1269.97 2245.22,1740.05 2247.85,1686.8 2250.48,1202.27 2253.12,1796.76 2255.75,1399.91 2258.38,1723.71 2261.01,1371.17 \n",
       "  2263.65,1662.52 2266.28,1711.59 2268.91,1567.63 2271.55,1398.06 2274.18,1720.14 2276.81,1113.97 2279.44,1470.69 2282.08,1202.27 2284.71,1081.13 2287.34,1109.32 \n",
       "  2289.97,1546.64 2292.61,1322.11 2295.24,1670.46 2297.87,1758.38 2300.51,1686.8 2303.14,940.416 2305.77,1572.55 2308.4,1343.48 2311.04,1703.8 2313.67,1441.95 \n",
       "  2316.3,2008.26 2318.93,1583.96 2321.57,1389.81 2324.2,1779.75 2326.83,1732.83 2329.47,1371.17 2332.1,1251.34 2334.73,1546.64 2337.36,1202.27 2340,1626.57 \n",
       "  2342.63,1441.95 2345.26,1381.72 2347.89,1257.9 2350.53,1725.17 2353.16,1703.8 2355.79,1527.26 2358.43,1207.3 2361.06,1485.84 2363.69,1202.27 2366.32,1639.59 \n",
       "  2368.96,981.231 2371.59,1779.75 2374.22,1198.13 2376.86,1401.4 2379.49,1322.11 2382.12,1246.16 2384.75,1177.02 2387.39,864.467 2390.02,1358.35 2392.65,1283.81 \n",
       "  2395.28,1350.85 2397.92,1703.8 2400.55,1847.45 2403.18,1867.69 2405.82,1546.64 2408.45,1085.05 2411.08,1703.8 2413.71,1491.01 2416.35,1470.69 2418.98,1177.02 \n",
       "  2421.61,1322.11 2424.24,1518.56 2426.88,1284.94 2429.51,1386.32 2432.14,2217.07 2434.78,1610.85 2437.41,1603.34 2440.04,1534.9 2442.67,1566.96 2445.31,1624.97 \n",
       "  2447.94,1724.13 2450.57,1491.01 2453.2,1512.38 2455.84,1162.57 2458.47,1872.7 2461.1,1244.88 2463.74,1823.64 2466.37,1319.59 2469,1322.11 2471.63,1301.78 \n",
       "  2474.27,1610.85 2476.9,1518.56 2479.53,1398.04 2482.17,1597.19 2484.8,1624.97 2487.43,1257.9 2490.06,1779.75 2492.7,1752.87 2495.33,1779.75 2497.96,1703.8 \n",
       "  2500.59,1659.91 2503.23,1009.75 2505.86,1288.77 2508.49,1885.93 2511.13,1828.81 2513.76,1149.02 2516.39,1229.16 2519.02,1752.87 2521.66,1610.85 2524.29,1276.14 \n",
       "  2526.92,1766.09 2529.55,820.578 2532.19,1146.07 2534.82,1202.27 2537.45,1389.81 2540.09,1448.9 2542.72,1676.92 2545.35,1246.16 2547.98,1779.75 2550.62,1501.56 \n",
       "  2553.25,1805.53 2555.88,1517.9 2558.51,1415.06 2561.15,1398.06 2563.78,1555.89 2566.41,1432.79 2569.05,1703.8 2571.68,1546.61 2574.31,1731.61 2576.94,1257.9 \n",
       "  2579.58,1631.17 2582.21,1109.32 2584.84,1546.64 2587.48,1322.11 2590.11,1740.05 2592.74,1534.9 2595.37,1686.8 2598.01,1470.69 2600.64,1546.64 2603.27,1301.78 \n",
       "  2605.9,1431.4 2608.54,1543.41 2611.17,1251.99 2613.8,1153.21 2616.44,1373.78 2619.07,1423.83 2621.7,1808.49 2624.33,1686.8 2626.97,1801.12 2629.6,1723.35 \n",
       "  2632.23,1415.06 2634.86,1491.01 2637.5,2042.65 2640.13,1491.01 2642.76,2119.85 2645.4,1872.7 2648.03,1759.43 2650.66,1686.8 2653.29,1491.01 2655.93,1441.95 \n",
       "  2658.56,1441.95 2661.19,1603.6 2663.82,1684.42 2666.46,1490.99 2669.09,1760.22 2671.72,1381.72 2674.36,1558.71 2676.99,1610.85 2679.62,1686.8 2682.25,1322.11 \n",
       "  2684.89,1109.32 2687.52,1757.23 2690.15,1779.75 2692.78,1546.64 2695.42,1322.11 2698.05,1786.87 2700.68,2094.53 2703.32,1029.91 2705.95,1069.62 2708.58,1278.22 \n",
       "  2711.21,1546.01 2713.85,1577.2 2716.48,1670.46 2719.11,1823.64 2721.75,1457.67 2724.38,1959.2 2727.01,1624.97 2729.64,1322.11 2732.28,845.089 2734.91,1336.23 \n",
       "  2737.54,1555.22 2740.17,1389.81 2742.81,1779.75 2745.44,1109.32 2748.07,1470.69 2750.71,1491.01 2753.34,1789.11 2755.97,1470.69 2758.6,1447.12 2761.24,2126.5 \n",
       "  2763.87,1833 2766.5,1251.99 2769.13,1720.14 2771.77,1501.56 2774.4,1610.85 2777.03,1735.86 2779.67,1610.85 2782.3,1610.85 2784.93,1670.46 2787.56,1546.64 \n",
       "  2790.2,1540.08 2792.83,1398.06 2795.46,1571.15 2798.09,1171.18 2800.73,820.578 2803.36,1779.75 2805.99,1814.48 2808.63,1706.59 2811.26,1779.75 2813.89,1639.59 \n",
       "  2816.52,1426.8 2819.16,1779.75 2821.79,1779.75 2824.42,1779.75 2827.06,1358.35 2829.69,1491.01 2832.32,1162.57 2834.95,1129 2837.59,1197.1 2840.22,1088.99 \n",
       "  2842.85,1181.95 2845.48,1441.95 2848.12,1684.42 2850.75,1336.23 2853.38,1257.9 2856.02,1567.38 2858.65,1703.8 2861.28,1344.94 2863.91,1415.06 2866.55,1109.32 \n",
       "  2869.18,1398.06 2871.81,1670.46 2874.44,1823.64 2877.08,1288.77 2879.71,1631.17 2882.34,1992.54 2884.98,1508.02 2887.61,1322.11 2890.24,1322.11 2892.87,1269.31 \n",
       "  2895.51,1610.85 2898.14,2112.38 2900.77,1681.28 2903.4,1415.06 2906.04,1534.9 2908.67,1721.53 2911.3,1595.7 2913.94,1672.72 2916.57,1358.35 2919.2,2021.28 \n",
       "  2921.83,1610.85 2924.47,1743.5 2927.1,1415.06 2929.73,1512.38 2932.37,1847.45 2935,1709.8 2937.63,1899.59 2940.26,1470.69 2942.9,1823.64 2945.53,1398.06 \n",
       "  2948.16,1686.8 2950.79,1398.06 2953.43,1546.64 2956.06,1740.05 2958.69,1610.85 2961.33,1721.53 2963.96,1899.59 2966.59,1441.95 2969.22,1412.9 2971.86,1322.11 \n",
       "  2974.49,1470.69 2977.12,1639.56 2979.75,1315.84 2982.39,1770.6 2985.02,1779.75 2987.65,1659.91 2990.29,1558.71 2992.92,1791.83 2995.55,1261.37 2998.18,1447.12 \n",
       "  3000.82,1470.69 3003.45,1257.9 3006.08,1451.31 3008.71,1465.24 3011.35,1348.15 3013.98,1558.71 3016.61,1451.31 3019.25,1583.96 3021.88,1381.72 3024.51,1838.03 \n",
       "  3027.14,1437.76 3029.78,1398.06 3032.41,1605.33 3035.04,1648.18 3037.68,1759.39 3040.31,1202.27 3042.94,1491.01 3045.57,1491.01 3048.21,1687.46 3050.84,1670.46 \n",
       "  3053.47,1343.48 3056.1,1779.75 3058.74,1546.64 3061.37,1401.4 3064,1398.06 3066.64,1385.74 3069.27,1354.17 3071.9,1177.02 3074.53,1610.85 3077.17,1703.8 \n",
       "  3079.8,1441.95 3082.43,1610.85 3085.06,1583.96 3087.7,1406.47 3090.33,1451.31 3092.96,1721.53 3095.6,1491.01 3098.23,1381.72 3100.86,1740.05 3103.49,1999.54 \n",
       "  3106.13,1490.99 3108.76,1371.17 3111.39,1212.82 3114.02,1740.05 3116.66,1373.78 3119.29,1336.23 3121.92,1343.48 3124.56,1301.05 3127.19,1401.4 3129.82,1491.01 \n",
       "  3132.45,1167.33 3135.09,1542.08 3137.72,1899.59 3140.35,1470.69 3142.98,1240.41 3145.62,1261.88 3148.25,1525.74 3150.88,1415.06 3153.52,1654.12 3156.15,1470.69 \n",
       "  3158.78,1030.71 3161.41,1631.17 3164.05,1686.8 3166.68,1686.8 3169.31,1703.8 3171.95,1115.17 3174.58,1571.15 3177.21,1546.64 3179.84,1337.83 3182.48,1823.64 \n",
       "  3185.11,1288.77 3187.74,1229.16 3190.37,1389.81 3193.01,1705.19 3195.64,1479.28 3198.27,1727.61 3200.91,1315.7 3203.54,1491.01 3206.17,1322.11 3208.8,1491.01 \n",
       "  3211.44,1202.27 3214.07,1381.72 3216.7,1506.44 3219.33,1992.54 3221.97,1703.8 3224.6,2019.39 3227.23,1177.02 3229.87,1381.72 3232.5,1523.49 3235.13,1333.84 \n",
       "  3237.76,1823.64 3240.4,1715.54 3243.03,1936.92 3245.66,1721.53 3248.29,1257.9 3250.93,1109.32 3253.56,1288.77 3256.19,1398.06 3258.83,1367.19 3261.46,1447.12 \n",
       "  3264.09,1441.95 3266.72,1546.64 3269.36,1415.06 3271.99,1707.57 3274.62,1229.16 3277.26,1251.34 3279.89,1528.34 3282.52,1623.67 3285.15,1571.15 3287.79,1639.59 \n",
       "  3290.42,1671.33 3293.05,1724.13 3295.68,1342.43 3298.32,110.443 3300.95,1322.11 3303.58,1406.47 3306.22,1928.33 3308.85,1717.92 3311.48,1801.12 3314.11,1322.11 \n",
       "  3316.75,1342.43 3319.38,1470.69 3322.01,1614.09 3324.64,1546.64 3327.28,1624.97 3329.91,2028.79 3332.54,1534.9 3335.18,1447.12 3337.81,1358.35 3340.44,1620.68 \n",
       "  3343.07,1928.33 3345.71,1371.17 3348.34,1715.54 3350.97,1441.95 3353.6,1779.75 3356.24,1069.62 3358.87,1470.69 3361.5,1571.15 3364.14,1135.09 3366.77,1686.8 \n",
       "  3369.4,1491.01 3372.03,1457.67 3374.67,2068.49 3377.3,1146.65 3379.93,1779.75 3382.57,1202.27 3385.2,1175.39 3387.83,1583.96 3390.46,1654.74 3393.1,1534.9 \n",
       "  3395.73,1491.01 3398.36,1540.08 3400.99,1491.01 3403.63,1358.35 3406.26,1016.36 3408.89,1362.92 3411.53,1571.15 3414.16,1703.8 3416.79,1109.32 3419.42,1229.16 \n",
       "  3422.06,1381.72 3424.69,1257.9 3427.32,1610.85 3429.95,1081.13 3432.59,1202.27 3435.22,1916.59 3437.85,1603.96 3440.49,1460.88 3443.12,1066 3445.75,1398.06 \n",
       "  3448.38,1312.95 3451.02,1109.32 3453.65,1173.53 3456.28,1248.2 3458.91,1636.89 3461.55,1431.4 3464.18,1693.26 3466.81,1033.37 3469.45,1546.64 3472.08,1639.59 \n",
       "  3474.71,1703.8 3477.34,1389.97 3479.98,1406.47 3482.61,1501.56 3485.24,1558.71 3487.88,1218.19 3490.51,1153.21 3493.14,1534.9 3495.77,1638.4 3498.41,2068.49 \n",
       "  3501.04,1415.06 3503.67,1423.83 3506.3,1491.01 3508.94,1720.14 3511.57,1177.02 3514.2,1138.06 3516.84,1385.74 3519.47,1491.01 3522.1,1546.64 3524.73,1441.95 \n",
       "  3527.37,1491.01 3530,1257.9 3532.63,1501.56 3535.26,1597.19 3537.9,1441.95 3540.53,1088.99 3543.16,1549.02 3545.8,1358.35 3548.43,1326.1 3551.06,1269.97 \n",
       "  3553.69,1415.06 3556.33,1202.27 3558.96,1686.8 3561.59,1181.95 3564.22,1366 3566.86,1126.32 3569.49,1771.5 3572.12,1322.11 3574.76,1336.23 3577.39,1069.62 \n",
       "  3580.02,1251.34 3582.65,1308.45 3585.29,1703.8 3587.92,1441.95 3590.55,1470.69 3593.19,1153.21 3595.82,1842.88 3598.45,1248.2 3601.08,1599.89 3603.72,1703.8 \n",
       "  3606.35,1109.32 3608.98,1257.9 3611.61,1109.32 3614.25,1303.76 3616.88,1686.8 3619.51,1667.42 3622.15,1779.75 3624.78,1381.72 3627.41,1501.56 3630.04,1575.57 \n",
       "  3632.68,1779.75 3635.31,1686.8 3637.94,1358.35 3640.57,1423.83 3643.21,1627.85 3645.84,1600.97 3648.47,1202.27 3651.11,1266.48 \n",
       "  \"/>\n",
       "<polyline clip-path=\"url(#clip852)\" style=\"stroke:#e26f46; stroke-linecap:butt; stroke-linejoin:round; stroke-width:4; stroke-opacity:1; fill:none\" points=\"\n",
       "  262.758,1433.27 265.391,1319.09 268.023,1732.59 270.656,1611.93 273.289,1295.6 275.922,1522.77 278.554,1707.88 281.187,1323.34 283.82,1518.11 286.453,1379.84 \n",
       "  289.085,1421.72 291.718,1491.16 294.351,1511.78 296.984,1390.87 299.616,1243.99 302.249,1407.39 304.882,1308.55 307.515,1434.63 310.147,1603.56 312.78,1638.86 \n",
       "  315.413,1697.73 318.046,1712.4 320.678,1414.15 323.311,1424.39 325.944,1677.25 328.577,1414.15 331.209,1763.68 333.842,1401.27 336.475,1451.35 339.108,1404.79 \n",
       "  341.74,1657.33 344.373,1671.19 347.006,1611.93 349.639,1509.47 352.271,1497.93 354.904,1437.4 357.537,1433.41 360.17,1420.22 362.802,1435.81 365.435,1716.93 \n",
       "  368.068,1424.39 370.701,1325.09 373.333,1403.48 375.966,1401.27 378.599,1277.78 381.232,1683.95 383.864,1444.95 386.497,1286.31 389.13,1598.81 391.763,1435.81 \n",
       "  394.395,1557.85 397.028,1228.6 399.661,1508.7 402.294,1228.6 404.926,1480.89 407.559,1504.05 410.192,1701.51 412.825,1648.99 415.457,1424.39 418.09,1434.63 \n",
       "  420.723,1504.05 423.356,1551.5 425.988,1234.31 428.621,1683.41 431.254,1453.73 433.887,1518.11 436.519,1401.27 439.152,1521.32 441.785,1425.54 444.418,1431.04 \n",
       "  447.05,1438.98 449.683,1594.9 452.316,1724.82 454.949,1453.73 457.581,1549.9 460.214,1689.77 462.847,1611.99 465.48,1748.14 468.112,1381.01 470.745,1420.22 \n",
       "  473.378,1289.73 476.011,1424.39 478.643,1223.54 481.276,1348.42 483.909,1697.73 486.542,1429.37 489.174,1516 491.807,1431.04 494.44,1518.85 497.073,1486.96 \n",
       "  499.705,1282.92 502.338,1371.76 504.971,1486.96 507.604,1438.98 510.236,1266.63 512.869,1425.87 515.502,1476.78 518.135,1417.9 520.767,1420.22 523.4,1438.98 \n",
       "  526.033,1469.86 528.666,1435.81 531.298,1424.04 533.931,1437.4 536.564,1755.91 539.197,1521.32 541.829,1689.77 544.462,1451.35 547.095,1671.19 549.728,1721.46 \n",
       "  552.36,1343.39 554.993,1428.24 557.626,1629.89 560.259,1670.42 562.891,1520.22 565.524,1539.24 568.157,1348.42 570.79,1527.77 573.422,1414.15 576.055,1342.92 \n",
       "  578.688,1507.92 581.321,1703.35 583.953,1402.61 586.586,1517.69 589.219,1511.78 591.852,1566.65 594.484,1499.18 597.117,1513.32 599.75,1495.03 602.383,1504.05 \n",
       "  605.015,1483.79 607.648,1533.85 610.281,1525.89 612.914,1544.57 615.546,1690.33 618.179,1387.71 620.812,1398.02 623.445,1486.96 626.077,1479.09 628.71,1289.73 \n",
       "  631.343,1432.63 633.976,1374.56 636.608,1683.41 639.241,1393.81 641.874,1416.4 644.507,1424.39 647.139,1397.03 649.772,1648.99 652.405,1400.11 655.038,1542.02 \n",
       "  657.67,1483.49 660.303,1466.11 662.936,1683.41 665.569,1391.24 668.201,1510.24 670.834,1348.42 673.467,1237.69 676.1,1680.46 678.732,1519.19 681.365,1462.83 \n",
       "  683.998,1494.98 686.631,1521.15 689.263,1527.77 691.896,1520.22 694.529,1398.02 697.161,1438.98 699.794,1342.92 702.427,1286.31 705.06,1634.66 707.692,1594.9 \n",
       "  710.325,1515.93 712.958,1771.45 715.591,1464.18 718.223,1337.97 720.856,1414.15 723.489,1401.27 726.122,1433.41 728.754,1453.73 731.387,1414.15 734.02,1516.84 \n",
       "  736.653,1486.96 739.285,1383.04 741.918,1435.81 744.551,1414.15 747.184,1410.26 749.816,1425.87 752.449,1495.03 755.082,1278.76 757.715,1451.35 760.347,1415.52 \n",
       "  762.98,1431.04 765.613,1392.49 768.246,1289.61 770.878,1434.22 773.511,1519.27 776.144,1387.49 778.777,1561.71 781.409,1504.05 784.042,1434.63 786.675,1502.58 \n",
       "  789.308,1444.95 791.94,1515.93 794.573,1551.5 797.206,1690.33 799.839,1424.39 802.471,1518.11 805.104,1253.72 807.737,1355.71 810.37,1683.41 813.002,1306.18 \n",
       "  815.635,1698.82 818.268,1417.05 820.901,1732.59 823.533,1292.12 826.166,1603.56 828.799,1521.32 831.432,1437.4 834.064,1437.4 836.697,1433.41 839.33,1748.14 \n",
       "  841.963,1398.02 844.595,1294.51 847.228,1424.39 849.861,1453.73 852.494,1483.79 855.126,1424.39 857.759,1504.05 860.392,1521.15 863.025,1433.41 865.657,1414.15 \n",
       "  868.29,1437.4 870.923,1467.78 873.556,1466.95 876.188,1414.08 878.821,1454.66 881.454,1427.86 884.087,1278.01 886.719,1564.85 889.352,1414.15 891.985,1639.34 \n",
       "  894.618,1495.4 897.25,1515.93 899.883,1319.3 902.516,1697.73 905.149,1449.24 907.781,1521.15 910.414,1594.9 913.047,1622.67 915.68,1434.63 918.312,1486.96 \n",
       "  920.945,1584.58 923.578,1278.43 926.211,1556.09 928.843,1550.84 931.476,1564.85 934.109,1622.67 936.742,1611.93 939.374,1522.38 942.007,1538.43 944.64,1323.34 \n",
       "  947.273,1388.74 949.905,1648.99 952.538,1425.54 955.171,1519.19 957.804,1639.34 960.436,1603.56 963.069,1755.91 965.702,1690.33 968.335,1683.95 970.967,1740.37 \n",
       "  973.6,1536.64 976.233,1492.53 978.866,1683.41 981.498,1763.68 984.131,1510.24 986.764,1434.63 989.397,1308.55 992.029,1432.63 994.662,1412.43 997.295,1473.9 \n",
       "  999.928,1387.71 1002.56,1542.02 1005.19,1740.37 1007.83,1521.15 1010.46,1674.23 1013.09,1453.73 1015.72,1424.39 1018.36,1683.41 1020.99,1273.18 1023.62,1492.53 \n",
       "  1026.26,1701.51 1028.89,1424.39 1031.52,1464.18 1034.15,1732.59 1036.79,1486.96 1039.42,1678.19 1042.05,1694.3 1044.68,1534.85 1047.32,1652.22 1049.95,1522.66 \n",
       "  1052.58,1483.79 1055.22,1389.96 1057.85,1648.99 1060.48,1504.05 1063.11,1633.64 1065.75,1617.78 1068.38,1346.35 1071.01,1557.76 1073.64,1520.63 1076.28,1643.51 \n",
       "  1078.91,1583.33 1081.54,1354 1084.18,1879.27 1086.81,1569.87 1089.44,1500.29 1092.07,1267.82 1094.71,1500.29 1097.34,1346.35 1099.97,1525.44 1102.6,1500.29 \n",
       "  1105.24,1274.27 1107.87,1768.36 1110.5,1346.35 1113.14,1274.27 1115.77,1740.79 1118.4,1647.92 1121.03,1473.3 1123.67,1437.57 1126.3,1429.59 1128.93,1724.27 \n",
       "  1131.57,1604.3 1134.2,1608.5 1136.83,1583.27 1139.46,1506.07 1142.1,1300.12 1144.73,1500.29 1147.36,1367.62 1149.99,1247.59 1152.63,1500.29 1155.26,1567.36 \n",
       "  1157.89,1564.42 1160.53,1749.88 1163.16,1650.82 1165.79,1278.46 1168.42,1544.72 1171.06,1522.69 1173.69,1617.78 1176.32,1394.45 1178.95,1383.57 1181.59,1427.22 \n",
       "  1184.22,1466.66 1186.85,1399.52 1189.49,1416.91 1192.12,1730.74 1194.75,1500.29 1197.38,1565.63 1200.02,1665.78 1202.65,1617.78 1205.28,1522.8 1207.91,1768.36 \n",
       "  1210.55,1500.29 1213.18,1500.29 1215.81,1378.25 1218.45,1602.51 1221.08,1459.29 1223.71,1518.32 1226.34,1773.96 1228.98,1207.69 1231.61,1594.87 1234.24,1377.7 \n",
       "  1236.87,1217.85 1239.51,1516.43 1242.14,1354 1244.77,1292.1 1247.41,1500.29 1250.04,1252.48 1252.67,1383.57 1255.3,1420.36 1257.94,1367.62 1260.57,1311.67 \n",
       "  1263.2,1730.74 1265.84,1545.31 1268.47,1346.35 1271.1,1378.25 1273.73,1520.63 1276.37,1602.51 1279,1356.98 1281.63,1500.29 1284.26,2041.52 1286.9,1500.29 \n",
       "  1289.53,1688.06 1292.16,1500.29 1294.8,1346.35 1297.43,1626.31 1300.06,1356.98 1302.69,1397.01 1305.33,1655.91 1307.96,1569.26 1310.59,1543.54 1313.22,1500.29 \n",
       "  1315.86,1525.44 1318.49,1596.75 1321.12,1639.19 1323.76,1372.93 1326.39,1722.61 1329.02,1519.93 1331.65,1500.29 1334.29,1731.7 1336.92,1596.75 1339.55,1500.29 \n",
       "  1342.18,1617.78 1344.82,1536.72 1347.45,1587.23 1350.08,1377.7 1352.72,1500.29 1355.35,1597.47 1357.98,1500.29 1360.61,1610.15 1363.25,1673.04 1365.88,1594.87 \n",
       "  1368.51,1639.87 1371.15,1597.47 1373.78,1377.7 1376.41,1478.23 1379.04,1362.3 1381.68,1367.62 1384.31,1500.29 1386.94,1556.7 1389.57,1768.36 1392.21,1387.98 \n",
       "  1394.84,1506.07 1397.47,1632.13 1400.11,1274.27 1402.74,1558.23 1405.37,1552.8 1408,1557.76 1410.64,1693.6 1413.27,1608.72 1415.9,1459.29 1418.53,1501.35 \n",
       "  1421.17,1422.69 1423.8,1383.57 1426.43,1704.44 1429.07,1473.3 1431.7,1625.94 1434.33,1526.46 1436.96,1519.93 1439.6,1500.29 1442.23,1544.13 1444.86,1303.44 \n",
       "  1447.49,1500.29 1450.13,1578.01 1452.76,1600.02 1455.39,1584.62 1458.03,1500.29 1460.66,1312.76 1463.29,1244.56 1465.92,1594.87 1468.56,1703.24 1471.19,1576.26 \n",
       "  1473.82,1248.5 1476.46,1602.51 1479.09,1710.36 1481.72,1604.3 1484.35,1372.93 1486.99,1523.7 1489.62,1617.14 1492.25,1378.25 1494.88,1500.29 1497.52,1427.22 \n",
       "  1500.15,1500.29 1502.78,1378.25 1505.42,1438.51 1508.05,1703.24 1510.68,1500.29 1513.31,1474.03 1515.95,1552.31 1518.58,1500.29 1521.21,1713.52 1523.84,1579.59 \n",
       "  1526.48,1500.29 1529.11,1500.29 1531.74,1500.29 1534.38,1501.35 1537.01,1500.29 1539.64,1567.36 1542.27,1540.55 1544.91,1422.74 1547.54,1394.45 1550.17,1584.62 \n",
       "  1552.8,1293.69 1555.44,1443 1558.07,1444.26 1560.7,1500.29 1563.34,1594.87 1565.97,1617.14 1568.6,1610.12 1571.23,1500.29 1573.87,1320.3 1576.5,1610.15 \n",
       "  1579.13,1500.29 1581.77,1584.62 1584.4,1500.29 1587.03,1500.29 1589.66,1559.88 1592.3,1351.67 1594.93,1543.54 1597.56,1584.62 1600.19,1509.09 1602.83,1606.37 \n",
       "  1605.46,1655.91 1608.09,1617.88 1610.73,1531.8 1613.36,1500.29 1615.99,1587.52 1618.62,1361.67 1621.26,1647.48 1623.89,1600.11 1626.52,1346.92 1629.15,1486.26 \n",
       "  1631.79,1501.35 1634.42,1625.94 1637.05,1356.98 1639.69,1425.49 1642.32,1422.74 1644.95,1500.29 1647.58,1740.79 1650.22,1606.37 1652.85,1500.29 1655.48,1632.13 \n",
       "  1658.11,1263.03 1660.75,1740.79 1663.38,1394.2 1666.01,1647.48 1668.65,1584.62 1671.28,1617.88 1673.91,1500.29 1676.54,1632.13 1679.18,1198.01 1681.81,1669 \n",
       "  1684.44,1564.42 1687.07,1583.27 1689.71,1519.93 1692.34,1346.35 1694.97,1427.7 1697.61,1299.31 1700.24,1665.78 1702.87,1544.13 1705.5,1427.22 1708.14,1429.12 \n",
       "  1710.77,1632.13 1713.4,1724.27 1716.04,1631.3 1718.67,1685.52 1721.3,1633.64 1723.93,1555.42 1726.57,1513.53 1729.2,1579.59 1731.83,1596.75 1734.46,1693.16 \n",
       "  1737.1,1500.29 1739.73,1428.17 1742.36,1590.27 1745,1397.01 1747.63,1633.64 1750.26,1413.7 1752.89,1427.22 1755.53,1625.94 1758.16,1341.62 1760.79,1500.29 \n",
       "  1763.42,1378.25 1766.06,1307.19 1768.69,1617.78 1771.32,1647.48 1773.96,1608.72 1776.59,1693.16 1779.22,1610.15 1781.85,1639.19 1784.49,1688.06 1787.12,1500.29 \n",
       "  1789.75,1579.59 1792.38,1587.23 1795.02,1303.01 1797.65,1500.29 1800.28,1473.3 1802.92,1636.18 1805.55,1602.51 1808.18,1516.43 1810.81,1597.47 1813.45,1533.51 \n",
       "  1816.08,1704.44 1818.71,1596.75 1821.35,1617.78 1823.98,1361.67 1826.61,1617.78 1829.24,1617.78 1831.88,1693.16 1834.51,1500.29 1837.14,1362.3 1839.77,1713.52 \n",
       "  1842.41,1758.83 1845.04,1486.26 1847.67,1524.86 1850.31,1428.64 1852.94,1207.69 1855.57,1356.98 1858.2,1346.35 1860.84,1258.16 1863.47,1749.88 1866.1,1675.65 \n",
       "  1868.73,1500.29 1871.37,1594.87 1874,1713.52 1876.63,1501.35 1879.27,1373.58 1881.9,1578.01 1884.53,1239.76 1887.16,1369.77 1889.8,1584.78 1892.43,1466.66 \n",
       "  1895.06,1600.11 1897.69,1524.86 1900.33,1768.36 1902.96,1633.64 1905.59,1559.84 1908.23,1715.15 1910.86,1300.12 1913.49,1430.55 1916.12,1510.03 1918.76,1427.42 \n",
       "  1921.39,1075.53 1924.02,1390.51 1926.66,1345.83 1929.29,1725.86 1931.92,1428.65 1934.55,1379.07 1937.19,1347.75 1939.82,1540.39 1942.45,1636.02 1945.08,1399.19 \n",
       "  1947.72,1692.13 1950.35,1541.71 1952.98,1439.47 1955.62,1703.02 1958.25,1533.78 1960.88,1635.09 1963.51,1482.74 1966.15,1609.29 1968.78,1692.13 1971.41,1328.38 \n",
       "  1974.04,1397.12 1976.68,1500.29 1979.31,1341.73 1981.94,1397.12 1984.58,1298.94 1987.21,1502.53 1989.84,1575.82 1992.47,1486.96 1995.11,1346.49 1997.74,1565.18 \n",
       "  2000.37,1363.41 2003,1641.94 2005.64,1634.26 2008.27,1399.25 2010.9,1367.81 2013.54,1293.54 2016.17,1427.42 2018.8,1399.19 2021.43,1653.07 2024.07,1283.37 \n",
       "  2026.7,1372.32 2029.33,1215.49 2031.97,1483.87 2034.6,1399.19 2037.23,1502.53 2039.86,1502.53 2042.5,1472.8 2045.13,1510.03 2047.76,1440.86 2050.39,1345.17 \n",
       "  2053.03,1462.15 2055.66,1245.53 2058.29,1347.83 2060.93,1328.65 2063.56,1401.43 2066.19,1376.93 2068.82,1240.8 2071.46,1273.04 2074.09,1502.53 2076.72,1347.75 \n",
       "  2079.35,1415.99 2081.99,1370.97 2084.62,1294.01 2087.25,1370.97 2089.89,1502.53 2092.52,1372.32 2095.15,1357.76 2097.78,1257.74 2100.42,1537.8 2103.05,1278.2 \n",
       "  2105.68,1278.2 2108.31,1372.32 2110.95,1284.09 2113.58,1283.37 2116.21,1386.88 2118.85,1357.76 2121.48,1512.1 2124.11,1347.75 2126.74,1462.15 2129.38,1502.53 \n",
       "  2132.01,1328.65 2134.64,1339.26 2137.28,1250.54 2139.91,1357.76 2142.54,1419.57 2145.17,1328.65 2147.81,1294.01 2150.44,1231.32 2153.07,1455.65 2155.7,1512.1 \n",
       "  2158.34,1325.81 2160.97,1345.75 2163.6,1511.61 2166.24,1580.85 2168.87,1502.53 2171.5,1512.1 2174.13,1609.29 2176.77,1288.54 2179.4,1483.87 2182.03,1427.42 \n",
       "  2184.66,1526.07 2187.3,1602.05 2189.93,1706.53 2192.56,1372.32 2195.2,1233.7 2197.83,1531.25 2200.46,1464.12 2203.09,1415.99 2205.73,1284.09 2208.36,1576.81 \n",
       "  2210.99,1641.94 2213.62,1634.78 2216.26,1357.76 2218.89,1534.44 2221.52,1137.83 2224.16,1379.07 2226.79,1347.64 2229.42,1440.86 2232.05,1579.21 2234.69,1680.97 \n",
       "  2237.32,1632.11 2239.95,1636.02 2242.58,1293.29 2245.22,1575.82 2247.85,1580.68 2250.48,1367.81 2253.12,1680.43 2255.75,1351.77 2258.38,1572.93 2261.01,1649.82 \n",
       "  2263.65,1570.95 2266.28,1580.54 2268.91,1440.86 2271.55,1427.42 2274.18,1579.7 2276.81,1430.55 2279.44,1334.9 2282.08,1419.57 2284.71,1215.81 2287.34,1345.17 \n",
       "  2289.97,1560.2 2292.61,1328.35 2295.24,1699.34 2297.87,1677.48 2300.51,1704.19 2303.14,1522.63 2305.77,1597.94 2308.4,1349.79 2311.04,1318.11 2313.67,1609.29 \n",
       "  2316.3,1706.53 2318.93,1585.89 2321.57,1483.87 2324.2,1667.37 2326.83,1215.81 2329.47,1403.52 2332.1,1345.17 2334.73,1559.36 2337.36,1351.11 2340,1748.18 \n",
       "  2342.63,1372.32 2345.26,1634.78 2347.89,1235.79 2350.53,1502.53 2353.16,1632.79 2355.79,1510.03 2358.43,1399.25 2361.06,1512.1 2363.69,1483.87 2366.32,1294.01 \n",
       "  2368.96,1233.7 2371.59,1234.47 2374.22,1319.85 2376.86,1510.03 2379.49,1502.53 2382.12,1363.41 2384.75,1512.1 2387.39,1231.32 2390.02,1540.98 2392.65,1347.75 \n",
       "  2395.28,1192.08 2397.92,1739.58 2400.55,1547.25 2403.18,1419.57 2405.82,1645.53 2408.45,1351.11 2411.08,1588.43 2413.71,1430.22 2416.35,1482.74 2418.98,1677.48 \n",
       "  2421.61,1106.68 2424.24,1646.32 2426.88,1345.75 2429.51,1540.36 2432.14,1688.32 2434.78,1634.47 2437.41,1557.43 2440.04,1227.05 2442.67,1365.31 2445.31,1289.74 \n",
       "  2447.94,1663.8 2450.57,1537.8 2453.2,1510.03 2455.84,1413.61 2458.47,1588.56 2461.1,1399.19 2463.74,1632.11 2466.37,1216.7 2469,1455.65 2471.63,1347.75 \n",
       "  2474.27,1345.83 2476.9,1582.72 2479.53,1318.11 2482.17,1720.85 2484.8,1720.85 2487.43,1588.43 2490.06,1585.89 2492.7,1537.8 2495.33,1706.53 2497.96,1653.31 \n",
       "  2500.59,1685.17 2503.23,1268.27 2505.86,1366.58 2508.49,1635.4 2511.13,1559.36 2513.76,1634.48 2516.39,1634.26 2519.02,1667.37 2521.66,1646.5 2524.29,1635.4 \n",
       "  2526.92,1748.18 2529.55,1415.99 2532.19,1075.53 2534.82,1549.68 2537.45,1366.58 2540.09,1502.53 2542.72,1502.53 2545.35,1720.85 2547.98,1661.16 2550.62,1614.53 \n",
       "  2553.25,1672.05 2555.88,1535.35 2558.51,1458.76 2561.15,1537.8 2563.78,1632.11 2566.41,1636.64 2569.05,1713.44 2571.68,1552.79 2574.31,1671.14 2576.94,1462.15 \n",
       "  2579.58,1399.26 2582.21,1641.2 2584.84,1440.86 2587.48,1634.47 2590.11,1256.07 2592.74,1583.22 2595.37,1748.18 2598.01,1614.53 2600.64,1547.25 2603.27,1268.27 \n",
       "  2605.9,1621.98 2608.54,1692 2611.17,1534.18 2613.8,1455.65 2616.44,1464.12 2619.07,1375.9 2621.7,1667.37 2624.33,1534.09 2626.97,1653.31 2629.6,1504.35 \n",
       "  2632.23,1646.32 2634.86,1582.72 2637.5,1537.8 2640.13,1451.51 2642.76,1430.55 2645.4,1587.23 2648.03,1663.8 2650.66,1579.7 2653.29,1692.13 2655.93,1579.21 \n",
       "  2658.56,1451.51 2661.19,1655.02 2663.82,1692 2666.46,1680.43 2669.09,1411.49 2671.72,1641.2 2674.36,1584.55 2676.99,1591.24 2679.62,1483.87 2682.25,1345.83 \n",
       "  2684.89,1370.97 2687.52,1583.22 2690.15,1653.31 2692.78,1349.13 2695.42,1643.85 2698.05,1345.17 2700.68,1646.5 2703.32,1500.29 2705.95,1579.7 2708.58,1609 \n",
       "  2711.21,1486.96 2713.85,1653.07 2716.48,1500.29 2719.11,1588.56 2721.75,1260.68 2724.38,1725.86 2727.01,1565.18 2729.64,1557.05 2732.28,1576.81 2734.91,1370.97 \n",
       "  2737.54,1713.44 2740.17,1539.13 2742.81,1283.77 2745.44,1537.8 2748.07,1345.75 2750.71,1414.24 2753.34,1692 2755.97,1709.98 2758.6,1531.28 2761.24,1748.18 \n",
       "  2763.87,1667.37 2766.5,1538.51 2769.13,1656.81 2771.77,1465.33 2774.4,1580.54 2777.03,1589.9 2779.67,1541.58 2782.3,1531.23 2784.93,1641.94 2787.56,1387.69 \n",
       "  2790.2,1637.04 2792.83,1511.61 2795.46,1349.13 2798.09,1451.51 2800.73,1329.67 2803.36,1748.18 2805.99,1646.32 2808.63,1419.57 2811.26,1512.1 2813.89,1653.31 \n",
       "  2816.52,1462.15 2819.16,1345.17 2821.79,1427.42 2824.42,1635.09 2827.06,1349.79 2829.69,1411.49 2832.32,1438.77 2834.95,1349.13 2837.59,1720.85 2840.22,1327.1 \n",
       "  2842.85,1589.9 2845.48,1451.51 2848.12,1345.17 2850.75,1370.97 2853.38,1455.65 2856.02,1419.57 2858.65,1328.65 2861.28,1634.78 2863.91,1541.71 2866.55,1075.53 \n",
       "  2869.18,1660.3 2871.81,1640.1 2874.44,1663.8 2877.08,1419.57 2879.71,1580.54 2882.34,1653.31 2884.98,1366.58 2887.61,1486.96 2890.24,1486.96 2892.87,1386.88 \n",
       "  2895.51,1720.85 2898.14,1720.85 2900.77,1411.49 2903.4,1568.69 2906.04,1430.55 2908.67,1653.07 2911.3,1540.07 2913.94,1992.48 2916.57,1453.41 2919.2,1479.65 \n",
       "  2921.83,1513.05 2924.47,1691.07 2927.1,1458.92 2929.73,1603.88 2932.37,2037.18 2935,1661.19 2937.63,1448.39 2940.26,1419.33 2942.9,1380.53 2945.53,1591.2 \n",
       "  2948.16,1607.89 2950.79,1524.17 2953.43,1471.89 2956.06,1575.05 2958.69,1558.78 2961.33,1429.08 2963.96,1592.6 2966.59,1437.82 2969.22,1488.79 2971.86,1475.74 \n",
       "  2974.49,1468 2977.12,1370.33 2979.75,1463.65 2982.39,1575.05 2985.02,1450.87 2987.65,1762.74 2990.29,1678.77 2992.92,1536.84 2995.55,1410.78 2998.18,1510.86 \n",
       "  3000.82,1732.78 3003.45,1738.75 3006.08,1463.49 3008.71,1471.46 3011.35,1364.26 3013.98,1443.03 3016.61,1475.74 3019.25,1641.26 3021.88,1726.82 3024.51,1724.08 \n",
       "  3027.14,1363.85 3029.78,1337.89 3032.41,1649.36 3035.04,1439.3 3037.68,1360.2 3040.31,1733.12 3042.94,1797.74 3045.57,1533.48 3048.21,1661.28 3050.84,1744.7 \n",
       "  3053.47,1520.07 3056.1,1714.75 3058.74,1659.72 3061.37,1450.58 3064,1381.79 3066.64,1471.89 3069.27,1439.3 3071.9,1128.11 3074.53,1439.3 3077.17,1703.53 \n",
       "  3079.8,1584.59 3082.43,1388.09 3085.06,1724.08 3087.7,1380.53 3090.33,1601.18 3092.96,1678.77 3095.6,1505.32 3098.23,1401.45 3100.86,1513.05 3103.49,1224.39 \n",
       "  3106.13,1678.77 3108.76,1405.59 3111.39,1539.55 3114.02,1469.33 3116.66,1261.08 3119.29,1370.68 3121.92,1501.49 3124.56,1419.18 3127.19,1501.49 3129.82,1527.36 \n",
       "  3132.45,1413.9 3135.09,1632.72 3137.72,1624.57 3140.35,1444.01 3142.98,1591.08 3145.62,1582.77 3148.25,1457.21 3150.88,1691.07 3153.52,1606.77 3156.15,1708.95 \n",
       "  3158.78,1471.89 3161.41,1463.87 3164.05,1552.35 3166.68,1445.7 3169.31,1678.76 3171.95,1394.52 3174.58,1595.56 3177.21,1406.04 3179.84,1500.29 3182.48,1697.03 \n",
       "  3185.11,1389.18 3187.74,1406.04 3190.37,1475.81 3193.01,1666.56 3195.64,1354.89 3198.27,1514.56 3200.91,1269.31 3203.54,1657.95 3206.17,1452.13 3208.8,1527.36 \n",
       "  3211.44,1469.33 3214.07,1592.6 3216.7,1512.25 3219.33,1679.15 3221.97,1574.52 3224.6,1557.83 3227.23,1444.01 3229.87,1204.64 3232.5,1510.86 3235.13,1434.77 \n",
       "  3237.76,1584.59 3240.4,1441.87 3243.03,1556.23 3245.66,1703.53 3248.29,1407.72 3250.93,1231.19 3253.56,1463.49 3256.19,1439.3 3258.83,1463.49 3261.46,1408.73 \n",
       "  3264.09,1440.6 3266.72,1570.35 3269.36,1454.97 3271.99,1738.74 3274.62,1500.29 3277.26,1412.68 3279.89,1697.03 3282.52,1487.1 3285.15,1500.29 3287.79,1584.59 \n",
       "  3290.42,1556.23 3293.05,1714.91 3295.68,1661.19 3298.32,1561.29 3300.95,1283.79 3303.58,1475.74 3306.22,1724.08 3308.85,1514.26 3311.48,1724.08 3314.11,1510.86 \n",
       "  3316.75,1400.96 3319.38,1618.49 3322.01,1500.29 3324.64,1724.08 3327.28,1548.35 3329.91,1475.81 3332.54,1361.9 3335.18,1381.79 3337.81,1399.72 3340.44,1679.15 \n",
       "  3343.07,1536.84 3345.71,1338.95 3348.34,1370.19 3350.97,1703.53 3353.6,1513.96 3356.24,1562.65 3358.87,1471.89 3361.5,1695.28 3364.14,1355.02 3366.77,1898.37 \n",
       "  3369.4,1400.4 3372.03,1450.58 3374.67,1495.16 3377.3,1313.97 3379.93,1407.86 3382.57,1454.97 3385.2,1401.45 3387.83,1451.11 3390.46,1661.19 3393.1,1437.82 \n",
       "  3395.73,1463.74 3398.36,1464.14 3400.99,1431.32 3403.63,1364.74 3406.26,1668.5 3408.89,1465.09 3411.53,1595.56 3414.16,1441.87 3416.79,1443.52 3419.42,1527.36 \n",
       "  3422.06,1500.29 3424.69,1408.69 3427.32,1400.4 3429.95,1433.04 3432.59,1551.68 3435.22,1469.33 3437.85,1452.13 3440.49,1632.72 3443.12,1419.33 3445.75,1501.49 \n",
       "  3448.38,1453.41 3451.02,1460.57 3453.65,1444.01 3456.28,1450.58 3458.91,1501.49 3461.55,1410.78 3464.18,1695.28 3466.81,1390.75 3469.45,1624.57 3472.08,1371.5 \n",
       "  3474.71,1601.18 3477.34,1661.19 3479.98,1618.49 3482.61,1360.2 3485.24,1514.56 3487.88,1463.7 3490.51,1151.94 3493.14,1399.72 3495.77,1540.58 3498.41,1641.26 \n",
       "  3501.04,1417.56 3503.67,1405.82 3506.3,1450.58 3508.94,1448.71 3511.57,1370.15 3514.2,1468.74 3516.84,1898.37 3519.47,1309.55 3522.1,1627.7 3524.73,1738.74 \n",
       "  3527.37,1437.42 3530,1452.73 3532.63,1517.74 3535.26,1591.2 3537.9,1501.49 3540.53,1245 3543.16,1407.86 3545.8,1246.07 3548.43,1657.95 3551.06,1563.61 \n",
       "  3553.69,1527.36 3556.33,1433.04 3558.96,1510.86 3561.59,1429.08 3564.22,1510.86 3566.86,1512.25 3569.49,1400.4 3572.12,1439.3 3574.76,1400.4 3577.39,1460.57 \n",
       "  3580.02,1450.87 3582.65,1471.89 3585.29,1624.57 3587.92,1562.65 3590.55,1692.46 3593.19,1614.77 3595.82,1471.89 3598.45,1408.73 3601.08,1450.87 3603.72,1738.74 \n",
       "  3606.35,1458.92 3608.98,1661.28 3611.61,1517.74 3614.25,1413.9 3616.88,1667.24 3619.51,1533.48 3622.15,1627.7 3624.78,1433.04 3627.41,1510.86 3630.04,1640.91 \n",
       "  3632.68,1592.6 3635.31,1385.96 3637.94,1466.07 3640.57,1481.17 3643.21,1433.04 3645.84,1443.03 3648.47,1137.21 3651.11,1574.52 \n",
       "  \"/>\n",
       "<path clip-path=\"url(#clip850)\" d=\"\n",
       "M3069.77 277.198 L3633.03 277.198 L3633.03 121.678 L3069.77 121.678  Z\n",
       "  \" fill=\"#ffffff\" fill-rule=\"evenodd\" fill-opacity=\"1\"/>\n",
       "<polyline clip-path=\"url(#clip850)\" style=\"stroke:#000000; stroke-linecap:butt; stroke-linejoin:round; stroke-width:4; stroke-opacity:1; fill:none\" points=\"\n",
       "  3069.77,277.198 3633.03,277.198 3633.03,121.678 3069.77,121.678 3069.77,277.198 \n",
       "  \"/>\n",
       "<polyline clip-path=\"url(#clip850)\" style=\"stroke:#009af9; stroke-linecap:butt; stroke-linejoin:round; stroke-width:4; stroke-opacity:1; fill:none\" points=\"\n",
       "  3107.77,173.518 3335.77,173.518 \n",
       "  \"/>\n",
       "<path clip-path=\"url(#clip850)\" d=\"M3373.77 156.238 L3378.79 156.238 L3388.38 170.451 L3397.89 156.238 L3402.91 156.238 L3390.69 174.34 L3390.69 190.798 L3385.99 190.798 L3385.99 174.34 L3373.77 156.238 Z\" fill=\"#000000\" fill-rule=\"evenodd\" fill-opacity=\"1\" /><path clip-path=\"url(#clip850)\" d=\"M3426.99 198.669 L3426.99 201.979 L3402.36 201.979 L3402.36 198.669 L3426.99 198.669 Z\" fill=\"#000000\" fill-rule=\"evenodd\" fill-opacity=\"1\" /><path clip-path=\"url(#clip850)\" d=\"M3435.21 157.511 L3435.21 164.872 L3443.98 164.872 L3443.98 168.183 L3435.21 168.183 L3435.21 182.257 Q3435.21 185.428 3436.06 186.331 Q3436.94 187.233 3439.6 187.233 L3443.98 187.233 L3443.98 190.798 L3439.6 190.798 Q3434.67 190.798 3432.8 188.969 Q3430.92 187.118 3430.92 182.257 L3430.92 168.183 L3427.8 168.183 L3427.8 164.872 L3430.92 164.872 L3430.92 157.511 L3435.21 157.511 Z\" fill=\"#000000\" fill-rule=\"evenodd\" fill-opacity=\"1\" /><path clip-path=\"url(#clip850)\" d=\"M3471.76 176.77 L3471.76 178.854 L3452.17 178.854 Q3452.45 183.252 3454.81 185.567 Q3457.2 187.858 3461.43 187.858 Q3463.89 187.858 3466.18 187.257 Q3468.49 186.655 3470.76 185.451 L3470.76 189.479 Q3468.47 190.451 3466.06 190.96 Q3463.66 191.469 3461.18 191.469 Q3454.97 191.469 3451.34 187.858 Q3447.73 184.247 3447.73 178.09 Q3447.73 171.724 3451.16 167.997 Q3454.6 164.247 3460.44 164.247 Q3465.67 164.247 3468.7 167.627 Q3471.76 170.983 3471.76 176.77 M3467.5 175.52 Q3467.45 172.025 3465.53 169.942 Q3463.63 167.858 3460.48 167.858 Q3456.92 167.858 3454.77 169.872 Q3452.64 171.886 3452.31 175.544 L3467.5 175.52 Z\" fill=\"#000000\" fill-rule=\"evenodd\" fill-opacity=\"1\" /><path clip-path=\"url(#clip850)\" d=\"M3495.28 165.636 L3495.28 169.664 Q3493.47 168.738 3491.53 168.275 Q3489.58 167.812 3487.5 167.812 Q3484.33 167.812 3482.73 168.784 Q3481.16 169.757 3481.16 171.701 Q3481.16 173.183 3482.29 174.039 Q3483.42 174.872 3486.85 175.636 L3488.31 175.96 Q3492.84 176.933 3494.74 178.715 Q3496.66 180.474 3496.66 183.645 Q3496.66 187.257 3493.79 189.363 Q3490.95 191.469 3485.95 191.469 Q3483.86 191.469 3481.59 191.053 Q3479.35 190.659 3476.85 189.849 L3476.85 185.451 Q3479.21 186.678 3481.5 187.303 Q3483.79 187.905 3486.04 187.905 Q3489.05 187.905 3490.67 186.886 Q3492.29 185.845 3492.29 183.97 Q3492.29 182.233 3491.11 181.307 Q3489.95 180.382 3485.99 179.525 L3484.51 179.178 Q3480.55 178.345 3478.79 176.632 Q3477.03 174.895 3477.03 171.886 Q3477.03 168.229 3479.63 166.238 Q3482.22 164.247 3486.99 164.247 Q3489.35 164.247 3491.43 164.595 Q3493.52 164.942 3495.28 165.636 Z\" fill=\"#000000\" fill-rule=\"evenodd\" fill-opacity=\"1\" /><path clip-path=\"url(#clip850)\" d=\"M3507.66 157.511 L3507.66 164.872 L3516.43 164.872 L3516.43 168.183 L3507.66 168.183 L3507.66 182.257 Q3507.66 185.428 3508.52 186.331 Q3509.4 187.233 3512.06 187.233 L3516.43 187.233 L3516.43 190.798 L3512.06 190.798 Q3507.13 190.798 3505.25 188.969 Q3503.38 187.118 3503.38 182.257 L3503.38 168.183 L3500.25 168.183 L3500.25 164.872 L3503.38 164.872 L3503.38 157.511 L3507.66 157.511 Z\" fill=\"#000000\" fill-rule=\"evenodd\" fill-opacity=\"1\" /><polyline clip-path=\"url(#clip850)\" style=\"stroke:#e26f46; stroke-linecap:butt; stroke-linejoin:round; stroke-width:4; stroke-opacity:1; fill:none\" points=\"\n",
       "  3107.77,225.358 3335.77,225.358 \n",
       "  \"/>\n",
       "<path clip-path=\"url(#clip850)\" d=\"M3378.05 238.749 L3378.05 252.499 L3373.77 252.499 L3373.77 216.712 L3378.05 216.712 L3378.05 220.648 Q3379.4 218.333 3381.43 217.222 Q3383.49 216.087 3386.34 216.087 Q3391.06 216.087 3394 219.837 Q3396.97 223.587 3396.97 229.698 Q3396.97 235.81 3394 239.559 Q3391.06 243.309 3386.34 243.309 Q3383.49 243.309 3381.43 242.198 Q3379.4 241.064 3378.05 238.749 M3392.54 229.698 Q3392.54 224.999 3390.6 222.337 Q3388.68 219.652 3385.3 219.652 Q3381.92 219.652 3379.98 222.337 Q3378.05 224.999 3378.05 229.698 Q3378.05 234.397 3379.98 237.083 Q3381.92 239.745 3385.3 239.745 Q3388.68 239.745 3390.6 237.083 Q3392.54 234.397 3392.54 229.698 Z\" fill=\"#000000\" fill-rule=\"evenodd\" fill-opacity=\"1\" /><path clip-path=\"url(#clip850)\" d=\"M3419.05 220.694 Q3418.33 220.277 3417.47 220.092 Q3416.64 219.884 3415.62 219.884 Q3412.01 219.884 3410.07 222.245 Q3408.15 224.583 3408.15 228.981 L3408.15 242.638 L3403.86 242.638 L3403.86 216.712 L3408.15 216.712 L3408.15 220.74 Q3409.49 218.379 3411.64 217.245 Q3413.79 216.087 3416.87 216.087 Q3417.31 216.087 3417.85 216.157 Q3418.38 216.203 3419.03 216.319 L3419.05 220.694 Z\" fill=\"#000000\" fill-rule=\"evenodd\" fill-opacity=\"1\" /><path clip-path=\"url(#clip850)\" d=\"M3444.65 228.61 L3444.65 230.694 L3425.07 230.694 Q3425.35 235.092 3427.71 237.407 Q3430.09 239.698 3434.33 239.698 Q3436.78 239.698 3439.07 239.097 Q3441.39 238.495 3443.66 237.291 L3443.66 241.319 Q3441.36 242.291 3438.96 242.8 Q3436.55 243.309 3434.07 243.309 Q3427.87 243.309 3424.23 239.698 Q3420.62 236.087 3420.62 229.93 Q3420.62 223.564 3424.05 219.837 Q3427.5 216.087 3433.33 216.087 Q3438.56 216.087 3441.6 219.467 Q3444.65 222.823 3444.65 228.61 M3440.39 227.36 Q3440.35 223.865 3438.42 221.782 Q3436.53 219.698 3433.38 219.698 Q3429.81 219.698 3427.66 221.712 Q3425.53 223.726 3425.21 227.384 L3440.39 227.36 Z\" fill=\"#000000\" fill-rule=\"evenodd\" fill-opacity=\"1\" /><path clip-path=\"url(#clip850)\" d=\"M3468.7 220.648 L3468.7 206.62 L3472.96 206.62 L3472.96 242.638 L3468.7 242.638 L3468.7 238.749 Q3467.36 241.064 3465.3 242.198 Q3463.26 243.309 3460.39 243.309 Q3455.69 243.309 3452.73 239.559 Q3449.79 235.81 3449.79 229.698 Q3449.79 223.587 3452.73 219.837 Q3455.69 216.087 3460.39 216.087 Q3463.26 216.087 3465.3 217.222 Q3467.36 218.333 3468.7 220.648 M3454.19 229.698 Q3454.19 234.397 3456.11 237.083 Q3458.05 239.745 3461.43 239.745 Q3464.81 239.745 3466.76 237.083 Q3468.7 234.397 3468.7 229.698 Q3468.7 224.999 3466.76 222.337 Q3464.81 219.652 3461.43 219.652 Q3458.05 219.652 3456.11 222.337 Q3454.19 224.999 3454.19 229.698 Z\" fill=\"#000000\" fill-rule=\"evenodd\" fill-opacity=\"1\" /><path clip-path=\"url(#clip850)\" d=\"M3501.43 250.509 L3501.43 253.819 L3476.8 253.819 L3476.8 250.509 L3501.43 250.509 Z\" fill=\"#000000\" fill-rule=\"evenodd\" fill-opacity=\"1\" /><path clip-path=\"url(#clip850)\" d=\"M3526.99 226.99 L3526.99 242.638 L3522.73 242.638 L3522.73 227.129 Q3522.73 223.448 3521.29 221.62 Q3519.86 219.791 3516.99 219.791 Q3513.54 219.791 3511.55 221.99 Q3509.56 224.189 3509.56 227.985 L3509.56 242.638 L3505.28 242.638 L3505.28 216.712 L3509.56 216.712 L3509.56 220.74 Q3511.09 218.402 3513.15 217.245 Q3515.23 216.087 3517.94 216.087 Q3522.4 216.087 3524.7 218.865 Q3526.99 221.62 3526.99 226.99 Z\" fill=\"#000000\" fill-rule=\"evenodd\" fill-opacity=\"1\" /><path clip-path=\"url(#clip850)\" d=\"M3557.03 226.99 L3557.03 242.638 L3552.78 242.638 L3552.78 227.129 Q3552.78 223.448 3551.34 221.62 Q3549.9 219.791 3547.03 219.791 Q3543.59 219.791 3541.59 221.99 Q3539.6 224.189 3539.6 227.985 L3539.6 242.638 L3535.32 242.638 L3535.32 216.712 L3539.6 216.712 L3539.6 220.74 Q3541.13 218.402 3543.19 217.245 Q3545.28 216.087 3547.98 216.087 Q3552.45 216.087 3554.74 218.865 Q3557.03 221.62 3557.03 226.99 Z\" fill=\"#000000\" fill-rule=\"evenodd\" fill-opacity=\"1\" /></svg>\n"
      ]
     },
     "execution_count": 94,
     "metadata": {},
     "output_type": "execute_result"
    }
   ],
   "source": [
    "plot(Y_test, label = \"Y_test\")\n",
    "plot!(pred_nn, label = \"pred_nn\")\n",
    "plot!(size=(950,600))"
   ]
  }
 ],
 "metadata": {
  "accelerator": "GPU",
  "colab": {
   "name": "Julia on Colab.ipynb",
   "provenance": [],
   "version": "0.3.2"
  },
  "kernelspec": {
   "display_name": "Julia 1.7.3",
   "language": "julia",
   "name": "julia-1.7"
  },
  "language_info": {
   "file_extension": ".jl",
   "mimetype": "application/julia",
   "name": "julia",
   "version": "1.7.3"
  },
  "vscode": {
   "interpreter": {
    "hash": "8ce2734c038a07ed4ab03534d6fa956bcc5f5917cd0892f7ff6de5f3ca8c6662"
   }
  }
 },
 "nbformat": 4,
 "nbformat_minor": 4
}
