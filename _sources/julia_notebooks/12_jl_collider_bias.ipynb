{
 "cells": [
  {
   "cell_type": "markdown",
   "id": "5438f160-7b7b-4cd3-b0aa-3b8f2ef60e19",
   "metadata": {},
   "source": [
    "# ColliderBias Hollywood\n",
    "\n",
    "In progress"
   ]
  }
 ],
 "metadata": {
  "kernelspec": {
   "display_name": "Python 3 (ipykernel)",
   "language": "python",
   "name": "python3"
  },
  "language_info": {
   "codemirror_mode": {
    "name": "ipython",
    "version": 3
   },
   "file_extension": ".py",
   "mimetype": "text/x-python",
   "name": "python",
   "nbconvert_exporter": "python",
   "pygments_lexer": "ipython3",
   "version": "3.8.8"
  }
 },
 "nbformat": 4,
 "nbformat_minor": 5
}
