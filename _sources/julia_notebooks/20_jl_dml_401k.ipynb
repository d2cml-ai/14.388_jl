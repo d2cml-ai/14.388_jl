{
 "cells": [
  {
   "cell_type": "markdown",
   "id": "7a8b7794-fe97-4032-a42c-328551102ca8",
   "metadata": {},
   "source": [
    "# DML for ATE and LATE of 401(k) on Wealth\n",
    "\n",
    "In progress"
   ]
  }
 ],
 "metadata": {
  "kernelspec": {
   "display_name": "Julia 1.7.3",
   "language": "julia",
   "name": "julia-1.7"
  },
  "language_info": {
   "file_extension": ".jl",
   "mimetype": "application/julia",
   "name": "julia",
   "version": "1.7.3"
  }
 },
 "nbformat": 4,
 "nbformat_minor": 5
}
